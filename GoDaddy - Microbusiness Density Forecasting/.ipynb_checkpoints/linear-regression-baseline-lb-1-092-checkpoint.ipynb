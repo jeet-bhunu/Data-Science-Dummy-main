{
 "cells": [
  {
   "cell_type": "markdown",
   "id": "8bfed28d",
   "metadata": {
    "papermill": {
     "duration": 0.005483,
     "end_time": "2022-12-23T14:29:58.708252",
     "exception": false,
     "start_time": "2022-12-23T14:29:58.702769",
     "status": "completed"
    },
    "tags": []
   },
   "source": [
    "# Linear Regression Baseline - LB 1.092\n",
    "In this notebook, we provide a linear regression baseline for Kaggle's GoDaddy Microbusiness Density Forecast Competition. In this competition we are given 3135 timeseries of length 39. This is 39 months of microbusiness density from August 2019 thru October 2022 inclusive. We must predict microbusiness density for the next 8 months November 2022 thru June 2023 inclusive. Each time series is a different county in the United States. Therefore we will make `25080 = 3135 * 8` predictions.\n",
    "\n",
    "The simplest baseline provided by Tawara is to just predict the last known microbusiness value for each county [here][1]. This achieves LB 1.093. Maybe we can improve this baseline by applying linear regression to the time series that appear to follow a linear trend. There are 486 counties exhibiting a linear trend (with train error less than 10% train range). Below we plot 8 random (out of 3135) time series, and then we plot 8 time series that have a linear trend.\n",
    "\n",
    "### Updates\n",
    "In version 1, we assumed linear trend if train error was less than 10% of train range (and achieved LB 1.113). In notebook version 2, 3, 4 we set the threshold to 5%, 3.8%, and 3% respectively (and achieved LB 1.094, 1.093, 1.093). Note in version 4, the threshold only modified one prediction from the \"last value\" baseline. (Whereas versions 1,2,3 modified 486, 22, 2 respectively).\n",
    "\n",
    "Ha ha, version 4 beats the \"last value\" baseline but this isn't a big accomplishment because we only changed one county's predictions. It may have just been lucky actually. In version 5 and 8, we set threshold for linear trend back to 10% (same as version 1). Perhaps there is a way to use linear regression in a more significant way and beat the \"last value\" baseline more significantly. Stay tuned for future notebook versions!\n",
    "\n",
    "New update: version 9 beats \"last value\" baseline by `+0.001` woohoo!. We limited our linear model predictions to counties with population 25,000 or above. This worked well because a trend involving more population should be more likely to continue. The importance of population is explained [here][2]. For local CV, using error threshold 12.8% and population threshold 9,000 is best. Let's make some more LB submissions to see if the same hyperparameters are optimal for LB...\n",
    "\n",
    "### Version Notes\n",
    "* version 4 - uses linear regression for 1 prediction (where train error < 3% train range). Achieves LB 1.093 beating the \"last value\" baseline\n",
    "* version 5 - uses linear regression for 486 predictions (where train error < 10% train range). Achieves LB 1.113\n",
    "* version 6 - ensembles 486 linear regression predictions with \"last value\" at weights 5% and 95%. Achieves LB 1.094\n",
    "* version 7 - uses 5% threshold (which modifies 22 counties) and scale global prediction total to match global prediction total of \"last value\" baseline. Achieves LB 1.109\n",
    "* version 8 - same as version 5. Uses linear regression for 486 predictions (where train error < 10% train range). Achieves LB 1.113\n",
    "* version 9 - uses 10% threshold and county needs more than 25,000 active. Achieves LB 1.092 (and CV 1.098) and beats \"last value\" baseline. Woohoo!\n",
    "* version 10 - uses 10% threshold and county needs more than 9,000 active (CV 1.096). Achieves LB 1.093\n",
    "* version 11 - same as version 9 but makes code to detect linear trend more readable.\n",
    "\n",
    "[1]: https://www.kaggle.com/code/ttahara/gd-mdf-last-target-baseline\n",
    "[2]: https://www.kaggle.com/competitions/godaddy-microbusiness-density-forecasting/discussion/373099"
   ]
  },
  {
   "cell_type": "markdown",
   "id": "ec0c743a",
   "metadata": {
    "papermill": {
     "duration": 0.004213,
     "end_time": "2022-12-23T14:29:58.717072",
     "exception": false,
     "start_time": "2022-12-23T14:29:58.712859",
     "status": "completed"
    },
    "tags": []
   },
   "source": [
    "# Load Libraries, Train, Test"
   ]
  },
  {
   "cell_type": "code",
   "execution_count": null,
   "id": "375256ab",
   "metadata": {
    "ExecuteTime": {
     "start_time": "2023-01-08T10:08:14.259Z"
    },
    "_cell_guid": "b1076dfc-b9ad-4769-8c92-a6c4dae69d19",
    "_uuid": "8f2839f25d086af736a60e9eeb907d3b93b6e0e5",
    "execution": {
     "iopub.execute_input": "2022-12-23T14:29:58.728484Z",
     "iopub.status.busy": "2022-12-23T14:29:58.727991Z",
     "iopub.status.idle": "2022-12-23T14:30:00.205518Z",
     "shell.execute_reply": "2022-12-23T14:30:00.203793Z"
    },
    "papermill": {
     "duration": 1.487043,
     "end_time": "2022-12-23T14:30:00.208750",
     "exception": false,
     "start_time": "2022-12-23T14:29:58.721707",
     "status": "completed"
    },
    "tags": []
   },
   "outputs": [],
   "source": [
    "import numpy as np, pandas as pd\n",
    "import matplotlib.pyplot as plt\n",
    "from sklearn.linear_model import LinearRegression"
   ]
  },
  {
   "cell_type": "code",
   "execution_count": null,
   "id": "e8451b36",
   "metadata": {
    "ExecuteTime": {
     "start_time": "2023-01-08T10:08:14.262Z"
    },
    "execution": {
     "iopub.execute_input": "2022-12-23T14:30:00.220088Z",
     "iopub.status.busy": "2022-12-23T14:30:00.219598Z",
     "iopub.status.idle": "2022-12-23T14:30:00.689366Z",
     "shell.execute_reply": "2022-12-23T14:30:00.687727Z"
    },
    "papermill": {
     "duration": 0.480188,
     "end_time": "2022-12-23T14:30:00.693529",
     "exception": false,
     "start_time": "2022-12-23T14:30:00.213341",
     "status": "completed"
    },
    "tags": []
   },
   "outputs": [],
   "source": [
    "train = pd.read_csv('train.csv')\n",
    "train[\"first_day_of_month\"] = pd.to_datetime(train[\"first_day_of_month\"])\n",
    "train = train.sort_values(['cfips','first_day_of_month']).reset_index(drop=True)"
   ]
  },
  {
   "cell_type": "code",
   "execution_count": null,
   "id": "cc959c50",
   "metadata": {
    "ExecuteTime": {
     "start_time": "2023-01-08T10:08:14.265Z"
    },
    "execution": {
     "iopub.execute_input": "2022-12-23T14:30:00.704772Z",
     "iopub.status.busy": "2022-12-23T14:30:00.704306Z",
     "iopub.status.idle": "2022-12-23T14:30:00.732648Z",
     "shell.execute_reply": "2022-12-23T14:30:00.730790Z"
    },
    "papermill": {
     "duration": 0.038514,
     "end_time": "2022-12-23T14:30:00.736592",
     "exception": false,
     "start_time": "2022-12-23T14:30:00.698078",
     "status": "completed"
    },
    "tags": []
   },
   "outputs": [],
   "source": [
    "print( train.shape )\n",
    "train.head()"
   ]
  },
  {
   "cell_type": "code",
   "execution_count": null,
   "id": "17571d1c",
   "metadata": {
    "ExecuteTime": {
     "start_time": "2023-01-08T10:08:14.268Z"
    },
    "execution": {
     "iopub.execute_input": "2022-12-23T14:30:00.748495Z",
     "iopub.status.busy": "2022-12-23T14:30:00.748012Z",
     "iopub.status.idle": "2022-12-23T14:30:00.808331Z",
     "shell.execute_reply": "2022-12-23T14:30:00.806827Z"
    },
    "papermill": {
     "duration": 0.071671,
     "end_time": "2022-12-23T14:30:00.813150",
     "exception": false,
     "start_time": "2022-12-23T14:30:00.741479",
     "status": "completed"
    },
    "tags": []
   },
   "outputs": [],
   "source": [
    "test = pd.read_csv('test.csv')\n",
    "test[\"first_day_of_month\"] = pd.to_datetime(test[\"first_day_of_month\"])\n",
    "test = test.sort_values(['cfips','first_day_of_month']).reset_index(drop=True)"
   ]
  },
  {
   "cell_type": "code",
   "execution_count": null,
   "id": "e292a243",
   "metadata": {
    "ExecuteTime": {
     "start_time": "2023-01-08T10:08:14.273Z"
    },
    "execution": {
     "iopub.execute_input": "2022-12-23T14:30:00.825179Z",
     "iopub.status.busy": "2022-12-23T14:30:00.824586Z",
     "iopub.status.idle": "2022-12-23T14:30:00.840941Z",
     "shell.execute_reply": "2022-12-23T14:30:00.839078Z"
    },
    "papermill": {
     "duration": 0.026494,
     "end_time": "2022-12-23T14:30:00.844580",
     "exception": false,
     "start_time": "2022-12-23T14:30:00.818086",
     "status": "completed"
    },
    "tags": []
   },
   "outputs": [],
   "source": [
    "print(test.shape)\n",
    "test.head()"
   ]
  },
  {
   "cell_type": "markdown",
   "id": "faf71bf6",
   "metadata": {
    "papermill": {
     "duration": 0.004963,
     "end_time": "2022-12-23T14:30:00.855081",
     "exception": false,
     "start_time": "2022-12-23T14:30:00.850118",
     "status": "completed"
    },
    "tags": []
   },
   "source": [
    "# Data EDA\n",
    "Below we observe that both train and test data have 3135 unique counties (i.e. `cfips`). In the train data, each county has 39 months of data. And in the test data, each county expects us to predict 8 months. By displaying the `min` and `max` dates, we discover that train data ranges from August 2019 thru October 2020 inclusive. And test data ranges from November 2022 thru June 2023 inclusive. We also plot 8 random time series below. We observe that in general, the time series do not have a consistent linear trend."
   ]
  },
  {
   "cell_type": "code",
   "execution_count": null,
   "id": "3ba2cc51",
   "metadata": {
    "ExecuteTime": {
     "start_time": "2023-01-08T10:08:14.278Z"
    },
    "execution": {
     "iopub.execute_input": "2022-12-23T14:30:00.869799Z",
     "iopub.status.busy": "2022-12-23T14:30:00.868907Z",
     "iopub.status.idle": "2022-12-23T14:30:00.885980Z",
     "shell.execute_reply": "2022-12-23T14:30:00.884258Z"
    },
    "papermill": {
     "duration": 0.029127,
     "end_time": "2022-12-23T14:30:00.890198",
     "exception": false,
     "start_time": "2022-12-23T14:30:00.861071",
     "status": "completed"
    },
    "tags": []
   },
   "outputs": [],
   "source": [
    "train.cfips.value_counts()"
   ]
  },
  {
   "cell_type": "code",
   "execution_count": null,
   "id": "90764c7b",
   "metadata": {
    "ExecuteTime": {
     "start_time": "2023-01-08T10:08:14.282Z"
    },
    "execution": {
     "iopub.execute_input": "2022-12-23T14:30:00.904681Z",
     "iopub.status.busy": "2022-12-23T14:30:00.903567Z",
     "iopub.status.idle": "2022-12-23T14:30:00.920090Z",
     "shell.execute_reply": "2022-12-23T14:30:00.917952Z"
    },
    "papermill": {
     "duration": 0.027715,
     "end_time": "2022-12-23T14:30:00.923425",
     "exception": false,
     "start_time": "2022-12-23T14:30:00.895710",
     "status": "completed"
    },
    "tags": []
   },
   "outputs": [],
   "source": [
    "test.cfips.value_counts()"
   ]
  },
  {
   "cell_type": "code",
   "execution_count": null,
   "id": "00fe5da4",
   "metadata": {
    "ExecuteTime": {
     "start_time": "2023-01-08T10:08:14.285Z"
    },
    "_kg_hide-input": true,
    "execution": {
     "iopub.execute_input": "2022-12-23T14:30:00.937891Z",
     "iopub.status.busy": "2022-12-23T14:30:00.937304Z",
     "iopub.status.idle": "2022-12-23T14:30:06.425818Z",
     "shell.execute_reply": "2022-12-23T14:30:06.423768Z"
    },
    "papermill": {
     "duration": 5.500187,
     "end_time": "2022-12-23T14:30:06.429819",
     "exception": false,
     "start_time": "2022-12-23T14:30:00.929632",
     "status": "completed"
    },
    "tags": []
   },
   "outputs": [],
   "source": [
    "DISPLAY = 8\n",
    "THRESHOLD = 0.103 #this is 10.3% same value as 8/78 from old notebook\n",
    "\n",
    "IDS = train.cfips.unique()\n",
    "x_train = np.arange(39).reshape((-1,1))\n",
    "x_test = np.arange(38,47).reshape((-1,1))\n",
    "\n",
    "for i in range(DISPLAY):\n",
    "    c = np.random.choice(IDS)\n",
    "    df = train.loc[train.cfips==c]\n",
    "    last = df.microbusiness_density.values[-1]\n",
    "    \n",
    "    # FIT LINEAR REGRESSION\n",
    "    model = LinearRegression()\n",
    "    model.fit(x_train,df.microbusiness_density)\n",
    "    p = model.predict(x_train)\n",
    "    \n",
    "    # COMPUTE TRAIN ERROR\n",
    "    err = p - df.microbusiness_density.values\n",
    "    rng = df.microbusiness_density.max() - df.microbusiness_density.min()\n",
    "    \n",
    "    # DETERMINE IF TIME SERIES IS LINEAR OR NOT\n",
    "    s = 0\n",
    "    for k in range(39):\n",
    "        e = np.abs( err[k] )\n",
    "        r = e/rng # absolute error divided by range\n",
    "        s += r\n",
    "    s = s/39 # now S is MAPE mean absolute percentage error\n",
    "        \n",
    "    # INFER TEST DATA WITH LINEAR REGRESSION\n",
    "    p2 = model.predict(x_test)\n",
    "    shift =  last - p2[0]\n",
    "    if s<THRESHOLD: preds = p2[1:]+shift\n",
    "    else: preds = [last]*8\n",
    "     \n",
    "    # PLOT STUFF\n",
    "    plt.figure(figsize=(20,5))\n",
    "    plt.plot(df.first_day_of_month,df.microbusiness_density,'-o',label='train data')\n",
    "    plt.plot(df.first_day_of_month,p,'--',label='linear regression')\n",
    "    plt.plot(test.first_day_of_month.values[:8],preds,'-o',label='test pred')\n",
    "    pre = ''; post=''\n",
    "    if s>THRESHOLD: \n",
    "        pre='NO, we WILL NOT USE linear regression for\\n'\n",
    "        post=' (We will predict last train value)'\n",
    "    else: \n",
    "        pre='YES, we WILL USE linear regression for\\n'\n",
    "    plt.title(f'{pre}CFIPS {c}{post}',size=18)\n",
    "    plt.xlabel('Date',size=16)\n",
    "    plt.ylabel('Microbusiness Density',size=16)\n",
    "    plt.legend()\n",
    "    plt.show()\n",
    "    \n",
    "    plt.hist(err,bins=20,label='error')\n",
    "    plt.plot([-rng/2,-rng/2],[0,10],'--',color='black',label='range')\n",
    "    plt.plot([rng/2,rng/2],[0,10],'--',color='black')\n",
    "    plt.xlim((-rng * 0.75,rng * 0.75))\n",
    "    plt.legend()\n",
    "    plt.title(f'Linear Regression\\nTrain Error vs. Train Range. (avg={100*s:2.1f}%)',size=18)\n",
    "    plt.show()\n",
    "    print('\\n\\n\\n\\n\\n\\n')"
   ]
  },
  {
   "cell_type": "markdown",
   "id": "2239f77f",
   "metadata": {
    "papermill": {
     "duration": 0.015099,
     "end_time": "2022-12-23T14:30:06.462373",
     "exception": false,
     "start_time": "2022-12-23T14:30:06.447274",
     "status": "completed"
    },
    "tags": []
   },
   "source": [
    "# Train and Infer Linear Regression\n",
    "For each of 3135 time series, we model with linear regression and compute the error of train data vs. predicted train data. If the average error is less than 10% of the range of train values, we assume the time series has a linear trend. For these 486 counties we use linear regression to predict test. For the other 2649, we use the last known value in train and the test prediction.\n",
    "\n",
    "UPDATE in version 9: As an experiment, we will only assume linear trend only if county has more than 25,000 `active`. The train data column `active` indicates the size of the population in county. I think a trend involving more people should be more likely to continue to occur. With this additional restriction, we will use linear model for 32 counties and \"last value\" for 3103 counties. Let's see what LB it achieves..."
   ]
  },
  {
   "cell_type": "code",
   "execution_count": null,
   "id": "d4c10964",
   "metadata": {
    "ExecuteTime": {
     "start_time": "2023-01-08T10:08:14.289Z"
    },
    "execution": {
     "iopub.execute_input": "2022-12-23T14:30:06.498277Z",
     "iopub.status.busy": "2022-12-23T14:30:06.497743Z",
     "iopub.status.idle": "2022-12-23T14:30:18.486954Z",
     "shell.execute_reply": "2022-12-23T14:30:18.484175Z"
    },
    "papermill": {
     "duration": 12.0116,
     "end_time": "2022-12-23T14:30:18.490853",
     "exception": false,
     "start_time": "2022-12-23T14:30:06.479253",
     "status": "completed"
    },
    "tags": []
   },
   "outputs": [],
   "source": [
    "DISPLAY = 8\n",
    "THRESHOLD = 0.103 #this is 10.3% same value as 8/78 from old notebook\n",
    "ACTIVE_THRESHOLD = 25_000\n",
    "\n",
    "IDS = train.cfips.unique()\n",
    "x_train = np.arange(39).reshape((-1,1))\n",
    "x_test = np.arange(38,47).reshape((-1,1))\n",
    "\n",
    "preds = np.zeros((len(IDS),8))\n",
    "last_preds = np.zeros((len(IDS),8))\n",
    "lin_trend = 0\n",
    "\n",
    "ct = 0\n",
    "for i,c in enumerate(IDS):\n",
    "    df = train.loc[train.cfips==c]\n",
    "    last = df.microbusiness_density.values[-1]\n",
    "    active = df.active.values[-1]\n",
    "    last_preds[i,] = [last]*8\n",
    "    \n",
    "    # FIT LINEAR REGRESSION\n",
    "    model = LinearRegression()\n",
    "    model.fit(x_train,df.microbusiness_density)\n",
    "    p = model.predict(x_train)\n",
    "    \n",
    "    # COMPUTE TRAIN ERROR\n",
    "    err = p - df.microbusiness_density.values\n",
    "    rng = df.microbusiness_density.max() - df.microbusiness_density.min()\n",
    "    \n",
    "    # DETERMIN IF TIME SERIES IS LINEAR OR NOT\n",
    "    s = 0\n",
    "    for k in range(39):\n",
    "        e = np.abs( err[k] )\n",
    "        r = e/rng # absolute error divided by range\n",
    "        s += r\n",
    "    s = s/39 # now S is MAPE mean absolute percentage error\n",
    "    \n",
    "    # IF S <= 10% THEN WE ASSUME THIS COUNTY HAS A LINEAR TREND\n",
    "    if (s>THRESHOLD)|(active<ACTIVE_THRESHOLD): \n",
    "        preds[i,] = [last]*8\n",
    "        continue\n",
    "        \n",
    "    # INFER TEST DATA WITH LINEAR REGRESSION\n",
    "    p2 = model.predict(x_test)\n",
    "    shift =  last - p2[0]\n",
    "    preds[i,] = p2[1:]+shift\n",
    "    \n",
    "    # COUNT STUFF\n",
    "    ct += 1\n",
    "    lin_trend += 1\n",
    "    if ct>=DISPLAY+1: continue\n",
    "        \n",
    "    # PLOT STUFF\n",
    "    plt.figure(figsize=(20,5))\n",
    "    plt.plot(df.first_day_of_month,df.microbusiness_density,'-o',label='train data')\n",
    "    plt.plot(df.first_day_of_month,p,'--',label='linear regression')\n",
    "    plt.plot(test.first_day_of_month.values[:8],preds[i,],'-o',label='test pred')\n",
    "    pre='YES, we WILL USE linear regression for\\n'\n",
    "    plt.title(f'{pre}CFIPS {c}',size=18)\n",
    "    plt.xlabel('Date',size=16)\n",
    "    plt.ylabel('Microbusiness Density',size=16)\n",
    "    plt.legend()\n",
    "    plt.show()\n",
    "    \n",
    "    plt.hist(err,bins=20,label='error')\n",
    "    plt.plot([-rng/2,-rng/2],[0,10],'--',color='black',label='range')\n",
    "    plt.plot([rng/2,rng/2],[0,10],'--',color='black')\n",
    "    plt.xlim((-rng * 0.75,rng * 0.75))\n",
    "    plt.legend()\n",
    "    plt.title(f'Train Error vs. Train Range. (avg={100*s:2.1f}%)',size=18)\n",
    "    plt.show()\n",
    "    print('\\n\\n\\n\\n\\n\\n')\n",
    "    \n",
    "# PRINT HOW MANY LINEAR TIME SERIES WE FOUND\n",
    "print(f'There are {lin_trend} counties with both a linear trend and large population.')"
   ]
  },
  {
   "cell_type": "markdown",
   "id": "6ed3be90",
   "metadata": {
    "papermill": {
     "duration": 0.027072,
     "end_time": "2022-12-23T14:30:18.546352",
     "exception": false,
     "start_time": "2022-12-23T14:30:18.519280",
     "status": "completed"
    },
    "tags": []
   },
   "source": [
    "# Write Submission CSV"
   ]
  },
  {
   "cell_type": "code",
   "execution_count": null,
   "id": "6c5dab4b",
   "metadata": {
    "ExecuteTime": {
     "start_time": "2023-01-08T10:08:14.291Z"
    },
    "execution": {
     "iopub.execute_input": "2022-12-23T14:30:18.603619Z",
     "iopub.status.busy": "2022-12-23T14:30:18.603158Z",
     "iopub.status.idle": "2022-12-23T14:30:18.673446Z",
     "shell.execute_reply": "2022-12-23T14:30:18.671911Z"
    },
    "papermill": {
     "duration": 0.104228,
     "end_time": "2022-12-23T14:30:18.677147",
     "exception": false,
     "start_time": "2022-12-23T14:30:18.572919",
     "status": "completed"
    },
    "tags": []
   },
   "outputs": [],
   "source": [
    "# NOTE TEST IS SORTED BY CFIPS AND DATA. ADD PREDS TO DATAFRAME\n",
    "test['microbusiness_density'] = preds.reshape((-1))\n",
    "sub = test[['row_id','microbusiness_density']]\n",
    "sub.to_csv('submission.csv',index=False)\n",
    "print( sub.shape )\n",
    "sub.head()"
   ]
  }
 ],
 "metadata": {
  "kernelspec": {
   "display_name": "Python 3 (ipykernel)",
   "language": "python",
   "name": "python3"
  },
  "language_info": {
   "codemirror_mode": {
    "name": "ipython",
    "version": 3
   },
   "file_extension": ".py",
   "mimetype": "text/x-python",
   "name": "python",
   "nbconvert_exporter": "python",
   "pygments_lexer": "ipython3",
   "version": "3.9.13"
  },
  "papermill": {
   "default_parameters": {},
   "duration": 32.405928,
   "end_time": "2022-12-23T14:30:19.629832",
   "environment_variables": {},
   "exception": null,
   "input_path": "__notebook__.ipynb",
   "output_path": "__notebook__.ipynb",
   "parameters": {},
   "start_time": "2022-12-23T14:29:47.223904",
   "version": "2.3.4"
  }
 },
 "nbformat": 4,
 "nbformat_minor": 5
}
