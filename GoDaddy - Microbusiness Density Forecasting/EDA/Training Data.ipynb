{
 "cells": [
  {
   "cell_type": "code",
   "execution_count": 1,
   "id": "dad5976b",
   "metadata": {
    "ExecuteTime": {
     "end_time": "2023-01-01T16:25:12.467602Z",
     "start_time": "2023-01-01T16:25:11.529111Z"
    }
   },
   "outputs": [],
   "source": [
    "import pandas as pd\n",
    "import numpy as np\n",
    "\n",
    "import warnings\n",
    "warnings.filterwarnings('ignore')"
   ]
  },
  {
   "cell_type": "code",
   "execution_count": 2,
   "id": "3ef6d183",
   "metadata": {
    "ExecuteTime": {
     "end_time": "2023-01-01T16:25:12.782787Z",
     "start_time": "2023-01-01T16:25:12.479569Z"
    }
   },
   "outputs": [
    {
     "data": {
      "text/html": [
       "<div>\n",
       "<style scoped>\n",
       "    .dataframe tbody tr th:only-of-type {\n",
       "        vertical-align: middle;\n",
       "    }\n",
       "\n",
       "    .dataframe tbody tr th {\n",
       "        vertical-align: top;\n",
       "    }\n",
       "\n",
       "    .dataframe thead th {\n",
       "        text-align: right;\n",
       "    }\n",
       "</style>\n",
       "<table border=\"1\" class=\"dataframe\">\n",
       "  <thead>\n",
       "    <tr style=\"text-align: right;\">\n",
       "      <th></th>\n",
       "      <th>row_id</th>\n",
       "      <th>cfips</th>\n",
       "      <th>county</th>\n",
       "      <th>state</th>\n",
       "      <th>first_day_of_month</th>\n",
       "      <th>microbusiness_density</th>\n",
       "      <th>active</th>\n",
       "    </tr>\n",
       "  </thead>\n",
       "  <tbody>\n",
       "    <tr>\n",
       "      <th>0</th>\n",
       "      <td>1001_2019-08-01</td>\n",
       "      <td>1001</td>\n",
       "      <td>Autauga County</td>\n",
       "      <td>Alabama</td>\n",
       "      <td>2019-08-01</td>\n",
       "      <td>3.007682</td>\n",
       "      <td>1249</td>\n",
       "    </tr>\n",
       "    <tr>\n",
       "      <th>1</th>\n",
       "      <td>1001_2019-09-01</td>\n",
       "      <td>1001</td>\n",
       "      <td>Autauga County</td>\n",
       "      <td>Alabama</td>\n",
       "      <td>2019-09-01</td>\n",
       "      <td>2.884870</td>\n",
       "      <td>1198</td>\n",
       "    </tr>\n",
       "    <tr>\n",
       "      <th>2</th>\n",
       "      <td>1001_2019-10-01</td>\n",
       "      <td>1001</td>\n",
       "      <td>Autauga County</td>\n",
       "      <td>Alabama</td>\n",
       "      <td>2019-10-01</td>\n",
       "      <td>3.055843</td>\n",
       "      <td>1269</td>\n",
       "    </tr>\n",
       "    <tr>\n",
       "      <th>3</th>\n",
       "      <td>1001_2019-11-01</td>\n",
       "      <td>1001</td>\n",
       "      <td>Autauga County</td>\n",
       "      <td>Alabama</td>\n",
       "      <td>2019-11-01</td>\n",
       "      <td>2.993233</td>\n",
       "      <td>1243</td>\n",
       "    </tr>\n",
       "    <tr>\n",
       "      <th>4</th>\n",
       "      <td>1001_2019-12-01</td>\n",
       "      <td>1001</td>\n",
       "      <td>Autauga County</td>\n",
       "      <td>Alabama</td>\n",
       "      <td>2019-12-01</td>\n",
       "      <td>2.993233</td>\n",
       "      <td>1243</td>\n",
       "    </tr>\n",
       "  </tbody>\n",
       "</table>\n",
       "</div>"
      ],
      "text/plain": [
       "            row_id  cfips          county    state first_day_of_month  \\\n",
       "0  1001_2019-08-01   1001  Autauga County  Alabama         2019-08-01   \n",
       "1  1001_2019-09-01   1001  Autauga County  Alabama         2019-09-01   \n",
       "2  1001_2019-10-01   1001  Autauga County  Alabama         2019-10-01   \n",
       "3  1001_2019-11-01   1001  Autauga County  Alabama         2019-11-01   \n",
       "4  1001_2019-12-01   1001  Autauga County  Alabama         2019-12-01   \n",
       "\n",
       "   microbusiness_density  active  \n",
       "0               3.007682    1249  \n",
       "1               2.884870    1198  \n",
       "2               3.055843    1269  \n",
       "3               2.993233    1243  \n",
       "4               2.993233    1243  "
      ]
     },
     "execution_count": 2,
     "metadata": {},
     "output_type": "execute_result"
    }
   ],
   "source": [
    "# Load data\n",
    "train=pd.read_csv('train.csv')\n",
    "train.head()"
   ]
  },
  {
   "cell_type": "code",
   "execution_count": 3,
   "id": "7c21a5c2",
   "metadata": {
    "ExecuteTime": {
     "end_time": "2023-01-01T16:25:12.814708Z",
     "start_time": "2023-01-01T16:25:12.789739Z"
    }
   },
   "outputs": [],
   "source": [
    "# splitting X & Y\n",
    "X,Y=train[['row_id','cfips','first_day_of_month']],train.microbusiness_density\n"
   ]
  },
  {
   "cell_type": "code",
   "execution_count": 4,
   "id": "e0e4c332",
   "metadata": {
    "ExecuteTime": {
     "end_time": "2023-01-01T16:25:12.894460Z",
     "start_time": "2023-01-01T16:25:12.822651Z"
    }
   },
   "outputs": [
    {
     "name": "stdout",
     "output_type": "stream",
     "text": [
      "<class 'pandas.core.frame.DataFrame'>\n",
      "RangeIndex: 122265 entries, 0 to 122264\n",
      "Data columns (total 3 columns):\n",
      " #   Column              Non-Null Count   Dtype \n",
      "---  ------              --------------   ----- \n",
      " 0   row_id              122265 non-null  object\n",
      " 1   cfips               122265 non-null  int64 \n",
      " 2   first_day_of_month  122265 non-null  object\n",
      "dtypes: int64(1), object(2)\n",
      "memory usage: 2.8+ MB\n"
     ]
    }
   ],
   "source": [
    "X.info()"
   ]
  },
  {
   "cell_type": "code",
   "execution_count": 5,
   "id": "0d7dbefb",
   "metadata": {
    "ExecuteTime": {
     "end_time": "2023-01-01T16:25:13.004165Z",
     "start_time": "2023-01-01T16:25:12.905433Z"
    }
   },
   "outputs": [
    {
     "name": "stdout",
     "output_type": "stream",
     "text": [
      "<class 'pandas.core.frame.DataFrame'>\n",
      "RangeIndex: 122265 entries, 0 to 122264\n",
      "Data columns (total 3 columns):\n",
      " #   Column              Non-Null Count   Dtype         \n",
      "---  ------              --------------   -----         \n",
      " 0   row_id              122265 non-null  object        \n",
      " 1   cfips               122265 non-null  int64         \n",
      " 2   first_day_of_month  122265 non-null  datetime64[ns]\n",
      "dtypes: datetime64[ns](1), int64(1), object(1)\n",
      "memory usage: 2.8+ MB\n"
     ]
    }
   ],
   "source": [
    "# X['cfips']=X['cfips'].astype(str)\n",
    "X.first_day_of_month=pd.to_datetime(X.first_day_of_month,yearfirst=True)\n",
    "X.info()"
   ]
  },
  {
   "cell_type": "code",
   "execution_count": 6,
   "id": "4df2028c",
   "metadata": {
    "ExecuteTime": {
     "end_time": "2023-01-01T16:25:13.052041Z",
     "start_time": "2023-01-01T16:25:13.012145Z"
    }
   },
   "outputs": [
    {
     "data": {
      "text/html": [
       "<div>\n",
       "<style scoped>\n",
       "    .dataframe tbody tr th:only-of-type {\n",
       "        vertical-align: middle;\n",
       "    }\n",
       "\n",
       "    .dataframe tbody tr th {\n",
       "        vertical-align: top;\n",
       "    }\n",
       "\n",
       "    .dataframe thead th {\n",
       "        text-align: right;\n",
       "    }\n",
       "</style>\n",
       "<table border=\"1\" class=\"dataframe\">\n",
       "  <thead>\n",
       "    <tr style=\"text-align: right;\">\n",
       "      <th></th>\n",
       "      <th>row_id</th>\n",
       "      <th>cfips</th>\n",
       "    </tr>\n",
       "    <tr>\n",
       "      <th>first_day_of_month</th>\n",
       "      <th></th>\n",
       "      <th></th>\n",
       "    </tr>\n",
       "  </thead>\n",
       "  <tbody>\n",
       "    <tr>\n",
       "      <th>2019-08-01</th>\n",
       "      <td>1001_2019-08-01</td>\n",
       "      <td>1001</td>\n",
       "    </tr>\n",
       "    <tr>\n",
       "      <th>2019-09-01</th>\n",
       "      <td>1001_2019-09-01</td>\n",
       "      <td>1001</td>\n",
       "    </tr>\n",
       "    <tr>\n",
       "      <th>2019-10-01</th>\n",
       "      <td>1001_2019-10-01</td>\n",
       "      <td>1001</td>\n",
       "    </tr>\n",
       "    <tr>\n",
       "      <th>2019-11-01</th>\n",
       "      <td>1001_2019-11-01</td>\n",
       "      <td>1001</td>\n",
       "    </tr>\n",
       "    <tr>\n",
       "      <th>2019-12-01</th>\n",
       "      <td>1001_2019-12-01</td>\n",
       "      <td>1001</td>\n",
       "    </tr>\n",
       "    <tr>\n",
       "      <th>...</th>\n",
       "      <td>...</td>\n",
       "      <td>...</td>\n",
       "    </tr>\n",
       "    <tr>\n",
       "      <th>2022-06-01</th>\n",
       "      <td>56045_2022-06-01</td>\n",
       "      <td>56045</td>\n",
       "    </tr>\n",
       "    <tr>\n",
       "      <th>2022-07-01</th>\n",
       "      <td>56045_2022-07-01</td>\n",
       "      <td>56045</td>\n",
       "    </tr>\n",
       "    <tr>\n",
       "      <th>2022-08-01</th>\n",
       "      <td>56045_2022-08-01</td>\n",
       "      <td>56045</td>\n",
       "    </tr>\n",
       "    <tr>\n",
       "      <th>2022-09-01</th>\n",
       "      <td>56045_2022-09-01</td>\n",
       "      <td>56045</td>\n",
       "    </tr>\n",
       "    <tr>\n",
       "      <th>2022-10-01</th>\n",
       "      <td>56045_2022-10-01</td>\n",
       "      <td>56045</td>\n",
       "    </tr>\n",
       "  </tbody>\n",
       "</table>\n",
       "<p>122265 rows × 2 columns</p>\n",
       "</div>"
      ],
      "text/plain": [
       "                              row_id  cfips\n",
       "first_day_of_month                         \n",
       "2019-08-01           1001_2019-08-01   1001\n",
       "2019-09-01           1001_2019-09-01   1001\n",
       "2019-10-01           1001_2019-10-01   1001\n",
       "2019-11-01           1001_2019-11-01   1001\n",
       "2019-12-01           1001_2019-12-01   1001\n",
       "...                              ...    ...\n",
       "2022-06-01          56045_2022-06-01  56045\n",
       "2022-07-01          56045_2022-07-01  56045\n",
       "2022-08-01          56045_2022-08-01  56045\n",
       "2022-09-01          56045_2022-09-01  56045\n",
       "2022-10-01          56045_2022-10-01  56045\n",
       "\n",
       "[122265 rows x 2 columns]"
      ]
     },
     "execution_count": 6,
     "metadata": {},
     "output_type": "execute_result"
    }
   ],
   "source": [
    "# Set Datetime index,\n",
    "\n",
    "X.set_index(pd.DatetimeIndex(X.first_day_of_month,yearfirst=True),inplace=True)\n",
    "X.drop('first_day_of_month',axis=1,inplace=True)\n",
    "X"
   ]
  },
  {
   "cell_type": "code",
   "execution_count": 7,
   "id": "4df15feb",
   "metadata": {
    "ExecuteTime": {
     "end_time": "2023-01-01T16:25:13.238540Z",
     "start_time": "2023-01-01T16:25:13.061014Z"
    }
   },
   "outputs": [
    {
     "data": {
      "text/html": [
       "<div>\n",
       "<style scoped>\n",
       "    .dataframe tbody tr th:only-of-type {\n",
       "        vertical-align: middle;\n",
       "    }\n",
       "\n",
       "    .dataframe tbody tr th {\n",
       "        vertical-align: top;\n",
       "    }\n",
       "\n",
       "    .dataframe thead th {\n",
       "        text-align: right;\n",
       "    }\n",
       "</style>\n",
       "<table border=\"1\" class=\"dataframe\">\n",
       "  <thead>\n",
       "    <tr style=\"text-align: right;\">\n",
       "      <th></th>\n",
       "      <th>row_id</th>\n",
       "      <th>cfips</th>\n",
       "    </tr>\n",
       "  </thead>\n",
       "  <tbody>\n",
       "    <tr>\n",
       "      <th>count</th>\n",
       "      <td>122265</td>\n",
       "      <td>122265.000000</td>\n",
       "    </tr>\n",
       "    <tr>\n",
       "      <th>unique</th>\n",
       "      <td>122265</td>\n",
       "      <td>NaN</td>\n",
       "    </tr>\n",
       "    <tr>\n",
       "      <th>top</th>\n",
       "      <td>1001_2019-08-01</td>\n",
       "      <td>NaN</td>\n",
       "    </tr>\n",
       "    <tr>\n",
       "      <th>freq</th>\n",
       "      <td>1</td>\n",
       "      <td>NaN</td>\n",
       "    </tr>\n",
       "    <tr>\n",
       "      <th>mean</th>\n",
       "      <td>NaN</td>\n",
       "      <td>30376.037640</td>\n",
       "    </tr>\n",
       "    <tr>\n",
       "      <th>std</th>\n",
       "      <td>NaN</td>\n",
       "      <td>15143.508721</td>\n",
       "    </tr>\n",
       "    <tr>\n",
       "      <th>min</th>\n",
       "      <td>NaN</td>\n",
       "      <td>1001.000000</td>\n",
       "    </tr>\n",
       "    <tr>\n",
       "      <th>25%</th>\n",
       "      <td>NaN</td>\n",
       "      <td>18177.000000</td>\n",
       "    </tr>\n",
       "    <tr>\n",
       "      <th>50%</th>\n",
       "      <td>NaN</td>\n",
       "      <td>29173.000000</td>\n",
       "    </tr>\n",
       "    <tr>\n",
       "      <th>75%</th>\n",
       "      <td>NaN</td>\n",
       "      <td>45077.000000</td>\n",
       "    </tr>\n",
       "    <tr>\n",
       "      <th>max</th>\n",
       "      <td>NaN</td>\n",
       "      <td>56045.000000</td>\n",
       "    </tr>\n",
       "  </tbody>\n",
       "</table>\n",
       "</div>"
      ],
      "text/plain": [
       "                 row_id          cfips\n",
       "count            122265  122265.000000\n",
       "unique           122265            NaN\n",
       "top     1001_2019-08-01            NaN\n",
       "freq                  1            NaN\n",
       "mean                NaN   30376.037640\n",
       "std                 NaN   15143.508721\n",
       "min                 NaN    1001.000000\n",
       "25%                 NaN   18177.000000\n",
       "50%                 NaN   29173.000000\n",
       "75%                 NaN   45077.000000\n",
       "max                 NaN   56045.000000"
      ]
     },
     "execution_count": 7,
     "metadata": {},
     "output_type": "execute_result"
    }
   ],
   "source": [
    "X.describe(include='all')"
   ]
  },
  {
   "cell_type": "code",
   "execution_count": 8,
   "id": "80781319",
   "metadata": {
    "ExecuteTime": {
     "end_time": "2023-01-01T16:25:13.269457Z",
     "start_time": "2023-01-01T16:25:13.245521Z"
    }
   },
   "outputs": [
    {
     "data": {
      "text/plain": [
       "1001     39\n",
       "39133    39\n",
       "39089    39\n",
       "39091    39\n",
       "39093    39\n",
       "         ..\n",
       "21113    39\n",
       "21115    39\n",
       "21117    39\n",
       "21119    39\n",
       "56045    39\n",
       "Name: cfips, Length: 3135, dtype: int64"
      ]
     },
     "execution_count": 8,
     "metadata": {},
     "output_type": "execute_result"
    }
   ],
   "source": [
    "X.cfips.value_counts()"
   ]
  },
  {
   "cell_type": "markdown",
   "id": "5c3edc8a",
   "metadata": {},
   "source": [
    "<div class='tableauPlaceholder' id='viz1672589722350' style='position: relative'><noscript><a href='#'><img alt='                                                   Time Unique Values  ' src='https:&#47;&#47;public.tableau.com&#47;static&#47;images&#47;Mi&#47;MicroBusiness&#47;Uniquevalueinyear_1&#47;1_rss.png' style='border: none' /></a></noscript><object class='tableauViz'  style='display:none;'><param name='host_url' value='https%3A%2F%2Fpublic.tableau.com%2F' /> <param name='embed_code_version' value='3' /> <param name='site_root' value='' /><param name='name' value='MicroBusiness&#47;Uniquevalueinyear_1' /><param name='tabs' value='no' /><param name='toolbar' value='yes' /><param name='static_image' value='https:&#47;&#47;public.tableau.com&#47;static&#47;images&#47;Mi&#47;MicroBusiness&#47;Uniquevalueinyear_1&#47;1.png' /> <param name='animate_transition' value='yes' /><param name='display_static_image' value='yes' /><param name='display_spinner' value='yes' /><param name='display_overlay' value='yes' /><param name='display_count' value='yes' /><param name='language' value='en-US' /><param name='filter' value='publish=yes' /></object></div>                <script type='text/javascript'>                    var divElement = document.getElementById('viz1672589722350');                    var vizElement = divElement.getElementsByTagName('object')[0];                    if ( divElement.offsetWidth > 800 ) { vizElement.style.minWidth='1250px';vizElement.style.maxWidth='1550px';vizElement.style.width='100%';vizElement.style.height='887px';} else if ( divElement.offsetWidth > 500 ) { vizElement.style.minWidth='1250px';vizElement.style.maxWidth='1550px';vizElement.style.width='100%';vizElement.style.height='887px';} else { vizElement.style.width='100%';vizElement.style.height='827px';}                     var scriptElement = document.createElement('script');                    scriptElement.src = 'https://public.tableau.com/javascripts/api/viz_v1.js';                    vizElement.parentNode.insertBefore(scriptElement, vizElement);                </script>"
   ]
  },
  {
   "cell_type": "code",
   "execution_count": 9,
   "id": "35defb37",
   "metadata": {
    "ExecuteTime": {
     "end_time": "2023-01-01T16:25:13.316333Z",
     "start_time": "2023-01-01T16:25:13.279431Z"
    }
   },
   "outputs": [
    {
     "data": {
      "text/plain": [
       "2019-08-01    3135\n",
       "2022-01-01    3135\n",
       "2021-06-01    3135\n",
       "2021-07-01    3135\n",
       "2021-08-01    3135\n",
       "2021-09-01    3135\n",
       "2021-10-01    3135\n",
       "2021-11-01    3135\n",
       "2021-12-01    3135\n",
       "2022-02-01    3135\n",
       "2021-04-01    3135\n",
       "2022-03-01    3135\n",
       "2022-04-01    3135\n",
       "2022-05-01    3135\n",
       "2022-06-01    3135\n",
       "2022-07-01    3135\n",
       "2022-08-01    3135\n",
       "2022-09-01    3135\n",
       "2021-05-01    3135\n",
       "2021-03-01    3135\n",
       "2019-09-01    3135\n",
       "2020-05-01    3135\n",
       "2019-10-01    3135\n",
       "2019-11-01    3135\n",
       "2019-12-01    3135\n",
       "2020-01-01    3135\n",
       "2020-02-01    3135\n",
       "2020-03-01    3135\n",
       "2020-04-01    3135\n",
       "2020-06-01    3135\n",
       "2021-02-01    3135\n",
       "2020-07-01    3135\n",
       "2020-08-01    3135\n",
       "2020-09-01    3135\n",
       "2020-10-01    3135\n",
       "2020-11-01    3135\n",
       "2020-12-01    3135\n",
       "2021-01-01    3135\n",
       "2022-10-01    3135\n",
       "Name: first_day_of_month, dtype: int64"
      ]
     },
     "execution_count": 9,
     "metadata": {},
     "output_type": "execute_result"
    }
   ],
   "source": [
    "X.index.value_counts()"
   ]
  },
  {
   "cell_type": "code",
   "execution_count": 10,
   "id": "c38a31c5",
   "metadata": {
    "ExecuteTime": {
     "end_time": "2023-01-01T16:25:13.362208Z",
     "start_time": "2023-01-01T16:25:13.322315Z"
    }
   },
   "outputs": [
    {
     "data": {
      "text/plain": [
       "8     12540\n",
       "9     12540\n",
       "10    12540\n",
       "11     9405\n",
       "12     9405\n",
       "1      9405\n",
       "2      9405\n",
       "3      9405\n",
       "4      9405\n",
       "5      9405\n",
       "6      9405\n",
       "7      9405\n",
       "Name: first_day_of_month, dtype: int64"
      ]
     },
     "execution_count": 10,
     "metadata": {},
     "output_type": "execute_result"
    }
   ],
   "source": [
    "X.index.month.value_counts()"
   ]
  },
  {
   "cell_type": "code",
   "execution_count": 11,
   "id": "c8662beb",
   "metadata": {
    "ExecuteTime": {
     "end_time": "2023-01-01T16:25:13.408089Z",
     "start_time": "2023-01-01T16:25:13.365200Z"
    }
   },
   "outputs": [
    {
     "data": {
      "text/plain": [
       "1    122265\n",
       "Name: first_day_of_month, dtype: int64"
      ]
     },
     "execution_count": 11,
     "metadata": {},
     "output_type": "execute_result"
    }
   ],
   "source": [
    "X.index.day.value_counts()"
   ]
  },
  {
   "cell_type": "code",
   "execution_count": 12,
   "id": "49e490b5",
   "metadata": {
    "ExecuteTime": {
     "end_time": "2023-01-01T16:25:13.423047Z",
     "start_time": "2023-01-01T16:25:13.414072Z"
    }
   },
   "outputs": [],
   "source": [
    "# # Cannot resample :((((\n",
    "# x=X.resample('M')\n",
    "# x.sum()"
   ]
  },
  {
   "cell_type": "code",
   "execution_count": 13,
   "id": "660d9ea2",
   "metadata": {
    "ExecuteTime": {
     "end_time": "2023-01-01T16:25:15.126552Z",
     "start_time": "2023-01-01T16:25:13.428033Z"
    }
   },
   "outputs": [],
   "source": [
    "from sklearn.preprocessing import LabelEncoder,StandardScaler\n",
    "\n",
    "X['row_id']=LabelEncoder().fit_transform(X[['row_id']])\n",
    "X_cfips=pd.DataFrame(StandardScaler().fit_transform(X[['cfips']]),columns=['cfips'])\n"
   ]
  },
  {
   "cell_type": "code",
   "execution_count": 14,
   "id": "3f6d78ff",
   "metadata": {
    "ExecuteTime": {
     "end_time": "2023-01-01T16:25:15.158405Z",
     "start_time": "2023-01-01T16:25:15.128484Z"
    }
   },
   "outputs": [
    {
     "data": {
      "text/html": [
       "<div>\n",
       "<style scoped>\n",
       "    .dataframe tbody tr th:only-of-type {\n",
       "        vertical-align: middle;\n",
       "    }\n",
       "\n",
       "    .dataframe tbody tr th {\n",
       "        vertical-align: top;\n",
       "    }\n",
       "\n",
       "    .dataframe thead th {\n",
       "        text-align: right;\n",
       "    }\n",
       "</style>\n",
       "<table border=\"1\" class=\"dataframe\">\n",
       "  <thead>\n",
       "    <tr style=\"text-align: right;\">\n",
       "      <th></th>\n",
       "      <th>cfips</th>\n",
       "    </tr>\n",
       "  </thead>\n",
       "  <tbody>\n",
       "    <tr>\n",
       "      <th>0</th>\n",
       "      <td>-1.939785</td>\n",
       "    </tr>\n",
       "    <tr>\n",
       "      <th>1</th>\n",
       "      <td>-1.939785</td>\n",
       "    </tr>\n",
       "    <tr>\n",
       "      <th>2</th>\n",
       "      <td>-1.939785</td>\n",
       "    </tr>\n",
       "    <tr>\n",
       "      <th>3</th>\n",
       "      <td>-1.939785</td>\n",
       "    </tr>\n",
       "    <tr>\n",
       "      <th>4</th>\n",
       "      <td>-1.939785</td>\n",
       "    </tr>\n",
       "    <tr>\n",
       "      <th>...</th>\n",
       "      <td>...</td>\n",
       "    </tr>\n",
       "    <tr>\n",
       "      <th>122260</th>\n",
       "      <td>1.695054</td>\n",
       "    </tr>\n",
       "    <tr>\n",
       "      <th>122261</th>\n",
       "      <td>1.695054</td>\n",
       "    </tr>\n",
       "    <tr>\n",
       "      <th>122262</th>\n",
       "      <td>1.695054</td>\n",
       "    </tr>\n",
       "    <tr>\n",
       "      <th>122263</th>\n",
       "      <td>1.695054</td>\n",
       "    </tr>\n",
       "    <tr>\n",
       "      <th>122264</th>\n",
       "      <td>1.695054</td>\n",
       "    </tr>\n",
       "  </tbody>\n",
       "</table>\n",
       "<p>122265 rows × 1 columns</p>\n",
       "</div>"
      ],
      "text/plain": [
       "           cfips\n",
       "0      -1.939785\n",
       "1      -1.939785\n",
       "2      -1.939785\n",
       "3      -1.939785\n",
       "4      -1.939785\n",
       "...          ...\n",
       "122260  1.695054\n",
       "122261  1.695054\n",
       "122262  1.695054\n",
       "122263  1.695054\n",
       "122264  1.695054\n",
       "\n",
       "[122265 rows x 1 columns]"
      ]
     },
     "execution_count": 14,
     "metadata": {},
     "output_type": "execute_result"
    }
   ],
   "source": [
    "# X_cfips=X[['cfips']]\n",
    "X_cfips"
   ]
  },
  {
   "cell_type": "code",
   "execution_count": 15,
   "id": "0b32689e",
   "metadata": {
    "ExecuteTime": {
     "end_time": "2023-01-01T16:25:15.190334Z",
     "start_time": "2023-01-01T16:25:15.162393Z"
    }
   },
   "outputs": [
    {
     "data": {
      "text/plain": [
       "0         3.007682\n",
       "1         2.884870\n",
       "2         3.055843\n",
       "3         2.993233\n",
       "4         2.993233\n",
       "            ...   \n",
       "122260    1.803249\n",
       "122261    1.803249\n",
       "122262    1.785395\n",
       "122263    1.785395\n",
       "122264    1.785395\n",
       "Name: microbusiness_density, Length: 122265, dtype: float64"
      ]
     },
     "execution_count": 15,
     "metadata": {},
     "output_type": "execute_result"
    }
   ],
   "source": [
    "Y"
   ]
  },
  {
   "cell_type": "code",
   "execution_count": 16,
   "id": "3bb76ea1",
   "metadata": {
    "ExecuteTime": {
     "end_time": "2023-01-01T16:25:15.776753Z",
     "start_time": "2023-01-01T16:25:15.194308Z"
    }
   },
   "outputs": [
    {
     "ename": "NameError",
     "evalue": "name 'l' is not defined",
     "output_type": "error",
     "traceback": [
      "\u001b[1;31m---------------------------------------------------------------------------\u001b[0m",
      "\u001b[1;31mNameError\u001b[0m                                 Traceback (most recent call last)",
      "\u001b[1;32m~\\AppData\\Local\\Temp\\ipykernel_3024\\2855941353.py\u001b[0m in \u001b[0;36m<module>\u001b[1;34m\u001b[0m\n\u001b[0;32m      7\u001b[0m         \u001b[1;32mbreak\u001b[0m\u001b[1;33m\u001b[0m\u001b[1;33m\u001b[0m\u001b[0m\n\u001b[0;32m      8\u001b[0m     \u001b[0mlist_x\u001b[0m\u001b[1;33m.\u001b[0m\u001b[0mappend\u001b[0m\u001b[1;33m(\u001b[0m\u001b[0mY\u001b[0m\u001b[1;33m[\u001b[0m\u001b[0mi\u001b[0m\u001b[1;33m:\u001b[0m\u001b[0mend\u001b[0m\u001b[1;33m]\u001b[0m\u001b[1;33m)\u001b[0m\u001b[1;33m\u001b[0m\u001b[1;33m\u001b[0m\u001b[0m\n\u001b[1;32m----> 9\u001b[1;33m     \u001b[0ml\u001b[0m\u001b[1;33m\u001b[0m\u001b[1;33m\u001b[0m\u001b[0m\n\u001b[0m",
      "\u001b[1;31mNameError\u001b[0m: name 'l' is not defined"
     ]
    }
   ],
   "source": [
    "list_x=[]\n",
    "list_y=[]\n",
    "\n",
    "end =3\n",
    "for i in range(len(Y)):\n",
    "    if end>=len(Y):\n",
    "        break\n",
    "    list_x.append(Y[i:end])\n",
    "    l"
   ]
  },
  {
   "cell_type": "code",
   "execution_count": null,
   "id": "f33d3964",
   "metadata": {
    "ExecuteTime": {
     "end_time": "2023-01-01T16:25:15.781738Z",
     "start_time": "2023-01-01T16:25:15.781738Z"
    },
    "code_folding": []
   },
   "outputs": [],
   "source": [
    "# Test Data\n",
    "test=pd.read_csv('test.csv')\n",
    "test.head()"
   ]
  },
  {
   "cell_type": "code",
   "execution_count": null,
   "id": "3dd708ca",
   "metadata": {
    "ExecuteTime": {
     "end_time": "2023-01-01T16:25:15.785726Z",
     "start_time": "2023-01-01T16:25:15.785726Z"
    }
   },
   "outputs": [],
   "source": [
    "test.shape"
   ]
  },
  {
   "cell_type": "code",
   "execution_count": null,
   "id": "989c7fe9",
   "metadata": {
    "ExecuteTime": {
     "end_time": "2023-01-01T16:25:15.789715Z",
     "start_time": "2023-01-01T16:25:15.789715Z"
    }
   },
   "outputs": [],
   "source": [
    "test."
   ]
  }
 ],
 "metadata": {
  "kernelspec": {
   "display_name": "Python 3 (ipykernel)",
   "language": "python",
   "name": "python3"
  },
  "language_info": {
   "codemirror_mode": {
    "name": "ipython",
    "version": 3
   },
   "file_extension": ".py",
   "mimetype": "text/x-python",
   "name": "python",
   "nbconvert_exporter": "python",
   "pygments_lexer": "ipython3",
   "version": "3.9.13"
  }
 },
 "nbformat": 4,
 "nbformat_minor": 5
}
