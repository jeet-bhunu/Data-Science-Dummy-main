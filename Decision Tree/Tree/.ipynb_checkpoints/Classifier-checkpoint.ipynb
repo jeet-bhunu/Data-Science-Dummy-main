{
 "cells": [
  {
   "cell_type": "markdown",
   "id": "26370023",
   "metadata": {},
   "source": [
    "# Decision Tree"
   ]
  },
  {
   "cell_type": "code",
   "execution_count": 1,
   "id": "320e9ba2",
   "metadata": {},
   "outputs": [],
   "source": [
    "# pip install xgboost"
   ]
  },
  {
   "cell_type": "code",
   "execution_count": null,
   "id": "648a5205",
   "metadata": {},
   "outputs": [],
   "source": [
    "import pandas as pd\n",
    "import matplotlib.pyplot as plt\n",
    "import numpy as np\n",
    "from scipy.stats import skew,kurtosis\n",
    "\n",
    "from sklearn.datasets import load_breast_cancer as lbc\n",
    "from sklearn.model_selection import train_test_split\n",
    "from sklearn.preprocessing import StandardScaler,MinMaxScaler\n",
    "from sklearn.decomposition import PCA\n",
    "from sklearn.manifold import TSNE\n",
    "from sklearn.tree import DecisionTreeClassifier,plot_tree\n",
    "\n",
    "# import xgboost as xgb\n",
    "\n",
    "import warnings\n",
    "warnings.filterwarnings('ignore')\n"
   ]
  },
  {
   "cell_type": "code",
   "execution_count": null,
   "id": "3ca665d7",
   "metadata": {},
   "outputs": [],
   "source": [
    "df=lbc(as_frame=True).frame\n",
    "cn=lbc().target"
   ]
  },
  {
   "cell_type": "code",
   "execution_count": null,
   "id": "c9f7466a",
   "metadata": {},
   "outputs": [],
   "source": [
    "df.shape"
   ]
  },
  {
   "cell_type": "code",
   "execution_count": null,
   "id": "b5918483",
   "metadata": {},
   "outputs": [],
   "source": [
    "df.head()"
   ]
  },
  {
   "cell_type": "code",
   "execution_count": null,
   "id": "0edf8d89",
   "metadata": {},
   "outputs": [],
   "source": [
    "x,y=df.iloc[:,:-1],df.iloc[:,-1]\n",
    "\n",
    "mnx=StandardScaler()\n",
    "x_scl=mnx.fit_transform(x.values)\n"
   ]
  },
  {
   "cell_type": "code",
   "execution_count": null,
   "id": "76ec7c5c",
   "metadata": {},
   "outputs": [],
   "source": [
    "plt.figure(figsize=(3,3))\n",
    "plt.title('Class Distribution')\n",
    "plt.bar([0,1],[357,212],color=['red','yellow'],align='center')\n",
    "plt.xticks([0,1])\n",
    "plt.show()"
   ]
  },
  {
   "cell_type": "code",
   "execution_count": null,
   "id": "16ee178b",
   "metadata": {},
   "outputs": [],
   "source": [
    "pca=PCA(n_components=13)\n",
    "X=pca.fit_transform(x_scl)\n",
    "var = pca.explained_variance_ratio_\n",
    "var1 = np.cumsum(np.round(var,decimals = 4)*100)\n",
    "var1"
   ]
  },
  {
   "cell_type": "code",
   "execution_count": null,
   "id": "53d906e7",
   "metadata": {},
   "outputs": [],
   "source": [
    "plt.plot(var1,color=\"red\")\n",
    "plt.show()"
   ]
  },
  {
   "cell_type": "code",
   "execution_count": null,
   "id": "a9b0ab0f",
   "metadata": {},
   "outputs": [],
   "source": [
    "pca2=PCA(2)\n",
    "viz=pca2.fit_transform(x.values)\n",
    "viz.shape\n",
    "# plt.style.use('seaborn')\n",
    "scatter=plt.scatter(pd.DataFrame(viz)[0],pd.DataFrame(viz)[1],c=cn,alpha=0.3)\n",
    "plt.legend(*scatter.legend_elements(),\n",
    "                    loc=\"upper left\", title=\"Classes\")\n",
    "plt.show()"
   ]
  },
  {
   "cell_type": "code",
   "execution_count": null,
   "id": "1dcbf66d",
   "metadata": {},
   "outputs": [],
   "source": [
    "tsne=TSNE()\n",
    "viz=tsne.fit_transform(x.values)\n",
    "viz.shape\n",
    "# plt.style.use('default')\n",
    "scatter=plt.scatter(pd.DataFrame(viz)[0],pd.DataFrame(viz)[1],c=cn,alpha=0.5)\n",
    "plt.legend(*scatter.legend_elements(),\n",
    "                    loc=\"upper left\", title=\"Classes\")\n",
    "plt.show()"
   ]
  },
  {
   "cell_type": "code",
   "execution_count": null,
   "id": "7a00f3d6",
   "metadata": {},
   "outputs": [],
   "source": [
    "x_tr,x_t,y_tr,y_t=train_test_split(viz,y,test_size=20,random_state=40,shuffle=True)"
   ]
  },
  {
   "cell_type": "code",
   "execution_count": null,
   "id": "f028f097",
   "metadata": {},
   "outputs": [],
   "source": [
    "dtc=DecisionTreeClassifier(criterion='gini',max_depth=4)"
   ]
  },
  {
   "cell_type": "code",
   "execution_count": null,
   "id": "57ee7761",
   "metadata": {},
   "outputs": [],
   "source": [
    "dtc.fit(x_tr,y_tr)"
   ]
  },
  {
   "cell_type": "code",
   "execution_count": null,
   "id": "42d23c36",
   "metadata": {},
   "outputs": [],
   "source": [
    "pred=dtc.predict(x_t)\n",
    "pred"
   ]
  },
  {
   "cell_type": "code",
   "execution_count": null,
   "id": "b49c212c",
   "metadata": {},
   "outputs": [],
   "source": [
    "from sklearn.metrics import classification_report,plot_confusion_matrix,plot_precision_recall_curve"
   ]
  },
  {
   "cell_type": "code",
   "execution_count": null,
   "id": "c4500014",
   "metadata": {},
   "outputs": [],
   "source": [
    "print(classification_report(y_t,pred))"
   ]
  },
  {
   "cell_type": "code",
   "execution_count": null,
   "id": "a66b5c1f",
   "metadata": {},
   "outputs": [],
   "source": [
    "import matplotlib.pyplot as plt\n",
    "plt.rcdefaults()\n",
    "plot_confusion_matrix(dtc,x_t,y_t)\n",
    "plt.show()"
   ]
  },
  {
   "cell_type": "code",
   "execution_count": null,
   "id": "4f6f2802",
   "metadata": {},
   "outputs": [],
   "source": [
    "plt.figure(figsize=(15,15),dpi=500)\n",
    "plot_tree(dtc,filled=True,class_names=['B','M'])\n",
    "plt.savefig(\"Decision_tree.png\")\n",
    "plt.show()"
   ]
  },
  {
   "cell_type": "code",
   "execution_count": null,
   "id": "bad9e19c",
   "metadata": {},
   "outputs": [],
   "source": [
    "plt.plot(dtc.feature_importances_)\n",
    "plt.show()"
   ]
  }
 ],
 "metadata": {
  "kernelspec": {
   "display_name": "Python 3 (ipykernel)",
   "language": "python",
   "name": "python3"
  },
  "language_info": {
   "codemirror_mode": {
    "name": "ipython",
    "version": 3
   },
   "file_extension": ".py",
   "mimetype": "text/x-python",
   "name": "python",
   "nbconvert_exporter": "python",
   "pygments_lexer": "ipython3",
   "version": "3.9.12"
  }
 },
 "nbformat": 4,
 "nbformat_minor": 5
}
