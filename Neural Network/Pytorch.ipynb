{
 "cells": [
  {
   "cell_type": "markdown",
   "id": "4799c18b",
   "metadata": {
    "heading_collapsed": true
   },
   "source": [
    "# 1."
   ]
  },
  {
   "cell_type": "code",
   "execution_count": null,
   "id": "340325ee",
   "metadata": {
    "ExecuteTime": {
     "end_time": "2023-02-09T17:04:33.387772Z",
     "start_time": "2023-02-09T17:04:33.379776Z"
    },
    "hidden": true
   },
   "outputs": [],
   "source": [
    "import torch\n",
    "import numpy as np\n",
    "import torch.nn as nn\n",
    "import torch.optim as optim"
   ]
  },
  {
   "cell_type": "code",
   "execution_count": null,
   "id": "f4ba00ed",
   "metadata": {
    "ExecuteTime": {
     "end_time": "2023-02-09T17:07:23.384614Z",
     "start_time": "2023-02-09T17:07:21.916316Z"
    },
    "hidden": true
   },
   "outputs": [],
   "source": [
    "dataset = np.loadtxt(r\"C:\\Users\\Slmss\\OneDrive\\Desktop\\A.I. Factory\\DataSet-main\\PIMA_INDIANS_DIABETES_CSV_DATASETS-main\\pima-indians-diabetes.csv\", delimiter=',')\n",
    "X = dataset[:,0:8]\n",
    "y = dataset[:,8]"
   ]
  },
  {
   "cell_type": "code",
   "execution_count": null,
   "id": "3809ebd2",
   "metadata": {
    "ExecuteTime": {
     "end_time": "2023-02-09T17:07:39.152676Z",
     "start_time": "2023-02-09T17:07:39.099624Z"
    },
    "hidden": true
   },
   "outputs": [],
   "source": [
    "\n",
    "X = torch.tensor(X, dtype=torch.float32)\n",
    "y = torch.tensor(y, dtype=torch.float32).reshape(-1, 1)"
   ]
  },
  {
   "cell_type": "code",
   "execution_count": null,
   "id": "6925c317",
   "metadata": {
    "ExecuteTime": {
     "end_time": "2023-02-09T17:09:06.266523Z",
     "start_time": "2023-02-09T17:09:06.227236Z"
    },
    "hidden": true
   },
   "outputs": [],
   "source": [
    "model = nn.Sequential(\n",
    "    nn.Linear(8, 12),\n",
    "    nn.ReLU(),\n",
    "    nn.Linear(12, 8),\n",
    "    nn.ReLU(),\n",
    "    nn.Linear(8, 1),\n",
    "    nn.Sigmoid())"
   ]
  },
  {
   "cell_type": "code",
   "execution_count": null,
   "id": "c7ae7458",
   "metadata": {
    "ExecuteTime": {
     "end_time": "2023-02-09T17:09:20.152171Z",
     "start_time": "2023-02-09T17:09:20.136181Z"
    },
    "hidden": true
   },
   "outputs": [],
   "source": [
    "print(model)"
   ]
  },
  {
   "cell_type": "code",
   "execution_count": null,
   "id": "c1fb1a35",
   "metadata": {
    "ExecuteTime": {
     "end_time": "2023-02-09T17:11:12.894977Z",
     "start_time": "2023-02-09T17:11:12.838987Z"
    },
    "hidden": true
   },
   "outputs": [],
   "source": [
    "...\n",
    " \n",
    "class PimaClassifier(nn.Module):\n",
    "    def __init__(self):\n",
    "        super().__init__()\n",
    "        self.hidden1 = nn.Linear(8, 12)\n",
    "        self.act1 = nn.ReLU()\n",
    "        self.hidden2 = nn.Linear(12, 8)\n",
    "        self.act2 = nn.ReLU()\n",
    "        self.output = nn.Linear(8, 1)\n",
    "        self.act_output = nn.Sigmoid()\n",
    " \n",
    "    def forward(self, x):\n",
    "        x = self.act1(self.hidden1(x))\n",
    "        x = self.act2(self.hidden2(x))\n",
    "        x = self.act_output(self.output(x))\n",
    "        return x\n",
    " \n",
    "model = PimaClassifier()\n",
    "print(model)"
   ]
  },
  {
   "cell_type": "code",
   "execution_count": null,
   "id": "0083181d",
   "metadata": {
    "ExecuteTime": {
     "end_time": "2023-02-09T17:11:53.574332Z",
     "start_time": "2023-02-09T17:11:53.550346Z"
    },
    "hidden": true
   },
   "outputs": [],
   "source": [
    "loss_fn   = nn.BCELoss()  # binary cross entropy\n",
    "optimizer = optim.Adam(model.parameters(), lr=0.001)"
   ]
  },
  {
   "cell_type": "code",
   "execution_count": null,
   "id": "120efc27",
   "metadata": {
    "ExecuteTime": {
     "end_time": "2023-02-09T17:13:38.599445Z",
     "start_time": "2023-02-09T17:13:30.840332Z"
    },
    "hidden": true
   },
   "outputs": [],
   "source": [
    "n_epochs = 100\n",
    "batch_size = 10\n",
    " \n",
    "for epoch in range(n_epochs):\n",
    "    for i in range(0, len(X), batch_size):\n",
    "        Xbatch = X[i:i+batch_size]\n",
    "        y_pred = model(Xbatch)\n",
    "        ybatch = y[i:i+batch_size]\n",
    "        loss = loss_fn(y_pred, ybatch)\n",
    "        optimizer.zero_grad()\n",
    "        loss.backward()\n",
    "        optimizer.step()\n",
    "    print(f'Finished epoch {epoch}, latest loss {loss}')"
   ]
  },
  {
   "cell_type": "code",
   "execution_count": null,
   "id": "6ac0f06e",
   "metadata": {
    "ExecuteTime": {
     "end_time": "2023-02-09T17:13:57.426339Z",
     "start_time": "2023-02-09T17:13:57.386363Z"
    },
    "hidden": true
   },
   "outputs": [],
   "source": [
    "\n",
    "# compute accuracy (no_grad is optional)\n",
    "with torch.no_grad():\n",
    "    y_pred = model(X)\n",
    " \n",
    "accuracy = (y_pred.round() == y).float().mean()\n",
    "print(f\"Accuracy {accuracy}\")"
   ]
  },
  {
   "cell_type": "markdown",
   "id": "1edbe95e",
   "metadata": {},
   "source": [
    "# 2."
   ]
  },
  {
   "cell_type": "code",
   "execution_count": 2,
   "id": "e4005537",
   "metadata": {
    "ExecuteTime": {
     "end_time": "2023-02-09T17:17:45.076564Z",
     "start_time": "2023-02-09T17:17:45.044589Z"
    }
   },
   "outputs": [],
   "source": [
    "import numpy as np\n",
    "import torch"
   ]
  },
  {
   "cell_type": "code",
   "execution_count": null,
   "id": "e0bcbe4f",
   "metadata": {},
   "outputs": [],
   "source": []
  },
  {
   "cell_type": "code",
   "execution_count": 34,
   "id": "8757ad43",
   "metadata": {
    "ExecuteTime": {
     "end_time": "2023-02-09T17:37:31.213081Z",
     "start_time": "2023-02-09T17:37:31.189099Z"
    },
    "scrolled": false
   },
   "outputs": [],
   "source": [
    "x=[i for i in range(100)]\n",
    "end=3\n",
    "\n",
    "X,Y=[],[]\n",
    "for i in range(len(x)):\n",
    "    if end>=len(x):\n",
    "        break\n",
    "    X.append(x[i:end])\n",
    "    Y.append(x[end])\n",
    "    end+=1"
   ]
  },
  {
   "cell_type": "code",
   "execution_count": 10,
   "id": "6613bb76",
   "metadata": {
    "ExecuteTime": {
     "end_time": "2023-02-09T17:25:13.896055Z",
     "start_time": "2023-02-09T17:25:13.880270Z"
    }
   },
   "outputs": [
    {
     "name": "stdout",
     "output_type": "stream",
     "text": [
      "X=[0, 1, 2],Y=3\n"
     ]
    }
   ],
   "source": [
    "print(f'X={X[0]},Y={Y[0]}')"
   ]
  },
  {
   "cell_type": "code",
   "execution_count": 35,
   "id": "37710b90",
   "metadata": {
    "ExecuteTime": {
     "end_time": "2023-02-09T17:37:32.833746Z",
     "start_time": "2023-02-09T17:37:32.810285Z"
    }
   },
   "outputs": [],
   "source": [
    "import torch"
   ]
  },
  {
   "cell_type": "code",
   "execution_count": 37,
   "id": "11941332",
   "metadata": {
    "ExecuteTime": {
     "end_time": "2023-02-09T17:37:40.068128Z",
     "start_time": "2023-02-09T17:37:40.044145Z"
    }
   },
   "outputs": [],
   "source": [
    "X_tensor,Y_tensor=torch.tensor(X),torch.tensor(Y)"
   ]
  },
  {
   "cell_type": "code",
   "execution_count": 39,
   "id": "e7da60c3",
   "metadata": {
    "ExecuteTime": {
     "end_time": "2023-02-09T17:39:20.762780Z",
     "start_time": "2023-02-09T17:39:20.746794Z"
    }
   },
   "outputs": [
    {
     "name": "stdout",
     "output_type": "stream",
     "text": [
      "X Tensor:\n",
      "tensor([[0, 1, 2],\n",
      "        [1, 2, 3],\n",
      "        [2, 3, 4],\n",
      "        [3, 4, 5],\n",
      "        [4, 5, 6]])\n",
      "Y Tensor:\n",
      "tensor([3, 4, 5, 6, 7])\n"
     ]
    }
   ],
   "source": [
    "print(f\"X Tensor:\\n{X_tensor[:5]}\\nY Tensor:\\n{Y_tensor[:5]}\")"
   ]
  },
  {
   "cell_type": "code",
   "execution_count": 51,
   "id": "dda04be3",
   "metadata": {
    "ExecuteTime": {
     "end_time": "2023-02-09T17:42:04.822993Z",
     "start_time": "2023-02-09T17:42:04.799014Z"
    },
    "code_folding": [
     0
    ]
   },
   "outputs": [
    {
     "data": {
      "text/plain": [
       "torch.Size([97, 3])"
      ]
     },
     "execution_count": 51,
     "metadata": {},
     "output_type": "execute_result"
    }
   ],
   "source": [
    "X_tensor.shape"
   ]
  },
  {
   "cell_type": "code",
   "execution_count": 53,
   "id": "15da55b2",
   "metadata": {
    "ExecuteTime": {
     "end_time": "2023-02-09T17:42:27.653925Z",
     "start_time": "2023-02-09T17:42:27.635483Z"
    }
   },
   "outputs": [
    {
     "data": {
      "text/plain": [
       "torch.Size([97, 3, 1])"
      ]
     },
     "execution_count": 53,
     "metadata": {},
     "output_type": "execute_result"
    }
   ],
   "source": [
    "X_Shaped_tensor=X_tensor.reshape(97,3,1)\n",
    "X_Shaped_tensor.shape"
   ]
  },
  {
   "cell_type": "code",
   "execution_count": 57,
   "id": "a59834f0",
   "metadata": {
    "ExecuteTime": {
     "end_time": "2023-02-09T17:45:21.033527Z",
     "start_time": "2023-02-09T17:45:21.003417Z"
    },
    "collapsed": true
   },
   "outputs": [
    {
     "name": "stdout",
     "output_type": "stream",
     "text": [
      "Help on built-in function arange in module torch:\n",
      "\n",
      "arange(...)\n",
      "    arange(start=0, end, step=1, *, out=None, dtype=None, layout=torch.strided, device=None, requires_grad=False) -> Tensor\n",
      "    \n",
      "    Returns a 1-D tensor of size :math:`\\left\\lceil \\frac{\\text{end} - \\text{start}}{\\text{step}} \\right\\rceil`\n",
      "    with values from the interval ``[start, end)`` taken with common difference\n",
      "    :attr:`step` beginning from `start`.\n",
      "    \n",
      "    Note that non-integer :attr:`step` is subject to floating point rounding errors when\n",
      "    comparing against :attr:`end`; to avoid inconsistency, we advise adding a small epsilon to :attr:`end`\n",
      "    in such cases.\n",
      "    \n",
      "    .. math::\n",
      "        \\text{out}_{{i+1}} = \\text{out}_{i} + \\text{step}\n",
      "    \n",
      "    Args:\n",
      "        start (Number): the starting value for the set of points. Default: ``0``.\n",
      "        end (Number): the ending value for the set of points\n",
      "        step (Number): the gap between each pair of adjacent points. Default: ``1``.\n",
      "    \n",
      "    Keyword args:\n",
      "        out (Tensor, optional): the output tensor.\n",
      "        dtype (:class:`torch.dtype`, optional): the desired data type of returned tensor.\n",
      "            Default: if ``None``, uses a global default (see :func:`torch.set_default_tensor_type`). If `dtype` is not given, infer the data type from the other input\n",
      "            arguments. If any of `start`, `end`, or `stop` are floating-point, the\n",
      "            `dtype` is inferred to be the default dtype, see\n",
      "            :meth:`~torch.get_default_dtype`. Otherwise, the `dtype` is inferred to\n",
      "            be `torch.int64`.\n",
      "        layout (:class:`torch.layout`, optional): the desired layout of returned Tensor.\n",
      "            Default: ``torch.strided``.\n",
      "        device (:class:`torch.device`, optional): the desired device of returned tensor.\n",
      "            Default: if ``None``, uses the current device for the default tensor type\n",
      "            (see :func:`torch.set_default_tensor_type`). :attr:`device` will be the CPU\n",
      "            for CPU tensor types and the current CUDA device for CUDA tensor types.\n",
      "        requires_grad (bool, optional): If autograd should record operations on the\n",
      "            returned tensor. Default: ``False``.\n",
      "    \n",
      "    Example::\n",
      "    \n",
      "        >>> torch.arange(5)\n",
      "        tensor([ 0,  1,  2,  3,  4])\n",
      "        >>> torch.arange(1, 4)\n",
      "        tensor([ 1,  2,  3])\n",
      "        >>> torch.arange(1, 2.5, 0.5)\n",
      "        tensor([ 1.0000,  1.5000,  2.0000])\n",
      "\n"
     ]
    }
   ],
   "source": [
    "help(torch.arange)"
   ]
  },
  {
   "cell_type": "code",
   "execution_count": 59,
   "id": "f127f0b3",
   "metadata": {
    "ExecuteTime": {
     "end_time": "2023-02-09T17:46:35.642355Z",
     "start_time": "2023-02-09T17:46:35.618371Z"
    }
   },
   "outputs": [
    {
     "data": {
      "text/plain": [
       "tensor([1, 2, 3, 4, 5, 6, 7, 8, 9])"
      ]
     },
     "execution_count": 59,
     "metadata": {},
     "output_type": "execute_result"
    }
   ],
   "source": [
    "torch.arange(1,10)"
   ]
  },
  {
   "cell_type": "code",
   "execution_count": 65,
   "id": "1f840dbe",
   "metadata": {
    "ExecuteTime": {
     "end_time": "2023-02-09T17:48:44.276330Z",
     "start_time": "2023-02-09T17:48:44.260307Z"
    }
   },
   "outputs": [
    {
     "data": {
      "text/plain": [
       "tensor([0., 0., 0., 0., 0., 0., 0., 0., 0., 0., 0., 0., 0., 0., 0., 0., 0., 0., 0., 0., 0., 0., 0., 0.,\n",
       "        0., 0., 0., 0., 0., 0., 0., 0., 0., 0., 0., 0., 0., 0., 0., 0., 0., 0., 0., 0., 0., 0., 0., 0.,\n",
       "        0., 0., 0., 0., 0., 0., 0., 0., 0., 0., 0., 0., 0., 0., 0., 0., 0., 0., 0., 0., 0., 0., 0., 0.,\n",
       "        0., 0., 0., 0., 0., 0., 0., 0., 0., 0., 0., 0., 0., 0., 0., 0., 0., 0., 0., 0., 0., 0., 0., 0.,\n",
       "        0., 0., 0., 0.])"
      ]
     },
     "execution_count": 65,
     "metadata": {},
     "output_type": "execute_result"
    }
   ],
   "source": [
    "torch.zeros(100)"
   ]
  },
  {
   "cell_type": "code",
   "execution_count": 69,
   "id": "8dd0637a",
   "metadata": {
    "ExecuteTime": {
     "end_time": "2023-02-09T17:50:18.914840Z",
     "start_time": "2023-02-09T17:50:18.890854Z"
    }
   },
   "outputs": [
    {
     "name": "stdout",
     "output_type": "stream",
     "text": [
      "Help on built-in function binomial in module torch:\n",
      "\n",
      "binomial(...)\n",
      "\n"
     ]
    }
   ],
   "source": [
    "help(torch.binomial)"
   ]
  },
  {
   "cell_type": "code",
   "execution_count": 76,
   "id": "e8a358e0",
   "metadata": {
    "ExecuteTime": {
     "end_time": "2023-02-09T17:56:19.252787Z",
     "start_time": "2023-02-09T17:56:19.228803Z"
    },
    "scrolled": false
   },
   "outputs": [
    {
     "name": "stdout",
     "output_type": "stream",
     "text": [
      "tensor([50., 33., 82.])\n"
     ]
    }
   ],
   "source": [
    "import torch\n",
    "\n",
    "import warnings\n",
    "warnings.filterwarnings('ignore')\n",
    "\n",
    "# Define the probability of success for each trial\n",
    "prob = torch.tensor([0.5, 0.3, 0.8], dtype=torch.float32)\n",
    "\n",
    "# Define the number of trials as a tensor\n",
    "n = torch.tensor(100, dtype=torch.float32)\n",
    "\n",
    "# Generate random numbers from a binomial distribution\n",
    "samples = torch.binomial(n, prob)\n",
    "\n",
    "print(samples)\n"
   ]
  },
  {
   "cell_type": "code",
   "execution_count": null,
   "id": "1271a1f3",
   "metadata": {
    "ExecuteTime": {
     "end_time": "2023-02-09T17:57:31.593358Z",
     "start_time": "2023-02-09T17:57:31.563266Z"
    }
   },
   "outputs": [],
   "source": []
  }
 ],
 "metadata": {
  "kernelspec": {
   "display_name": "Python 3 (ipykernel)",
   "language": "python",
   "name": "python3"
  },
  "language_info": {
   "codemirror_mode": {
    "name": "ipython",
    "version": 3
   },
   "file_extension": ".py",
   "mimetype": "text/x-python",
   "name": "python",
   "nbconvert_exporter": "python",
   "pygments_lexer": "ipython3",
   "version": "3.10.9"
  }
 },
 "nbformat": 4,
 "nbformat_minor": 5
}
