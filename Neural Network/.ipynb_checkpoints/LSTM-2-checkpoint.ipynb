{
 "cells": [
  {
   "cell_type": "code",
   "execution_count": null,
   "id": "0e7ed179",
   "metadata": {
    "ExecuteTime": {
     "start_time": "2022-12-30T18:22:23.182Z"
    }
   },
   "outputs": [],
   "source": [
    "from keras.models import Sequential\n",
    "from keras.layers import Dense,LSTM\n",
    "\n",
    "import numpy as np"
   ]
  },
  {
   "cell_type": "code",
   "execution_count": null,
   "id": "065ff4cd",
   "metadata": {
    "ExecuteTime": {
     "start_time": "2022-12-30T18:22:23.187Z"
    }
   },
   "outputs": [],
   "source": [
    "x=[i for i in range(1000)]\n",
    "X=[]\n",
    "Y=[]\n",
    "end=3\n",
    "\n",
    "for i in range(len(x)):\n",
    "    \n",
    "    if end>len(x):break\n",
    "    X.append(x[i:end])\n",
    "    Y.append(x[end:end+2])\n",
    "    end+=1\n",
    "    \n",
    "x=len(Y)\n",
    "for i in range(x):\n",
    "#     print(i)\n",
    "    if len(Y[-1])!=2:\n",
    "        print(-i)\n",
    "        Y.pop(-1)\n",
    "        X.pop(-1)"
   ]
  },
  {
   "cell_type": "code",
   "execution_count": null,
   "id": "40b04c5d",
   "metadata": {
    "ExecuteTime": {
     "start_time": "2022-12-30T18:22:23.190Z"
    }
   },
   "outputs": [],
   "source": [
    "x_arr=np.array(X)#.reshape(996, 3,1)\n",
    "y_arr=np.array(Y)\n",
    "x_arr.shape"
   ]
  },
  {
   "cell_type": "code",
   "execution_count": null,
   "id": "6dcfee65",
   "metadata": {
    "ExecuteTime": {
     "start_time": "2022-12-30T18:22:23.196Z"
    }
   },
   "outputs": [],
   "source": [
    "nn=Sequential(name='dummy')\n",
    "# nn.add(LSTM(2,input_shape=(3,1),name=\"LSTM\",return_sequences=True))\n",
    "nn.add(Dense(200,name=\"Input\",input_shape=(3,),activation='relu'))\n",
    "# nn.add(Dense(200,name=\"Hidden2\"))\n",
    "nn.add(Dense(2,name='output'))\n",
    "nn.compile(optimizer='adam',loss='mse')\n",
    "nn.summary()"
   ]
  },
  {
   "cell_type": "code",
   "execution_count": null,
   "id": "09103dc8",
   "metadata": {
    "ExecuteTime": {
     "start_time": "2022-12-30T18:22:23.198Z"
    }
   },
   "outputs": [],
   "source": [
    "hist=nn.fit(x_arr,y_arr,epochs=1000)"
   ]
  },
  {
   "cell_type": "code",
   "execution_count": null,
   "id": "03f03849",
   "metadata": {
    "ExecuteTime": {
     "start_time": "2022-12-30T18:22:23.203Z"
    }
   },
   "outputs": [],
   "source": [
    "import matplotlib.pyplot as plt\n",
    "plt.plot(hist.history['loss'])\n",
    "plt.xlim(10)\n",
    "plt.ylim(0,20)"
   ]
  },
  {
   "cell_type": "code",
   "execution_count": null,
   "id": "ebdc6e86",
   "metadata": {
    "ExecuteTime": {
     "start_time": "2022-12-30T18:22:23.207Z"
    }
   },
   "outputs": [],
   "source": [
    "pred=nn.predict(np.array([[9999,10000,10001]]))"
   ]
  },
  {
   "cell_type": "code",
   "execution_count": null,
   "id": "5700a365",
   "metadata": {
    "ExecuteTime": {
     "start_time": "2022-12-30T18:22:23.210Z"
    }
   },
   "outputs": [],
   "source": [
    "np.floor(pred)"
   ]
  },
  {
   "cell_type": "code",
   "execution_count": null,
   "id": "e18dbeff",
   "metadata": {},
   "outputs": [],
   "source": []
  },
  {
   "cell_type": "code",
   "execution_count": null,
   "id": "a1d26149",
   "metadata": {},
   "outputs": [],
   "source": []
  },
  {
   "cell_type": "code",
   "execution_count": null,
   "id": "afda44bf",
   "metadata": {},
   "outputs": [],
   "source": []
  },
  {
   "cell_type": "code",
   "execution_count": null,
   "id": "8db143a3",
   "metadata": {},
   "outputs": [],
   "source": []
  },
  {
   "cell_type": "code",
   "execution_count": null,
   "id": "61a2f8d9",
   "metadata": {},
   "outputs": [],
   "source": []
  },
  {
   "cell_type": "code",
   "execution_count": null,
   "id": "525c9072",
   "metadata": {},
   "outputs": [],
   "source": []
  },
  {
   "cell_type": "code",
   "execution_count": null,
   "id": "50ef94d4",
   "metadata": {},
   "outputs": [],
   "source": []
  }
 ],
 "metadata": {
  "kernelspec": {
   "display_name": "Python 3 (ipykernel)",
   "language": "python",
   "name": "python3"
  },
  "language_info": {
   "codemirror_mode": {
    "name": "ipython",
    "version": 3
   },
   "file_extension": ".py",
   "mimetype": "text/x-python",
   "name": "python",
   "nbconvert_exporter": "python",
   "pygments_lexer": "ipython3",
   "version": "3.9.13"
  }
 },
 "nbformat": 4,
 "nbformat_minor": 5
}
