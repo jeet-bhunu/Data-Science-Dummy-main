{
 "cells": [
  {
   "cell_type": "markdown",
   "id": "f789f0cf",
   "metadata": {
    "heading_collapsed": true
   },
   "source": [
    "# 1."
   ]
  },
  {
   "cell_type": "code",
   "execution_count": null,
   "id": "3c61ba38",
   "metadata": {
    "ExecuteTime": {
     "end_time": "2023-02-09T17:04:33.387772Z",
     "start_time": "2023-02-09T17:04:33.379776Z"
    },
    "hidden": true
   },
   "outputs": [],
   "source": [
    "import torch\n",
    "import numpy as np\n",
    "import torch.nn as nn\n",
    "import torch.optim as optim"
   ]
  },
  {
   "cell_type": "code",
   "execution_count": null,
   "id": "ce9d8767",
   "metadata": {
    "ExecuteTime": {
     "end_time": "2023-02-09T17:07:23.384614Z",
     "start_time": "2023-02-09T17:07:21.916316Z"
    },
    "hidden": true
   },
   "outputs": [],
   "source": [
    "dataset = np.loadtxt(r\"C:\\Users\\Slmss\\OneDrive\\Desktop\\A.I. Factory\\DataSet-main\\PIMA_INDIANS_DIABETES_CSV_DATASETS-main\\pima-indians-diabetes.csv\", delimiter=',')\n",
    "X = dataset[:,0:8]\n",
    "y = dataset[:,8]"
   ]
  },
  {
   "cell_type": "code",
   "execution_count": null,
   "id": "71c84434",
   "metadata": {
    "ExecuteTime": {
     "end_time": "2023-02-09T17:07:39.152676Z",
     "start_time": "2023-02-09T17:07:39.099624Z"
    },
    "hidden": true
   },
   "outputs": [],
   "source": [
    "\n",
    "X = torch.tensor(X, dtype=torch.float32)\n",
    "y = torch.tensor(y, dtype=torch.float32).reshape(-1, 1)"
   ]
  },
  {
   "cell_type": "code",
   "execution_count": null,
   "id": "01f25e5b",
   "metadata": {
    "ExecuteTime": {
     "end_time": "2023-02-09T17:09:06.266523Z",
     "start_time": "2023-02-09T17:09:06.227236Z"
    },
    "hidden": true
   },
   "outputs": [],
   "source": [
    "model = nn.Sequential(\n",
    "    nn.Linear(8, 12),\n",
    "    nn.ReLU(),\n",
    "    nn.Linear(12, 8),\n",
    "    nn.ReLU(),\n",
    "    nn.Linear(8, 1),\n",
    "    nn.Sigmoid())"
   ]
  },
  {
   "cell_type": "code",
   "execution_count": null,
   "id": "d75051a5",
   "metadata": {
    "ExecuteTime": {
     "end_time": "2023-02-09T17:09:20.152171Z",
     "start_time": "2023-02-09T17:09:20.136181Z"
    },
    "hidden": true
   },
   "outputs": [],
   "source": [
    "print(model)"
   ]
  },
  {
   "cell_type": "code",
   "execution_count": null,
   "id": "efc3a4c9",
   "metadata": {
    "ExecuteTime": {
     "end_time": "2023-02-09T17:11:12.894977Z",
     "start_time": "2023-02-09T17:11:12.838987Z"
    },
    "hidden": true
   },
   "outputs": [],
   "source": [
    "...\n",
    " \n",
    "class PimaClassifier(nn.Module):\n",
    "    def __init__(self):\n",
    "        super().__init__()\n",
    "        self.hidden1 = nn.Linear(8, 12)\n",
    "        self.act1 = nn.ReLU()\n",
    "        self.hidden2 = nn.Linear(12, 8)\n",
    "        self.act2 = nn.ReLU()\n",
    "        self.output = nn.Linear(8, 1)\n",
    "        self.act_output = nn.Sigmoid()\n",
    " \n",
    "    def forward(self, x):\n",
    "        x = self.act1(self.hidden1(x))\n",
    "        x = self.act2(self.hidden2(x))\n",
    "        x = self.act_output(self.output(x))\n",
    "        return x\n",
    " \n",
    "model = PimaClassifier()\n",
    "print(model)"
   ]
  },
  {
   "cell_type": "code",
   "execution_count": null,
   "id": "2b0ca07b",
   "metadata": {
    "ExecuteTime": {
     "end_time": "2023-02-09T17:11:53.574332Z",
     "start_time": "2023-02-09T17:11:53.550346Z"
    },
    "hidden": true
   },
   "outputs": [],
   "source": [
    "loss_fn   = nn.BCELoss()  # binary cross entropy\n",
    "optimizer = optim.Adam(model.parameters(), lr=0.001)"
   ]
  },
  {
   "cell_type": "code",
   "execution_count": null,
   "id": "40fdb751",
   "metadata": {
    "ExecuteTime": {
     "end_time": "2023-02-09T17:13:38.599445Z",
     "start_time": "2023-02-09T17:13:30.840332Z"
    },
    "hidden": true
   },
   "outputs": [],
   "source": [
    "n_epochs = 100\n",
    "batch_size = 10\n",
    " \n",
    "for epoch in range(n_epochs):\n",
    "    for i in range(0, len(X), batch_size):\n",
    "        Xbatch = X[i:i+batch_size]\n",
    "        y_pred = model(Xbatch)\n",
    "        ybatch = y[i:i+batch_size]\n",
    "        loss = loss_fn(y_pred, ybatch)\n",
    "        optimizer.zero_grad()\n",
    "        loss.backward()\n",
    "        optimizer.step()\n",
    "    print(f'Finished epoch {epoch}, latest loss {loss}')"
   ]
  },
  {
   "cell_type": "code",
   "execution_count": null,
   "id": "0e8b474b",
   "metadata": {
    "ExecuteTime": {
     "end_time": "2023-02-09T17:13:57.426339Z",
     "start_time": "2023-02-09T17:13:57.386363Z"
    },
    "hidden": true
   },
   "outputs": [],
   "source": [
    "\n",
    "# compute accuracy (no_grad is optional)\n",
    "with torch.no_grad():\n",
    "    y_pred = model(X)\n",
    " \n",
    "accuracy = (y_pred.round() == y).float().mean()\n",
    "print(f\"Accuracy {accuracy}\")"
   ]
  },
  {
   "cell_type": "markdown",
   "id": "600fc03e",
   "metadata": {},
   "source": [
    "# 2."
   ]
  },
  {
   "cell_type": "code",
   "execution_count": 2,
   "id": "caf74487",
   "metadata": {
    "ExecuteTime": {
     "end_time": "2023-02-09T17:17:45.076564Z",
     "start_time": "2023-02-09T17:17:45.044589Z"
    }
   },
   "outputs": [],
   "source": [
    "import numpy as np\n",
    "import torch"
   ]
  },
  {
   "cell_type": "code",
   "execution_count": null,
   "id": "212356e6",
   "metadata": {},
   "outputs": [],
   "source": []
  },
  {
   "cell_type": "code",
   "execution_count": 34,
   "id": "0aae674d",
   "metadata": {
    "ExecuteTime": {
     "end_time": "2023-02-09T17:37:31.213081Z",
     "start_time": "2023-02-09T17:37:31.189099Z"
    },
    "scrolled": false
   },
   "outputs": [],
   "source": [
    "x=[i for i in range(100)]\n",
    "end=3\n",
    "\n",
    "X,Y=[],[]\n",
    "for i in range(len(x)):\n",
    "    if end>=len(x):\n",
    "        break\n",
    "    X.append(x[i:end])\n",
    "    Y.append(x[end])\n",
    "    end+=1"
   ]
  },
  {
   "cell_type": "code",
   "execution_count": 10,
   "id": "5f827a9b",
   "metadata": {
    "ExecuteTime": {
     "end_time": "2023-02-09T17:25:13.896055Z",
     "start_time": "2023-02-09T17:25:13.880270Z"
    }
   },
   "outputs": [
    {
     "name": "stdout",
     "output_type": "stream",
     "text": [
      "X=[0, 1, 2],Y=3\n"
     ]
    }
   ],
   "source": [
    "print(f'X={X[0]},Y={Y[0]}')"
   ]
  },
  {
   "cell_type": "code",
   "execution_count": 35,
   "id": "633e4ac6",
   "metadata": {
    "ExecuteTime": {
     "end_time": "2023-02-09T17:37:32.833746Z",
     "start_time": "2023-02-09T17:37:32.810285Z"
    }
   },
   "outputs": [],
   "source": [
    "import torch"
   ]
  },
  {
   "cell_type": "code",
   "execution_count": 37,
   "id": "fe8c3ade",
   "metadata": {
    "ExecuteTime": {
     "end_time": "2023-02-09T17:37:40.068128Z",
     "start_time": "2023-02-09T17:37:40.044145Z"
    }
   },
   "outputs": [],
   "source": [
    "X_tensor,Y_tensor=torch.tensor(X),torch.tensor(Y)"
   ]
  },
  {
   "cell_type": "code",
   "execution_count": 39,
   "id": "e217f10f",
   "metadata": {
    "ExecuteTime": {
     "end_time": "2023-02-09T17:39:20.762780Z",
     "start_time": "2023-02-09T17:39:20.746794Z"
    }
   },
   "outputs": [
    {
     "name": "stdout",
     "output_type": "stream",
     "text": [
      "X Tensor:\n",
      "tensor([[0, 1, 2],\n",
      "        [1, 2, 3],\n",
      "        [2, 3, 4],\n",
      "        [3, 4, 5],\n",
      "        [4, 5, 6]])\n",
      "Y Tensor:\n",
      "tensor([3, 4, 5, 6, 7])\n"
     ]
    }
   ],
   "source": [
    "print(f\"X Tensor:\\n{X_tensor[:5]}\\nY Tensor:\\n{Y_tensor[:5]}\")"
   ]
  },
  {
   "cell_type": "code",
   "execution_count": 45,
   "id": "d9c9218e",
   "metadata": {
    "ExecuteTime": {
     "end_time": "2023-02-09T17:41:12.857877Z",
     "start_time": "2023-02-09T17:41:12.795062Z"
    },
    "code_folding": [
     0
    ]
   },
   "outputs": [
    {
     "ename": "AttributeError",
     "evalue": "'Tensor' object has no attribute 'forward'",
     "output_type": "error",
     "traceback": [
      "\u001b[1;31m---------------------------------------------------------------------------\u001b[0m",
      "\u001b[1;31mAttributeError\u001b[0m                            Traceback (most recent call last)",
      "Cell \u001b[1;32mIn[45], line 1\u001b[0m\n\u001b[1;32m----> 1\u001b[0m \u001b[43mX_tensor\u001b[49m\u001b[38;5;241;43m.\u001b[39;49m\u001b[43mforward\u001b[49m()\n",
      "\u001b[1;31mAttributeError\u001b[0m: 'Tensor' object has no attribute 'forward'"
     ]
    }
   ],
   "source": [
    "X_tensor."
   ]
  }
 ],
 "metadata": {
  "kernelspec": {
   "display_name": "Python 3 (ipykernel)",
   "language": "python",
   "name": "python3"
  },
  "language_info": {
   "codemirror_mode": {
    "name": "ipython",
    "version": 3
   },
   "file_extension": ".py",
   "mimetype": "text/x-python",
   "name": "python",
   "nbconvert_exporter": "python",
   "pygments_lexer": "ipython3",
   "version": "3.10.9"
  }
 },
 "nbformat": 4,
 "nbformat_minor": 5
}
