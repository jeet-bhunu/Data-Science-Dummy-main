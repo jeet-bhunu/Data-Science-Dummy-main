{
 "cells": [
  {
   "cell_type": "code",
   "execution_count": null,
   "id": "14c6b487",
   "metadata": {
    "ExecuteTime": {
     "start_time": "2022-12-28T19:03:19.565Z"
    }
   },
   "outputs": [],
   "source": [
    "from keras.models import Sequential\n",
    "from keras.layers import LSTM,Dense\n",
    "\n",
    "import numpy as np"
   ]
  },
  {
   "cell_type": "code",
   "execution_count": null,
   "id": "02532542",
   "metadata": {
    "ExecuteTime": {
     "start_time": "2022-12-28T19:03:19.569Z"
    }
   },
   "outputs": [],
   "source": [
    "# Generate Data\n",
    "data=[i for i in range(1000)]\n",
    "data[:5]\n",
    "\n",
    "# Create Empy list X&Y\n",
    "X=[]\n",
    "Y=[]\n",
    "\n",
    "end=3 #Lags to be considered\n",
    "\n",
    "for i in range(len(data)):\n",
    "    end+=1\n",
    "    if end>len(data):break\n",
    "    X.append(data[i:end])\n",
    "    Y.append(data[end:end+2]) #end+2 to predict two steps in future\n",
    "\n",
    "# To make sure X and Y are of same size\n",
    "for i in range(len(Y)):\n",
    "    if len(Y[i])<2:\n",
    "        Y.pop(i)\n",
    "        X.pop(i)"
   ]
  },
  {
   "cell_type": "code",
   "execution_count": null,
   "id": "c69a9932",
   "metadata": {
    "ExecuteTime": {
     "start_time": "2022-12-28T19:03:19.572Z"
    }
   },
   "outputs": [],
   "source": [
    "x_arr=np.array(X).reshape(996, 4,1)\n",
    "x_arr.shape"
   ]
  },
  {
   "cell_type": "code",
   "execution_count": null,
   "id": "fe39b49c",
   "metadata": {
    "ExecuteTime": {
     "start_time": "2022-12-28T19:03:19.575Z"
    }
   },
   "outputs": [],
   "source": [
    "y_arr=np.array(Y)\n",
    "y_arr.shape"
   ]
  },
  {
   "cell_type": "code",
   "execution_count": null,
   "id": "7e2fba39",
   "metadata": {
    "ExecuteTime": {
     "start_time": "2022-12-28T19:03:19.578Z"
    }
   },
   "outputs": [],
   "source": [
    "nn=Sequential(name='Test',)\n",
    "nn.add(LSTM(5,input_shape=(4, 1)))\n",
    "nn.add(Dense(2))\n",
    "nn.compile(optimizer='adam',loss='mse')\n",
    "nn.summary()"
   ]
  },
  {
   "cell_type": "code",
   "execution_count": null,
   "id": "a7c664d1",
   "metadata": {
    "ExecuteTime": {
     "start_time": "2022-12-28T19:03:19.580Z"
    }
   },
   "outputs": [],
   "source": [
    "nn.fit(x_arr,y_arr,epochs=10)"
   ]
  }
 ],
 "metadata": {
  "kernelspec": {
   "display_name": "Python 3 (ipykernel)",
   "language": "python",
   "name": "python3"
  },
  "language_info": {
   "codemirror_mode": {
    "name": "ipython",
    "version": 3
   },
   "file_extension": ".py",
   "mimetype": "text/x-python",
   "name": "python",
   "nbconvert_exporter": "python",
   "pygments_lexer": "ipython3",
   "version": "3.9.13"
  }
 },
 "nbformat": 4,
 "nbformat_minor": 5
}
