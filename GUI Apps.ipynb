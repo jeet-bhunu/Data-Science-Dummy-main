{
 "cells": [
  {
   "cell_type": "code",
   "execution_count": 1,
   "id": "f83e6bce",
   "metadata": {
    "ExecuteTime": {
     "end_time": "2023-01-31T05:06:48.050842Z",
     "start_time": "2023-01-31T05:06:48.029926Z"
    }
   },
   "outputs": [
    {
     "data": {
      "text/html": [
       "<div id=\"calculator\">\n",
       "  <input type=\"text\" id=\"display\">\n",
       "  <br>\n",
       "  <button onclick=\"display.value+='1'\">1</button>\n",
       "  <button onclick=\"display.value+='2'\">2</button>\n",
       "  <button onclick=\"display.value+='3'\">3</button>\n",
       "  <button onclick=\"display.value+='+'\">+</button>\n",
       "  <br>\n",
       "  <button onclick=\"display.value+='4'\">4</button>\n",
       "  <button onclick=\"display.value+='5'\">5</button>\n",
       "  <button onclick=\"display.value+='6'\">6</button>\n",
       "  <button onclick=\"display.value+='-'\">-</button>\n",
       "  <br>\n",
       "  <button onclick=\"display.value+='7'\">7</button>\n",
       "  <button onclick=\"display.value+='8'\">8</button>\n",
       "  <button onclick=\"display.value+='9'\">9</button>\n",
       "  <button onclick=\"display.value+='*'\">*</button>\n",
       "  <br>\n",
       "  <button onclick=\"display.value+='.'\">.</button>\n",
       "  <button onclick=\"display.value+='0'\">0</button>\n",
       "  <button onclick=\"display.value=eval(display.value)\">=</button>\n",
       "  <button onclick=\"display.value+='/'\">/</button>\n",
       "  <br>\n",
       "  <button onclick=\"display.value=''\">C</button>\n",
       "</div>\n"
      ],
      "text/plain": [
       "<IPython.core.display.HTML object>"
      ]
     },
     "metadata": {},
     "output_type": "display_data"
    }
   ],
   "source": [
    "%%html\n",
    "<div id=\"calculator\">\n",
    "  <input type=\"text\" id=\"display\">\n",
    "  <br>\n",
    "  <button onclick=\"display.value+='1'\">1</button>\n",
    "  <button onclick=\"display.value+='2'\">2</button>\n",
    "  <button onclick=\"display.value+='3'\">3</button>\n",
    "  <button onclick=\"display.value+='+'\">+</button>\n",
    "  <br>\n",
    "  <button onclick=\"display.value+='4'\">4</button>\n",
    "  <button onclick=\"display.value+='5'\">5</button>\n",
    "  <button onclick=\"display.value+='6'\">6</button>\n",
    "  <button onclick=\"display.value+='-'\">-</button>\n",
    "  <br>\n",
    "  <button onclick=\"display.value+='7'\">7</button>\n",
    "  <button onclick=\"display.value+='8'\">8</button>\n",
    "  <button onclick=\"display.value+='9'\">9</button>\n",
    "  <button onclick=\"display.value+='*'\">*</button>\n",
    "  <br>\n",
    "  <button onclick=\"display.value+='.'\">.</button>\n",
    "  <button onclick=\"display.value+='0'\">0</button>\n",
    "  <button onclick=\"display.value=eval(display.value)\">=</button>\n",
    "  <button onclick=\"display.value+='/'\">/</button>\n",
    "  <br>\n",
    "  <button onclick=\"display.value=''\">C</button>\n",
    "</div>\n"
   ]
  },
  {
   "cell_type": "code",
   "execution_count": 2,
   "id": "9b9a0262",
   "metadata": {
    "ExecuteTime": {
     "end_time": "2023-01-31T05:06:54.878220Z",
     "start_time": "2023-01-31T05:06:53.889038Z"
    }
   },
   "outputs": [
    {
     "name": "stdout",
     "output_type": "stream",
     "text": [
      "pygame 2.1.2 (SDL 2.0.18, Python 3.9.13)\n",
      "Hello from the pygame community. https://www.pygame.org/contribute.html\n"
     ]
    }
   ],
   "source": [
    "import pygame\n",
    "import time\n",
    "import random\n",
    "\n",
    "# Initialize pygame\n",
    "pygame.init()\n",
    "\n",
    "# Set the dimensions of the screen [width, height]\n",
    "size = (700, 500)\n",
    "screen = pygame.display.set_mode(size)\n",
    "\n",
    "pygame.display.set_caption(\"Snake Game\")\n",
    "\n",
    "# Loop until the user clicks the close button\n",
    "done = False\n",
    "\n",
    "# Used to manage how fast the screen updates\n",
    "clock = pygame.time.Clock()\n",
    "\n",
    "# Colors\n",
    "black = (0, 0, 0)\n",
    "white = (255, 255, 255)\n",
    "red = (255, 0, 0)\n",
    "\n",
    "# Snake block size\n",
    "block_size = 10\n",
    "\n",
    "# Font for displaying score\n",
    "font_style = pygame.font.SysFont(None, 50)\n",
    "\n",
    "# Create an initial snake\n",
    "snake = []\n",
    "for i in range(5):\n",
    "    x = 250 - (block_size * i)\n",
    "    y = 250\n",
    "    snake.append([x, y])\n",
    "\n",
    "# Create initial apple\n",
    "apple = [random.randint(0, size[0] // block_size - 1) * block_size,\n",
    "         random.randint(0, size[1] // block_size - 1) * block_size]\n",
    "\n",
    "# Initial movement\n",
    "direction = None\n",
    "\n",
    "# Initial score\n",
    "score = 0\n",
    "\n",
    "# Game loop\n",
    "while not done:\n",
    "    # --- Main event loop\n",
    "    for event in pygame.event.get():\n",
    "        if event.type == pygame.QUIT:\n",
    "            done = True\n",
    "        elif event.type == pygame.KEYDOWN:\n",
    "            if event.key == pygame.K_LEFT and direction != \"right\":\n",
    "                direction = \"left\"\n",
    "            elif event.key == pygame.K_RIGHT and direction != \"left\":\n",
    "                direction = \"right\"\n",
    "            elif event.key == pygame.K_UP and direction != \"down\":\n",
    "                direction = \"up\"\n",
    "            elif event.key == pygame.K_DOWN and direction != \"up\":\n",
    "                direction = \"down\"\n",
    "\n",
    "    # --- Game logic should go here\n",
    "    # Move the snake\n",
    "    if direction == \"right\":\n",
    "        snake[0][0] += block_size\n",
    "    elif direction == \"left\":\n",
    "        snake[0][0] -= block_size\n",
    "    elif direction == \"up\":\n",
    "        snake[0][1] -= block_size\n",
    "    elif direction == \"down\":\n",
    "        snake[0][1] += block_size\n",
    "\n",
    "    # Check for collision with the apple\n",
    "    if snake[0][0] == apple[0] and snake[0][1] == apple[1]:\n",
    "        apple = [random.randint(0, size[0] // block_size - 1) * block_size,\n",
    "                 random.randint(0, size[1] // block_size - 1) * block_size]\n",
    "        score += 1\n",
    "    else:\n",
    "        snake.pop()\n",
    "    if snake[0][0] >= size[0] or snake[0][0] < 0 or snake[0][1] >= size[1] or snake[0][1] < 0:\n",
    "        done = True\n",
    "    else:\n",
    "        for block in snake[1:]:\n",
    "            if snake[0][0] == block[0] and snake[0][1] == block[1]:\n",
    "                done = True\n",
    "\n",
    "    # Update snake by inserting new block at the beginning\n",
    "    new_block = [snake[0][0], snake[0][1]]\n",
    "    snake.insert(0, new_block)\n",
    "\n",
    "    # --- Drawing code should go here\n",
    "    # Clear the screen\n",
    "    screen.fill(black)\n",
    "\n",
    "    # Draw the snake\n",
    "    for block in snake:\n",
    "        pygame.draw.rect(screen, white, [block[0], block[1], block_size, block_size])\n",
    "\n",
    "    # Draw the apple\n",
    "    pygame.draw.rect(screen, red, [apple[0], apple[1], block_size, block_size])\n",
    "\n",
    "    # Draw the score\n",
    "    score_text = font_style.render(\"Score: \" + str(score), True, white)\n",
    "    screen.blit(score_text, [0, 0])\n",
    "\n",
    "    # --- Go ahead and update the screen.\n",
    "    pygame.display.flip()\n",
    "\n",
    "    # --- Limit to 60 frames per second\n",
    "    clock.tick(60)\n",
    "\n"
   ]
  },
  {
   "cell_type": "code",
   "execution_count": 1,
   "id": "d3f0595b",
   "metadata": {
    "ExecuteTime": {
     "end_time": "2023-01-17T08:01:58.964565Z",
     "start_time": "2023-01-17T08:01:58.725540Z"
    }
   },
   "outputs": [
    {
     "ename": "NameError",
     "evalue": "name 'hkj' is not defined",
     "output_type": "error",
     "traceback": [
      "\u001b[1;31m---------------------------------------------------------------------------\u001b[0m",
      "\u001b[1;31mNameError\u001b[0m                                 Traceback (most recent call last)",
      "\u001b[1;32m~\\AppData\\Local\\Temp\\ipykernel_16916\\4195583385.py\u001b[0m in \u001b[0;36m<module>\u001b[1;34m\u001b[0m\n\u001b[1;32m----> 1\u001b[1;33m \u001b[0mhkj\u001b[0m\u001b[1;33m\u001b[0m\u001b[1;33m\u001b[0m\u001b[0m\n\u001b[0m",
      "\u001b[1;31mNameError\u001b[0m: name 'hkj' is not defined"
     ]
    }
   ],
   "source": [
    "hkj"
   ]
  },
  {
   "cell_type": "code",
   "execution_count": 13,
   "id": "2a8bfe49",
   "metadata": {
    "ExecuteTime": {
     "end_time": "2023-01-17T08:00:41.128543Z",
     "start_time": "2023-01-17T08:00:21.990333Z"
    }
   },
   "outputs": [
    {
     "name": "stdout",
     "output_type": "stream",
     "text": [
      "Defaulting to user installation because normal site-packages is not writeable\n",
      "Collecting pygame\n",
      "  Downloading pygame-2.1.2-cp39-cp39-win_amd64.whl (8.4 MB)\n",
      "     ---------------------------------------- 8.4/8.4 MB 923.0 kB/s eta 0:00:00\n",
      "Installing collected packages: pygame\n",
      "Successfully installed pygame-2.1.2\n",
      "Note: you may need to restart the kernel to use updated packages.\n"
     ]
    }
   ],
   "source": [
    "pip install pygame\n"
   ]
  },
  {
   "cell_type": "code",
   "execution_count": null,
   "id": "4225e243",
   "metadata": {},
   "outputs": [],
   "source": []
  },
  {
   "cell_type": "code",
   "execution_count": 11,
   "id": "3b50c939",
   "metadata": {
    "ExecuteTime": {
     "end_time": "2023-01-17T07:49:09.507101Z",
     "start_time": "2023-01-17T07:49:06.919314Z"
    }
   },
   "outputs": [],
   "source": [
    "import tkinter as tk\n",
    "\n",
    "def add_student():\n",
    "    name = student_name.get()\n",
    "    if name in attendance:\n",
    "        result_label.config(text=\"Student already exists.\")\n",
    "    else:\n",
    "        attendance[name] = \"Absent\"\n",
    "        result_label.config(text=\"Student added.\")\n",
    "\n",
    "def view_attendance():\n",
    "    name = student_name.get()\n",
    "    if name in attendance:\n",
    "        result_label.config(text=name + \": \" + attendance[name])\n",
    "    else:\n",
    "        result_label.config(text=\"Student not found.\")\n",
    "\n",
    "def mark_attendance():\n",
    "    name = student_name.get()\n",
    "    if name in attendance:\n",
    "        attendance[name] = \"Present\"\n",
    "        result_label.config(text=name + \" marked as Present.\")\n",
    "    else:\n",
    "        result_label.config(text=\"Student not found.\")\n",
    "\n",
    "attendance = {}\n",
    "\n",
    "root = tk.Tk()\n",
    "root.geometry(\"300x200\")\n",
    "root.title(\"Attendance Program\")\n",
    "\n",
    "student_name = tk.StringVar()\n",
    "\n",
    "name_label = tk.Label(root, text=\"Enter student name:\")\n",
    "name_label.pack()\n",
    "\n",
    "name_entry = tk.Entry(root, textvariable=student_name)\n",
    "name_entry.pack()\n",
    "\n",
    "add_button = tk.Button(root, text=\"Add student\", command=add_student)\n",
    "add_button.pack()\n",
    "\n",
    "mark_button = tk.Button(root, text=\"Mark Attendance\", command=mark_attendance)\n",
    "mark_button.pack()\n",
    "\n",
    "view_button = tk.Button(root, text=\"View Attendance\", command=view_attendance)\n",
    "view_button.pack()\n",
    "\n",
    "result_label = tk.Label(root)\n",
    "result_label.pack()\n",
    "\n",
    "root.mainloop()\n"
   ]
  },
  {
   "cell_type": "code",
   "execution_count": 7,
   "id": "f511840a",
   "metadata": {
    "ExecuteTime": {
     "end_time": "2023-01-17T05:29:04.556141Z",
     "start_time": "2023-01-17T05:29:04.536193Z"
    }
   },
   "outputs": [
    {
     "ename": "error",
     "evalue": "OpenCV(4.6.0) D:\\a\\opencv-python\\opencv-python\\opencv\\modules\\dnn\\src\\caffe\\caffe_io.cpp:1126: error: (-2:Unspecified error) FAILED: fs.is_open(). Can't open \"deploy.prototxt\" in function 'cv::dnn::ReadProtoFromTextFile'\n",
     "output_type": "error",
     "traceback": [
      "\u001b[1;31m---------------------------------------------------------------------------\u001b[0m",
      "\u001b[1;31merror\u001b[0m                                     Traceback (most recent call last)",
      "\u001b[1;32m~\\AppData\\Local\\Temp\\ipykernel_16684\\2019740766.py\u001b[0m in \u001b[0;36m<module>\u001b[1;34m\u001b[0m\n\u001b[0;32m      2\u001b[0m \u001b[1;33m\u001b[0m\u001b[0m\n\u001b[0;32m      3\u001b[0m \u001b[1;31m# Load the pre-trained model\u001b[0m\u001b[1;33m\u001b[0m\u001b[1;33m\u001b[0m\u001b[0m\n\u001b[1;32m----> 4\u001b[1;33m \u001b[0mmodel\u001b[0m \u001b[1;33m=\u001b[0m \u001b[0mcv2\u001b[0m\u001b[1;33m.\u001b[0m\u001b[0mdnn\u001b[0m\u001b[1;33m.\u001b[0m\u001b[0mreadNetFromCaffe\u001b[0m\u001b[1;33m(\u001b[0m\u001b[1;34m\"deploy.prototxt\"\u001b[0m\u001b[1;33m,\u001b[0m \u001b[1;34m\"res10_300x300_ssd_iter_140000.caffemodel\"\u001b[0m\u001b[1;33m)\u001b[0m\u001b[1;33m\u001b[0m\u001b[1;33m\u001b[0m\u001b[0m\n\u001b[0m\u001b[0;32m      5\u001b[0m \u001b[1;33m\u001b[0m\u001b[0m\n\u001b[0;32m      6\u001b[0m \u001b[1;31m# Load the input image\u001b[0m\u001b[1;33m\u001b[0m\u001b[1;33m\u001b[0m\u001b[0m\n",
      "\u001b[1;31merror\u001b[0m: OpenCV(4.6.0) D:\\a\\opencv-python\\opencv-python\\opencv\\modules\\dnn\\src\\caffe\\caffe_io.cpp:1126: error: (-2:Unspecified error) FAILED: fs.is_open(). Can't open \"deploy.prototxt\" in function 'cv::dnn::ReadProtoFromTextFile'\n"
     ]
    }
   ],
   "source": [
    "import cv2\n",
    "\n",
    "# Load the pre-trained model\n",
    "model = cv2.dnn.readNetFromCaffe(\"deploy.prototxt\", \"res10_300x300_ssd_iter_140000.caffemodel\")\n",
    "\n",
    "# Load the input image\n",
    "image = cv2.imread(\"image.jpg\")\n",
    "\n",
    "# Get the dimensions of the image\n",
    "(h, w) = image.shape[:2]\n",
    "\n",
    "# Create a blob from the image\n",
    "blob = cv2.dnn.blobFromImage(cv2.resize(image, (300, 300)), 1.0, (300, 300), (104.0, 177.0, 123.0))\n",
    "\n",
    "# Pass the blob through the model\n",
    "model.setInput(blob)\n",
    "detections = model.forward()\n",
    "\n",
    "# Iterate over the detections\n",
    "for i in range(0, detections.shape[2]):\n",
    "    # Get the confidence of the detection\n",
    "    confidence = detections[0, 0, i, 2]\n",
    "\n",
    "    # If the confidence is above a threshold, draw a rectangle around the face\n",
    "    if confidence > 0.5:\n",
    "        # Get the coordinates of the rectangle\n",
    "        box = detections[0, 0, i, 3:7] * np.array([w, h, w, h])\n",
    "        (startX, startY, endX, endY) = box.astype(\"int\")\n",
    "\n",
    "        # Draw the rectangle\n",
    "        cv2.rectangle(image, (startX, startY), (endX, endY), (0, 0, 255), 2)\n",
    "\n",
    "        # Get the label of the detection\n",
    "        label = detections[0, 0, i, 1]\n",
    "\n",
    "        # If the label is a mask, draw a label on top of the rectangle\n",
    "        if label == 1:\n",
    "            cv2.putText(image, \"Mask\", (startX, startY - 10), cv2.FONT_HERSHEY_SIMPLEX, 0.45, (0, 0, 255), 2)\n",
    "        # If the label is not a mask, draw a label on top of the rectangle\n",
    "        else:\n",
    "            cv2.putText(image, \"No Mask\", (startX, startY - 10), cv2.FONT_HERSHEY_SIMPLEX, 0.45, (0, 0, 255), 2)\n",
    "\n",
    "# Show the output image\n",
    "cv2.imshow(\"Output\", image)\n",
    "cv2.waitKey(0)\n"
   ]
  },
  {
   "cell_type": "code",
   "execution_count": null,
   "id": "bab942d6",
   "metadata": {},
   "outputs": [],
   "source": []
  }
 ],
 "metadata": {
  "kernelspec": {
   "display_name": "Python 3 (ipykernel)",
   "language": "python",
   "name": "python3"
  },
  "language_info": {
   "codemirror_mode": {
    "name": "ipython",
    "version": 3
   },
   "file_extension": ".py",
   "mimetype": "text/x-python",
   "name": "python",
   "nbconvert_exporter": "python",
   "pygments_lexer": "ipython3",
   "version": "3.9.13"
  },
  "vp": {
   "vp_config_version": "1.0.0",
   "vp_menu_width": 273,
   "vp_note_display": false,
   "vp_note_width": 0,
   "vp_position": {
    "width": 278
   },
   "vp_section_display": false,
   "vp_signature": "VisualPython"
  }
 },
 "nbformat": 4,
 "nbformat_minor": 5
}
