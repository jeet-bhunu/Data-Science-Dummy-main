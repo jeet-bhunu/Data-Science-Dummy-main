{
 "cells": [
  {
   "cell_type": "code",
   "execution_count": 6,
   "id": "8157a76e",
   "metadata": {},
   "outputs": [
    {
     "data": {
      "text/html": [
       "<div>\n",
       "<style scoped>\n",
       "    .dataframe tbody tr th:only-of-type {\n",
       "        vertical-align: middle;\n",
       "    }\n",
       "\n",
       "    .dataframe tbody tr th {\n",
       "        vertical-align: top;\n",
       "    }\n",
       "\n",
       "    .dataframe thead th {\n",
       "        text-align: right;\n",
       "    }\n",
       "</style>\n",
       "<table border=\"1\" class=\"dataframe\">\n",
       "  <thead>\n",
       "    <tr style=\"text-align: right;\">\n",
       "      <th></th>\n",
       "      <th>R_fighter</th>\n",
       "      <th>B_fighter</th>\n",
       "      <th>Referee</th>\n",
       "      <th>date</th>\n",
       "      <th>location</th>\n",
       "      <th>Winner</th>\n",
       "      <th>title_bout</th>\n",
       "      <th>weight_class</th>\n",
       "      <th>B_avg_KD</th>\n",
       "      <th>B_avg_opp_KD</th>\n",
       "      <th>...</th>\n",
       "      <th>R_win_by_Decision_Unanimous</th>\n",
       "      <th>R_win_by_KO/TKO</th>\n",
       "      <th>R_win_by_Submission</th>\n",
       "      <th>R_win_by_TKO_Doctor_Stoppage</th>\n",
       "      <th>R_Stance</th>\n",
       "      <th>R_Height_cms</th>\n",
       "      <th>R_Reach_cms</th>\n",
       "      <th>R_Weight_lbs</th>\n",
       "      <th>B_age</th>\n",
       "      <th>R_age</th>\n",
       "    </tr>\n",
       "  </thead>\n",
       "  <tbody>\n",
       "    <tr>\n",
       "      <th>0</th>\n",
       "      <td>Adrian Yanez</td>\n",
       "      <td>Gustavo Lopez</td>\n",
       "      <td>Chris Tognoni</td>\n",
       "      <td>2021-03-20</td>\n",
       "      <td>Las Vegas, Nevada, USA</td>\n",
       "      <td>Red</td>\n",
       "      <td>False</td>\n",
       "      <td>Bantamweight</td>\n",
       "      <td>0.0</td>\n",
       "      <td>0.0</td>\n",
       "      <td>...</td>\n",
       "      <td>0</td>\n",
       "      <td>1</td>\n",
       "      <td>0</td>\n",
       "      <td>0</td>\n",
       "      <td>Orthodox</td>\n",
       "      <td>170.18</td>\n",
       "      <td>177.80</td>\n",
       "      <td>135.0</td>\n",
       "      <td>31.0</td>\n",
       "      <td>27.0</td>\n",
       "    </tr>\n",
       "    <tr>\n",
       "      <th>1</th>\n",
       "      <td>Trevin Giles</td>\n",
       "      <td>Roman Dolidze</td>\n",
       "      <td>Herb Dean</td>\n",
       "      <td>2021-03-20</td>\n",
       "      <td>Las Vegas, Nevada, USA</td>\n",
       "      <td>Red</td>\n",
       "      <td>False</td>\n",
       "      <td>Middleweight</td>\n",
       "      <td>0.5</td>\n",
       "      <td>0.0</td>\n",
       "      <td>...</td>\n",
       "      <td>0</td>\n",
       "      <td>3</td>\n",
       "      <td>0</td>\n",
       "      <td>0</td>\n",
       "      <td>Orthodox</td>\n",
       "      <td>182.88</td>\n",
       "      <td>187.96</td>\n",
       "      <td>185.0</td>\n",
       "      <td>32.0</td>\n",
       "      <td>28.0</td>\n",
       "    </tr>\n",
       "  </tbody>\n",
       "</table>\n",
       "<p>2 rows × 144 columns</p>\n",
       "</div>"
      ],
      "text/plain": [
       "      R_fighter      B_fighter        Referee        date  \\\n",
       "0  Adrian Yanez  Gustavo Lopez  Chris Tognoni  2021-03-20   \n",
       "1  Trevin Giles  Roman Dolidze      Herb Dean  2021-03-20   \n",
       "\n",
       "                 location Winner  title_bout  weight_class  B_avg_KD  \\\n",
       "0  Las Vegas, Nevada, USA    Red       False  Bantamweight       0.0   \n",
       "1  Las Vegas, Nevada, USA    Red       False  Middleweight       0.5   \n",
       "\n",
       "   B_avg_opp_KD  ...  R_win_by_Decision_Unanimous  R_win_by_KO/TKO  \\\n",
       "0           0.0  ...                            0                1   \n",
       "1           0.0  ...                            0                3   \n",
       "\n",
       "   R_win_by_Submission  R_win_by_TKO_Doctor_Stoppage  R_Stance  R_Height_cms  \\\n",
       "0                    0                             0  Orthodox        170.18   \n",
       "1                    0                             0  Orthodox        182.88   \n",
       "\n",
       "   R_Reach_cms  R_Weight_lbs  B_age  R_age  \n",
       "0       177.80         135.0   31.0   27.0  \n",
       "1       187.96         185.0   32.0   28.0  \n",
       "\n",
       "[2 rows x 144 columns]"
      ]
     },
     "execution_count": 6,
     "metadata": {},
     "output_type": "execute_result"
    }
   ],
   "source": [
    "import pandas as pd\n",
    "import warnings\n",
    "warnings.filterwarnings('ignore')\n",
    "data=pd.read_csv('https://raw.githubusercontent.com/Vishsticks/ufc-ml/main/data.csv')\n",
    "data.head(2)"
   ]
  },
  {
   "cell_type": "markdown",
   "id": "b8ae7425",
   "metadata": {
    "heading_collapsed": true
   },
   "source": [
    "# 1"
   ]
  },
  {
   "cell_type": "code",
   "execution_count": 2,
   "id": "0eb2c6c1",
   "metadata": {
    "hidden": true
   },
   "outputs": [],
   "source": [
    "from sklearn.pipeline import Pipeline\n",
    "from xgboost import XGBClassifier\n",
    "from sklearn.preprocessing import StandardScaler,OneHotEncoder,LabelEncoder,FunctionTransformer\n",
    "from sklearn.manifold import TSNE\n",
    "from sklearn.impute import KNNImputer"
   ]
  },
  {
   "cell_type": "code",
   "execution_count": 3,
   "id": "250245ed",
   "metadata": {
    "hidden": true
   },
   "outputs": [
    {
     "data": {
      "text/html": [
       "<style>#sk-container-id-1 {color: black;background-color: white;}#sk-container-id-1 pre{padding: 0;}#sk-container-id-1 div.sk-toggleable {background-color: white;}#sk-container-id-1 label.sk-toggleable__label {cursor: pointer;display: block;width: 100%;margin-bottom: 0;padding: 0.3em;box-sizing: border-box;text-align: center;}#sk-container-id-1 label.sk-toggleable__label-arrow:before {content: \"▸\";float: left;margin-right: 0.25em;color: #696969;}#sk-container-id-1 label.sk-toggleable__label-arrow:hover:before {color: black;}#sk-container-id-1 div.sk-estimator:hover label.sk-toggleable__label-arrow:before {color: black;}#sk-container-id-1 div.sk-toggleable__content {max-height: 0;max-width: 0;overflow: hidden;text-align: left;background-color: #f0f8ff;}#sk-container-id-1 div.sk-toggleable__content pre {margin: 0.2em;color: black;border-radius: 0.25em;background-color: #f0f8ff;}#sk-container-id-1 input.sk-toggleable__control:checked~div.sk-toggleable__content {max-height: 200px;max-width: 100%;overflow: auto;}#sk-container-id-1 input.sk-toggleable__control:checked~label.sk-toggleable__label-arrow:before {content: \"▾\";}#sk-container-id-1 div.sk-estimator input.sk-toggleable__control:checked~label.sk-toggleable__label {background-color: #d4ebff;}#sk-container-id-1 div.sk-label input.sk-toggleable__control:checked~label.sk-toggleable__label {background-color: #d4ebff;}#sk-container-id-1 input.sk-hidden--visually {border: 0;clip: rect(1px 1px 1px 1px);clip: rect(1px, 1px, 1px, 1px);height: 1px;margin: -1px;overflow: hidden;padding: 0;position: absolute;width: 1px;}#sk-container-id-1 div.sk-estimator {font-family: monospace;background-color: #f0f8ff;border: 1px dotted black;border-radius: 0.25em;box-sizing: border-box;margin-bottom: 0.5em;}#sk-container-id-1 div.sk-estimator:hover {background-color: #d4ebff;}#sk-container-id-1 div.sk-parallel-item::after {content: \"\";width: 100%;border-bottom: 1px solid gray;flex-grow: 1;}#sk-container-id-1 div.sk-label:hover label.sk-toggleable__label {background-color: #d4ebff;}#sk-container-id-1 div.sk-serial::before {content: \"\";position: absolute;border-left: 1px solid gray;box-sizing: border-box;top: 0;bottom: 0;left: 50%;z-index: 0;}#sk-container-id-1 div.sk-serial {display: flex;flex-direction: column;align-items: center;background-color: white;padding-right: 0.2em;padding-left: 0.2em;position: relative;}#sk-container-id-1 div.sk-item {position: relative;z-index: 1;}#sk-container-id-1 div.sk-parallel {display: flex;align-items: stretch;justify-content: center;background-color: white;position: relative;}#sk-container-id-1 div.sk-item::before, #sk-container-id-1 div.sk-parallel-item::before {content: \"\";position: absolute;border-left: 1px solid gray;box-sizing: border-box;top: 0;bottom: 0;left: 50%;z-index: -1;}#sk-container-id-1 div.sk-parallel-item {display: flex;flex-direction: column;z-index: 1;position: relative;background-color: white;}#sk-container-id-1 div.sk-parallel-item:first-child::after {align-self: flex-end;width: 50%;}#sk-container-id-1 div.sk-parallel-item:last-child::after {align-self: flex-start;width: 50%;}#sk-container-id-1 div.sk-parallel-item:only-child::after {width: 0;}#sk-container-id-1 div.sk-dashed-wrapped {border: 1px dashed gray;margin: 0 0.4em 0.5em 0.4em;box-sizing: border-box;padding-bottom: 0.4em;background-color: white;}#sk-container-id-1 div.sk-label label {font-family: monospace;font-weight: bold;display: inline-block;line-height: 1.2em;}#sk-container-id-1 div.sk-label-container {text-align: center;}#sk-container-id-1 div.sk-container {/* jupyter's `normalize.less` sets `[hidden] { display: none; }` but bootstrap.min.css set `[hidden] { display: none !important; }` so we also need the `!important` here to be able to override the default hidden behavior on the sphinx rendered scikit-learn.org. See: https://github.com/scikit-learn/scikit-learn/issues/21755 */display: inline-block !important;position: relative;}#sk-container-id-1 div.sk-text-repr-fallback {display: none;}</style><div id=\"sk-container-id-1\" class=\"sk-top-container\"><div class=\"sk-text-repr-fallback\"><pre>Pipeline(steps=[(&#x27;OHE&#x27;, OneHotEncoder(handle_unknown=&#x27;ignore&#x27;, sparse=False)),\n",
       "                (&#x27;Imputer&#x27;, KNNImputer()),\n",
       "                (&#x27;Model&#x27;,\n",
       "                 XGBClassifier(base_score=None, booster=None, callbacks=None,\n",
       "                               colsample_bylevel=None, colsample_bynode=None,\n",
       "                               colsample_bytree=None,\n",
       "                               early_stopping_rounds=None,\n",
       "                               enable_categorical=False, eval_metric=None,\n",
       "                               feature_types=None, gamma=None, gpu_id=None,\n",
       "                               grow_policy=None, importance_type=None,\n",
       "                               interaction_constraints=None, learning_rate=None,\n",
       "                               max_bin=None, max_cat_threshold=None,\n",
       "                               max_cat_to_onehot=None, max_delta_step=None,\n",
       "                               max_depth=None, max_leaves=None,\n",
       "                               min_child_weight=None, missing=nan,\n",
       "                               monotone_constraints=None, n_estimators=100,\n",
       "                               n_jobs=None, num_parallel_tree=None,\n",
       "                               predictor=None, random_state=None, ...))])</pre><b>In a Jupyter environment, please rerun this cell to show the HTML representation or trust the notebook. <br />On GitHub, the HTML representation is unable to render, please try loading this page with nbviewer.org.</b></div><div class=\"sk-container\" hidden><div class=\"sk-item sk-dashed-wrapped\"><div class=\"sk-label-container\"><div class=\"sk-label sk-toggleable\"><input class=\"sk-toggleable__control sk-hidden--visually\" id=\"sk-estimator-id-1\" type=\"checkbox\" ><label for=\"sk-estimator-id-1\" class=\"sk-toggleable__label sk-toggleable__label-arrow\">Pipeline</label><div class=\"sk-toggleable__content\"><pre>Pipeline(steps=[(&#x27;OHE&#x27;, OneHotEncoder(handle_unknown=&#x27;ignore&#x27;, sparse=False)),\n",
       "                (&#x27;Imputer&#x27;, KNNImputer()),\n",
       "                (&#x27;Model&#x27;,\n",
       "                 XGBClassifier(base_score=None, booster=None, callbacks=None,\n",
       "                               colsample_bylevel=None, colsample_bynode=None,\n",
       "                               colsample_bytree=None,\n",
       "                               early_stopping_rounds=None,\n",
       "                               enable_categorical=False, eval_metric=None,\n",
       "                               feature_types=None, gamma=None, gpu_id=None,\n",
       "                               grow_policy=None, importance_type=None,\n",
       "                               interaction_constraints=None, learning_rate=None,\n",
       "                               max_bin=None, max_cat_threshold=None,\n",
       "                               max_cat_to_onehot=None, max_delta_step=None,\n",
       "                               max_depth=None, max_leaves=None,\n",
       "                               min_child_weight=None, missing=nan,\n",
       "                               monotone_constraints=None, n_estimators=100,\n",
       "                               n_jobs=None, num_parallel_tree=None,\n",
       "                               predictor=None, random_state=None, ...))])</pre></div></div></div><div class=\"sk-serial\"><div class=\"sk-item\"><div class=\"sk-estimator sk-toggleable\"><input class=\"sk-toggleable__control sk-hidden--visually\" id=\"sk-estimator-id-2\" type=\"checkbox\" ><label for=\"sk-estimator-id-2\" class=\"sk-toggleable__label sk-toggleable__label-arrow\">OneHotEncoder</label><div class=\"sk-toggleable__content\"><pre>OneHotEncoder(handle_unknown=&#x27;ignore&#x27;, sparse=False)</pre></div></div></div><div class=\"sk-item\"><div class=\"sk-estimator sk-toggleable\"><input class=\"sk-toggleable__control sk-hidden--visually\" id=\"sk-estimator-id-3\" type=\"checkbox\" ><label for=\"sk-estimator-id-3\" class=\"sk-toggleable__label sk-toggleable__label-arrow\">KNNImputer</label><div class=\"sk-toggleable__content\"><pre>KNNImputer()</pre></div></div></div><div class=\"sk-item\"><div class=\"sk-estimator sk-toggleable\"><input class=\"sk-toggleable__control sk-hidden--visually\" id=\"sk-estimator-id-4\" type=\"checkbox\" ><label for=\"sk-estimator-id-4\" class=\"sk-toggleable__label sk-toggleable__label-arrow\">XGBClassifier</label><div class=\"sk-toggleable__content\"><pre>XGBClassifier(base_score=None, booster=None, callbacks=None,\n",
       "              colsample_bylevel=None, colsample_bynode=None,\n",
       "              colsample_bytree=None, early_stopping_rounds=None,\n",
       "              enable_categorical=False, eval_metric=None, feature_types=None,\n",
       "              gamma=None, gpu_id=None, grow_policy=None, importance_type=None,\n",
       "              interaction_constraints=None, learning_rate=None, max_bin=None,\n",
       "              max_cat_threshold=None, max_cat_to_onehot=None,\n",
       "              max_delta_step=None, max_depth=None, max_leaves=None,\n",
       "              min_child_weight=None, missing=nan, monotone_constraints=None,\n",
       "              n_estimators=100, n_jobs=None, num_parallel_tree=None,\n",
       "              predictor=None, random_state=None, ...)</pre></div></div></div></div></div></div></div>"
      ],
      "text/plain": [
       "Pipeline(steps=[('OHE', OneHotEncoder(handle_unknown='ignore', sparse=False)),\n",
       "                ('Imputer', KNNImputer()),\n",
       "                ('Model',\n",
       "                 XGBClassifier(base_score=None, booster=None, callbacks=None,\n",
       "                               colsample_bylevel=None, colsample_bynode=None,\n",
       "                               colsample_bytree=None,\n",
       "                               early_stopping_rounds=None,\n",
       "                               enable_categorical=False, eval_metric=None,\n",
       "                               feature_types=None, gamma=None, gpu_id=None,\n",
       "                               grow_policy=None, importance_type=None,\n",
       "                               interaction_constraints=None, learning_rate=None,\n",
       "                               max_bin=None, max_cat_threshold=None,\n",
       "                               max_cat_to_onehot=None, max_delta_step=None,\n",
       "                               max_depth=None, max_leaves=None,\n",
       "                               min_child_weight=None, missing=nan,\n",
       "                               monotone_constraints=None, n_estimators=100,\n",
       "                               n_jobs=None, num_parallel_tree=None,\n",
       "                               predictor=None, random_state=None, ...))])"
      ]
     },
     "execution_count": 3,
     "metadata": {},
     "output_type": "execute_result"
    }
   ],
   "source": [
    "steps=[]\n",
    "steps.append(('OHE',OneHotEncoder(sparse=False,handle_unknown='ignore')))\n",
    "steps.append(('Imputer',KNNImputer()))\n",
    "# tsne_transformer = FunctionTransformer(TSNE().fit_transform)\n",
    "# steps.append(('DR',tsne_transformer))\n",
    "steps.append(('Model',XGBClassifier()))\n",
    "pipe=Pipeline(steps)\n",
    "pipe"
   ]
  },
  {
   "cell_type": "code",
   "execution_count": 4,
   "id": "085fdf22",
   "metadata": {
    "hidden": true
   },
   "outputs": [
    {
     "data": {
      "text/plain": [
       "Index(['R_fighter', 'B_fighter', 'Referee', 'date', 'location', 'Winner',\n",
       "       'title_bout', 'weight_class', 'B_avg_KD', 'B_avg_opp_KD',\n",
       "       ...\n",
       "       'R_win_by_Decision_Unanimous', 'R_win_by_KO/TKO', 'R_win_by_Submission',\n",
       "       'R_win_by_TKO_Doctor_Stoppage', 'R_Stance', 'R_Height_cms',\n",
       "       'R_Reach_cms', 'R_Weight_lbs', 'B_age', 'R_age'],\n",
       "      dtype='object', length=144)"
      ]
     },
     "execution_count": 4,
     "metadata": {},
     "output_type": "execute_result"
    }
   ],
   "source": [
    "data.columns"
   ]
  },
  {
   "cell_type": "code",
   "execution_count": 4,
   "id": "aca28b07",
   "metadata": {
    "hidden": true
   },
   "outputs": [
    {
     "data": {
      "text/plain": [
       "(5410, 144)"
      ]
     },
     "execution_count": 4,
     "metadata": {},
     "output_type": "execute_result"
    }
   ],
   "source": [
    "data_f=data.sample(int(len(data)*.90),random_state=40)\n",
    "data_f.shape"
   ]
  },
  {
   "cell_type": "code",
   "execution_count": 5,
   "id": "f0fd3eb9",
   "metadata": {
    "collapsed": true,
    "hidden": true
   },
   "outputs": [
    {
     "name": "stdout",
     "output_type": "stream",
     "text": [
      "R_fighter\n",
      "B_fighter\n",
      "Referee\n",
      "date\n",
      "location\n",
      "Winner\n",
      "title_bout\n",
      "weight_class\n",
      "B_avg_KD\n",
      "B_avg_opp_KD\n",
      "B_avg_SIG_STR_pct\n",
      "B_avg_opp_SIG_STR_pct\n",
      "B_avg_TD_pct\n",
      "B_avg_opp_TD_pct\n",
      "B_avg_SUB_ATT\n",
      "B_avg_opp_SUB_ATT\n",
      "B_avg_REV\n",
      "B_avg_opp_REV\n",
      "B_avg_SIG_STR_att\n",
      "B_avg_SIG_STR_landed\n",
      "B_avg_opp_SIG_STR_att\n",
      "B_avg_opp_SIG_STR_landed\n",
      "B_avg_TOTAL_STR_att\n",
      "B_avg_TOTAL_STR_landed\n",
      "B_avg_opp_TOTAL_STR_att\n",
      "B_avg_opp_TOTAL_STR_landed\n",
      "B_avg_TD_att\n",
      "B_avg_TD_landed\n",
      "B_avg_opp_TD_att\n",
      "B_avg_opp_TD_landed\n",
      "B_avg_HEAD_att\n",
      "B_avg_HEAD_landed\n",
      "B_avg_opp_HEAD_att\n",
      "B_avg_opp_HEAD_landed\n",
      "B_avg_BODY_att\n",
      "B_avg_BODY_landed\n",
      "B_avg_opp_BODY_att\n",
      "B_avg_opp_BODY_landed\n",
      "B_avg_LEG_att\n",
      "B_avg_LEG_landed\n",
      "B_avg_opp_LEG_att\n",
      "B_avg_opp_LEG_landed\n",
      "B_avg_DISTANCE_att\n",
      "B_avg_DISTANCE_landed\n",
      "B_avg_opp_DISTANCE_att\n",
      "B_avg_opp_DISTANCE_landed\n",
      "B_avg_CLINCH_att\n",
      "B_avg_CLINCH_landed\n",
      "B_avg_opp_CLINCH_att\n",
      "B_avg_opp_CLINCH_landed\n",
      "B_avg_GROUND_att\n",
      "B_avg_GROUND_landed\n",
      "B_avg_opp_GROUND_att\n",
      "B_avg_opp_GROUND_landed\n",
      "B_avg_CTRL_time(seconds)\n",
      "B_avg_opp_CTRL_time(seconds)\n",
      "B_total_time_fought(seconds)\n",
      "B_total_rounds_fought\n",
      "B_total_title_bouts\n",
      "B_current_win_streak\n",
      "B_current_lose_streak\n",
      "B_longest_win_streak\n",
      "B_wins\n",
      "B_losses\n",
      "B_draw\n",
      "B_win_by_Decision_Majority\n",
      "B_win_by_Decision_Split\n",
      "B_win_by_Decision_Unanimous\n",
      "B_win_by_KO/TKO\n",
      "B_win_by_Submission\n",
      "B_win_by_TKO_Doctor_Stoppage\n",
      "B_Stance\n",
      "B_Height_cms\n",
      "B_Reach_cms\n",
      "B_Weight_lbs\n",
      "R_avg_KD\n",
      "R_avg_opp_KD\n",
      "R_avg_SIG_STR_pct\n",
      "R_avg_opp_SIG_STR_pct\n",
      "R_avg_TD_pct\n",
      "R_avg_opp_TD_pct\n",
      "R_avg_SUB_ATT\n",
      "R_avg_opp_SUB_ATT\n",
      "R_avg_REV\n",
      "R_avg_opp_REV\n",
      "R_avg_SIG_STR_att\n",
      "R_avg_SIG_STR_landed\n",
      "R_avg_opp_SIG_STR_att\n",
      "R_avg_opp_SIG_STR_landed\n",
      "R_avg_TOTAL_STR_att\n",
      "R_avg_TOTAL_STR_landed\n",
      "R_avg_opp_TOTAL_STR_att\n",
      "R_avg_opp_TOTAL_STR_landed\n",
      "R_avg_TD_att\n",
      "R_avg_TD_landed\n",
      "R_avg_opp_TD_att\n",
      "R_avg_opp_TD_landed\n",
      "R_avg_HEAD_att\n",
      "R_avg_HEAD_landed\n",
      "R_avg_opp_HEAD_att\n",
      "R_avg_opp_HEAD_landed\n",
      "R_avg_BODY_att\n",
      "R_avg_BODY_landed\n",
      "R_avg_opp_BODY_att\n",
      "R_avg_opp_BODY_landed\n",
      "R_avg_LEG_att\n",
      "R_avg_LEG_landed\n",
      "R_avg_opp_LEG_att\n",
      "R_avg_opp_LEG_landed\n",
      "R_avg_DISTANCE_att\n",
      "R_avg_DISTANCE_landed\n",
      "R_avg_opp_DISTANCE_att\n",
      "R_avg_opp_DISTANCE_landed\n",
      "R_avg_CLINCH_att\n",
      "R_avg_CLINCH_landed\n",
      "R_avg_opp_CLINCH_att\n",
      "R_avg_opp_CLINCH_landed\n",
      "R_avg_GROUND_att\n",
      "R_avg_GROUND_landed\n",
      "R_avg_opp_GROUND_att\n",
      "R_avg_opp_GROUND_landed\n",
      "R_avg_CTRL_time(seconds)\n",
      "R_avg_opp_CTRL_time(seconds)\n",
      "R_total_time_fought(seconds)\n",
      "R_total_rounds_fought\n",
      "R_total_title_bouts\n",
      "R_current_win_streak\n",
      "R_current_lose_streak\n",
      "R_longest_win_streak\n",
      "R_wins\n",
      "R_losses\n",
      "R_draw\n",
      "R_win_by_Decision_Majority\n",
      "R_win_by_Decision_Split\n",
      "R_win_by_Decision_Unanimous\n",
      "R_win_by_KO/TKO\n",
      "R_win_by_Submission\n",
      "R_win_by_TKO_Doctor_Stoppage\n",
      "R_Stance\n",
      "R_Height_cms\n",
      "R_Reach_cms\n",
      "R_Weight_lbs\n",
      "B_age\n",
      "R_age\n"
     ]
    }
   ],
   "source": [
    "for i in data.columns:\n",
    "    print(i)"
   ]
  },
  {
   "cell_type": "code",
   "execution_count": 7,
   "id": "01140561",
   "metadata": {
    "hidden": true
   },
   "outputs": [
    {
     "ename": "NameError",
     "evalue": "name 'data_f' is not defined",
     "output_type": "error",
     "traceback": [
      "\u001b[1;31m---------------------------------------------------------------------------\u001b[0m",
      "\u001b[1;31mNameError\u001b[0m                                 Traceback (most recent call last)",
      "\u001b[1;32m~\\AppData\\Local\\Temp\\ipykernel_1064\\2323320780.py\u001b[0m in \u001b[0;36m<module>\u001b[1;34m\u001b[0m\n\u001b[1;32m----> 1\u001b[1;33m \u001b[0mX\u001b[0m\u001b[1;33m,\u001b[0m\u001b[0mY\u001b[0m\u001b[1;33m=\u001b[0m\u001b[0mdata_f\u001b[0m\u001b[1;33m.\u001b[0m\u001b[0mdrop\u001b[0m\u001b[1;33m(\u001b[0m\u001b[1;34m'Winner'\u001b[0m\u001b[1;33m,\u001b[0m\u001b[0maxis\u001b[0m\u001b[1;33m=\u001b[0m\u001b[1;36m1\u001b[0m\u001b[1;33m)\u001b[0m\u001b[1;33m,\u001b[0m\u001b[0mdata_f\u001b[0m\u001b[1;33m.\u001b[0m\u001b[0mWinner\u001b[0m\u001b[1;33m\u001b[0m\u001b[1;33m\u001b[0m\u001b[0m\n\u001b[0m",
      "\u001b[1;31mNameError\u001b[0m: name 'data_f' is not defined"
     ]
    }
   ],
   "source": [
    "X,Y=data_f.drop('Winner',axis=1),data_f.Winner"
   ]
  },
  {
   "cell_type": "code",
   "execution_count": 7,
   "id": "f3a756bb",
   "metadata": {
    "hidden": true
   },
   "outputs": [],
   "source": [
    "y_enc=LabelEncoder().fit_transform(Y)"
   ]
  },
  {
   "cell_type": "code",
   "execution_count": 8,
   "id": "529b078e",
   "metadata": {
    "hidden": true
   },
   "outputs": [],
   "source": [
    "from sklearn.model_selection import train_test_split\n",
    "\n",
    "x_train,x_test,y_train,y_test=train_test_split(X,y_enc)"
   ]
  },
  {
   "cell_type": "code",
   "execution_count": 9,
   "id": "1c18c7dc",
   "metadata": {
    "hidden": true
   },
   "outputs": [
    {
     "data": {
      "text/html": [
       "<style>#sk-container-id-2 {color: black;background-color: white;}#sk-container-id-2 pre{padding: 0;}#sk-container-id-2 div.sk-toggleable {background-color: white;}#sk-container-id-2 label.sk-toggleable__label {cursor: pointer;display: block;width: 100%;margin-bottom: 0;padding: 0.3em;box-sizing: border-box;text-align: center;}#sk-container-id-2 label.sk-toggleable__label-arrow:before {content: \"▸\";float: left;margin-right: 0.25em;color: #696969;}#sk-container-id-2 label.sk-toggleable__label-arrow:hover:before {color: black;}#sk-container-id-2 div.sk-estimator:hover label.sk-toggleable__label-arrow:before {color: black;}#sk-container-id-2 div.sk-toggleable__content {max-height: 0;max-width: 0;overflow: hidden;text-align: left;background-color: #f0f8ff;}#sk-container-id-2 div.sk-toggleable__content pre {margin: 0.2em;color: black;border-radius: 0.25em;background-color: #f0f8ff;}#sk-container-id-2 input.sk-toggleable__control:checked~div.sk-toggleable__content {max-height: 200px;max-width: 100%;overflow: auto;}#sk-container-id-2 input.sk-toggleable__control:checked~label.sk-toggleable__label-arrow:before {content: \"▾\";}#sk-container-id-2 div.sk-estimator input.sk-toggleable__control:checked~label.sk-toggleable__label {background-color: #d4ebff;}#sk-container-id-2 div.sk-label input.sk-toggleable__control:checked~label.sk-toggleable__label {background-color: #d4ebff;}#sk-container-id-2 input.sk-hidden--visually {border: 0;clip: rect(1px 1px 1px 1px);clip: rect(1px, 1px, 1px, 1px);height: 1px;margin: -1px;overflow: hidden;padding: 0;position: absolute;width: 1px;}#sk-container-id-2 div.sk-estimator {font-family: monospace;background-color: #f0f8ff;border: 1px dotted black;border-radius: 0.25em;box-sizing: border-box;margin-bottom: 0.5em;}#sk-container-id-2 div.sk-estimator:hover {background-color: #d4ebff;}#sk-container-id-2 div.sk-parallel-item::after {content: \"\";width: 100%;border-bottom: 1px solid gray;flex-grow: 1;}#sk-container-id-2 div.sk-label:hover label.sk-toggleable__label {background-color: #d4ebff;}#sk-container-id-2 div.sk-serial::before {content: \"\";position: absolute;border-left: 1px solid gray;box-sizing: border-box;top: 0;bottom: 0;left: 50%;z-index: 0;}#sk-container-id-2 div.sk-serial {display: flex;flex-direction: column;align-items: center;background-color: white;padding-right: 0.2em;padding-left: 0.2em;position: relative;}#sk-container-id-2 div.sk-item {position: relative;z-index: 1;}#sk-container-id-2 div.sk-parallel {display: flex;align-items: stretch;justify-content: center;background-color: white;position: relative;}#sk-container-id-2 div.sk-item::before, #sk-container-id-2 div.sk-parallel-item::before {content: \"\";position: absolute;border-left: 1px solid gray;box-sizing: border-box;top: 0;bottom: 0;left: 50%;z-index: -1;}#sk-container-id-2 div.sk-parallel-item {display: flex;flex-direction: column;z-index: 1;position: relative;background-color: white;}#sk-container-id-2 div.sk-parallel-item:first-child::after {align-self: flex-end;width: 50%;}#sk-container-id-2 div.sk-parallel-item:last-child::after {align-self: flex-start;width: 50%;}#sk-container-id-2 div.sk-parallel-item:only-child::after {width: 0;}#sk-container-id-2 div.sk-dashed-wrapped {border: 1px dashed gray;margin: 0 0.4em 0.5em 0.4em;box-sizing: border-box;padding-bottom: 0.4em;background-color: white;}#sk-container-id-2 div.sk-label label {font-family: monospace;font-weight: bold;display: inline-block;line-height: 1.2em;}#sk-container-id-2 div.sk-label-container {text-align: center;}#sk-container-id-2 div.sk-container {/* jupyter's `normalize.less` sets `[hidden] { display: none; }` but bootstrap.min.css set `[hidden] { display: none !important; }` so we also need the `!important` here to be able to override the default hidden behavior on the sphinx rendered scikit-learn.org. See: https://github.com/scikit-learn/scikit-learn/issues/21755 */display: inline-block !important;position: relative;}#sk-container-id-2 div.sk-text-repr-fallback {display: none;}</style><div id=\"sk-container-id-2\" class=\"sk-top-container\"><div class=\"sk-text-repr-fallback\"><pre>Pipeline(steps=[(&#x27;OHE&#x27;,\n",
       "                 OneHotEncoder(handle_unknown=&#x27;ignore&#x27;, sparse=False,\n",
       "                               sparse_output=False)),\n",
       "                (&#x27;Imputer&#x27;, KNNImputer()),\n",
       "                (&#x27;Model&#x27;,\n",
       "                 XGBClassifier(base_score=0.5, booster=&#x27;gbtree&#x27;, callbacks=None,\n",
       "                               colsample_bylevel=1, colsample_bynode=1,\n",
       "                               colsample_bytree=1, early_stopping_rounds=None,\n",
       "                               enable_categorical=False, eval_metric=None,\n",
       "                               feature_types=None, gamma=0, gpu_id=-1,\n",
       "                               grow_policy=&#x27;depthwise&#x27;, importance_type=None,\n",
       "                               interaction_constraints=&#x27;&#x27;,\n",
       "                               learning_rate=0.300000012, max_bin=256,\n",
       "                               max_cat_threshold=64, max_cat_to_onehot=4,\n",
       "                               max_delta_step=0, max_depth=6, max_leaves=0,\n",
       "                               min_child_weight=1, missing=nan,\n",
       "                               monotone_constraints=&#x27;()&#x27;, n_estimators=100,\n",
       "                               n_jobs=0, num_parallel_tree=1,\n",
       "                               objective=&#x27;multi:softprob&#x27;, predictor=&#x27;auto&#x27;, ...))])</pre><b>In a Jupyter environment, please rerun this cell to show the HTML representation or trust the notebook. <br />On GitHub, the HTML representation is unable to render, please try loading this page with nbviewer.org.</b></div><div class=\"sk-container\" hidden><div class=\"sk-item sk-dashed-wrapped\"><div class=\"sk-label-container\"><div class=\"sk-label sk-toggleable\"><input class=\"sk-toggleable__control sk-hidden--visually\" id=\"sk-estimator-id-5\" type=\"checkbox\" ><label for=\"sk-estimator-id-5\" class=\"sk-toggleable__label sk-toggleable__label-arrow\">Pipeline</label><div class=\"sk-toggleable__content\"><pre>Pipeline(steps=[(&#x27;OHE&#x27;,\n",
       "                 OneHotEncoder(handle_unknown=&#x27;ignore&#x27;, sparse=False,\n",
       "                               sparse_output=False)),\n",
       "                (&#x27;Imputer&#x27;, KNNImputer()),\n",
       "                (&#x27;Model&#x27;,\n",
       "                 XGBClassifier(base_score=0.5, booster=&#x27;gbtree&#x27;, callbacks=None,\n",
       "                               colsample_bylevel=1, colsample_bynode=1,\n",
       "                               colsample_bytree=1, early_stopping_rounds=None,\n",
       "                               enable_categorical=False, eval_metric=None,\n",
       "                               feature_types=None, gamma=0, gpu_id=-1,\n",
       "                               grow_policy=&#x27;depthwise&#x27;, importance_type=None,\n",
       "                               interaction_constraints=&#x27;&#x27;,\n",
       "                               learning_rate=0.300000012, max_bin=256,\n",
       "                               max_cat_threshold=64, max_cat_to_onehot=4,\n",
       "                               max_delta_step=0, max_depth=6, max_leaves=0,\n",
       "                               min_child_weight=1, missing=nan,\n",
       "                               monotone_constraints=&#x27;()&#x27;, n_estimators=100,\n",
       "                               n_jobs=0, num_parallel_tree=1,\n",
       "                               objective=&#x27;multi:softprob&#x27;, predictor=&#x27;auto&#x27;, ...))])</pre></div></div></div><div class=\"sk-serial\"><div class=\"sk-item\"><div class=\"sk-estimator sk-toggleable\"><input class=\"sk-toggleable__control sk-hidden--visually\" id=\"sk-estimator-id-6\" type=\"checkbox\" ><label for=\"sk-estimator-id-6\" class=\"sk-toggleable__label sk-toggleable__label-arrow\">OneHotEncoder</label><div class=\"sk-toggleable__content\"><pre>OneHotEncoder(handle_unknown=&#x27;ignore&#x27;, sparse=False, sparse_output=False)</pre></div></div></div><div class=\"sk-item\"><div class=\"sk-estimator sk-toggleable\"><input class=\"sk-toggleable__control sk-hidden--visually\" id=\"sk-estimator-id-7\" type=\"checkbox\" ><label for=\"sk-estimator-id-7\" class=\"sk-toggleable__label sk-toggleable__label-arrow\">KNNImputer</label><div class=\"sk-toggleable__content\"><pre>KNNImputer()</pre></div></div></div><div class=\"sk-item\"><div class=\"sk-estimator sk-toggleable\"><input class=\"sk-toggleable__control sk-hidden--visually\" id=\"sk-estimator-id-8\" type=\"checkbox\" ><label for=\"sk-estimator-id-8\" class=\"sk-toggleable__label sk-toggleable__label-arrow\">XGBClassifier</label><div class=\"sk-toggleable__content\"><pre>XGBClassifier(base_score=0.5, booster=&#x27;gbtree&#x27;, callbacks=None,\n",
       "              colsample_bylevel=1, colsample_bynode=1, colsample_bytree=1,\n",
       "              early_stopping_rounds=None, enable_categorical=False,\n",
       "              eval_metric=None, feature_types=None, gamma=0, gpu_id=-1,\n",
       "              grow_policy=&#x27;depthwise&#x27;, importance_type=None,\n",
       "              interaction_constraints=&#x27;&#x27;, learning_rate=0.300000012,\n",
       "              max_bin=256, max_cat_threshold=64, max_cat_to_onehot=4,\n",
       "              max_delta_step=0, max_depth=6, max_leaves=0, min_child_weight=1,\n",
       "              missing=nan, monotone_constraints=&#x27;()&#x27;, n_estimators=100,\n",
       "              n_jobs=0, num_parallel_tree=1, objective=&#x27;multi:softprob&#x27;,\n",
       "              predictor=&#x27;auto&#x27;, ...)</pre></div></div></div></div></div></div></div>"
      ],
      "text/plain": [
       "Pipeline(steps=[('OHE',\n",
       "                 OneHotEncoder(handle_unknown='ignore', sparse=False,\n",
       "                               sparse_output=False)),\n",
       "                ('Imputer', KNNImputer()),\n",
       "                ('Model',\n",
       "                 XGBClassifier(base_score=0.5, booster='gbtree', callbacks=None,\n",
       "                               colsample_bylevel=1, colsample_bynode=1,\n",
       "                               colsample_bytree=1, early_stopping_rounds=None,\n",
       "                               enable_categorical=False, eval_metric=None,\n",
       "                               feature_types=None, gamma=0, gpu_id=-1,\n",
       "                               grow_policy='depthwise', importance_type=None,\n",
       "                               interaction_constraints='',\n",
       "                               learning_rate=0.300000012, max_bin=256,\n",
       "                               max_cat_threshold=64, max_cat_to_onehot=4,\n",
       "                               max_delta_step=0, max_depth=6, max_leaves=0,\n",
       "                               min_child_weight=1, missing=nan,\n",
       "                               monotone_constraints='()', n_estimators=100,\n",
       "                               n_jobs=0, num_parallel_tree=1,\n",
       "                               objective='multi:softprob', predictor='auto', ...))])"
      ]
     },
     "execution_count": 9,
     "metadata": {},
     "output_type": "execute_result"
    }
   ],
   "source": [
    "pipe.fit(x_train,y_train)"
   ]
  },
  {
   "cell_type": "code",
   "execution_count": 10,
   "id": "4a365a9d",
   "metadata": {
    "hidden": true
   },
   "outputs": [],
   "source": [
    "pred=pipe.predict(x_test)\n",
    "\n",
    "from sklearn.metrics import classification_report,ConfusionMatrixDisplay,confusion_matrix\n",
    "print(classification_report(y_test,pred))"
   ]
  },
  {
   "cell_type": "code",
   "execution_count": 13,
   "id": "7702e056",
   "metadata": {
    "hidden": true
   },
   "outputs": [
    {
     "data": {
      "image/png": "[encoded data removed]",
      "text/plain": [
       "<Figure size 640x480 with 2 Axes>"
      ]
     },
     "metadata": {},
     "output_type": "display_data"
    }
   ],
   "source": [
    "import matplotlib.pyplot as plt\n",
    "\n",
    "m = confusion_matrix(y_test, pred, labels=pipe[-1].classes_)\n",
    "disp = ConfusionMatrixDisplay(confusion_matrix=m,\n",
    "                               display_labels=pipe[-1].classes_)\n",
    "# import matplotlib.pyplot as plt\n",
    "\n",
    "disp.plot()\n",
    "plt.show()"
   ]
  },
  {
   "cell_type": "markdown",
   "id": "7b25b840",
   "metadata": {
    "heading_collapsed": true
   },
   "source": [
    "# 2"
   ]
  },
  {
   "cell_type": "code",
   "execution_count": 19,
   "id": "57f7090e",
   "metadata": {
    "collapsed": true,
    "hidden": true
   },
   "outputs": [
    {
     "name": "stdout",
     "output_type": "stream",
     "text": [
      "R_fighter\n",
      "B_fighter\n",
      "Referee\n",
      "date\n",
      "location\n",
      "Winner\n",
      "title_bout\n",
      "weight_class\n",
      "B_avg_KD\n",
      "B_avg_opp_KD\n",
      "B_avg_SIG_STR_pct\n",
      "B_avg_opp_SIG_STR_pct\n",
      "B_avg_TD_pct\n",
      "B_avg_opp_TD_pct\n",
      "B_avg_SUB_ATT\n",
      "B_avg_opp_SUB_ATT\n",
      "B_avg_REV\n",
      "B_avg_opp_REV\n",
      "B_avg_SIG_STR_att\n",
      "B_avg_SIG_STR_landed\n",
      "B_avg_opp_SIG_STR_att\n",
      "B_avg_opp_SIG_STR_landed\n",
      "B_avg_TOTAL_STR_att\n",
      "B_avg_TOTAL_STR_landed\n",
      "B_avg_opp_TOTAL_STR_att\n",
      "B_avg_opp_TOTAL_STR_landed\n",
      "B_avg_TD_att\n",
      "B_avg_TD_landed\n",
      "B_avg_opp_TD_att\n",
      "B_avg_opp_TD_landed\n",
      "B_avg_HEAD_att\n",
      "B_avg_HEAD_landed\n",
      "B_avg_opp_HEAD_att\n",
      "B_avg_opp_HEAD_landed\n",
      "B_avg_BODY_att\n",
      "B_avg_BODY_landed\n",
      "B_avg_opp_BODY_att\n",
      "B_avg_opp_BODY_landed\n",
      "B_avg_LEG_att\n",
      "B_avg_LEG_landed\n",
      "B_avg_opp_LEG_att\n",
      "B_avg_opp_LEG_landed\n",
      "B_avg_DISTANCE_att\n",
      "B_avg_DISTANCE_landed\n",
      "B_avg_opp_DISTANCE_att\n",
      "B_avg_opp_DISTANCE_landed\n",
      "B_avg_CLINCH_att\n",
      "B_avg_CLINCH_landed\n",
      "B_avg_opp_CLINCH_att\n",
      "B_avg_opp_CLINCH_landed\n",
      "B_avg_GROUND_att\n",
      "B_avg_GROUND_landed\n",
      "B_avg_opp_GROUND_att\n",
      "B_avg_opp_GROUND_landed\n",
      "B_avg_CTRL_time(seconds)\n",
      "B_avg_opp_CTRL_time(seconds)\n",
      "B_total_time_fought(seconds)\n",
      "B_total_rounds_fought\n",
      "B_total_title_bouts\n",
      "B_current_win_streak\n",
      "B_current_lose_streak\n",
      "B_longest_win_streak\n",
      "B_wins\n",
      "B_losses\n",
      "B_draw\n",
      "B_win_by_Decision_Majority\n",
      "B_win_by_Decision_Split\n",
      "B_win_by_Decision_Unanimous\n",
      "B_win_by_KO/TKO\n",
      "B_win_by_Submission\n",
      "B_win_by_TKO_Doctor_Stoppage\n",
      "B_Stance\n",
      "B_Height_cms\n",
      "B_Reach_cms\n",
      "B_Weight_lbs\n",
      "R_avg_KD\n",
      "R_avg_opp_KD\n",
      "R_avg_SIG_STR_pct\n",
      "R_avg_opp_SIG_STR_pct\n",
      "R_avg_TD_pct\n",
      "R_avg_opp_TD_pct\n",
      "R_avg_SUB_ATT\n",
      "R_avg_opp_SUB_ATT\n",
      "R_avg_REV\n",
      "R_avg_opp_REV\n",
      "R_avg_SIG_STR_att\n",
      "R_avg_SIG_STR_landed\n",
      "R_avg_opp_SIG_STR_att\n",
      "R_avg_opp_SIG_STR_landed\n",
      "R_avg_TOTAL_STR_att\n",
      "R_avg_TOTAL_STR_landed\n",
      "R_avg_opp_TOTAL_STR_att\n",
      "R_avg_opp_TOTAL_STR_landed\n",
      "R_avg_TD_att\n",
      "R_avg_TD_landed\n",
      "R_avg_opp_TD_att\n",
      "R_avg_opp_TD_landed\n",
      "R_avg_HEAD_att\n",
      "R_avg_HEAD_landed\n",
      "R_avg_opp_HEAD_att\n",
      "R_avg_opp_HEAD_landed\n",
      "R_avg_BODY_att\n",
      "R_avg_BODY_landed\n",
      "R_avg_opp_BODY_att\n",
      "R_avg_opp_BODY_landed\n",
      "R_avg_LEG_att\n",
      "R_avg_LEG_landed\n",
      "R_avg_opp_LEG_att\n",
      "R_avg_opp_LEG_landed\n",
      "R_avg_DISTANCE_att\n",
      "R_avg_DISTANCE_landed\n",
      "R_avg_opp_DISTANCE_att\n",
      "R_avg_opp_DISTANCE_landed\n",
      "R_avg_CLINCH_att\n",
      "R_avg_CLINCH_landed\n",
      "R_avg_opp_CLINCH_att\n",
      "R_avg_opp_CLINCH_landed\n",
      "R_avg_GROUND_att\n",
      "R_avg_GROUND_landed\n",
      "R_avg_opp_GROUND_att\n",
      "R_avg_opp_GROUND_landed\n",
      "R_avg_CTRL_time(seconds)\n",
      "R_avg_opp_CTRL_time(seconds)\n",
      "R_total_time_fought(seconds)\n",
      "R_total_rounds_fought\n",
      "R_total_title_bouts\n",
      "R_current_win_streak\n",
      "R_current_lose_streak\n",
      "R_longest_win_streak\n",
      "R_wins\n",
      "R_losses\n",
      "R_draw\n",
      "R_win_by_Decision_Majority\n",
      "R_win_by_Decision_Split\n",
      "R_win_by_Decision_Unanimous\n",
      "R_win_by_KO/TKO\n",
      "R_win_by_Submission\n",
      "R_win_by_TKO_Doctor_Stoppage\n",
      "R_Stance\n",
      "R_Height_cms\n",
      "R_Reach_cms\n",
      "R_Weight_lbs\n",
      "B_age\n",
      "R_age\n"
     ]
    }
   ],
   "source": [
    "for i in data.columns:\n",
    "#     if i in important_cols:\n",
    "#         print(i)\n",
    "    print(i)"
   ]
  },
  {
   "cell_type": "code",
   "execution_count": 20,
   "id": "cab6a14e",
   "metadata": {
    "collapsed": true,
    "hidden": true
   },
   "outputs": [
    {
     "name": "stdout",
     "output_type": "stream",
     "text": [
      "       R_fighter          B_fighter        Referee        date  \\\n",
      "0   Adrian Yanez      Gustavo Lopez  Chris Tognoni  2021-03-20   \n",
      "1   Trevin Giles      Roman Dolidze      Herb Dean  2021-03-20   \n",
      "2    Tai Tuivasa    Harry Hunsucker      Herb Dean  2021-03-20   \n",
      "3  Cheyanne Buys  Montserrat Conejo     Mark Smith  2021-03-20   \n",
      "4  Marion Reneau      Macy Chiasson     Mark Smith  2021-03-20   \n",
      "\n",
      "                 location Winner  title_bout       weight_class  B_avg_KD  \\\n",
      "0  Las Vegas, Nevada, USA    Red       False       Bantamweight     0.000   \n",
      "1  Las Vegas, Nevada, USA    Red       False       Middleweight     0.500   \n",
      "2  Las Vegas, Nevada, USA    Red       False        Heavyweight       NaN   \n",
      "3  Las Vegas, Nevada, USA   Blue       False   WomenStrawweight       NaN   \n",
      "4  Las Vegas, Nevada, USA   Blue       False  WomenBantamweight     0.125   \n",
      "\n",
      "   B_avg_opp_KD  ...  R_win_by_Decision_Unanimous  R_win_by_KO/TKO  \\\n",
      "0           0.0  ...                            0                1   \n",
      "1           0.0  ...                            0                3   \n",
      "2           NaN  ...                            1                3   \n",
      "3           NaN  ...                            0                0   \n",
      "4           0.0  ...                            1                2   \n",
      "\n",
      "   R_win_by_Submission  R_win_by_TKO_Doctor_Stoppage  R_Stance  R_Height_cms  \\\n",
      "0                    0                             0  Orthodox        170.18   \n",
      "1                    0                             0  Orthodox        182.88   \n",
      "2                    0                             0  Southpaw        187.96   \n",
      "3                    0                             0    Switch        160.02   \n",
      "4                    2                             0  Orthodox        167.64   \n",
      "\n",
      "   R_Reach_cms  R_Weight_lbs  B_age  R_age  \n",
      "0       177.80         135.0   31.0   27.0  \n",
      "1       187.96         185.0   32.0   28.0  \n",
      "2       190.50         264.0   32.0   28.0  \n",
      "3       160.02         115.0   28.0   25.0  \n",
      "4       172.72         135.0   29.0   43.0  \n",
      "\n",
      "[5 rows x 144 columns]\n"
     ]
    }
   ],
   "source": [
    "import pandas as pd\n",
    "\n",
    "# Read the data into a dataframe\n",
    "data = pd.read_csv('https://raw.githubusercontent.com/Vishsticks/ufc-ml/main/data.csv')\n",
    "\n",
    "# Subset the dataframe to include only the important columns\n",
    "important_cols = ['R_fighter', 'B_fighter', 'date', 'location', 'Winner', 'title_bout', 'weight_class', \n",
    "                  'B_avg_KD', 'B_avg_SIG_STR_pct', 'B_avg_TD_pct', 'B_avg_SUB_ATT', 'B_avg_CTRL_time(seconds)', \n",
    "                  'B_current_win_streak', 'B_wins', 'B_losses', 'B_win_by_KO/TKO', 'B_win_by_Submission', \n",
    "                  'B_win_by_TKO_Doctor_Stoppage', 'B_Height_cms', 'B_Reach_cms', 'R_avg_KD', 'R_avg_SIG_STR_pct', \n",
    "                  'R_avg_TD_pct', 'R_avg_SUB_ATT', 'R_avg_CTRL_time(seconds)', 'R_current_win_streak', 'R_wins', \n",
    "                  'R_losses', 'R_win_by_KO/TKO', 'R_win_by_Submission', 'R_win_by_TKO_Doctor_Stoppage', 'R_Height_cms', \n",
    "                  'R_Reach_cms']\n",
    "\n",
    "# data = data[important_cols]\n",
    "\n",
    "# Display the resulting dataframe\n",
    "print(data.head())\n"
   ]
  },
  {
   "cell_type": "code",
   "execution_count": 29,
   "id": "44bc28d6",
   "metadata": {
    "hidden": true
   },
   "outputs": [],
   "source": [
    "data2=data[important_cols].dropna()"
   ]
  },
  {
   "cell_type": "code",
   "execution_count": 30,
   "id": "10396d46",
   "metadata": {
    "hidden": true
   },
   "outputs": [],
   "source": [
    "X,Y=data2.drop('Winner',axis=1),data2.Winner"
   ]
  },
  {
   "cell_type": "code",
   "execution_count": 31,
   "id": "26f06846",
   "metadata": {
    "collapsed": true,
    "hidden": true
   },
   "outputs": [
    {
     "data": {
      "text/plain": [
       "R_fighter                       0\n",
       "B_fighter                       0\n",
       "date                            0\n",
       "location                        0\n",
       "title_bout                      0\n",
       "weight_class                    0\n",
       "B_avg_KD                        0\n",
       "B_avg_SIG_STR_pct               0\n",
       "B_avg_TD_pct                    0\n",
       "B_avg_SUB_ATT                   0\n",
       "B_avg_CTRL_time(seconds)        0\n",
       "B_current_win_streak            0\n",
       "B_wins                          0\n",
       "B_losses                        0\n",
       "B_win_by_KO/TKO                 0\n",
       "B_win_by_Submission             0\n",
       "B_win_by_TKO_Doctor_Stoppage    0\n",
       "B_Height_cms                    0\n",
       "B_Reach_cms                     0\n",
       "R_avg_KD                        0\n",
       "R_avg_SIG_STR_pct               0\n",
       "R_avg_TD_pct                    0\n",
       "R_avg_SUB_ATT                   0\n",
       "R_avg_CTRL_time(seconds)        0\n",
       "R_current_win_streak            0\n",
       "R_wins                          0\n",
       "R_losses                        0\n",
       "R_win_by_KO/TKO                 0\n",
       "R_win_by_Submission             0\n",
       "R_win_by_TKO_Doctor_Stoppage    0\n",
       "R_Height_cms                    0\n",
       "R_Reach_cms                     0\n",
       "dtype: int64"
      ]
     },
     "execution_count": 31,
     "metadata": {},
     "output_type": "execute_result"
    }
   ],
   "source": [
    "X.isnull().sum()"
   ]
  },
  {
   "cell_type": "code",
   "execution_count": 32,
   "id": "7611cefe",
   "metadata": {
    "collapsed": true,
    "hidden": true
   },
   "outputs": [
    {
     "data": {
      "text/plain": [
       "(3921, 32)"
      ]
     },
     "execution_count": 32,
     "metadata": {},
     "output_type": "execute_result"
    }
   ],
   "source": [
    "X.shape"
   ]
  },
  {
   "cell_type": "code",
   "execution_count": 52,
   "id": "ce1538ec",
   "metadata": {
    "hidden": true
   },
   "outputs": [],
   "source": [
    "from sklearn.pipeline import Pipeline\n",
    "from xgboost import XGBClassifier\n",
    "from sklearn.preprocessing import StandardScaler,OneHotEncoder,LabelEncoder,FunctionTransformer\n",
    "from sklearn.manifold import TSNE\n",
    "from sklearn.impute import KNNImputer\n",
    "\n",
    "from sklearn.decomposition import PCA"
   ]
  },
  {
   "cell_type": "code",
   "execution_count": 54,
   "id": "eca5b66d",
   "metadata": {
    "hidden": true
   },
   "outputs": [],
   "source": [
    "y_enc=LabelEncoder().fit_transform(Y)"
   ]
  },
  {
   "cell_type": "code",
   "execution_count": 55,
   "id": "d0d2de70",
   "metadata": {
    "hidden": true
   },
   "outputs": [],
   "source": [
    "from sklearn.model_selection import train_test_split\n",
    "\n",
    "x_train,x_test,y_train,y_test=train_test_split(X,y_enc)"
   ]
  },
  {
   "cell_type": "code",
   "execution_count": 76,
   "id": "3f0d4c70",
   "metadata": {
    "collapsed": true,
    "hidden": true
   },
   "outputs": [
    {
     "name": "stdout",
     "output_type": "stream",
     "text": [
      "iter True 10\n",
      "    accuracy                           0.57       981\n",
      "iter True 11\n",
      "    accuracy                           0.56       981\n",
      "iter True 12\n",
      "    accuracy                           0.59       981\n",
      "iter True 13\n",
      "    accuracy                           0.56       981\n",
      "iter True 14\n",
      "    accuracy                           0.56       981\n",
      "iter True 15\n",
      "    accuracy                           0.55       981\n",
      "iter True 16\n",
      "    accuracy                           0.57       981\n",
      "iter True 17\n",
      "    accuracy                           0.56       981\n",
      "iter True 18\n",
      "    accuracy                           0.57       981\n",
      "iter True 19\n",
      "    accuracy                           0.57       981\n",
      "iter True 20\n",
      "    accuracy                           0.56       981\n",
      "iter True 21\n",
      "    accuracy                           0.58       981\n",
      "iter True 22\n",
      "    accuracy                           0.57       981\n",
      "iter True 23\n",
      "    accuracy                           0.57       981\n",
      "iter True 24\n",
      "    accuracy                           0.58       981\n",
      "iter True 25\n",
      "    accuracy                           0.56       981\n",
      "iter True 26\n",
      "    accuracy                           0.58       981\n",
      "iter True 27\n",
      "    accuracy                           0.57       981\n",
      "iter True 28\n",
      "    accuracy                           0.59       981\n",
      "iter True 29\n",
      "    accuracy                           0.57       981\n",
      "iter True 30\n",
      "    accuracy                           0.59       981\n",
      "iter True 31\n",
      "    accuracy                           0.56       981\n",
      "iter True 32\n",
      "    accuracy                           0.56       981\n",
      "iter True 33\n",
      "    accuracy                           0.58       981\n",
      "iter True 34\n",
      "    accuracy                           0.58       981\n",
      "iter True 35\n",
      "    accuracy                           0.59       981\n",
      "iter True 36\n",
      "    accuracy                           0.58       981\n",
      "iter True 37\n",
      "    accuracy                           0.59       981\n",
      "iter True 38\n",
      "    accuracy                           0.58       981\n",
      "iter True 39\n",
      "    accuracy                           0.58       981\n",
      "iter True 40\n",
      "    accuracy                           0.58       981\n",
      "iter True 41\n",
      "    accuracy                           0.58       981\n",
      "iter True 42\n",
      "    accuracy                           0.61       981\n",
      "iter True 43\n",
      "    accuracy                           0.57       981\n",
      "iter True 44\n",
      "    accuracy                           0.58       981\n",
      "iter True 45\n",
      "    accuracy                           0.59       981\n",
      "iter True 46\n",
      "    accuracy                           0.58       981\n",
      "iter True 47\n",
      "    accuracy                           0.60       981\n",
      "iter True 48\n",
      "    accuracy                           0.58       981\n",
      "iter True 49\n",
      "    accuracy                           0.61       981\n"
     ]
    }
   ],
   "source": [
    "for i in range(10,50):\n",
    "    steps=[]\n",
    "    steps.append(('OHE',OneHotEncoder(sparse=False,handle_unknown='ignore')))\n",
    "    # steps.appeOneHotEncoder(('Imputer',KNNImputer()))\n",
    "    # tsne_transformer = FunctionTransformer(TSNE().fit_transform)\n",
    "    # steps.append(('DR',tsne_transformer))\n",
    "    steps.append(('ohe',PCA(i)))\n",
    "    steps.append(('Model',XGBClassifier()))\n",
    "    pipe=Pipeline(steps)\n",
    "    pipe.fit(x_train,y_train)\n",
    "\n",
    "    pred=pipe.predict(x_test)\n",
    "\n",
    "    from sklearn.metrics import classification_report,ConfusionMatrixDisplay,confusion_matrix\n",
    "#     print(classification_report(y_test,pred))\n",
    "    print('iter',True,i)\n",
    "    print(classification_report(y_test,pred).splitlines()[6])\n",
    "#     pipe"
   ]
  },
  {
   "cell_type": "code",
   "execution_count": 72,
   "id": "9a8a46aa",
   "metadata": {
    "hidden": true
   },
   "outputs": [
    {
     "data": {
      "text/plain": [
       "'    accuracy                           0.57       981'"
      ]
     },
     "execution_count": 72,
     "metadata": {},
     "output_type": "execute_result"
    }
   ],
   "source": [
    "pipe.fit(x_train,y_train)\n",
    "\n",
    "# pred=pipe.predict(x_test)\n",
    "\n",
    "# from sklearn.metrics import classification_report,ConfusionMatrixDisplay,confusion_matrix\n",
    "# print(classification_report(y_test,pred))\n",
    "\n",
    "classification_report(y_test,pred).splitlines()[6]"
   ]
  }
 ],
 "metadata": {
  "kernelspec": {
   "display_name": "Python 3 (ipykernel)",
   "language": "python",
   "name": "python3"
  },
  "language_info": {
   "codemirror_mode": {
    "name": "ipython",
    "version": 3
   },
   "file_extension": ".py",
   "mimetype": "text/x-python",
   "name": "python",
   "nbconvert_exporter": "python",
   "pygments_lexer": "ipython3",
   "version": "3.9.13"
  }
 },
 "nbformat": 4,
 "nbformat_minor": 5
}
