{
 "cells": [
  {
   "cell_type": "code",
   "execution_count": 1,
   "id": "b693bd0b",
   "metadata": {},
   "outputs": [],
   "source": [
    "import pandas as pd"
   ]
  },
  {
   "cell_type": "code",
   "execution_count": 2,
   "id": "7762fd6a",
   "metadata": {},
   "outputs": [
    {
     "data": {
      "text/html": [
       "<div>\n",
       "<style scoped>\n",
       "    .dataframe tbody tr th:only-of-type {\n",
       "        vertical-align: middle;\n",
       "    }\n",
       "\n",
       "    .dataframe tbody tr th {\n",
       "        vertical-align: top;\n",
       "    }\n",
       "\n",
       "    .dataframe thead th {\n",
       "        text-align: right;\n",
       "    }\n",
       "</style>\n",
       "<table border=\"1\" class=\"dataframe\">\n",
       "  <thead>\n",
       "    <tr style=\"text-align: right;\">\n",
       "      <th></th>\n",
       "      <th>R_fighter</th>\n",
       "      <th>B_fighter</th>\n",
       "      <th>Referee</th>\n",
       "      <th>date</th>\n",
       "      <th>location</th>\n",
       "      <th>Winner</th>\n",
       "      <th>title_bout</th>\n",
       "      <th>weight_class</th>\n",
       "      <th>B_avg_KD</th>\n",
       "      <th>B_avg_opp_KD</th>\n",
       "      <th>...</th>\n",
       "      <th>R_win_by_Decision_Unanimous</th>\n",
       "      <th>R_win_by_KO/TKO</th>\n",
       "      <th>R_win_by_Submission</th>\n",
       "      <th>R_win_by_TKO_Doctor_Stoppage</th>\n",
       "      <th>R_Stance</th>\n",
       "      <th>R_Height_cms</th>\n",
       "      <th>R_Reach_cms</th>\n",
       "      <th>R_Weight_lbs</th>\n",
       "      <th>B_age</th>\n",
       "      <th>R_age</th>\n",
       "    </tr>\n",
       "  </thead>\n",
       "  <tbody>\n",
       "    <tr>\n",
       "      <th>0</th>\n",
       "      <td>Adrian Yanez</td>\n",
       "      <td>Gustavo Lopez</td>\n",
       "      <td>Chris Tognoni</td>\n",
       "      <td>2021-03-20</td>\n",
       "      <td>Las Vegas, Nevada, USA</td>\n",
       "      <td>Red</td>\n",
       "      <td>False</td>\n",
       "      <td>Bantamweight</td>\n",
       "      <td>0.000000</td>\n",
       "      <td>0.000</td>\n",
       "      <td>...</td>\n",
       "      <td>0</td>\n",
       "      <td>1</td>\n",
       "      <td>0</td>\n",
       "      <td>0</td>\n",
       "      <td>Orthodox</td>\n",
       "      <td>170.18</td>\n",
       "      <td>177.80</td>\n",
       "      <td>135.0</td>\n",
       "      <td>31.0</td>\n",
       "      <td>27.0</td>\n",
       "    </tr>\n",
       "    <tr>\n",
       "      <th>1</th>\n",
       "      <td>Trevin Giles</td>\n",
       "      <td>Roman Dolidze</td>\n",
       "      <td>Herb Dean</td>\n",
       "      <td>2021-03-20</td>\n",
       "      <td>Las Vegas, Nevada, USA</td>\n",
       "      <td>Red</td>\n",
       "      <td>False</td>\n",
       "      <td>Middleweight</td>\n",
       "      <td>0.500000</td>\n",
       "      <td>0.000</td>\n",
       "      <td>...</td>\n",
       "      <td>0</td>\n",
       "      <td>3</td>\n",
       "      <td>0</td>\n",
       "      <td>0</td>\n",
       "      <td>Orthodox</td>\n",
       "      <td>182.88</td>\n",
       "      <td>187.96</td>\n",
       "      <td>185.0</td>\n",
       "      <td>32.0</td>\n",
       "      <td>28.0</td>\n",
       "    </tr>\n",
       "    <tr>\n",
       "      <th>2</th>\n",
       "      <td>Marion Reneau</td>\n",
       "      <td>Macy Chiasson</td>\n",
       "      <td>Mark Smith</td>\n",
       "      <td>2021-03-20</td>\n",
       "      <td>Las Vegas, Nevada, USA</td>\n",
       "      <td>Blue</td>\n",
       "      <td>False</td>\n",
       "      <td>WomenBantamweight</td>\n",
       "      <td>0.125000</td>\n",
       "      <td>0.000</td>\n",
       "      <td>...</td>\n",
       "      <td>1</td>\n",
       "      <td>2</td>\n",
       "      <td>2</td>\n",
       "      <td>0</td>\n",
       "      <td>Orthodox</td>\n",
       "      <td>167.64</td>\n",
       "      <td>172.72</td>\n",
       "      <td>135.0</td>\n",
       "      <td>29.0</td>\n",
       "      <td>43.0</td>\n",
       "    </tr>\n",
       "    <tr>\n",
       "      <th>3</th>\n",
       "      <td>Leonardo Santos</td>\n",
       "      <td>Grant Dawson</td>\n",
       "      <td>Chris Tognoni</td>\n",
       "      <td>2021-03-20</td>\n",
       "      <td>Las Vegas, Nevada, USA</td>\n",
       "      <td>Blue</td>\n",
       "      <td>False</td>\n",
       "      <td>Lightweight</td>\n",
       "      <td>0.000000</td>\n",
       "      <td>0.000</td>\n",
       "      <td>...</td>\n",
       "      <td>2</td>\n",
       "      <td>2</td>\n",
       "      <td>2</td>\n",
       "      <td>0</td>\n",
       "      <td>Orthodox</td>\n",
       "      <td>182.88</td>\n",
       "      <td>190.50</td>\n",
       "      <td>155.0</td>\n",
       "      <td>27.0</td>\n",
       "      <td>41.0</td>\n",
       "    </tr>\n",
       "    <tr>\n",
       "      <th>4</th>\n",
       "      <td>Song Kenan</td>\n",
       "      <td>Max Griffin</td>\n",
       "      <td>Keith Peterson</td>\n",
       "      <td>2021-03-20</td>\n",
       "      <td>Las Vegas, Nevada, USA</td>\n",
       "      <td>Blue</td>\n",
       "      <td>False</td>\n",
       "      <td>Welterweight</td>\n",
       "      <td>0.046875</td>\n",
       "      <td>0.125</td>\n",
       "      <td>...</td>\n",
       "      <td>1</td>\n",
       "      <td>3</td>\n",
       "      <td>0</td>\n",
       "      <td>0</td>\n",
       "      <td>Orthodox</td>\n",
       "      <td>182.88</td>\n",
       "      <td>180.34</td>\n",
       "      <td>170.0</td>\n",
       "      <td>35.0</td>\n",
       "      <td>31.0</td>\n",
       "    </tr>\n",
       "  </tbody>\n",
       "</table>\n",
       "<p>5 rows × 144 columns</p>\n",
       "</div>"
      ],
      "text/plain": [
       "         R_fighter      B_fighter         Referee        date  \\\n",
       "0     Adrian Yanez  Gustavo Lopez   Chris Tognoni  2021-03-20   \n",
       "1     Trevin Giles  Roman Dolidze       Herb Dean  2021-03-20   \n",
       "2    Marion Reneau  Macy Chiasson      Mark Smith  2021-03-20   \n",
       "3  Leonardo Santos   Grant Dawson   Chris Tognoni  2021-03-20   \n",
       "4       Song Kenan    Max Griffin  Keith Peterson  2021-03-20   \n",
       "\n",
       "                 location Winner  title_bout       weight_class  B_avg_KD  \\\n",
       "0  Las Vegas, Nevada, USA    Red       False       Bantamweight  0.000000   \n",
       "1  Las Vegas, Nevada, USA    Red       False       Middleweight  0.500000   \n",
       "2  Las Vegas, Nevada, USA   Blue       False  WomenBantamweight  0.125000   \n",
       "3  Las Vegas, Nevada, USA   Blue       False        Lightweight  0.000000   \n",
       "4  Las Vegas, Nevada, USA   Blue       False       Welterweight  0.046875   \n",
       "\n",
       "   B_avg_opp_KD  ...  R_win_by_Decision_Unanimous  R_win_by_KO/TKO  \\\n",
       "0         0.000  ...                            0                1   \n",
       "1         0.000  ...                            0                3   \n",
       "2         0.000  ...                            1                2   \n",
       "3         0.000  ...                            2                2   \n",
       "4         0.125  ...                            1                3   \n",
       "\n",
       "   R_win_by_Submission  R_win_by_TKO_Doctor_Stoppage  R_Stance  R_Height_cms  \\\n",
       "0                    0                             0  Orthodox        170.18   \n",
       "1                    0                             0  Orthodox        182.88   \n",
       "2                    2                             0  Orthodox        167.64   \n",
       "3                    2                             0  Orthodox        182.88   \n",
       "4                    0                             0  Orthodox        182.88   \n",
       "\n",
       "   R_Reach_cms  R_Weight_lbs  B_age  R_age  \n",
       "0       177.80         135.0   31.0   27.0  \n",
       "1       187.96         185.0   32.0   28.0  \n",
       "2       172.72         135.0   29.0   43.0  \n",
       "3       190.50         155.0   27.0   41.0  \n",
       "4       180.34         170.0   35.0   31.0  \n",
       "\n",
       "[5 rows x 144 columns]"
      ]
     },
     "execution_count": 2,
     "metadata": {},
     "output_type": "execute_result"
    }
   ],
   "source": [
    "data=pd.read_csv('ufc.csv')\n",
    "data.head()"
   ]
  },
  {
   "cell_type": "code",
   "execution_count": 3,
   "id": "58fa7468",
   "metadata": {},
   "outputs": [],
   "source": [
    "int_cols=data.select_dtypes((int,float))\n",
    "d=pd.concat((data[['R_fighter','B_fighter']],int_cols))\n",
    "\n",
    "R=[i for i in data.columns if i[0]=='R']\n",
    "B=[i for i in data.columns if i[0]=='B']\n",
    "\n",
    "cols=['date','location','Winner','title_bout','weight_class']\n",
    "red_corner=pd.concat((data[R],data[cols]),axis=1)\n",
    "red_corner\n",
    "\n",
    "cols=['Referee','date','location','Winner','title_bout','weight_class']\n",
    "blue_corner=pd.concat((data[B],data[cols]),axis=1)\n",
    "blue_corner.head()"
   ]
  },
  {
   "cell_type": "code",
   "execution_count": null,
   "id": "03f48054",
   "metadata": {},
   "outputs": [],
   "source": [
    "len(R),len(B)"
   ]
  },
  {
   "cell_type": "code",
   "execution_count": null,
   "id": "75561b5b",
   "metadata": {},
   "outputs": [],
   "source": [
    "data.groupby('R_fighter').agg(lambda x: x.mode().iloc[0])"
   ]
  },
  {
   "cell_type": "code",
   "execution_count": null,
   "id": "c0fe8d8b",
   "metadata": {},
   "outputs": [],
   "source": [
    "data.groupby('R_fighter').mean()"
   ]
  },
  {
   "cell_type": "code",
   "execution_count": null,
   "id": "f878f359",
   "metadata": {},
   "outputs": [],
   "source": [
    "data.head()"
   ]
  },
  {
   "cell_type": "code",
   "execution_count": null,
   "id": "80698581",
   "metadata": {},
   "outputs": [],
   "source": [
    "for i in (data.columns):\n",
    "    print(i)"
   ]
  },
  {
   "cell_type": "code",
   "execution_count": null,
   "id": "5ed1f2e6",
   "metadata": {
    "code_folding": []
   },
   "outputs": [],
   "source": [
    "# Get unique fighter names and stats\n",
    "data2 = data.copy().dropna()\n",
    "unique_fighters = pd.unique(data2[['R_fighter', 'B_fighter']].values.ravel())\n",
    "\n",
    "# Compute the mean for each fighter\n",
    "numeric_columns = data2.select_dtypes(include='number').columns.tolist()\n",
    "categorical_columns = data2.select_dtypes(include='object').columns.tolist()\n",
    "\n",
    "fighter_means = pd.DataFrame(index=unique_fighters, columns=numeric_columns + categorical_columns)\n",
    "\n",
    "for fighter in unique_fighters:\n",
    "    fighter_data = data2[(data2['R_fighter'] == fighter) | (data2['B_fighter'] == fighter)]\n",
    "    \n",
    "    # Compute the mean for numeric columns only\n",
    "    mean_values = fighter_data[numeric_columns].describe().loc['mean']\n",
    "    \n",
    "    # Assign mean values to the dataframe for this fighter\n",
    "    fighter_means.loc[fighter, numeric_columns] = mean_values.values\n",
    "    \n",
    "    # Assign the mode value for categorical columns\n",
    "    for col in categorical_columns:\n",
    "        if col in fighter_data.columns:\n",
    "            mode_value = fighter_data[col].mode()[0]\n",
    "            fighter_means.loc[fighter, col] = mode_value\n",
    "\n",
    "# Rename the index column and reset the index\n",
    "fighter_means.index.name = 'unique_fighter'\n",
    "fighter_means = fighter_means.reset_index()\n",
    "\n",
    "# Display the resulting dataframe\n",
    "fighter_means.head(10)\n",
    "\n",
    "\n",
    "sorted_fighters=fighter_means.sort_values('unique_fighter').reset_index(drop=True)\n",
    "sorted_fighters.head(2)"
   ]
  },
  {
   "cell_type": "code",
   "execution_count": null,
   "id": "800de314",
   "metadata": {},
   "outputs": [],
   "source": [
    "data2=pd.read_csv('ufc.csv',index_col=0).drop('Unnamed: 0',axis=1)\n",
    "float_columns=data2."
   ]
  },
  {
   "cell_type": "code",
   "execution_count": 19,
   "id": "18642c53",
   "metadata": {},
   "outputs": [
    {
     "data": {
      "text/plain": [
       "Index(['R_fighter', 'B_fighter', 'Referee', 'date', 'location', 'Winner',\n",
       "       'title_bout', 'weight_class', 'B_avg_KD', 'B_avg_opp_KD',\n",
       "       ...\n",
       "       'R_win_by_Decision_Unanimous', 'R_win_by_KO/TKO', 'R_win_by_Submission',\n",
       "       'R_win_by_TKO_Doctor_Stoppage', 'R_Stance', 'R_Height_cms',\n",
       "       'R_Reach_cms', 'R_Weight_lbs', 'B_age', 'R_age'],\n",
       "      dtype='object', length=144)"
      ]
     },
     "execution_count": 19,
     "metadata": {},
     "output_type": "execute_result"
    }
   ],
   "source": [
    "data.columns"
   ]
  },
  {
   "cell_type": "code",
   "execution_count": null,
   "id": "d16c3ad1",
   "metadata": {},
   "outputs": [],
   "source": [
    "data"
   ]
  },
  {
   "cell_type": "code",
   "execution_count": 23,
   "id": "0c0ce781",
   "metadata": {},
   "outputs": [],
   "source": [
    "data=pd.read_csv('ufc.csv')"
   ]
  },
  {
   "cell_type": "code",
   "execution_count": 24,
   "id": "91419276",
   "metadata": {},
   "outputs": [
    {
     "data": {
      "text/plain": [
       "0"
      ]
     },
     "execution_count": 24,
     "metadata": {},
     "output_type": "execute_result"
    }
   ],
   "source": [
    "data['B_avg_KD'].isnull().sum()"
   ]
  }
 ],
 "metadata": {
  "kernelspec": {
   "display_name": "Python 3 (ipykernel)",
   "language": "python",
   "name": "python3"
  },
  "language_info": {
   "codemirror_mode": {
    "name": "ipython",
    "version": 3
   },
   "file_extension": ".py",
   "mimetype": "text/x-python",
   "name": "python",
   "nbconvert_exporter": "python",
   "pygments_lexer": "ipython3",
   "version": "3.9.13"
  }
 },
 "nbformat": 4,
 "nbformat_minor": 5
}
