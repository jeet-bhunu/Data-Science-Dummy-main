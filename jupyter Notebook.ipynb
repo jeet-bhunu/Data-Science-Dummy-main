{
 "cells": [
  {
   "cell_type": "markdown",
   "id": "f2946fb1",
   "metadata": {},
   "source": [
    "<div style=\"display: flex; align-items: center;\">\n",
    "  <img src=\"https://drive.google.com/uc?id=1frTodJK0O6I0Jb5WVBn8DkbRqoP5m0Nw\" alt=\"jupyter logo\" width=\"\" height=\"\" />\n",
    "  <div style=\"margin-left: 10px;font-size:35px;\">\n",
    "    <h1><span style=\"color:#6e7f80\">jupyter </span><span style=\"color:#cc5500\">Notebook</span></h1>\n",
    "    <h2 style='font-size:10px'>Space for contemplation, exploration, and discovery of the vast universe of data and ideas that surround us 👨‍💻</h2>\n",
    "    \n",
    "  </div>\n",
    "</div>\n",
    "\n",
    "<hr>\n",
    "jupyter Notebook serves as a digital medium in which students are encouraged to document and organize their notes during the learning process. It provides a platform for the cultivation of critical thinking, analysis, and interpretation of complex data sets, as well as the integration of multimedia elements to enhance comprehension and retention of course material.<br>\n",
    "<br>\n",
    "<p style=\"color:#78866b\"> Save → Earth🌎 ← Tree 🌲 ← paper 📝←Go green♻️ . <span style=\"float:right\">&copy; slmsshk</span></p>"
   ]
  },
  {
   "cell_type": "markdown",
   "id": "6739fde3",
   "metadata": {},
   "source": [
    "# Introduction to Jupyter Notebook\n",
    "\n",
    "Jupyter Notebook is an application that allows users to create and share documents that contain live code, equations, visualizations, and narrative text. It is a powerful tool for data analysis, machine learning, and scientific research. \n",
    "\n",
    "## Features of Jupyter Notebook\n",
    "\n",
    "- **Support for multiple programming languages:** Jupyter Notebook supports over 40 programming languages including Python, R, Julia, and Scala.\n",
    "- **Interactive code execution:** Users can write and execute code directly in the notebook, which provides a seamless interactive coding experience.\n",
    "- **Rich display capabilities:** Jupyter Notebook allows users to create rich and interactive visualizations, such as plots and graphs, directly in the notebook.\n",
    "- **In-line documentation:** Users can write and view documentation in the same notebook cell as the code, which helps to explain the code and its purpose.\n",
    "- **Easy sharing:** Notebooks can be shared with others easily through file sharing, email, or through online services like GitHub or Jupyter Notebook Viewer.\n",
    "- **Flexible data processing and analysis:** Jupyter Notebook can handle a variety of data processing and analysis tasks, from data cleaning and exploration to machine learning and scientific modeling.\n",
    "\n",
    "## How Jupyter Notebook is used\n",
    "\n",
    "Jupyter Notebook is widely used in various industries, including data science, research, and education. Here are some common use cases:\n",
    "\n",
    "- **Data analysis emoticon\n",
    "📊 :** Jupyter Notebook allows users to analyze and visualize data, explore datasets, and prototype and test data processing pipelines.\n",
    "- **Machine learning  🧠 :** Jupyter Notebook is often used for developing and training machine learning models, as well as for experimentation and model evaluation.\n",
    "- **Scientific research  🧬 :** Jupyter Notebook is also used in scientific research to create reproducible and interactive computational workflows for analyzing and sharing research data.\n",
    "\n",
    "Overall, Jupyter Notebook is a versatile and powerful tool that can be used for a wide range of data analysis and modeling tasks. Its rich feature set and flexibility make it an essential tool for anyone working with data or doing scientific research."
   ]
  },
  {
   "cell_type": "markdown",
   "id": "25fc182b",
   "metadata": {},
   "source": [
    "# <span style=\"color:blue\">Tool Bar</span>"
   ]
  },
  {
   "cell_type": "markdown",
   "id": "f1046840",
   "metadata": {},
   "source": [
    "<div style=\"background-color:#f2f3f4\">\n",
    "\n",
    "<button class=\"btn btn-default\" title=\"Save and Checkpoint\" data-jupyter-action=\"jupyter-notebook:save-notebook\"><i class=\"fa-save fa\"></i></button><code>Save</code><br>\n",
    "<button class=\"btn btn-default\" title=\"insert cell below\" data-jupyter-action=\"jupyter-notebook:insert-cell-below\"><i class=\"fa-plus fa\"></i></button><code>add new cell</code><br>\n",
    "<button class=\"btn btn-default\" title=\"cut selected cells\" data-jupyter-action=\"jupyter-notebook:cut-cell\"><i class=\"fa-cut fa\"></i></button><code>cut</code>\n",
    "<button class=\"btn btn-default\" title=\"copy selected cells\" data-jupyter-action=\"jupyter-notebook:copy-cell\"><i class=\"fa-copy fa\"></i></button><code>copy</code>\n",
    "<button class=\"btn btn-default\" title=\"paste cells below\" data-jupyter-action=\"jupyter-notebook:paste-cell-below\"><i class=\"fa-paste fa\"></i></button><code>paste</code><br>\n",
    "<button class=\"btn btn-default\" title=\"move selected cells up\" data-jupyter-action=\"jupyter-notebook:move-cell-up\"><i class=\"fa-arrow-up fa\"></i></button><code>move selected cells up</code> <button class=\"btn btn-default\" title=\"move selected cells down\" data-jupyter-action=\"jupyter-notebook:move-cell-down\"><i class=\"fa-arrow-down fa\"></i></button><code>move selected cells down</code><br>\n",
    "<button class=\"btn btn-default\" aria-label=\"Run\" title=\"run cell, select below\" data-jupyter-action=\"jupyter-notebook:run-cell-and-select-next\"><i class=\"fa-play fa\"></i><span class=\"toolbar-btn-label\">Run</span></button><code>Run\\execute selcetd cell</code> <button class=\"btn btn-default\" title=\"interrupt the kernel\" data-jupyter-action=\"jupyter-notebook:interrupt-kernel\"><i class=\"fa-stop fa\"></i></button><code>stop\\interrupt execution</code> <button class=\"btn btn-default\" title=\"restart the kernel (with dialog)\" data-jupyter-action=\"jupyter-notebook:confirm-restart-kernel\"><i class=\"fa-repeat fa\"></i></button><code>restart the kernel</code> <button class=\"btn btn-default\" title=\"restart the kernel, then re-run the whole notebook (with dialog)\" data-jupyter-action=\"jupyter-notebook:confirm-restart-kernel-and-run-all-cells\"><i class=\"fa-forward fa\"></i></button><code>restart the kernel, then re-run the whole notebook</code><br>\n",
    "<select><option value=\"code\">Code</option><option value=\"markdown\">Markdown</option><option value=\"raw\">Raw NBConvert</option><option value=\"heading\">Heading</option><option value=\"multiselect\" disabled=\"disabled\" style=\"display: none;\">-</option></select>`<code>select cell type</code>   <button class=\"btn btn-default\" title=\"open the command palette\" data-jupyter-action=\"jupyter-notebook:show-command-palette\"><i class=\"fa-keyboard-o fa\"></i></button><code>open the command palette</code>\n",
    "\n",
    "</div>"
   ]
  },
  {
   "cell_type": "markdown",
   "id": "bd816323",
   "metadata": {},
   "source": [
    "# Cells:\n",
    "\n",
    "Jupyter Notebook is organized into cells, which can be either code cells or markdown cells.\n",
    "\n",
    "* Code cells: These cells allow you to write and execute code in the Notebook. You can use them to perform data analysis, create visualizations, and even build machine learning models.\n",
    "\n",
    "* Markdown cells: These cells allow you to write and format text in the Notebook. You can use them to write documentation, add headings, create lists, and much more."
   ]
  },
  {
   "cell_type": "markdown",
   "id": "25f1339f",
   "metadata": {},
   "source": [
    "## Creating New Cells\n",
    "\n",
    "To create a new cell, simply click on the plus (+) button in the toolbar or use the keyboard shortcut `Esc + A` to create a new cell above the current cell or `Esc + B` to create a new cell below the current cell.\n",
    "\n",
    "## Deleting Cells\n",
    "\n",
    "To delete a cell, simply click on the cell you want to delete and then click on the scissors button in the toolbar, or use the keyboard shortcut `Esc + D + D`.\n",
    "\n",
    "## Rearranging Cells\n",
    "\n",
    "To rearrange cells, simply click on the cell you want to move and then click on the up or down arrow buttons in the toolbar, or use the keyboard shortcuts `Esc + K` to move the cell up or `Esc + J` to move the cell down.\n"
   ]
  },
  {
   "cell_type": "markdown",
   "id": "eb6199a6",
   "metadata": {},
   "source": [
    "# Markdown Basics"
   ]
  },
  {
   "cell_type": "markdown",
   "id": "db19e0ba",
   "metadata": {},
   "source": [
    "## Headings\n",
    "\n",
    "To create a heading, use one or more hash symbols (#) before the text. The number of hash symbols determines the heading level.\n",
    "\n",
    "# Heading 1\n",
    "## Heading 2\n",
    "### Heading 3\n",
    "#### Heading 4\n",
    "##### Heading 5\n",
    "###### Heading 6\n",
    "\n",
    "## Formatting Text\n",
    "\n",
    "You can use various formatting options to emphasize or style text:\n",
    "\n",
    "- Bold: use double asterisks or double underscores to wrap the text (**bold** or __bold__)\n",
    "- Italic: use single asterisks or single underscores to wrap the text (*italic* or _italic_)\n",
    "- Strikethrough: use double tildes to wrap the text (~~strikethrough~~)\n",
    "- Code: use backticks to wrap inline code (`print('Hello, World!')`)\n",
    "- Code block: use triple backticks to create a block of code:\n",
    "```\n",
    "print('Hello, World!')\n",
    "x = 5\n",
    "y = 10\n",
    "print(x + y)\n",
    "```"
   ]
  },
  {
   "cell_type": "markdown",
   "id": "a669e83d",
   "metadata": {},
   "source": [
    "\n",
    "## Lists\n",
    "\n",
    "You can create ordered and unordered lists:\n",
    "\n",
    "- Unordered list: use a hyphen, plus, or asterisk to create a bullet point\n",
    "    - Indented list items are nested\n",
    "- Ordered list: use numbers followed by a period to create a numbered list\n",
    "    1. First item\n",
    "    2. Second item\n",
    "    3. Third item\n",
    "\n",
    "## Links and Images\n",
    "\n",
    "You can add links and images to your markdown:\n",
    "\n",
    "- Link: use square brackets to create the link text and round brackets to add the link URL [Google](https://www.google.com/)\n",
    "- Image: use an exclamation mark before the link syntax to add an image ![Python Logo](https://www.python.org/static/img/python-logo.png)\n",
    "\n",
    "## Tables\n",
    "\n",
    "You can create tables using pipes and dashes:\n",
    "\n",
    "| Column 1 | Column 2 | Column 3 |\n",
    "| -------- | -------- | -------- |\n",
    "| Row 1, Column 1 | Row 1, Column 2 | Row 1, Column 3 |\n",
    "| Row 2, Column 1 | Row 2, Column 2 | Row 2, Column 3 |\n",
    "\n"
   ]
  },
  {
   "cell_type": "markdown",
   "id": "69bf318c",
   "metadata": {},
   "source": [
    "# Using Markdown in Jupyter Notebook.<span style=\"color:green\">{e.g}"
   ]
  },
  {
   "cell_type": "markdown",
   "id": "c98ba513",
   "metadata": {},
   "source": [
    "## Introduction to Jupyter Notebook"
   ]
  },
  {
   "cell_type": "markdown",
   "id": "36c5622f",
   "metadata": {},
   "source": [
    "### What is Jupyter Notebook?\n",
    "\n",
    "[Jupyter Notebook](https://jupyter.org/) is an open-source web application that allows you to create and share documents that contain live code, equations, visualizations, and narrative text.\n",
    "\n"
   ]
  },
  {
   "cell_type": "markdown",
   "id": "879f7adf",
   "metadata": {
    "heading_collapsed": true
   },
   "source": [
    "### Advantages of using Jupyter Notebook\n",
    "\n",
    "- Interactive: Jupyter Notebook provides an interactive environment that allows you to run code and see the output immediately.\n",
    "- Reproducible: Jupyter Notebook makes it easy to reproduce your work by saving and sharing your notebooks.\n",
    "- Visualization: Jupyter Notebook supports rich visualization, including graphs, charts, and maps.\n",
    "- Collaboration: Jupyter Notebook makes it easy to collaborate with others by sharing your notebooks and allowing others to run and edit them."
   ]
  },
  {
   "cell_type": "markdown",
   "id": "b5c02830",
   "metadata": {},
   "source": [
    "### How to use Jupyter Notebook\n",
    "\n",
    "1. Install Jupyter Notebook using [Anaconda](https://www.anaconda.com/products/individual) or [pip](https://jupyter.org/install).\n",
    "2. Launch Jupyter Notebook by typing `jupyter notebook` in your terminal or command prompt.\n",
    "3. Create a new notebook or open an existing one.\n",
    "4. Write and run your code in cells.\n",
    "5. Save your work and share your notebook with others."
   ]
  },
  {
   "cell_type": "markdown",
   "id": "89b7567c",
   "metadata": {},
   "source": [
    "### Conclusion\n",
    "\n",
    "Jupyter Notebook is a powerful tool that can make your data science and programming work more interactive, reproducible, and collaborative. Whether you are a beginner or an experienced developer, Jupyter Notebook can help you work more efficiently and effectively.\n",
    "    "
   ]
  },
  {
   "cell_type": "markdown",
   "id": "a0e8f99e",
   "metadata": {},
   "source": [
    "# Notebook shortcuts"
   ]
  },
  {
   "cell_type": "markdown",
   "id": "bc99cadb",
   "metadata": {},
   "source": [
    "<style>\n",
    "    table {\n",
    "        border-collapse: collapse;\n",
    "    }\n",
    "    th, td {\n",
    "        padding: 8px;\n",
    "        text-align: left;\n",
    "        border-bottom: 1px solid #ddd;\n",
    "    }\n",
    "    th {\n",
    "        background-color: #4CAF50;\n",
    "        color: white;\n",
    "    }\n",
    "    tr:hover {\n",
    "        background-color: #f5f5f5;\n",
    "    }\n",
    "</style>\n",
    "\n",
    "<table>\n",
    "    <thead>\n",
    "        <tr>\n",
    "            <th>Action</th>\n",
    "            <th>Shortcut</th>\n",
    "            <th>Description</th>\n",
    "        </tr>\n",
    "    </thead>\n",
    "    <tbody>\n",
    "        <tr>\n",
    "            <td>Save and Checkpoint</td>\n",
    "            <td><code>Ctrl + S</code></td>\n",
    "            <td>Saves the notebook and creates a checkpoint.</td>\n",
    "        </tr>\n",
    "        <tr>\n",
    "            <td>Add Cell Below</td>\n",
    "            <td><code>B</code></td>\n",
    "            <td>Adds a new cell below the current cell.</td>\n",
    "        </tr>\n",
    "        <tr>\n",
    "            <td>Copy Cell</td>\n",
    "            <td><code>C</code></td>\n",
    "            <td>Copies the selected cell.</td>\n",
    "        </tr>\n",
    "        <tr>\n",
    "            <td>Cut Cell</td>\n",
    "            <td><code>X</code></td>\n",
    "            <td>Cuts the selected cell.</td>\n",
    "        </tr>\n",
    "        <tr>\n",
    "            <td>Paste Cell Below</td>\n",
    "            <td><code>V</code></td>\n",
    "            <td>Pastes the cell below the current cell.</td>\n",
    "        </tr>\n",
    "        <tr>\n",
    "            <td>Undo Last Cell Deletion</td>\n",
    "            <td><code>Z</code></td>\n",
    "            <td>Undoes the last cell deletion.</td>\n",
    "        </tr>\n",
    "        <tr>\n",
    "            <td>Run Cell</td>\n",
    "            <td><code>Shift + Enter</code></td>\n",
    "            <td>Executes the current cell and moves to the next cell.</td>\n",
    "        </tr>\n",
    "        <tr>\n",
    "            <td>Interrupt Kernel</td>\n",
    "            <td><code>I,I</code></td>\n",
    "            <td>Interrupts the execution of the current cell.</td>\n",
    "        </tr>\n",
    "        <tr>\n",
    "            <td>Restart Kernel</td>\n",
    "            <td><code>0,0</code></td>\n",
    "            <td>Restarts the kernel.</td>\n",
    "        </tr>\n",
    "        <tr>\n",
    "            <td>Toggle Line Numbers</td>\n",
    "            <td><code>L</code></td>\n",
    "            <td>Toggles line numbers for the current cell.</td>\n",
    "        </tr>\n",
    "        <tr>\n",
    "            <td>Change Cell Type</td>\n",
    "            <td><code>Y</code> (code), <code>M</code> (markdown), <code>R</code> (raw)</td>\n",
    "            <td>Changes the cell type to code, markdown, or raw NBConvert format.</td>\n",
    "        </tr>\n",
    "        <tr>\n",
    "            <td>Show Keyboard Shortcuts</td>\n",
    "            <td><code>H</code></td>\n",
    "            <td>Displays a list of keyboard shortcuts.</td>\n",
    "        </tr>\n",
    "    </tbody>\n",
    "</table>\n"
   ]
  }
 ],
 "metadata": {
  "kernelspec": {
   "display_name": "Python 3 (ipykernel)",
   "language": "python",
   "name": "python3"
  },
  "language_info": {
   "codemirror_mode": {
    "name": "ipython",
    "version": 3
   },
   "file_extension": ".py",
   "mimetype": "text/x-python",
   "name": "python",
   "nbconvert_exporter": "python",
   "pygments_lexer": "ipython3",
   "version": "3.9.13"
  },
  "vp": {
   "vp_config_version": "1.0.0",
   "vp_menu_width": 273,
   "vp_note_display": false,
   "vp_note_width": 0,
   "vp_position": {
    "width": 278
   },
   "vp_section_display": false,
   "vp_signature": "VisualPython"
  }
 },
 "nbformat": 4,
 "nbformat_minor": 5
}
