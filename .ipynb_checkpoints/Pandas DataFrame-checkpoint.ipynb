{
 "cells": [
  {
   "cell_type": "markdown",
   "id": "b15c4d02",
   "metadata": {},
   "source": [
    "<H1 >Intro to Pandas</H1>\n",
    "\n",
    "<p>When working with tabular data, such as data stored in spreadsheets or databases, pandas is the right tool for you. pandas will help you to explore, clean, and process your data. In pandas, a data table is called a DataFrame</p>\n",
    "\n",
    "\n",
    "\n",
    "<img alt=\"../_images/01_table_dataframe.svg\" class=\"align-center\" src=\"https://pandas.pydata.org/pandas-docs/stable/_images/01_table_dataframe.svg\">\n",
    "\n",
    "<p style=\"font-style: italic;font-weight: bold;\">A DataFrame is a 2-dimensional data structure that can store data of different types (including characters, integers, floating point values, categorical data and more) in columns. It is similar to a spreadsheet, a SQL table or the <code>data.frame</code> in R.</p>\n",
    "\n"
   ]
  },
  {
   "cell_type": "markdown",
   "id": "d4f0df33",
   "metadata": {},
   "source": [
    "<p><span style='color:green;font-size:20px'>Load</span><span style='color:blue;font-size:20px'> Pandas</span></p>\n",
    "<p>To load the pandas package and start working with it, import the package. The community agreed alias for pandas is <code>pd</code>, so loading pandas as <code >pd</code> is assumed standard practice for all of the pandas documentation.</p>"
   ]
  },
  {
   "cell_type": "code",
   "execution_count": 1,
   "id": "634cb0b6",
   "metadata": {},
   "outputs": [],
   "source": [
    "import pandas as pd"
   ]
  },
  {
   "cell_type": "markdown",
   "id": "fe67bd39",
   "metadata": {},
   "source": [
    "<p><span style=\"font-weight:bold;font-size:20px;color:#100c08\">  Creating a</span> <span style='color:#a4c639;font-size:20px;font-weight:bold'>DataFrame.</span><p>\n",
    "    "
   ]
  },
  {
   "cell_type": "code",
   "execution_count": 2,
   "id": "88f5921b",
   "metadata": {},
   "outputs": [
    {
     "data": {
      "text/html": [
       "<div>\n",
       "<style scoped>\n",
       "    .dataframe tbody tr th:only-of-type {\n",
       "        vertical-align: middle;\n",
       "    }\n",
       "\n",
       "    .dataframe tbody tr th {\n",
       "        vertical-align: top;\n",
       "    }\n",
       "\n",
       "    .dataframe thead th {\n",
       "        text-align: right;\n",
       "    }\n",
       "</style>\n",
       "<table border=\"1\" class=\"dataframe\">\n",
       "  <thead>\n",
       "    <tr style=\"text-align: right;\">\n",
       "      <th></th>\n",
       "      <th>Name</th>\n",
       "      <th>Age</th>\n",
       "      <th>Experience</th>\n",
       "    </tr>\n",
       "  </thead>\n",
       "  <tbody>\n",
       "    <tr>\n",
       "      <th>0</th>\n",
       "      <td>Simran</td>\n",
       "      <td>30</td>\n",
       "      <td>5</td>\n",
       "    </tr>\n",
       "    <tr>\n",
       "      <th>1</th>\n",
       "      <td>Rohit</td>\n",
       "      <td>40</td>\n",
       "      <td>8</td>\n",
       "    </tr>\n",
       "    <tr>\n",
       "      <th>2</th>\n",
       "      <td>Raghu</td>\n",
       "      <td>50</td>\n",
       "      <td>11</td>\n",
       "    </tr>\n",
       "    <tr>\n",
       "      <th>3</th>\n",
       "      <td>Saachi</td>\n",
       "      <td>60</td>\n",
       "      <td>14</td>\n",
       "    </tr>\n",
       "    <tr>\n",
       "      <th>4</th>\n",
       "      <td>Kavya</td>\n",
       "      <td>70</td>\n",
       "      <td>17</td>\n",
       "    </tr>\n",
       "  </tbody>\n",
       "</table>\n",
       "</div>"
      ],
      "text/plain": [
       "     Name  Age  Experience\n",
       "0  Simran   30           5\n",
       "1   Rohit   40           8\n",
       "2   Raghu   50          11\n",
       "3  Saachi   60          14\n",
       "4   Kavya   70          17"
      ]
     },
     "execution_count": 2,
     "metadata": {},
     "output_type": "execute_result"
    }
   ],
   "source": [
    "# Mnemonic name for DataFrame df \n",
    "\n",
    "df=pd.DataFrame({    \n",
    "    'Name':['Simran','Rohit','Raghu','Saachi','Kavya'],\n",
    "    \"Age\":[i for i in range(30,80,10)],\n",
    "    \"Experience\":[i for i in range(5,18,3)]})\n",
    "\n",
    "\n",
    "df"
   ]
  },
  {
   "cell_type": "markdown",
   "id": "f67e1c44",
   "metadata": {},
   "source": [
    "<p>Notice that the inferred dtype is int64 & object.</p>"
   ]
  },
  {
   "cell_type": "code",
   "execution_count": 3,
   "id": "7cbd7fc9",
   "metadata": {},
   "outputs": [
    {
     "data": {
      "text/plain": [
       "Name          object\n",
       "Age            int64\n",
       "Experience     int64\n",
       "dtype: object"
      ]
     },
     "execution_count": 3,
     "metadata": {},
     "output_type": "execute_result"
    }
   ],
   "source": [
    "df.dtypes"
   ]
  },
  {
   "cell_type": "markdown",
   "id": "2e144554",
   "metadata": {},
   "source": [
    "<p>To enforce a single dtype:</p>"
   ]
  },
  {
   "cell_type": "code",
   "execution_count": 4,
   "id": "7ace2d8a",
   "metadata": {},
   "outputs": [
    {
     "data": {
      "text/plain": [
       "Name          object\n",
       "Age           object\n",
       "Experience    object\n",
       "dtype: object"
      ]
     },
     "execution_count": 4,
     "metadata": {},
     "output_type": "execute_result"
    }
   ],
   "source": [
    "import numpy as np\n",
    "\n",
    "df=pd.DataFrame({    \n",
    "    'Name':['Simran','Rohit','Raghu','Saachi','Kavya'],\n",
    "    \"Age\":[i for i in range(30,80,10)],\n",
    "    \"Experience\":[i for i in range(5,18,3)]},dtype=np.str0)\n",
    "\n",
    "\n",
    "df.dtypes"
   ]
  },
  {
   "cell_type": "markdown",
   "id": "95988b18",
   "metadata": {},
   "source": [
    "<p>Constructing DataFrame from a dictionary including Series:</p>"
   ]
  },
  {
   "cell_type": "code",
   "execution_count": 5,
   "id": "f2a98e1d",
   "metadata": {},
   "outputs": [
    {
     "data": {
      "text/html": [
       "<div>\n",
       "<style scoped>\n",
       "    .dataframe tbody tr th:only-of-type {\n",
       "        vertical-align: middle;\n",
       "    }\n",
       "\n",
       "    .dataframe tbody tr th {\n",
       "        vertical-align: top;\n",
       "    }\n",
       "\n",
       "    .dataframe thead th {\n",
       "        text-align: right;\n",
       "    }\n",
       "</style>\n",
       "<table border=\"1\" class=\"dataframe\">\n",
       "  <thead>\n",
       "    <tr style=\"text-align: right;\">\n",
       "      <th></th>\n",
       "      <th>Name</th>\n",
       "      <th>Age</th>\n",
       "      <th>Experience</th>\n",
       "    </tr>\n",
       "  </thead>\n",
       "  <tbody>\n",
       "    <tr>\n",
       "      <th>0</th>\n",
       "      <td>Simran</td>\n",
       "      <td>30</td>\n",
       "      <td>5</td>\n",
       "    </tr>\n",
       "    <tr>\n",
       "      <th>1</th>\n",
       "      <td>Rohit</td>\n",
       "      <td>40</td>\n",
       "      <td>8</td>\n",
       "    </tr>\n",
       "    <tr>\n",
       "      <th>2</th>\n",
       "      <td>Raghu</td>\n",
       "      <td>50</td>\n",
       "      <td>11</td>\n",
       "    </tr>\n",
       "    <tr>\n",
       "      <th>3</th>\n",
       "      <td>Saachi</td>\n",
       "      <td>60</td>\n",
       "      <td>14</td>\n",
       "    </tr>\n",
       "    <tr>\n",
       "      <th>4</th>\n",
       "      <td>Kavya</td>\n",
       "      <td>70</td>\n",
       "      <td>17</td>\n",
       "    </tr>\n",
       "  </tbody>\n",
       "</table>\n",
       "</div>"
      ],
      "text/plain": [
       "     Name  Age  Experience\n",
       "0  Simran   30           5\n",
       "1   Rohit   40           8\n",
       "2   Raghu   50          11\n",
       "3  Saachi   60          14\n",
       "4   Kavya   70          17"
      ]
     },
     "execution_count": 5,
     "metadata": {},
     "output_type": "execute_result"
    }
   ],
   "source": [
    "df=pd.DataFrame({    \n",
    "    'Name':['Simran','Rohit','Raghu','Saachi','Kavya'],\n",
    "    \"Age\":[i for i in range(30,80,10)],\n",
    "    \"Experience\":pd.Series([i for i in range(5,18,3)])})\n",
    "\n",
    "df"
   ]
  },
  {
   "cell_type": "markdown",
   "id": "88cc4e52",
   "metadata": {},
   "source": [
    "<p>Constructing DataFrame from numpy ndarray:</p>"
   ]
  },
  {
   "cell_type": "code",
   "execution_count": 6,
   "id": "a0146bdf",
   "metadata": {
    "scrolled": true
   },
   "outputs": [
    {
     "data": {
      "text/html": [
       "<div>\n",
       "<style scoped>\n",
       "    .dataframe tbody tr th:only-of-type {\n",
       "        vertical-align: middle;\n",
       "    }\n",
       "\n",
       "    .dataframe tbody tr th {\n",
       "        vertical-align: top;\n",
       "    }\n",
       "\n",
       "    .dataframe thead th {\n",
       "        text-align: right;\n",
       "    }\n",
       "</style>\n",
       "<table border=\"1\" class=\"dataframe\">\n",
       "  <thead>\n",
       "    <tr style=\"text-align: right;\">\n",
       "      <th></th>\n",
       "      <th>None</th>\n",
       "      <th>lathery</th>\n",
       "      <th>conjugant</th>\n",
       "      <th>mambo</th>\n",
       "      <th>protrusion</th>\n",
       "      <th>poynaunt</th>\n",
       "      <th>cyanotic</th>\n",
       "      <th>osmotic</th>\n",
       "      <th>retortion</th>\n",
       "      <th>refactors</th>\n",
       "    </tr>\n",
       "  </thead>\n",
       "  <tbody>\n",
       "    <tr>\n",
       "      <th>0</th>\n",
       "      <td>222</td>\n",
       "      <td>875</td>\n",
       "      <td>861</td>\n",
       "      <td>98</td>\n",
       "      <td>161</td>\n",
       "      <td>952</td>\n",
       "      <td>368</td>\n",
       "      <td>82</td>\n",
       "      <td>375</td>\n",
       "      <td>653</td>\n",
       "    </tr>\n",
       "    <tr>\n",
       "      <th>1</th>\n",
       "      <td>72</td>\n",
       "      <td>597</td>\n",
       "      <td>612</td>\n",
       "      <td>994</td>\n",
       "      <td>206</td>\n",
       "      <td>157</td>\n",
       "      <td>837</td>\n",
       "      <td>124</td>\n",
       "      <td>65</td>\n",
       "      <td>752</td>\n",
       "    </tr>\n",
       "    <tr>\n",
       "      <th>2</th>\n",
       "      <td>247</td>\n",
       "      <td>159</td>\n",
       "      <td>714</td>\n",
       "      <td>656</td>\n",
       "      <td>373</td>\n",
       "      <td>198</td>\n",
       "      <td>418</td>\n",
       "      <td>166</td>\n",
       "      <td>897</td>\n",
       "      <td>431</td>\n",
       "    </tr>\n",
       "    <tr>\n",
       "      <th>3</th>\n",
       "      <td>77</td>\n",
       "      <td>345</td>\n",
       "      <td>305</td>\n",
       "      <td>494</td>\n",
       "      <td>510</td>\n",
       "      <td>336</td>\n",
       "      <td>850</td>\n",
       "      <td>72</td>\n",
       "      <td>692</td>\n",
       "      <td>948</td>\n",
       "    </tr>\n",
       "    <tr>\n",
       "      <th>4</th>\n",
       "      <td>133</td>\n",
       "      <td>64</td>\n",
       "      <td>327</td>\n",
       "      <td>471</td>\n",
       "      <td>45</td>\n",
       "      <td>941</td>\n",
       "      <td>348</td>\n",
       "      <td>990</td>\n",
       "      <td>830</td>\n",
       "      <td>520</td>\n",
       "    </tr>\n",
       "    <tr>\n",
       "      <th>5</th>\n",
       "      <td>694</td>\n",
       "      <td>524</td>\n",
       "      <td>947</td>\n",
       "      <td>890</td>\n",
       "      <td>2</td>\n",
       "      <td>685</td>\n",
       "      <td>327</td>\n",
       "      <td>456</td>\n",
       "      <td>626</td>\n",
       "      <td>681</td>\n",
       "    </tr>\n",
       "    <tr>\n",
       "      <th>6</th>\n",
       "      <td>373</td>\n",
       "      <td>430</td>\n",
       "      <td>960</td>\n",
       "      <td>693</td>\n",
       "      <td>683</td>\n",
       "      <td>473</td>\n",
       "      <td>905</td>\n",
       "      <td>880</td>\n",
       "      <td>67</td>\n",
       "      <td>124</td>\n",
       "    </tr>\n",
       "    <tr>\n",
       "      <th>7</th>\n",
       "      <td>10</td>\n",
       "      <td>279</td>\n",
       "      <td>441</td>\n",
       "      <td>85</td>\n",
       "      <td>132</td>\n",
       "      <td>836</td>\n",
       "      <td>594</td>\n",
       "      <td>402</td>\n",
       "      <td>234</td>\n",
       "      <td>969</td>\n",
       "    </tr>\n",
       "    <tr>\n",
       "      <th>8</th>\n",
       "      <td>279</td>\n",
       "      <td>878</td>\n",
       "      <td>291</td>\n",
       "      <td>553</td>\n",
       "      <td>393</td>\n",
       "      <td>810</td>\n",
       "      <td>358</td>\n",
       "      <td>953</td>\n",
       "      <td>810</td>\n",
       "      <td>687</td>\n",
       "    </tr>\n",
       "    <tr>\n",
       "      <th>9</th>\n",
       "      <td>339</td>\n",
       "      <td>988</td>\n",
       "      <td>213</td>\n",
       "      <td>537</td>\n",
       "      <td>435</td>\n",
       "      <td>420</td>\n",
       "      <td>224</td>\n",
       "      <td>836</td>\n",
       "      <td>696</td>\n",
       "      <td>122</td>\n",
       "    </tr>\n",
       "  </tbody>\n",
       "</table>\n",
       "</div>"
      ],
      "text/plain": [
       "   None  lathery  conjugant  mambo  protrusion  poynaunt  cyanotic  osmotic  \\\n",
       "0   222      875        861     98         161       952       368       82   \n",
       "1    72      597        612    994         206       157       837      124   \n",
       "2   247      159        714    656         373       198       418      166   \n",
       "3    77      345        305    494         510       336       850       72   \n",
       "4   133       64        327    471          45       941       348      990   \n",
       "5   694      524        947    890           2       685       327      456   \n",
       "6   373      430        960    693         683       473       905      880   \n",
       "7    10      279        441     85         132       836       594      402   \n",
       "8   279      878        291    553         393       810       358      953   \n",
       "9   339      988        213    537         435       420       224      836   \n",
       "\n",
       "   retortion  refactors  \n",
       "0        375        653  \n",
       "1         65        752  \n",
       "2        897        431  \n",
       "3        692        948  \n",
       "4        830        520  \n",
       "5        626        681  \n",
       "6         67        124  \n",
       "7        234        969  \n",
       "8        810        687  \n",
       "9        696        122  "
      ]
     },
     "execution_count": 6,
     "metadata": {},
     "output_type": "execute_result"
    }
   ],
   "source": [
    "# Genrate Random column names\n",
    "from random_word import RandomWords\n",
    "r = RandomWords()\n",
    "\n",
    "labels=[r.get_random_word() for i in range(10)]\n",
    "arr=np.random.randint(1,1000,100).reshape(10,10)\n",
    "df=pd.DataFrame(arr,columns=labels)\n",
    "\n",
    "df"
   ]
  },
  {
   "cell_type": "markdown",
   "id": "ec337c2c",
   "metadata": {},
   "source": [
    "<p style=\"font-size:25px;color:#f2f3f4\"><mark>Attributes</mark></p>"
   ]
  },
  {
   "cell_type": "markdown",
   "id": "3a5dfe1a",
   "metadata": {},
   "source": [
    "<p style=\";font-size:20px\">𝓓𝓪𝓽𝓪𝓕𝓻𝓪𝓶𝓮.<span style=\"color:\t#008000;font-size:20px\">𝓪𝓽</span></p>\n",
    "<p>Access a single value for a row/column label pair.</p>\n",
    "<p>Similar to <code><span>loc</span></code>, in that both provide label-based lookups. Use\n",
    "<code ><span >at</span></code> if you only need to get or set a single value in a DataFrame\n",
    "or Series.</p>"
   ]
  },
  {
   "cell_type": "code",
   "execution_count": 8,
   "id": "7ec69116",
   "metadata": {},
   "outputs": [
    {
     "data": {
      "text/plain": [
       "875"
      ]
     },
     "execution_count": 8,
     "metadata": {},
     "output_type": "execute_result"
    }
   ],
   "source": [
    "df.at[0,'lathery']"
   ]
  },
  {
   "cell_type": "markdown",
   "id": "c2201c85",
   "metadata": {},
   "source": [
    " \n"
   ]
  },
  {
   "cell_type": "markdown",
   "id": "551e1621",
   "metadata": {},
   "source": [
    "<p style=\";font-size:20px\">𝓓𝓪𝓽𝓪𝓕𝓻𝓪𝓶𝓮.<span style=\"color:\t#008000;font-size:20px\">𝓪𝔁𝓮𝓼</span></p>\n",
    "<p>Return a list representing the axes of the DataFrame.</p>\n",
    "<p>It has the row axis labels and column axis labels as the only members.\n",
    "They are returned in that order.</p>"
   ]
  },
  {
   "cell_type": "code",
   "execution_count": 9,
   "id": "ccdf529b",
   "metadata": {},
   "outputs": [
    {
     "data": {
      "text/plain": [
       "[RangeIndex(start=0, stop=10, step=1),\n",
       " Index([        None,    'lathery',  'conjugant',      'mambo', 'protrusion',\n",
       "          'poynaunt',   'cyanotic',    'osmotic',  'retortion',  'refactors'],\n",
       "       dtype='object')]"
      ]
     },
     "execution_count": 9,
     "metadata": {},
     "output_type": "execute_result"
    }
   ],
   "source": [
    "df.axes"
   ]
  },
  {
   "cell_type": "markdown",
   "id": "8d94034e",
   "metadata": {},
   "source": [
    " "
   ]
  },
  {
   "cell_type": "markdown",
   "id": "f0e3cba3",
   "metadata": {},
   "source": [
    "<p style=\";font-size:20px\">𝓓𝓪𝓽𝓪𝓕𝓻𝓪𝓶𝓮.<span style=\"color:\t#008000;font-size:20px\">𝓬𝓸𝓵𝓾𝓶𝓷𝓼</span></p>\n",
    "<p>The column labels of the DataFrame.</p>"
   ]
  },
  {
   "cell_type": "code",
   "execution_count": 10,
   "id": "bc086db0",
   "metadata": {},
   "outputs": [
    {
     "data": {
      "text/plain": [
       "Index([        None,    'lathery',  'conjugant',      'mambo', 'protrusion',\n",
       "         'poynaunt',   'cyanotic',    'osmotic',  'retortion',  'refactors'],\n",
       "      dtype='object')"
      ]
     },
     "execution_count": 10,
     "metadata": {},
     "output_type": "execute_result"
    }
   ],
   "source": [
    "df.columns"
   ]
  },
  {
   "cell_type": "markdown",
   "id": "6e1489c6",
   "metadata": {},
   "source": [
    "<p style=\";font-size:20px\">𝓓𝓪𝓽𝓪𝓕𝓻𝓪𝓶𝓮.<span style=\"color:\t#008000;font-size:20px\">𝓭𝓽𝔂𝓹𝓮𝓼</span></p>\n",
    "<p>Return the dtypes in the DataFrame.</p>\n",
    "<p>This returns a Series with the data type of each column.\n",
    "The result’s index is the original DataFrame’s columns. Columns with mixed types are stored with the <code><span>object</span></code> dtype.</p>"
   ]
  },
  {
   "cell_type": "code",
   "execution_count": 11,
   "id": "7bdbe1d4",
   "metadata": {},
   "outputs": [
    {
     "data": {
      "text/plain": [
       "None          int32\n",
       "lathery       int32\n",
       "conjugant     int32\n",
       "mambo         int32\n",
       "protrusion    int32\n",
       "poynaunt      int32\n",
       "cyanotic      int32\n",
       "osmotic       int32\n",
       "retortion     int32\n",
       "refactors     int32\n",
       "dtype: object"
      ]
     },
     "execution_count": 11,
     "metadata": {},
     "output_type": "execute_result"
    }
   ],
   "source": [
    "df.dtypes"
   ]
  },
  {
   "cell_type": "markdown",
   "id": "a6b87428",
   "metadata": {},
   "source": [
    "<p style=\";font-size:20px\">𝓓𝓪𝓽𝓪𝓕𝓻𝓪𝓶𝓮.<span style=\"color:#008000;font-size:20px\">𝓮𝓶𝓹𝓽𝔂</span></p><hr>\n",
    "Checks if a Series/DataFrame is completely empty"
   ]
  },
  {
   "cell_type": "code",
   "execution_count": 12,
   "id": "6263cf18",
   "metadata": {},
   "outputs": [
    {
     "data": {
      "text/plain": [
       "False"
      ]
     },
     "execution_count": 12,
     "metadata": {},
     "output_type": "execute_result"
    }
   ],
   "source": [
    "df.empty"
   ]
  },
  {
   "cell_type": "markdown",
   "id": "bf4ba7fe",
   "metadata": {},
   "source": [
    "<p style=\";font-size:20px\">𝓓𝓪𝓽𝓪𝓕𝓻𝓪𝓶𝓮.<span style=\"color:#008000;font-size:20px\">𝓲𝓪𝓽</span></p>\n",
    "<p>Access a single value for a row/column pair by integer position.</p>\n",
    "<p>Similar to <code class=\"docutils literal notranslate\"><span class=\"pre\">iloc</span></code>, in that both provide integer-based lookups. Use\n",
    "<code class=\"docutils literal notranslate\"><span class=\"pre\">iat</span></code> if you only need to get or set a single value in a DataFrame\n",
    "or Series.</p>"
   ]
  },
  {
   "cell_type": "code",
   "execution_count": 13,
   "id": "dc769096",
   "metadata": {},
   "outputs": [
    {
     "data": {
      "text/plain": [
       "222"
      ]
     },
     "execution_count": 13,
     "metadata": {},
     "output_type": "execute_result"
    }
   ],
   "source": [
    "df.iat[0,0]"
   ]
  },
  {
   "cell_type": "markdown",
   "id": "1bed4553",
   "metadata": {},
   "source": [
    "<p style=\";font-size:20px\">𝓓𝓪𝓽𝓪𝓕𝓻𝓪𝓶𝓮.<span style=\"color:#008000;font-size:20px\">𝓲𝓵𝓸𝓬</span></p>\n",
    "<p>Purely integer-location based indexing for selection by position.</p>\n",
    "<p><code><span>.iloc[]</span></code> is primarily integer position based (from <code><span>0</span></code> to\n",
    "<code><span>length-1</span></code> of the axis), but may also be used with a boolean array.</p>\n",
    "\n",
    "<p>Allowed inputs are:</p>\n",
    "<ul>\n",
    "<li><p>An integer, e.g. <code><span>5</span></code>.</p></li>\n",
    "<li><p>A list or array of integers, e.g. <code><span>[4,</span> <span>3,</span> <span>0]</span></code>.</p></li>\n",
    "<li><p>A slice object with ints, e.g. <code><span>1:7</span></code>.</p></li>\n",
    "<li><p>A boolean array.</p></li>\n",
    "<li><p>A <code><span>callable</span></code> function with one argument (the calling Series or\n",
    "DataFrame) and that returns valid output for indexing (one of the above).\n",
    "This is useful in method chains, when you don’t have a reference to the\n",
    "calling object, but would like to base your selection on some value.</p></li>\n",
    "</ul>\n",
    "\n",
    "<p><code><span>.iloc</span></code> will raise <code><span>IndexError</span></code> if a requested indexer is\n",
    "out-of-bounds, except <em>slice</em> indexers which allow out-of-bounds indexing (this conforms with python/numpy <em>slice</em> semantics).</p>"
   ]
  },
  {
   "cell_type": "code",
   "execution_count": 14,
   "id": "98b655e7",
   "metadata": {},
   "outputs": [
    {
     "data": {
      "text/html": [
       "<div>\n",
       "<style scoped>\n",
       "    .dataframe tbody tr th:only-of-type {\n",
       "        vertical-align: middle;\n",
       "    }\n",
       "\n",
       "    .dataframe tbody tr th {\n",
       "        vertical-align: top;\n",
       "    }\n",
       "\n",
       "    .dataframe thead th {\n",
       "        text-align: right;\n",
       "    }\n",
       "</style>\n",
       "<table border=\"1\" class=\"dataframe\">\n",
       "  <thead>\n",
       "    <tr style=\"text-align: right;\">\n",
       "      <th></th>\n",
       "      <th>None</th>\n",
       "      <th>lathery</th>\n",
       "      <th>conjugant</th>\n",
       "      <th>mambo</th>\n",
       "      <th>protrusion</th>\n",
       "      <th>poynaunt</th>\n",
       "      <th>cyanotic</th>\n",
       "      <th>osmotic</th>\n",
       "      <th>retortion</th>\n",
       "      <th>refactors</th>\n",
       "    </tr>\n",
       "  </thead>\n",
       "  <tbody>\n",
       "    <tr>\n",
       "      <th>0</th>\n",
       "      <td>222</td>\n",
       "      <td>875</td>\n",
       "      <td>861</td>\n",
       "      <td>98</td>\n",
       "      <td>161</td>\n",
       "      <td>952</td>\n",
       "      <td>368</td>\n",
       "      <td>82</td>\n",
       "      <td>375</td>\n",
       "      <td>653</td>\n",
       "    </tr>\n",
       "    <tr>\n",
       "      <th>1</th>\n",
       "      <td>72</td>\n",
       "      <td>597</td>\n",
       "      <td>612</td>\n",
       "      <td>994</td>\n",
       "      <td>206</td>\n",
       "      <td>157</td>\n",
       "      <td>837</td>\n",
       "      <td>124</td>\n",
       "      <td>65</td>\n",
       "      <td>752</td>\n",
       "    </tr>\n",
       "    <tr>\n",
       "      <th>2</th>\n",
       "      <td>247</td>\n",
       "      <td>159</td>\n",
       "      <td>714</td>\n",
       "      <td>656</td>\n",
       "      <td>373</td>\n",
       "      <td>198</td>\n",
       "      <td>418</td>\n",
       "      <td>166</td>\n",
       "      <td>897</td>\n",
       "      <td>431</td>\n",
       "    </tr>\n",
       "    <tr>\n",
       "      <th>3</th>\n",
       "      <td>77</td>\n",
       "      <td>345</td>\n",
       "      <td>305</td>\n",
       "      <td>494</td>\n",
       "      <td>510</td>\n",
       "      <td>336</td>\n",
       "      <td>850</td>\n",
       "      <td>72</td>\n",
       "      <td>692</td>\n",
       "      <td>948</td>\n",
       "    </tr>\n",
       "    <tr>\n",
       "      <th>4</th>\n",
       "      <td>133</td>\n",
       "      <td>64</td>\n",
       "      <td>327</td>\n",
       "      <td>471</td>\n",
       "      <td>45</td>\n",
       "      <td>941</td>\n",
       "      <td>348</td>\n",
       "      <td>990</td>\n",
       "      <td>830</td>\n",
       "      <td>520</td>\n",
       "    </tr>\n",
       "    <tr>\n",
       "      <th>5</th>\n",
       "      <td>694</td>\n",
       "      <td>524</td>\n",
       "      <td>947</td>\n",
       "      <td>890</td>\n",
       "      <td>2</td>\n",
       "      <td>685</td>\n",
       "      <td>327</td>\n",
       "      <td>456</td>\n",
       "      <td>626</td>\n",
       "      <td>681</td>\n",
       "    </tr>\n",
       "    <tr>\n",
       "      <th>6</th>\n",
       "      <td>373</td>\n",
       "      <td>430</td>\n",
       "      <td>960</td>\n",
       "      <td>693</td>\n",
       "      <td>683</td>\n",
       "      <td>473</td>\n",
       "      <td>905</td>\n",
       "      <td>880</td>\n",
       "      <td>67</td>\n",
       "      <td>124</td>\n",
       "    </tr>\n",
       "    <tr>\n",
       "      <th>7</th>\n",
       "      <td>10</td>\n",
       "      <td>279</td>\n",
       "      <td>441</td>\n",
       "      <td>85</td>\n",
       "      <td>132</td>\n",
       "      <td>836</td>\n",
       "      <td>594</td>\n",
       "      <td>402</td>\n",
       "      <td>234</td>\n",
       "      <td>969</td>\n",
       "    </tr>\n",
       "    <tr>\n",
       "      <th>8</th>\n",
       "      <td>279</td>\n",
       "      <td>878</td>\n",
       "      <td>291</td>\n",
       "      <td>553</td>\n",
       "      <td>393</td>\n",
       "      <td>810</td>\n",
       "      <td>358</td>\n",
       "      <td>953</td>\n",
       "      <td>810</td>\n",
       "      <td>687</td>\n",
       "    </tr>\n",
       "    <tr>\n",
       "      <th>9</th>\n",
       "      <td>339</td>\n",
       "      <td>988</td>\n",
       "      <td>213</td>\n",
       "      <td>537</td>\n",
       "      <td>435</td>\n",
       "      <td>420</td>\n",
       "      <td>224</td>\n",
       "      <td>836</td>\n",
       "      <td>696</td>\n",
       "      <td>122</td>\n",
       "    </tr>\n",
       "  </tbody>\n",
       "</table>\n",
       "</div>"
      ],
      "text/plain": [
       "   None  lathery  conjugant  mambo  protrusion  poynaunt  cyanotic  osmotic  \\\n",
       "0   222      875        861     98         161       952       368       82   \n",
       "1    72      597        612    994         206       157       837      124   \n",
       "2   247      159        714    656         373       198       418      166   \n",
       "3    77      345        305    494         510       336       850       72   \n",
       "4   133       64        327    471          45       941       348      990   \n",
       "5   694      524        947    890           2       685       327      456   \n",
       "6   373      430        960    693         683       473       905      880   \n",
       "7    10      279        441     85         132       836       594      402   \n",
       "8   279      878        291    553         393       810       358      953   \n",
       "9   339      988        213    537         435       420       224      836   \n",
       "\n",
       "   retortion  refactors  \n",
       "0        375        653  \n",
       "1         65        752  \n",
       "2        897        431  \n",
       "3        692        948  \n",
       "4        830        520  \n",
       "5        626        681  \n",
       "6         67        124  \n",
       "7        234        969  \n",
       "8        810        687  \n",
       "9        696        122  "
      ]
     },
     "execution_count": 14,
     "metadata": {},
     "output_type": "execute_result"
    }
   ],
   "source": [
    "df.iloc[0:,0:]"
   ]
  },
  {
   "cell_type": "markdown",
   "id": "74c2f8d5",
   "metadata": {},
   "source": [
    "<p style=\";font-size:20px\">𝓓𝓪𝓽𝓪𝓕𝓻𝓪𝓶𝓮.<span style=\"color:#008000;font-size:20px\">𝓲ndex</span></p>\n",
    "<p>The index (row labels) of the DataFrame.</p>"
   ]
  },
  {
   "cell_type": "code",
   "execution_count": 15,
   "id": "0d7af080",
   "metadata": {},
   "outputs": [
    {
     "data": {
      "text/plain": [
       "RangeIndex(start=0, stop=10, step=1)"
      ]
     },
     "execution_count": 15,
     "metadata": {},
     "output_type": "execute_result"
    }
   ],
   "source": [
    "df.index"
   ]
  },
  {
   "cell_type": "markdown",
   "id": "3d74bb1e",
   "metadata": {},
   "source": [
    "<p style=\";font-size:20px\">𝓓𝓪𝓽𝓪𝓕𝓻𝓪𝓶𝓮.<span style=\"color:#008000;font-size:20px\">𝓵𝓸𝓬</span></p>\n",
    "<p>Access a group of rows and columns by label(s) or a boolean array.</p>\n",
    "<p><code><span>.loc[]</span></code> is primarily label based, but may also be used with a boolean array.</p>\n",
    "\n",
    "<p>Allowed inputs are:</p>\n",
    "<ul>\n",
    "<li><p>A single label, e.g. <code><span>5</span></code> or <code><span>'a'</span></code>, (note that <code><span>5</span></code> is\n",
    "interpreted as a <em>label</em> of the index, and <strong>never</strong> as an\n",
    "integer position along the index).</p></li>\n",
    "<li><p>A list or array of labels, e.g. <code><span>['a',</span> <span>'b',</span> <span>'c']</span></code>.</p></li>\n",
    "<li><p>A slice object with labels, e.g. <code><span>'a':'f'</span></code>.</p>\n",
    "<div>\n",
    "<p>Warning</p>\n",
    "<p>Note that contrary to usual python slices, <strong>both</strong> the\n",
    "start and the stop are included</p>\n",
    "</div>\n",
    "</li>\n",
    "<li><p>A boolean array of the same length as the axis being sliced,\n",
    "e.g. <code><span>[True,</span> <span>False,</span> <span>True]</span></code>.</p></li>\n",
    "<li><p>An alignable boolean Series. The index of the key will be aligned before\n",
    "masking.</p></li>\n",
    "<li><p>An alignable Index. The Index of the returned selection will be the input.</p></li>\n",
    "<li><p>A <code><span>callable</span></code> function with one argument (the calling Series or\n",
    "DataFrame) and that returns valid output for indexing (one of the above)</p></li>\n",
    "</ul>"
   ]
  },
  {
   "cell_type": "code",
   "execution_count": 18,
   "id": "3caa8e6d",
   "metadata": {},
   "outputs": [
    {
     "data": {
      "text/plain": [
       "None          694\n",
       "lathery       524\n",
       "conjugant     947\n",
       "mambo         890\n",
       "protrusion      2\n",
       "poynaunt      685\n",
       "cyanotic      327\n",
       "osmotic       456\n",
       "retortion     626\n",
       "refactors     681\n",
       "Name: 5, dtype: int32"
      ]
     },
     "execution_count": 18,
     "metadata": {},
     "output_type": "execute_result"
    }
   ],
   "source": [
    "df.loc[5]"
   ]
  },
  {
   "cell_type": "markdown",
   "id": "f06834d5",
   "metadata": {},
   "source": [
    "<p style=\";font-size:20px\">𝓓𝓪𝓽𝓪𝓕𝓻𝓪𝓶𝓮.<span style=\"color:#008000;font-size:20px\">𝓷𝓭𝓲𝓶</span></p>\n",
    "\n",
    "<p>Return an int representing the number of axes / array dimensions.</p>\n",
    "<p>Return 1 if Series. Otherwise return 2 if DataFrame.</p>"
   ]
  },
  {
   "cell_type": "code",
   "execution_count": 30,
   "id": "4d69e53d",
   "metadata": {},
   "outputs": [
    {
     "data": {
      "text/plain": [
       "2"
      ]
     },
     "execution_count": 30,
     "metadata": {},
     "output_type": "execute_result"
    }
   ],
   "source": [
    "df.ndim"
   ]
  },
  {
   "cell_type": "markdown",
   "id": "1df7e991",
   "metadata": {},
   "source": [
    "<p style=\";font-size:20px\">𝓓𝓪𝓽𝓪𝓕𝓻𝓪𝓶𝓮.<span style=\"color:#008000;font-size:20px\">𝓼𝓱𝓪𝓹𝓮</span></p>\n",
    "<p>Return a tuple representing the dimensionality of the DataFrame.</p>"
   ]
  },
  {
   "cell_type": "code",
   "execution_count": 31,
   "id": "ffacf3ee",
   "metadata": {},
   "outputs": [
    {
     "data": {
      "text/plain": [
       "(10, 10)"
      ]
     },
     "execution_count": 31,
     "metadata": {},
     "output_type": "execute_result"
    }
   ],
   "source": [
    "df.shape"
   ]
  },
  {
   "cell_type": "markdown",
   "id": "012dc126",
   "metadata": {},
   "source": [
    "<p style=\";font-size:20px\">𝓓𝓪𝓽𝓪𝓕𝓻𝓪𝓶𝓮.<span style=\"color:#008000;font-size:20px\">𝓼𝓲𝔃𝓮</span></p>\n",
    "\n",
    "<p>Return an int representing the number of elements in this object.</p>\n",
    "<p>Return the number of rows if Series. Otherwise return the number of rows times number of columns if DataFrame.</p>"
   ]
  },
  {
   "cell_type": "code",
   "execution_count": 32,
   "id": "a094ee86",
   "metadata": {},
   "outputs": [
    {
     "data": {
      "text/plain": [
       "100"
      ]
     },
     "execution_count": 32,
     "metadata": {},
     "output_type": "execute_result"
    }
   ],
   "source": [
    "df.size"
   ]
  },
  {
   "cell_type": "markdown",
   "id": "e5a16006",
   "metadata": {},
   "source": [
    "<p style=\";font-size:20px\">𝓓𝓪𝓽𝓪𝓕𝓻𝓪𝓶𝓮.<span style=\"color:#008000;font-size:20px\">𝓿𝓪𝓵𝓾𝓮𝓼</span></p>\n",
    "<p>Return a Numpy representation of the DataFrame.</p>"
   ]
  },
  {
   "cell_type": "code",
   "execution_count": 39,
   "id": "6a06ca82",
   "metadata": {},
   "outputs": [
    {
     "data": {
      "text/plain": [
       "array([[222, 875, 861,  98, 161, 952, 368,  82, 375, 653],\n",
       "       [ 72, 597, 612, 994, 206, 157, 837, 124,  65, 752],\n",
       "       [247, 159, 714, 656, 373, 198, 418, 166, 897, 431],\n",
       "       [ 77, 345, 305, 494, 510, 336, 850,  72, 692, 948],\n",
       "       [133,  64, 327, 471,  45, 941, 348, 990, 830, 520],\n",
       "       [694, 524, 947, 890,   2, 685, 327, 456, 626, 681],\n",
       "       [373, 430, 960, 693, 683, 473, 905, 880,  67, 124],\n",
       "       [ 10, 279, 441,  85, 132, 836, 594, 402, 234, 969],\n",
       "       [279, 878, 291, 553, 393, 810, 358, 953, 810, 687],\n",
       "       [339, 988, 213, 537, 435, 420, 224, 836, 696, 122]])"
      ]
     },
     "execution_count": 39,
     "metadata": {},
     "output_type": "execute_result"
    }
   ],
   "source": [
    "x=df.values\n",
    "x"
   ]
  },
  {
   "cell_type": "markdown",
   "id": "bb9530cb",
   "metadata": {},
   "source": [
    "\n",
    "<H2><span style=\"color:blue\">Read</span> and <span style=\"color:green\">Write.</span> Tabular data</H2>\n",
    "<p>pandas supports the integration with many file formats or data sources out of the box (csv, excel, sql, json, parquet,…). Importing data from each of these\n",
    "data sources is provided by function with the prefix <code class=\"docutils literal notranslate\"><span class=\"pre\">read_*</span></code>. Similarly, the <code class=\"docutils literal notranslate\"><span class=\"pre\">to_*</span></code> methods are used to store data.</p>\n",
    "\n",
    "<img alt=\"../_images/02_io_readwrite.svg\" class=\"align-center\" src=\"https://pandas.pydata.org/pandas-docs/stable/_images/02_io_readwrite.svg\">"
   ]
  },
  {
   "cell_type": "code",
   "execution_count": null,
   "id": "0ff4fb82",
   "metadata": {},
   "outputs": [],
   "source": []
  }
 ],
 "metadata": {
  "kernelspec": {
   "display_name": "Python 3 (ipykernel)",
   "language": "python",
   "name": "python3"
  },
  "language_info": {
   "codemirror_mode": {
    "name": "ipython",
    "version": 3
   },
   "file_extension": ".py",
   "mimetype": "text/x-python",
   "name": "python",
   "nbconvert_exporter": "python",
   "pygments_lexer": "ipython3",
   "version": "3.9.12"
  },
  "varInspector": {
   "cols": {
    "lenName": 16,
    "lenType": 16,
    "lenVar": 40
   },
   "kernels_config": {
    "python": {
     "delete_cmd_postfix": "",
     "delete_cmd_prefix": "del ",
     "library": "var_list.py",
     "varRefreshCmd": "print(var_dic_list())"
    },
    "r": {
     "delete_cmd_postfix": ") ",
     "delete_cmd_prefix": "rm(",
     "library": "var_list.r",
     "varRefreshCmd": "cat(var_dic_list()) "
    }
   },
   "types_to_exclude": [
    "module",
    "function",
    "builtin_function_or_method",
    "instance",
    "_Feature"
   ],
   "window_display": false
  }
 },
 "nbformat": 4,
 "nbformat_minor": 5
}
