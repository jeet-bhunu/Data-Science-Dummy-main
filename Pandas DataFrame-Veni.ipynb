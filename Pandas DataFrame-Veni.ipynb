{
 "cells": [
  {
   "cell_type": "markdown",
   "id": "b15c4d02",
   "metadata": {},
   "source": [
    "<H1 >Intro to Pandas</H1>\n",
    "\n",
    "<p>When working with tabular data, such as data stored in spreadsheets or databases, pandas is the right tool for you. pandas will help you to explore, clean, and process your data. In pandas, a data table is called a DataFrame</p>\n",
    "\n",
    "\n",
    "\n",
    "<img alt=\"../_images/01_table_dataframe.svg\" class=\"align-center\" src=\"https://pandas.pydata.org/pandas-docs/stable/_images/01_table_dataframe.svg\">\n",
    "\n",
    "<p style=\"font-style: italic;font-weight: bold;\">A DataFrame is a 2-dimensional data structure that can store data of different types (including characters, integers, floating point values, categorical data and more) in columns. It is similar to a spreadsheet, a SQL table or the <code>data.frame</code> in R.</p>\n",
    "\n"
   ]
  },
  {
   "cell_type": "code",
   "execution_count": 8,
   "id": "773ce9ec",
   "metadata": {},
   "outputs": [],
   "source": [
    "import pandas as pd\n",
    "import warnings\n",
    "warnings.filterwarnings('ignore')"
   ]
  },
  {
   "cell_type": "code",
   "execution_count": 2,
   "id": "aed338d1",
   "metadata": {},
   "outputs": [],
   "source": [
    "dic={'name':['Nisa','falak'],'Age':[40,18]}\n",
    "df=pd.DataFrame(dic)"
   ]
  },
  {
   "cell_type": "code",
   "execution_count": 4,
   "id": "65c3d124",
   "metadata": {},
   "outputs": [
    {
     "data": {
      "text/plain": [
       "name    object\n",
       "Age      int64\n",
       "dtype: object"
      ]
     },
     "execution_count": 4,
     "metadata": {},
     "output_type": "execute_result"
    }
   ],
   "source": [
    "df.dtypes"
   ]
  },
  {
   "cell_type": "code",
   "execution_count": 10,
   "id": "6a7e9919",
   "metadata": {},
   "outputs": [
    {
     "data": {
      "text/html": [
       "<div>\n",
       "<style scoped>\n",
       "    .dataframe tbody tr th:only-of-type {\n",
       "        vertical-align: middle;\n",
       "    }\n",
       "\n",
       "    .dataframe tbody tr th {\n",
       "        vertical-align: top;\n",
       "    }\n",
       "\n",
       "    .dataframe thead th {\n",
       "        text-align: right;\n",
       "    }\n",
       "</style>\n",
       "<table border=\"1\" class=\"dataframe\">\n",
       "  <thead>\n",
       "    <tr style=\"text-align: right;\">\n",
       "      <th></th>\n",
       "      <th>rank</th>\n",
       "      <th>discipline</th>\n",
       "      <th>phd</th>\n",
       "      <th>service</th>\n",
       "      <th>sex</th>\n",
       "      <th>salary</th>\n",
       "    </tr>\n",
       "  </thead>\n",
       "  <tbody>\n",
       "    <tr>\n",
       "      <th>0</th>\n",
       "      <td>Prof</td>\n",
       "      <td>B</td>\n",
       "      <td>56</td>\n",
       "      <td>49</td>\n",
       "      <td>Male</td>\n",
       "      <td>186960</td>\n",
       "    </tr>\n",
       "    <tr>\n",
       "      <th>1</th>\n",
       "      <td>Prof</td>\n",
       "      <td>A</td>\n",
       "      <td>12</td>\n",
       "      <td>6</td>\n",
       "      <td>Male</td>\n",
       "      <td>93000</td>\n",
       "    </tr>\n",
       "    <tr>\n",
       "      <th>2</th>\n",
       "      <td>Prof</td>\n",
       "      <td>A</td>\n",
       "      <td>23</td>\n",
       "      <td>20</td>\n",
       "      <td>Male</td>\n",
       "      <td>110515</td>\n",
       "    </tr>\n",
       "    <tr>\n",
       "      <th>3</th>\n",
       "      <td>Prof</td>\n",
       "      <td>A</td>\n",
       "      <td>40</td>\n",
       "      <td>31</td>\n",
       "      <td>Male</td>\n",
       "      <td>131205</td>\n",
       "    </tr>\n",
       "    <tr>\n",
       "      <th>4</th>\n",
       "      <td>Prof</td>\n",
       "      <td>B</td>\n",
       "      <td>20</td>\n",
       "      <td>18</td>\n",
       "      <td>Male</td>\n",
       "      <td>104800</td>\n",
       "    </tr>\n",
       "    <tr>\n",
       "      <th>...</th>\n",
       "      <td>...</td>\n",
       "      <td>...</td>\n",
       "      <td>...</td>\n",
       "      <td>...</td>\n",
       "      <td>...</td>\n",
       "      <td>...</td>\n",
       "    </tr>\n",
       "    <tr>\n",
       "      <th>73</th>\n",
       "      <td>Prof</td>\n",
       "      <td>B</td>\n",
       "      <td>18</td>\n",
       "      <td>10</td>\n",
       "      <td>Female</td>\n",
       "      <td>105450</td>\n",
       "    </tr>\n",
       "    <tr>\n",
       "      <th>74</th>\n",
       "      <td>AssocProf</td>\n",
       "      <td>B</td>\n",
       "      <td>19</td>\n",
       "      <td>6</td>\n",
       "      <td>Female</td>\n",
       "      <td>104542</td>\n",
       "    </tr>\n",
       "    <tr>\n",
       "      <th>75</th>\n",
       "      <td>Prof</td>\n",
       "      <td>B</td>\n",
       "      <td>17</td>\n",
       "      <td>17</td>\n",
       "      <td>Female</td>\n",
       "      <td>124312</td>\n",
       "    </tr>\n",
       "    <tr>\n",
       "      <th>76</th>\n",
       "      <td>Prof</td>\n",
       "      <td>A</td>\n",
       "      <td>28</td>\n",
       "      <td>14</td>\n",
       "      <td>Female</td>\n",
       "      <td>109954</td>\n",
       "    </tr>\n",
       "    <tr>\n",
       "      <th>77</th>\n",
       "      <td>Prof</td>\n",
       "      <td>A</td>\n",
       "      <td>23</td>\n",
       "      <td>15</td>\n",
       "      <td>Female</td>\n",
       "      <td>109646</td>\n",
       "    </tr>\n",
       "  </tbody>\n",
       "</table>\n",
       "<p>78 rows × 6 columns</p>\n",
       "</div>"
      ],
      "text/plain": [
       "         rank discipline  phd  service     sex  salary\n",
       "0        Prof          B   56       49    Male  186960\n",
       "1        Prof          A   12        6    Male   93000\n",
       "2        Prof          A   23       20    Male  110515\n",
       "3        Prof          A   40       31    Male  131205\n",
       "4        Prof          B   20       18    Male  104800\n",
       "..        ...        ...  ...      ...     ...     ...\n",
       "73       Prof          B   18       10  Female  105450\n",
       "74  AssocProf          B   19        6  Female  104542\n",
       "75       Prof          B   17       17  Female  124312\n",
       "76       Prof          A   28       14  Female  109954\n",
       "77       Prof          A   23       15  Female  109646\n",
       "\n",
       "[78 rows x 6 columns]"
      ]
     },
     "execution_count": 10,
     "metadata": {},
     "output_type": "execute_result"
    }
   ],
   "source": [
    "data=pd.read_csv('https://raw.githubusercontent.com/slmsshk/DataSet-main/main/Salaries.csv',error_bad_lines=False)\n",
    "data"
   ]
  },
  {
   "cell_type": "code",
   "execution_count": 14,
   "id": "48656cb3",
   "metadata": {},
   "outputs": [
    {
     "data": {
      "text/plain": [
       "'C:\\\\Users\\\\Slmss\\\\OneDrive\\\\Desktop\\\\A.I\\\\DataSet-main\\\\brain_networks.csv'"
      ]
     },
     "execution_count": 14,
     "metadata": {},
     "output_type": "execute_result"
    }
   ],
   "source": [
    "r\"C:\\Users\\Slmss\\OneDrive\\Desktop\\A.I\\DataSet-main\\brain_networks.csv\""
   ]
  },
  {
   "cell_type": "code",
   "execution_count": 13,
   "id": "7b72e7f3",
   "metadata": {},
   "outputs": [
    {
     "data": {
      "text/plain": [
       "'C:\\\\Users\\\\Slmss\\\\OneDrive\\\\Desktop\\\\A.I\\\\DataSet-main\\\\brain_networks.csv'"
      ]
     },
     "execution_count": 13,
     "metadata": {},
     "output_type": "execute_result"
    }
   ],
   "source": [
    "\"C:\\\\Users\\\\Slmss\\\\OneDrive\\\\Desktop\\\\A.I\\\\DataSet-main\\\\brain_networks.csv\""
   ]
  },
  {
   "cell_type": "code",
   "execution_count": 20,
   "id": "f9833b8c",
   "metadata": {},
   "outputs": [
    {
     "data": {
      "text/html": [
       "<div>\n",
       "<style scoped>\n",
       "    .dataframe tbody tr th:only-of-type {\n",
       "        vertical-align: middle;\n",
       "    }\n",
       "\n",
       "    .dataframe tbody tr th {\n",
       "        vertical-align: top;\n",
       "    }\n",
       "\n",
       "    .dataframe thead th {\n",
       "        text-align: right;\n",
       "    }\n",
       "</style>\n",
       "<table border=\"1\" class=\"dataframe\">\n",
       "  <thead>\n",
       "    <tr style=\"text-align: right;\">\n",
       "      <th></th>\n",
       "      <th>Month</th>\n",
       "      <th>#Passengers</th>\n",
       "    </tr>\n",
       "  </thead>\n",
       "  <tbody>\n",
       "    <tr>\n",
       "      <th>0</th>\n",
       "      <td>1949-01</td>\n",
       "      <td>112</td>\n",
       "    </tr>\n",
       "    <tr>\n",
       "      <th>1</th>\n",
       "      <td>1949-02</td>\n",
       "      <td>118</td>\n",
       "    </tr>\n",
       "    <tr>\n",
       "      <th>2</th>\n",
       "      <td>1949-03</td>\n",
       "      <td>132</td>\n",
       "    </tr>\n",
       "    <tr>\n",
       "      <th>3</th>\n",
       "      <td>1949-04</td>\n",
       "      <td>129</td>\n",
       "    </tr>\n",
       "    <tr>\n",
       "      <th>4</th>\n",
       "      <td>1949-05</td>\n",
       "      <td>121</td>\n",
       "    </tr>\n",
       "    <tr>\n",
       "      <th>...</th>\n",
       "      <td>...</td>\n",
       "      <td>...</td>\n",
       "    </tr>\n",
       "    <tr>\n",
       "      <th>139</th>\n",
       "      <td>1960-08</td>\n",
       "      <td>606</td>\n",
       "    </tr>\n",
       "    <tr>\n",
       "      <th>140</th>\n",
       "      <td>1960-09</td>\n",
       "      <td>508</td>\n",
       "    </tr>\n",
       "    <tr>\n",
       "      <th>141</th>\n",
       "      <td>1960-10</td>\n",
       "      <td>461</td>\n",
       "    </tr>\n",
       "    <tr>\n",
       "      <th>142</th>\n",
       "      <td>1960-11</td>\n",
       "      <td>390</td>\n",
       "    </tr>\n",
       "    <tr>\n",
       "      <th>143</th>\n",
       "      <td>1960-12</td>\n",
       "      <td>432</td>\n",
       "    </tr>\n",
       "  </tbody>\n",
       "</table>\n",
       "<p>144 rows × 2 columns</p>\n",
       "</div>"
      ],
      "text/plain": [
       "       Month  #Passengers\n",
       "0    1949-01          112\n",
       "1    1949-02          118\n",
       "2    1949-03          132\n",
       "3    1949-04          129\n",
       "4    1949-05          121\n",
       "..       ...          ...\n",
       "139  1960-08          606\n",
       "140  1960-09          508\n",
       "141  1960-10          461\n",
       "142  1960-11          390\n",
       "143  1960-12          432\n",
       "\n",
       "[144 rows x 2 columns]"
      ]
     },
     "execution_count": 20,
     "metadata": {},
     "output_type": "execute_result"
    }
   ],
   "source": [
    "pd.read_csv('https://raw.githubusercontent.com/slmsshk/DataSet-main/main/AirPassengers.csv')"
   ]
  },
  {
   "cell_type": "code",
   "execution_count": 18,
   "id": "6046a8d5",
   "metadata": {},
   "outputs": [
    {
     "data": {
      "text/html": [
       "<div>\n",
       "<style scoped>\n",
       "    .dataframe tbody tr th:only-of-type {\n",
       "        vertical-align: middle;\n",
       "    }\n",
       "\n",
       "    .dataframe tbody tr th {\n",
       "        vertical-align: top;\n",
       "    }\n",
       "\n",
       "    .dataframe thead th {\n",
       "        text-align: right;\n",
       "    }\n",
       "</style>\n",
       "<table border=\"1\" class=\"dataframe\">\n",
       "  <thead>\n",
       "    <tr style=\"text-align: right;\">\n",
       "      <th></th>\n",
       "      <th>price</th>\n",
       "      <th>speed</th>\n",
       "      <th>hd</th>\n",
       "      <th>ram</th>\n",
       "      <th>screen</th>\n",
       "      <th>cd</th>\n",
       "      <th>multi</th>\n",
       "      <th>premium</th>\n",
       "      <th>ads</th>\n",
       "      <th>trend</th>\n",
       "    </tr>\n",
       "  </thead>\n",
       "  <tbody>\n",
       "    <tr>\n",
       "      <th>1</th>\n",
       "      <td>1499</td>\n",
       "      <td>25</td>\n",
       "      <td>80</td>\n",
       "      <td>4</td>\n",
       "      <td>14</td>\n",
       "      <td>no</td>\n",
       "      <td>no</td>\n",
       "      <td>yes</td>\n",
       "      <td>94</td>\n",
       "      <td>1</td>\n",
       "    </tr>\n",
       "    <tr>\n",
       "      <th>2</th>\n",
       "      <td>1795</td>\n",
       "      <td>33</td>\n",
       "      <td>85</td>\n",
       "      <td>2</td>\n",
       "      <td>14</td>\n",
       "      <td>no</td>\n",
       "      <td>no</td>\n",
       "      <td>yes</td>\n",
       "      <td>94</td>\n",
       "      <td>1</td>\n",
       "    </tr>\n",
       "    <tr>\n",
       "      <th>3</th>\n",
       "      <td>1595</td>\n",
       "      <td>25</td>\n",
       "      <td>170</td>\n",
       "      <td>4</td>\n",
       "      <td>15</td>\n",
       "      <td>no</td>\n",
       "      <td>no</td>\n",
       "      <td>yes</td>\n",
       "      <td>94</td>\n",
       "      <td>1</td>\n",
       "    </tr>\n",
       "    <tr>\n",
       "      <th>4</th>\n",
       "      <td>1849</td>\n",
       "      <td>25</td>\n",
       "      <td>170</td>\n",
       "      <td>8</td>\n",
       "      <td>14</td>\n",
       "      <td>no</td>\n",
       "      <td>no</td>\n",
       "      <td>no</td>\n",
       "      <td>94</td>\n",
       "      <td>1</td>\n",
       "    </tr>\n",
       "    <tr>\n",
       "      <th>5</th>\n",
       "      <td>3295</td>\n",
       "      <td>33</td>\n",
       "      <td>340</td>\n",
       "      <td>16</td>\n",
       "      <td>14</td>\n",
       "      <td>no</td>\n",
       "      <td>no</td>\n",
       "      <td>yes</td>\n",
       "      <td>94</td>\n",
       "      <td>1</td>\n",
       "    </tr>\n",
       "    <tr>\n",
       "      <th>...</th>\n",
       "      <td>...</td>\n",
       "      <td>...</td>\n",
       "      <td>...</td>\n",
       "      <td>...</td>\n",
       "      <td>...</td>\n",
       "      <td>...</td>\n",
       "      <td>...</td>\n",
       "      <td>...</td>\n",
       "      <td>...</td>\n",
       "      <td>...</td>\n",
       "    </tr>\n",
       "    <tr>\n",
       "      <th>6255</th>\n",
       "      <td>1690</td>\n",
       "      <td>100</td>\n",
       "      <td>528</td>\n",
       "      <td>8</td>\n",
       "      <td>15</td>\n",
       "      <td>no</td>\n",
       "      <td>no</td>\n",
       "      <td>yes</td>\n",
       "      <td>39</td>\n",
       "      <td>35</td>\n",
       "    </tr>\n",
       "    <tr>\n",
       "      <th>6256</th>\n",
       "      <td>2223</td>\n",
       "      <td>66</td>\n",
       "      <td>850</td>\n",
       "      <td>16</td>\n",
       "      <td>15</td>\n",
       "      <td>yes</td>\n",
       "      <td>yes</td>\n",
       "      <td>yes</td>\n",
       "      <td>39</td>\n",
       "      <td>35</td>\n",
       "    </tr>\n",
       "    <tr>\n",
       "      <th>6257</th>\n",
       "      <td>2654</td>\n",
       "      <td>100</td>\n",
       "      <td>1200</td>\n",
       "      <td>24</td>\n",
       "      <td>15</td>\n",
       "      <td>yes</td>\n",
       "      <td>no</td>\n",
       "      <td>yes</td>\n",
       "      <td>39</td>\n",
       "      <td>35</td>\n",
       "    </tr>\n",
       "    <tr>\n",
       "      <th>6258</th>\n",
       "      <td>2195</td>\n",
       "      <td>100</td>\n",
       "      <td>850</td>\n",
       "      <td>16</td>\n",
       "      <td>15</td>\n",
       "      <td>yes</td>\n",
       "      <td>no</td>\n",
       "      <td>yes</td>\n",
       "      <td>39</td>\n",
       "      <td>35</td>\n",
       "    </tr>\n",
       "    <tr>\n",
       "      <th>6259</th>\n",
       "      <td>2490</td>\n",
       "      <td>100</td>\n",
       "      <td>850</td>\n",
       "      <td>16</td>\n",
       "      <td>17</td>\n",
       "      <td>yes</td>\n",
       "      <td>no</td>\n",
       "      <td>yes</td>\n",
       "      <td>39</td>\n",
       "      <td>35</td>\n",
       "    </tr>\n",
       "  </tbody>\n",
       "</table>\n",
       "<p>6259 rows × 10 columns</p>\n",
       "</div>"
      ],
      "text/plain": [
       "      price  speed    hd  ram  screen   cd multi premium  ads  trend\n",
       "1      1499     25    80    4      14   no    no     yes   94      1\n",
       "2      1795     33    85    2      14   no    no     yes   94      1\n",
       "3      1595     25   170    4      15   no    no     yes   94      1\n",
       "4      1849     25   170    8      14   no    no      no   94      1\n",
       "5      3295     33   340   16      14   no    no     yes   94      1\n",
       "...     ...    ...   ...  ...     ...  ...   ...     ...  ...    ...\n",
       "6255   1690    100   528    8      15   no    no     yes   39     35\n",
       "6256   2223     66   850   16      15  yes   yes     yes   39     35\n",
       "6257   2654    100  1200   24      15  yes    no     yes   39     35\n",
       "6258   2195    100   850   16      15  yes    no     yes   39     35\n",
       "6259   2490    100   850   16      17  yes    no     yes   39     35\n",
       "\n",
       "[6259 rows x 10 columns]"
      ]
     },
     "execution_count": 18,
     "metadata": {},
     "output_type": "execute_result"
    }
   ],
   "source": [
    "# Storing path\n",
    "path=r\"C:\\Users\\Slmss\\OneDrive\\Desktop\\A.I\\DataSet-main\\Computers.csv\"\n",
    "\n",
    "# Reading CSV\n",
    "data2=pd.read_csv(path,index_col=0)\n",
    "data2"
   ]
  },
  {
   "cell_type": "code",
   "execution_count": 25,
   "id": "a486e2c7",
   "metadata": {},
   "outputs": [],
   "source": [
    "list_=[1,2,3]"
   ]
  },
  {
   "cell_type": "code",
   "execution_count": 26,
   "id": "071474d2",
   "metadata": {},
   "outputs": [
    {
     "ename": "TypeError",
     "evalue": "'list' object is not callable",
     "output_type": "error",
     "traceback": [
      "\u001b[1;31m---------------------------------------------------------------------------\u001b[0m",
      "\u001b[1;31mTypeError\u001b[0m                                 Traceback (most recent call last)",
      "Cell \u001b[1;32mIn[26], line 1\u001b[0m\n\u001b[1;32m----> 1\u001b[0m \u001b[43mlist_\u001b[49m\u001b[43m(\u001b[49m\u001b[43m)\u001b[49m\n",
      "\u001b[1;31mTypeError\u001b[0m: 'list' object is not callable"
     ]
    }
   ],
   "source": [
    "list_()"
   ]
  },
  {
   "cell_type": "code",
   "execution_count": 30,
   "id": "e63ef6de",
   "metadata": {},
   "outputs": [
    {
     "data": {
      "text/plain": [
       "Index(['rank', 'discipline', 'phd', 'service', 'sex', 'salary'], dtype='object')"
      ]
     },
     "execution_count": 30,
     "metadata": {},
     "output_type": "execute_result"
    }
   ],
   "source": [
    "# get col names\n",
    "data.columns"
   ]
  },
  {
   "cell_type": "code",
   "execution_count": 44,
   "id": "f2a66acf",
   "metadata": {},
   "outputs": [
    {
     "name": "stderr",
     "output_type": "stream",
     "text": [
      "\n",
      "KeyboardInterrupt\n",
      "\n"
     ]
    }
   ],
   "source": [
    "rank=data['rank']\n",
    "print(type(rank))"
   ]
  },
  {
   "cell_type": "code",
   "execution_count": 42,
   "id": "b44efe4e",
   "metadata": {},
   "outputs": [
    {
     "name": "stdout",
     "output_type": "stream",
     "text": [
      "<class 'pandas.core.frame.DataFrame'>\n"
     ]
    }
   ],
   "source": [
    "da=data[['service','sex']]\n",
    "print(type(da))"
   ]
  },
  {
   "cell_type": "code",
   "execution_count": 38,
   "id": "74256589",
   "metadata": {},
   "outputs": [
    {
     "data": {
      "text/plain": [
       "dtype('O')"
      ]
     },
     "execution_count": 38,
     "metadata": {},
     "output_type": "execute_result"
    }
   ],
   "source": [
    "rank.dtype"
   ]
  },
  {
   "cell_type": "code",
   "execution_count": 37,
   "id": "0cb08ddc",
   "metadata": {},
   "outputs": [
    {
     "data": {
      "text/plain": [
       "rank          object\n",
       "discipline    object\n",
       "phd            int64\n",
       "service        int64\n",
       "sex           object\n",
       "salary         int64\n",
       "dtype: object"
      ]
     },
     "execution_count": 37,
     "metadata": {},
     "output_type": "execute_result"
    }
   ],
   "source": [
    "data.dtypes"
   ]
  },
  {
   "cell_type": "code",
   "execution_count": 36,
   "id": "009e4104",
   "metadata": {},
   "outputs": [
    {
     "data": {
      "text/plain": [
       "pandas.core.series.Series"
      ]
     },
     "execution_count": 36,
     "metadata": {},
     "output_type": "execute_result"
    }
   ],
   "source": [
    "type(rank)"
   ]
  },
  {
   "cell_type": "code",
   "execution_count": 35,
   "id": "1bbcca8c",
   "metadata": {},
   "outputs": [
    {
     "data": {
      "text/plain": [
       "0     B\n",
       "1     A\n",
       "2     A\n",
       "3     A\n",
       "4     B\n",
       "     ..\n",
       "73    B\n",
       "74    B\n",
       "75    B\n",
       "76    A\n",
       "77    A\n",
       "Name: discipline, Length: 78, dtype: object"
      ]
     },
     "execution_count": 35,
     "metadata": {},
     "output_type": "execute_result"
    }
   ],
   "source": [
    "rank2=data.discipline\n",
    "rank2"
   ]
  },
  {
   "cell_type": "code",
   "execution_count": 28,
   "id": "824fa2da",
   "metadata": {},
   "outputs": [
    {
     "data": {
      "text/html": [
       "<div>\n",
       "<style scoped>\n",
       "    .dataframe tbody tr th:only-of-type {\n",
       "        vertical-align: middle;\n",
       "    }\n",
       "\n",
       "    .dataframe tbody tr th {\n",
       "        vertical-align: top;\n",
       "    }\n",
       "\n",
       "    .dataframe thead th {\n",
       "        text-align: right;\n",
       "    }\n",
       "</style>\n",
       "<table border=\"1\" class=\"dataframe\">\n",
       "  <thead>\n",
       "    <tr style=\"text-align: right;\">\n",
       "      <th></th>\n",
       "      <th>rank</th>\n",
       "      <th>discipline</th>\n",
       "      <th>phd</th>\n",
       "      <th>service</th>\n",
       "      <th>sex</th>\n",
       "      <th>salary</th>\n",
       "    </tr>\n",
       "  </thead>\n",
       "  <tbody>\n",
       "    <tr>\n",
       "      <th>0</th>\n",
       "      <td>Prof</td>\n",
       "      <td>B</td>\n",
       "      <td>56</td>\n",
       "      <td>49</td>\n",
       "      <td>Male</td>\n",
       "      <td>186960</td>\n",
       "    </tr>\n",
       "    <tr>\n",
       "      <th>1</th>\n",
       "      <td>Prof</td>\n",
       "      <td>A</td>\n",
       "      <td>12</td>\n",
       "      <td>6</td>\n",
       "      <td>Male</td>\n",
       "      <td>93000</td>\n",
       "    </tr>\n",
       "    <tr>\n",
       "      <th>2</th>\n",
       "      <td>Prof</td>\n",
       "      <td>A</td>\n",
       "      <td>23</td>\n",
       "      <td>20</td>\n",
       "      <td>Male</td>\n",
       "      <td>110515</td>\n",
       "    </tr>\n",
       "    <tr>\n",
       "      <th>3</th>\n",
       "      <td>Prof</td>\n",
       "      <td>A</td>\n",
       "      <td>40</td>\n",
       "      <td>31</td>\n",
       "      <td>Male</td>\n",
       "      <td>131205</td>\n",
       "    </tr>\n",
       "    <tr>\n",
       "      <th>4</th>\n",
       "      <td>Prof</td>\n",
       "      <td>B</td>\n",
       "      <td>20</td>\n",
       "      <td>18</td>\n",
       "      <td>Male</td>\n",
       "      <td>104800</td>\n",
       "    </tr>\n",
       "  </tbody>\n",
       "</table>\n",
       "</div>"
      ],
      "text/plain": [
       "   rank discipline  phd  service   sex  salary\n",
       "0  Prof          B   56       49  Male  186960\n",
       "1  Prof          A   12        6  Male   93000\n",
       "2  Prof          A   23       20  Male  110515\n",
       "3  Prof          A   40       31  Male  131205\n",
       "4  Prof          B   20       18  Male  104800"
      ]
     },
     "execution_count": 28,
     "metadata": {},
     "output_type": "execute_result"
    }
   ],
   "source": [
    "data.head()"
   ]
  },
  {
   "cell_type": "code",
   "execution_count": 21,
   "id": "ab7599b8",
   "metadata": {},
   "outputs": [
    {
     "data": {
      "text/html": [
       "<div>\n",
       "<style scoped>\n",
       "    .dataframe tbody tr th:only-of-type {\n",
       "        vertical-align: middle;\n",
       "    }\n",
       "\n",
       "    .dataframe tbody tr th {\n",
       "        vertical-align: top;\n",
       "    }\n",
       "\n",
       "    .dataframe thead th {\n",
       "        text-align: right;\n",
       "    }\n",
       "</style>\n",
       "<table border=\"1\" class=\"dataframe\">\n",
       "  <thead>\n",
       "    <tr style=\"text-align: right;\">\n",
       "      <th></th>\n",
       "      <th>rank</th>\n",
       "      <th>discipline</th>\n",
       "      <th>phd</th>\n",
       "      <th>service</th>\n",
       "      <th>sex</th>\n",
       "      <th>salary</th>\n",
       "    </tr>\n",
       "  </thead>\n",
       "  <tbody>\n",
       "    <tr>\n",
       "      <th>0</th>\n",
       "      <td>Prof</td>\n",
       "      <td>B</td>\n",
       "      <td>56</td>\n",
       "      <td>49</td>\n",
       "      <td>Male</td>\n",
       "      <td>186960</td>\n",
       "    </tr>\n",
       "    <tr>\n",
       "      <th>1</th>\n",
       "      <td>Prof</td>\n",
       "      <td>A</td>\n",
       "      <td>12</td>\n",
       "      <td>6</td>\n",
       "      <td>Male</td>\n",
       "      <td>93000</td>\n",
       "    </tr>\n",
       "    <tr>\n",
       "      <th>2</th>\n",
       "      <td>Prof</td>\n",
       "      <td>A</td>\n",
       "      <td>23</td>\n",
       "      <td>20</td>\n",
       "      <td>Male</td>\n",
       "      <td>110515</td>\n",
       "    </tr>\n",
       "    <tr>\n",
       "      <th>3</th>\n",
       "      <td>Prof</td>\n",
       "      <td>A</td>\n",
       "      <td>40</td>\n",
       "      <td>31</td>\n",
       "      <td>Male</td>\n",
       "      <td>131205</td>\n",
       "    </tr>\n",
       "    <tr>\n",
       "      <th>4</th>\n",
       "      <td>Prof</td>\n",
       "      <td>B</td>\n",
       "      <td>20</td>\n",
       "      <td>18</td>\n",
       "      <td>Male</td>\n",
       "      <td>104800</td>\n",
       "    </tr>\n",
       "  </tbody>\n",
       "</table>\n",
       "</div>"
      ],
      "text/plain": [
       "   rank discipline  phd  service   sex  salary\n",
       "0  Prof          B   56       49  Male  186960\n",
       "1  Prof          A   12        6  Male   93000\n",
       "2  Prof          A   23       20  Male  110515\n",
       "3  Prof          A   40       31  Male  131205\n",
       "4  Prof          B   20       18  Male  104800"
      ]
     },
     "execution_count": 21,
     "metadata": {},
     "output_type": "execute_result"
    }
   ],
   "source": [
    "data.head() #Function/Method"
   ]
  },
  {
   "cell_type": "markdown",
   "id": "d4f0df33",
   "metadata": {},
   "source": [
    "<p><span style='color:green;font-size:20px'>Load</span><span style='color:blue;font-size:20px'> Pandas</span></p>\n",
    "<p>To load the pandas package and start working with it, import the package. The community agreed alias for pandas is <code>pd</code>, so loading pandas as <code >pd</code> is assumed standard practice for all of the pandas documentation.</p>"
   ]
  },
  {
   "cell_type": "code",
   "execution_count": 1,
   "id": "634cb0b6",
   "metadata": {},
   "outputs": [],
   "source": [
    "import pandas as pd"
   ]
  },
  {
   "cell_type": "markdown",
   "id": "fe67bd39",
   "metadata": {},
   "source": [
    "<p><span style=\"font-weight:bold;font-size:20px;color:#100c08\">  Creating a</span> <span style='color:#a4c639;font-size:20px;font-weight:bold'>DataFrame.</span><p>\n",
    "    "
   ]
  },
  {
   "cell_type": "code",
   "execution_count": 6,
   "id": "eeda22c9",
   "metadata": {},
   "outputs": [
    {
     "data": {
      "text/html": [
       "<div>\n",
       "<style scoped>\n",
       "    .dataframe tbody tr th:only-of-type {\n",
       "        vertical-align: middle;\n",
       "    }\n",
       "\n",
       "    .dataframe tbody tr th {\n",
       "        vertical-align: top;\n",
       "    }\n",
       "\n",
       "    .dataframe thead th {\n",
       "        text-align: right;\n",
       "    }\n",
       "</style>\n",
       "<table border=\"1\" class=\"dataframe\">\n",
       "  <thead>\n",
       "    <tr style=\"text-align: right;\">\n",
       "      <th></th>\n",
       "      <th>Col1</th>\n",
       "      <th>Col2</th>\n",
       "    </tr>\n",
       "  </thead>\n",
       "  <tbody>\n",
       "    <tr>\n",
       "      <th>0</th>\n",
       "      <td>Row1</td>\n",
       "      <td>Row1</td>\n",
       "    </tr>\n",
       "    <tr>\n",
       "      <th>1</th>\n",
       "      <td>ROw2</td>\n",
       "      <td>ROw2</td>\n",
       "    </tr>\n",
       "    <tr>\n",
       "      <th>2</th>\n",
       "      <td>ROw3</td>\n",
       "      <td>ROw3</td>\n",
       "    </tr>\n",
       "    <tr>\n",
       "      <th>3</th>\n",
       "      <td>Rows4</td>\n",
       "      <td>Nan</td>\n",
       "    </tr>\n",
       "  </tbody>\n",
       "</table>\n",
       "</div>"
      ],
      "text/plain": [
       "    Col1  Col2\n",
       "0   Row1  Row1\n",
       "1   ROw2  ROw2\n",
       "2   ROw3  ROw3\n",
       "3  Rows4   Nan"
      ]
     },
     "execution_count": 6,
     "metadata": {},
     "output_type": "execute_result"
    }
   ],
   "source": [
    "pd.DataFrame({'Col1':['Row1', 'ROw2', 'ROw3','Rows4'],'Col2':['Row1', 'ROw2', 'ROw3','Nan']})"
   ]
  },
  {
   "cell_type": "code",
   "execution_count": 7,
   "id": "88f5921b",
   "metadata": {
    "code_folding": []
   },
   "outputs": [
    {
     "data": {
      "text/html": [
       "<div>\n",
       "<style scoped>\n",
       "    .dataframe tbody tr th:only-of-type {\n",
       "        vertical-align: middle;\n",
       "    }\n",
       "\n",
       "    .dataframe tbody tr th {\n",
       "        vertical-align: top;\n",
       "    }\n",
       "\n",
       "    .dataframe thead th {\n",
       "        text-align: right;\n",
       "    }\n",
       "</style>\n",
       "<table border=\"1\" class=\"dataframe\">\n",
       "  <thead>\n",
       "    <tr style=\"text-align: right;\">\n",
       "      <th></th>\n",
       "      <th>Name</th>\n",
       "      <th>Age</th>\n",
       "      <th>Experience</th>\n",
       "    </tr>\n",
       "  </thead>\n",
       "  <tbody>\n",
       "    <tr>\n",
       "      <th>0</th>\n",
       "      <td>Simran</td>\n",
       "      <td>30</td>\n",
       "      <td>5</td>\n",
       "    </tr>\n",
       "    <tr>\n",
       "      <th>1</th>\n",
       "      <td>Rohit</td>\n",
       "      <td>40</td>\n",
       "      <td>8</td>\n",
       "    </tr>\n",
       "    <tr>\n",
       "      <th>2</th>\n",
       "      <td>Raghu</td>\n",
       "      <td>50</td>\n",
       "      <td>11</td>\n",
       "    </tr>\n",
       "    <tr>\n",
       "      <th>3</th>\n",
       "      <td>Saachi</td>\n",
       "      <td>60</td>\n",
       "      <td>14</td>\n",
       "    </tr>\n",
       "    <tr>\n",
       "      <th>4</th>\n",
       "      <td>Kavya</td>\n",
       "      <td>70</td>\n",
       "      <td>17</td>\n",
       "    </tr>\n",
       "  </tbody>\n",
       "</table>\n",
       "</div>"
      ],
      "text/plain": [
       "     Name  Age  Experience\n",
       "0  Simran   30           5\n",
       "1   Rohit   40           8\n",
       "2   Raghu   50          11\n",
       "3  Saachi   60          14\n",
       "4   Kavya   70          17"
      ]
     },
     "execution_count": 7,
     "metadata": {},
     "output_type": "execute_result"
    }
   ],
   "source": [
    "# Mnemonic name for DataFrame df \n",
    "\n",
    "df=pd.DataFrame({    \n",
    "    'Name':['Simran','Rohit','Raghu','Saachi','Kavya'],\n",
    "    \"Age\":[i for i in range(30,80,10)],\n",
    "    \"Experience\":[i for i in range(5,18,3)]})\n",
    "\n",
    "\n",
    "df"
   ]
  },
  {
   "cell_type": "markdown",
   "id": "f67e1c44",
   "metadata": {},
   "source": [
    "<p>Notice that the inferred dtype is int64 & object.</p>"
   ]
  },
  {
   "cell_type": "code",
   "execution_count": 8,
   "id": "7cbd7fc9",
   "metadata": {},
   "outputs": [
    {
     "data": {
      "text/plain": [
       "Name          object\n",
       "Age            int64\n",
       "Experience     int64\n",
       "dtype: object"
      ]
     },
     "execution_count": 8,
     "metadata": {},
     "output_type": "execute_result"
    }
   ],
   "source": [
    "df.dtypes"
   ]
  },
  {
   "cell_type": "markdown",
   "id": "2e144554",
   "metadata": {},
   "source": [
    "<p>To enforce a single dtype:</p>"
   ]
  },
  {
   "cell_type": "code",
   "execution_count": 10,
   "id": "7ace2d8a",
   "metadata": {},
   "outputs": [
    {
     "data": {
      "text/plain": [
       "Name          object\n",
       "Age           object\n",
       "Experience    object\n",
       "dtype: object"
      ]
     },
     "execution_count": 10,
     "metadata": {},
     "output_type": "execute_result"
    }
   ],
   "source": [
    "import numpy as np\n",
    "import warnings\n",
    "warnings.filterwarnings('ignore')\n",
    "df=pd.DataFrame({    \n",
    "    'Name':['Simran','Rohit','Raghu','Saachi','Kavya'],\n",
    "    \"Age\":[i for i in range(30,80,10)],\n",
    "    \"Experience\":[i for i in range(5,18,3)]},dtype=np.str)\n",
    "\n",
    "\n",
    "df.dtypes"
   ]
  },
  {
   "cell_type": "markdown",
   "id": "95988b18",
   "metadata": {},
   "source": [
    "<p>Constructing DataFrame from a dictionary including Series:</p>"
   ]
  },
  {
   "cell_type": "code",
   "execution_count": null,
   "id": "f2a98e1d",
   "metadata": {},
   "outputs": [],
   "source": [
    "df=pd.DataFrame({    \n",
    "    'Name':['Simran','Rohit','Raghu','Saachi','Kavya'],\n",
    "    \"Age\":[i for i in range(30,80,10)],\n",
    "    \"Experience\":pd.Series([i for i in range(5,18,3)])})\n",
    "\n",
    "df"
   ]
  },
  {
   "cell_type": "markdown",
   "id": "88cc4e52",
   "metadata": {},
   "source": [
    "<p>Constructing DataFrame from numpy ndarray:</p>"
   ]
  },
  {
   "cell_type": "code",
   "execution_count": null,
   "id": "a0146bdf",
   "metadata": {
    "scrolled": true
   },
   "outputs": [],
   "source": [
    "# Genrate Random column names\n",
    "from random_word import RandomWords\n",
    "r = RandomWords()\n",
    "\n",
    "labels=[r.get_random_word() for i in range(10)]\n",
    "arr=np.random.randint(1,1000,100).reshape(10,10)\n",
    "df=pd.DataFrame(arr,columns=labels)\n",
    "\n",
    "df"
   ]
  },
  {
   "cell_type": "markdown",
   "id": "ec337c2c",
   "metadata": {},
   "source": [
    "<p style=\"font-size:25px;color:#f2f3f4\"><mark>Attributes</mark></p>"
   ]
  },
  {
   "cell_type": "markdown",
   "id": "3a5dfe1a",
   "metadata": {},
   "source": [
    "<p style=\";font-size:20px\">𝓓𝓪𝓽𝓪𝓕𝓻𝓪𝓶𝓮.<span style=\"color:\t#008000;font-size:20px\">𝓪𝓽</span></p>\n",
    "<p>Access a single value for a row/column label pair.</p>\n",
    "<p>Similar to <code><span>loc</span></code>, in that both provide label-based lookups. Use\n",
    "<code ><span >at</span></code> if you only need to get or set a single value in a DataFrame\n",
    "or Series.</p>"
   ]
  },
  {
   "cell_type": "code",
   "execution_count": null,
   "id": "7ec69116",
   "metadata": {},
   "outputs": [],
   "source": [
    "df.at[0,'lathery']"
   ]
  },
  {
   "cell_type": "markdown",
   "id": "c2201c85",
   "metadata": {},
   "source": [
    " \n"
   ]
  },
  {
   "cell_type": "markdown",
   "id": "551e1621",
   "metadata": {},
   "source": [
    "<p style=\";font-size:20px\">𝓓𝓪𝓽𝓪𝓕𝓻𝓪𝓶𝓮.<span style=\"color:\t#008000;font-size:20px\">𝓪𝔁𝓮𝓼</span></p>\n",
    "<p>Return a list representing the axes of the DataFrame.</p>\n",
    "<p>It has the row axis labels and column axis labels as the only members.\n",
    "They are returned in that order.</p>"
   ]
  },
  {
   "cell_type": "code",
   "execution_count": null,
   "id": "ccdf529b",
   "metadata": {},
   "outputs": [],
   "source": [
    "df.axes"
   ]
  },
  {
   "cell_type": "markdown",
   "id": "8d94034e",
   "metadata": {},
   "source": [
    " "
   ]
  },
  {
   "cell_type": "markdown",
   "id": "f0e3cba3",
   "metadata": {},
   "source": [
    "<p style=\";font-size:20px\">𝓓𝓪𝓽𝓪𝓕𝓻𝓪𝓶𝓮.<span style=\"color:\t#008000;font-size:20px\">𝓬𝓸𝓵𝓾𝓶𝓷𝓼</span></p>\n",
    "<p>The column labels of the DataFrame.</p>"
   ]
  },
  {
   "cell_type": "code",
   "execution_count": null,
   "id": "bc086db0",
   "metadata": {},
   "outputs": [],
   "source": [
    "df.columns"
   ]
  },
  {
   "cell_type": "markdown",
   "id": "6e1489c6",
   "metadata": {},
   "source": [
    "<p style=\";font-size:20px\">𝓓𝓪𝓽𝓪𝓕𝓻𝓪𝓶𝓮.<span style=\"color:\t#008000;font-size:20px\">𝓭𝓽𝔂𝓹𝓮𝓼</span></p>\n",
    "<p>Return the dtypes in the DataFrame.</p>\n",
    "<p>This returns a Series with the data type of each column.\n",
    "The result’s index is the original DataFrame’s columns. Columns with mixed types are stored with the <code><span>object</span></code> dtype.</p>"
   ]
  },
  {
   "cell_type": "code",
   "execution_count": null,
   "id": "7bdbe1d4",
   "metadata": {},
   "outputs": [],
   "source": [
    "df.dtypes"
   ]
  },
  {
   "cell_type": "markdown",
   "id": "a6b87428",
   "metadata": {},
   "source": [
    "<p style=\";font-size:20px\">𝓓𝓪𝓽𝓪𝓕𝓻𝓪𝓶𝓮.<span style=\"color:#008000;font-size:20px\">𝓮𝓶𝓹𝓽𝔂</span></p><hr>\n",
    "Checks if a Series/DataFrame is completely empty"
   ]
  },
  {
   "cell_type": "code",
   "execution_count": null,
   "id": "6263cf18",
   "metadata": {},
   "outputs": [],
   "source": [
    "df.empty"
   ]
  },
  {
   "cell_type": "markdown",
   "id": "bf4ba7fe",
   "metadata": {},
   "source": [
    "<p style=\";font-size:20px\">𝓓𝓪𝓽𝓪𝓕𝓻𝓪𝓶𝓮.<span style=\"color:#008000;font-size:20px\">𝓲𝓪𝓽</span></p>\n",
    "<p>Access a single value for a row/column pair by integer position.</p>\n",
    "<p>Similar to <code class=\"docutils literal notranslate\"><span class=\"pre\">iloc</span></code>, in that both provide integer-based lookups. Use\n",
    "<code class=\"docutils literal notranslate\"><span class=\"pre\">iat</span></code> if you only need to get or set a single value in a DataFrame\n",
    "or Series.</p>"
   ]
  },
  {
   "cell_type": "code",
   "execution_count": null,
   "id": "dc769096",
   "metadata": {},
   "outputs": [],
   "source": [
    "df.iat[0,0]"
   ]
  },
  {
   "cell_type": "markdown",
   "id": "1bed4553",
   "metadata": {},
   "source": [
    "<p style=\";font-size:20px\">𝓓𝓪𝓽𝓪𝓕𝓻𝓪𝓶𝓮.<span style=\"color:#008000;font-size:20px\">𝓲𝓵𝓸𝓬</span></p>\n",
    "<p>Purely integer-location based indexing for selection by position.</p>\n",
    "<p><code><span>.iloc[]</span></code> is primarily integer position based (from <code><span>0</span></code> to\n",
    "<code><span>length-1</span></code> of the axis), but may also be used with a boolean array.</p>\n",
    "\n",
    "<p>Allowed inputs are:</p>\n",
    "<ul>\n",
    "<li><p>An integer, e.g. <code><span>5</span></code>.</p></li>\n",
    "<li><p>A list or array of integers, e.g. <code><span>[4,</span> <span>3,</span> <span>0]</span></code>.</p></li>\n",
    "<li><p>A slice object with ints, e.g. <code><span>1:7</span></code>.</p></li>\n",
    "<li><p>A boolean array.</p></li>\n",
    "<li><p>A <code><span>callable</span></code> function with one argument (the calling Series or\n",
    "DataFrame) and that returns valid output for indexing (one of the above).\n",
    "This is useful in method chains, when you don’t have a reference to the\n",
    "calling object, but would like to base your selection on some value.</p></li>\n",
    "</ul>\n",
    "\n",
    "<p><code><span>.iloc</span></code> will raise <code><span>IndexError</span></code> if a requested indexer is\n",
    "out-of-bounds, except <em>slice</em> indexers which allow out-of-bounds indexing (this conforms with python/numpy <em>slice</em> semantics).</p>"
   ]
  },
  {
   "cell_type": "code",
   "execution_count": null,
   "id": "98b655e7",
   "metadata": {},
   "outputs": [],
   "source": [
    "df.iloc[0:,0:]"
   ]
  },
  {
   "cell_type": "markdown",
   "id": "74c2f8d5",
   "metadata": {},
   "source": [
    "<p style=\";font-size:20px\">𝓓𝓪𝓽𝓪𝓕𝓻𝓪𝓶𝓮.<span style=\"color:#008000;font-size:20px\">𝓲ndex</span></p>\n",
    "<p>The index (row labels) of the DataFrame.</p>"
   ]
  },
  {
   "cell_type": "code",
   "execution_count": null,
   "id": "0d7af080",
   "metadata": {},
   "outputs": [],
   "source": [
    "df.index"
   ]
  },
  {
   "cell_type": "markdown",
   "id": "3d74bb1e",
   "metadata": {},
   "source": [
    "<p style=\";font-size:20px\">𝓓𝓪𝓽𝓪𝓕𝓻𝓪𝓶𝓮.<span style=\"color:#008000;font-size:20px\">𝓵𝓸𝓬</span></p>\n",
    "<p>Access a group of rows and columns by label(s) or a boolean array.</p>\n",
    "<p><code><span>.loc[]</span></code> is primarily label based, but may also be used with a boolean array.</p>\n",
    "\n",
    "<p>Allowed inputs are:</p>\n",
    "<ul>\n",
    "<li><p>A single label, e.g. <code><span>5</span></code> or <code><span>'a'</span></code>, (note that <code><span>5</span></code> is\n",
    "interpreted as a <em>label</em> of the index, and <strong>never</strong> as an\n",
    "integer position along the index).</p></li>\n",
    "<li><p>A list or array of labels, e.g. <code><span>['a',</span> <span>'b',</span> <span>'c']</span></code>.</p></li>\n",
    "<li><p>A slice object with labels, e.g. <code><span>'a':'f'</span></code>.</p>\n",
    "<div>\n",
    "<p>Warning</p>\n",
    "<p>Note that contrary to usual python slices, <strong>both</strong> the\n",
    "start and the stop are included</p>\n",
    "</div>\n",
    "</li>\n",
    "<li><p>A boolean array of the same length as the axis being sliced,\n",
    "e.g. <code><span>[True,</span> <span>False,</span> <span>True]</span></code>.</p></li>\n",
    "<li><p>An alignable boolean Series. The index of the key will be aligned before\n",
    "masking.</p></li>\n",
    "<li><p>An alignable Index. The Index of the returned selection will be the input.</p></li>\n",
    "<li><p>A <code><span>callable</span></code> function with one argument (the calling Series or\n",
    "DataFrame) and that returns valid output for indexing (one of the above)</p></li>\n",
    "</ul>"
   ]
  },
  {
   "cell_type": "code",
   "execution_count": null,
   "id": "3caa8e6d",
   "metadata": {},
   "outputs": [],
   "source": [
    "df.loc[5]"
   ]
  },
  {
   "cell_type": "markdown",
   "id": "f06834d5",
   "metadata": {},
   "source": [
    "<p style=\";font-size:20px\">𝓓𝓪𝓽𝓪𝓕𝓻𝓪𝓶𝓮.<span style=\"color:#008000;font-size:20px\">𝓷𝓭𝓲𝓶</span></p>\n",
    "\n",
    "<p>Return an int representing the number of axes / array dimensions.</p>\n",
    "<p>Return 1 if Series. Otherwise return 2 if DataFrame.</p>"
   ]
  },
  {
   "cell_type": "code",
   "execution_count": null,
   "id": "4d69e53d",
   "metadata": {},
   "outputs": [],
   "source": [
    "df.ndim"
   ]
  },
  {
   "cell_type": "markdown",
   "id": "1df7e991",
   "metadata": {},
   "source": [
    "<p style=\";font-size:20px\">𝓓𝓪𝓽𝓪𝓕𝓻𝓪𝓶𝓮.<span style=\"color:#008000;font-size:20px\">𝓼𝓱𝓪𝓹𝓮</span></p>\n",
    "<p>Return a tuple representing the dimensionality of the DataFrame.</p>"
   ]
  },
  {
   "cell_type": "code",
   "execution_count": null,
   "id": "ffacf3ee",
   "metadata": {},
   "outputs": [],
   "source": [
    "df.shape"
   ]
  },
  {
   "cell_type": "markdown",
   "id": "012dc126",
   "metadata": {},
   "source": [
    "<p style=\";font-size:20px\">𝓓𝓪𝓽𝓪𝓕𝓻𝓪𝓶𝓮.<span style=\"color:#008000;font-size:20px\">𝓼𝓲𝔃𝓮</span></p>\n",
    "\n",
    "<p>Return an int representing the number of elements in this object.</p>\n",
    "<p>Return the number of rows if Series. Otherwise return the number of rows times number of columns if DataFrame.</p>"
   ]
  },
  {
   "cell_type": "code",
   "execution_count": null,
   "id": "a094ee86",
   "metadata": {},
   "outputs": [],
   "source": [
    "df.size"
   ]
  },
  {
   "cell_type": "markdown",
   "id": "e5a16006",
   "metadata": {},
   "source": [
    "<p style=\";font-size:20px\">𝓓𝓪𝓽𝓪𝓕𝓻𝓪𝓶𝓮.<span style=\"color:#008000;font-size:20px\">𝓿𝓪𝓵𝓾𝓮𝓼</span></p>\n",
    "<p>Return a Numpy representation of the DataFrame.</p>"
   ]
  },
  {
   "cell_type": "code",
   "execution_count": null,
   "id": "6a06ca82",
   "metadata": {},
   "outputs": [],
   "source": [
    "x=df.values\n",
    "x"
   ]
  },
  {
   "cell_type": "markdown",
   "id": "bb9530cb",
   "metadata": {},
   "source": [
    "\n",
    "<H2><span style=\"color:blue\">Read</span> and <span style=\"color:green\">Write.</span> Tabular data</H2>\n",
    "<p>pandas supports the integration with many file formats or data sources out of the box (csv, excel, sql, json, parquet,…). Importing data from each of these\n",
    "data sources is provided by function with the prefix <code class=\"docutils literal notranslate\"><span class=\"pre\">read_*</span></code>. Similarly, the <code class=\"docutils literal notranslate\"><span class=\"pre\">to_*</span></code> methods are used to store data.</p>\n",
    "\n",
    "<img alt=\"../_images/02_io_readwrite.svg\" class=\"align-center\" src=\"https://pandas.pydata.org/pandas-docs/stable/_images/02_io_readwrite.svg\">"
   ]
  },
  {
   "cell_type": "code",
   "execution_count": null,
   "id": "12d2a7d3",
   "metadata": {},
   "outputs": [],
   "source": []
  }
 ],
 "metadata": {
  "kernelspec": {
   "display_name": "Python 3 (ipykernel)",
   "language": "python",
   "name": "python3"
  },
  "language_info": {
   "codemirror_mode": {
    "name": "ipython",
    "version": 3
   },
   "file_extension": ".py",
   "mimetype": "text/x-python",
   "name": "python",
   "nbconvert_exporter": "python",
   "pygments_lexer": "ipython3",
   "version": "3.9.13"
  },
  "varInspector": {
   "cols": {
    "lenName": 16,
    "lenType": 16,
    "lenVar": 40
   },
   "kernels_config": {
    "python": {
     "delete_cmd_postfix": "",
     "delete_cmd_prefix": "del ",
     "library": "var_list.py",
     "varRefreshCmd": "print(var_dic_list())"
    },
    "r": {
     "delete_cmd_postfix": ") ",
     "delete_cmd_prefix": "rm(",
     "library": "var_list.r",
     "varRefreshCmd": "cat(var_dic_list()) "
    }
   },
   "types_to_exclude": [
    "module",
    "function",
    "builtin_function_or_method",
    "instance",
    "_Feature"
   ],
   "window_display": false
  }
 },
 "nbformat": 4,
 "nbformat_minor": 5
}
