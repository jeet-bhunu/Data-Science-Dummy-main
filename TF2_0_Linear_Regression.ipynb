{
  "nbformat": 4,
  "nbformat_minor": 0,
  "metadata": {
    "colab": {
      "provenance": [],
      "toc_visible": true,
      "include_colab_link": true
    },
    "kernelspec": {
      "name": "python3",
      "display_name": "Python 3"
    }
  },
  "cells": [
    {
      "cell_type": "markdown",
      "metadata": {
        "id": "view-in-github",
        "colab_type": "text"
      },
      "source": [
        "<a href=\"https://colab.research.google.com/github/slmsshk/Data_Science-_Dummy/blob/main/TF2_0_Linear_Regression.ipynb\" target=\"_parent\"><img src=\"https://colab.research.google.com/assets/colab-badge.svg\" alt=\"Open In Colab\"/></a>"
      ]
    },
    {
      "cell_type": "code",
      "metadata": {
        "id": "0qJR2zUf9OI_",
        "outputId": "f5277e4b-082c-40ae-f88c-2b0ed72835be",
        "colab": {
          "base_uri": "https://localhost:8080/",
          "height": 115
        }
      },
      "source": [
        "# Install TensorFlow\n",
        "#!pip install -q tensorflow-gpu==2.0.0\n",
        "\n",
        "try:\n",
        "  %tensorflow_version 2.x  # Colab only.\n",
        "except Exception:\n",
        "  pass\n",
        "\n",
        "import tensorflow as tf\n",
        "print(tf.__version__)"
      ],
      "execution_count": null,
      "outputs": [
        {
          "output_type": "stream",
          "text": [
            "`%tensorflow_version` only switches the major version: `1.x` or `2.x`.\n",
            "You set: `2.x  # Colab only.`. This will be interpreted as: `2.x`.\n",
            "\n",
            "\n",
            "TensorFlow 2.x selected.\n",
            "2.1.0-rc1\n"
          ],
          "name": "stdout"
        }
      ]
    },
    {
      "cell_type": "code",
      "metadata": {
        "id": "4Xxa6cWIDsax"
      },
      "source": [
        "# Other imports\n",
        "import pandas as pd\n",
        "import numpy as np\n",
        "import matplotlib.pyplot as plt"
      ],
      "execution_count": null,
      "outputs": []
    },
    {
      "cell_type": "code",
      "metadata": {
        "id": "Mrrg06xiAhXN",
        "outputId": "275a20ff-a696-45bc-f5a3-9554ee66a1a0",
        "colab": {
          "base_uri": "https://localhost:8080/",
          "height": 196
        }
      },
      "source": [
        "# Get the data\n",
        "!wget https://raw.githubusercontent.com/lazyprogrammer/machine_learning_examples/master/tf2.0/moore.csv"
      ],
      "execution_count": null,
      "outputs": [
        {
          "output_type": "stream",
          "text": [
            "--2019-12-24 14:55:40--  https://raw.githubusercontent.com/lazyprogrammer/machine_learning_examples/master/tf2.0/moore.csv\n",
            "Resolving raw.githubusercontent.com (raw.githubusercontent.com)... 151.101.0.133, 151.101.64.133, 151.101.128.133, ...\n",
            "Connecting to raw.githubusercontent.com (raw.githubusercontent.com)|151.101.0.133|:443... connected.\n",
            "HTTP request sent, awaiting response... 200 OK\n",
            "Length: 2302 (2.2K) [text/plain]\n",
            "Saving to: ‘moore.csv’\n",
            "\n",
            "\rmoore.csv             0%[                    ]       0  --.-KB/s               \rmoore.csv           100%[===================>]   2.25K  --.-KB/s    in 0s      \n",
            "\n",
            "2019-12-24 14:55:40 (39.8 MB/s) - ‘moore.csv’ saved [2302/2302]\n",
            "\n"
          ],
          "name": "stdout"
        }
      ]
    },
    {
      "cell_type": "code",
      "metadata": {
        "id": "313wFjffDnZp"
      },
      "source": [
        "# Load in the data\n",
        "data = pd.read_csv('moore.csv', header=None).values\n",
        "X = data[:,0].reshape(-1, 1) # make it a 2-D array of size N x D where D = 1\n",
        "Y = data[:,1]"
      ],
      "execution_count": null,
      "outputs": []
    },
    {
      "cell_type": "code",
      "metadata": {
        "id": "Qea_ckSTEstM",
        "outputId": "acc33723-4cc3-4281-82e4-bec06cd9be5b",
        "colab": {
          "base_uri": "https://localhost:8080/",
          "height": 293
        }
      },
      "source": [
        "# Plot the data - it is exponential!\n",
        "plt.scatter(X, Y)"
      ],
      "execution_count": null,
      "outputs": [
        {
          "output_type": "execute_result",
          "data": {
            "text/plain": [
              "<matplotlib.collections.PathCollection at 0x7f3ddbbb35c0>"
            ]
          },
          "metadata": {
            "tags": []
          },
          "execution_count": 18
        },
        {
          "output_type": "display_data",
          "data": {
            "image/png": "[encoded data removed]",
            "text/plain": [
              "<Figure size 432x288 with 1 Axes>"
            ]
          },
          "metadata": {
            "tags": []
          }
        }
      ]
    },
    {
      "cell_type": "code",
      "metadata": {
        "id": "Mi_fFmqyE4Tx",
        "outputId": "22f8b2dd-1850-41a6-d642-2b7865a932a1",
        "colab": {
          "base_uri": "https://localhost:8080/",
          "height": 281
        }
      },
      "source": [
        "# Since we want a linear model, let's take the log\n",
        "Y = np.log(Y)\n",
        "plt.scatter(X, Y)\n",
        "# that's better"
      ],
      "execution_count": null,
      "outputs": [
        {
          "output_type": "execute_result",
          "data": {
            "text/plain": [
              "<matplotlib.collections.PathCollection at 0x7f5b26d38860>"
            ]
          },
          "metadata": {
            "tags": []
          },
          "execution_count": 9
        },
        {
          "output_type": "display_data",
          "data": {
            "image/png": "[encoded data removed]",
            "text/plain": [
              "<Figure size 432x288 with 1 Axes>"
            ]
          },
          "metadata": {
            "tags": []
          }
        }
      ]
    },
    {
      "cell_type": "code",
      "metadata": {
        "id": "H7Dh7kAhFY9r"
      },
      "source": [
        "# Let's also center the X data so the values are not too large\n",
        "# We could scale it too but then we'd have to reverse the transformation later\n",
        "X = X - X.mean()\n"
      ],
      "execution_count": null,
      "outputs": []
    },
    {
      "cell_type": "code",
      "metadata": {
        "id": "DJgpK0wZD77X",
        "outputId": "a63d72b4-c5bf-445a-9979-d303951b94e8",
        "colab": {
          "base_uri": "https://localhost:8080/",
          "height": 1000
        }
      },
      "source": [
        "# Now create our Tensorflow model\n",
        "model = tf.keras.models.Sequential([\n",
        "  tf.keras.layers.Input(shape=(1,)),\n",
        "  tf.keras.layers.Dense(1)\n",
        "])\n",
        "\n",
        "model.compile(optimizer=tf.keras.optimizers.SGD(0.001, 0.9), loss='mse')\n",
        "# model.compile(optimizer='adam', loss='mse')\n",
        "\n",
        "\n",
        "# learning rate scheduler\n",
        "def schedule(epoch, lr):\n",
        "  if epoch >= 50:\n",
        "    return 0.0001\n",
        "  return 0.001\n",
        " \n",
        "\n",
        "scheduler = tf.keras.callbacks.LearningRateScheduler(schedule)\n",
        "\n",
        "\n",
        "# Train the model\n",
        "r = model.fit(X, Y, epochs=200, callbacks=[scheduler])"
      ],
      "execution_count": null,
      "outputs": [
        {
          "output_type": "stream",
          "text": [
            "Train on 162 samples\n",
            "Epoch 1/200\n",
            "162/162 [==============================] - 0s 3ms/sample - loss: 340.6152\n",
            "Epoch 2/200\n",
            "162/162 [==============================] - 0s 80us/sample - loss: 304.9822\n",
            "Epoch 3/200\n",
            "162/162 [==============================] - 0s 75us/sample - loss: 247.0638\n",
            "Epoch 4/200\n",
            "162/162 [==============================] - 0s 69us/sample - loss: 315.2866\n",
            "Epoch 5/200\n",
            "162/162 [==============================] - 0s 78us/sample - loss: 289.0255\n",
            "Epoch 6/200\n",
            "162/162 [==============================] - 0s 70us/sample - loss: 147.3351\n",
            "Epoch 7/200\n",
            "162/162 [==============================] - 0s 70us/sample - loss: 98.7386\n",
            "Epoch 8/200\n",
            "162/162 [==============================] - 0s 65us/sample - loss: 100.3574\n",
            "Epoch 9/200\n",
            "162/162 [==============================] - 0s 73us/sample - loss: 55.0271\n",
            "Epoch 10/200\n",
            "162/162 [==============================] - 0s 71us/sample - loss: 41.3355\n",
            "Epoch 11/200\n",
            "162/162 [==============================] - 0s 68us/sample - loss: 41.6797\n",
            "Epoch 12/200\n",
            "162/162 [==============================] - 0s 79us/sample - loss: 38.3621\n",
            "Epoch 13/200\n",
            "162/162 [==============================] - 0s 67us/sample - loss: 28.6958\n",
            "Epoch 14/200\n",
            "162/162 [==============================] - 0s 62us/sample - loss: 31.4276\n",
            "Epoch 15/200\n",
            "162/162 [==============================] - 0s 73us/sample - loss: 22.6593\n",
            "Epoch 16/200\n",
            "162/162 [==============================] - 0s 71us/sample - loss: 14.8989\n",
            "Epoch 17/200\n",
            "162/162 [==============================] - 0s 67us/sample - loss: 8.2234\n",
            "Epoch 18/200\n",
            "162/162 [==============================] - 0s 88us/sample - loss: 5.6740\n",
            "Epoch 19/200\n",
            "162/162 [==============================] - 0s 61us/sample - loss: 4.2000\n",
            "Epoch 20/200\n",
            "162/162 [==============================] - 0s 74us/sample - loss: 3.2509\n",
            "Epoch 21/200\n",
            "162/162 [==============================] - 0s 106us/sample - loss: 2.3766\n",
            "Epoch 22/200\n",
            "162/162 [==============================] - 0s 68us/sample - loss: 2.2578\n",
            "Epoch 23/200\n",
            "162/162 [==============================] - 0s 65us/sample - loss: 1.8174\n",
            "Epoch 24/200\n",
            "162/162 [==============================] - 0s 63us/sample - loss: 1.5910\n",
            "Epoch 25/200\n",
            "162/162 [==============================] - 0s 70us/sample - loss: 1.3553\n",
            "Epoch 26/200\n",
            "162/162 [==============================] - 0s 73us/sample - loss: 1.2376\n",
            "Epoch 27/200\n",
            "162/162 [==============================] - 0s 104us/sample - loss: 1.4389\n",
            "Epoch 28/200\n",
            "162/162 [==============================] - 0s 63us/sample - loss: 1.7059\n",
            "Epoch 29/200\n",
            "162/162 [==============================] - 0s 69us/sample - loss: 1.6186\n",
            "Epoch 30/200\n",
            "162/162 [==============================] - 0s 69us/sample - loss: 1.6526\n",
            "Epoch 31/200\n",
            "162/162 [==============================] - 0s 68us/sample - loss: 1.2133\n",
            "Epoch 32/200\n",
            "162/162 [==============================] - 0s 59us/sample - loss: 1.0796\n",
            "Epoch 33/200\n",
            "162/162 [==============================] - 0s 82us/sample - loss: 1.0538\n",
            "Epoch 34/200\n",
            "162/162 [==============================] - 0s 75us/sample - loss: 0.9400\n",
            "Epoch 35/200\n",
            "162/162 [==============================] - 0s 71us/sample - loss: 0.9091\n",
            "Epoch 36/200\n",
            "162/162 [==============================] - 0s 70us/sample - loss: 0.9473\n",
            "Epoch 37/200\n",
            "162/162 [==============================] - 0s 70us/sample - loss: 0.8970\n",
            "Epoch 38/200\n",
            "162/162 [==============================] - 0s 62us/sample - loss: 0.8841\n",
            "Epoch 39/200\n",
            "162/162 [==============================] - 0s 75us/sample - loss: 0.8931\n",
            "Epoch 40/200\n",
            "162/162 [==============================] - 0s 81us/sample - loss: 0.8830\n",
            "Epoch 41/200\n",
            "162/162 [==============================] - 0s 68us/sample - loss: 0.9077\n",
            "Epoch 42/200\n",
            "162/162 [==============================] - 0s 76us/sample - loss: 0.9364\n",
            "Epoch 43/200\n",
            "162/162 [==============================] - 0s 58us/sample - loss: 0.8955\n",
            "Epoch 44/200\n",
            "162/162 [==============================] - 0s 62us/sample - loss: 0.9115\n",
            "Epoch 45/200\n",
            "162/162 [==============================] - 0s 64us/sample - loss: 0.9937\n",
            "Epoch 46/200\n",
            "162/162 [==============================] - 0s 58us/sample - loss: 0.9714\n",
            "Epoch 47/200\n",
            "162/162 [==============================] - 0s 65us/sample - loss: 1.0242\n",
            "Epoch 48/200\n",
            "162/162 [==============================] - 0s 56us/sample - loss: 0.8803\n",
            "Epoch 49/200\n",
            "162/162 [==============================] - 0s 73us/sample - loss: 0.9451\n",
            "Epoch 50/200\n",
            "162/162 [==============================] - 0s 58us/sample - loss: 0.9834\n",
            "Epoch 51/200\n",
            "162/162 [==============================] - 0s 80us/sample - loss: 6.3369\n",
            "Epoch 52/200\n",
            "162/162 [==============================] - 0s 66us/sample - loss: 8.5825\n",
            "Epoch 53/200\n",
            "162/162 [==============================] - 0s 55us/sample - loss: 1.5937\n",
            "Epoch 54/200\n",
            "162/162 [==============================] - 0s 57us/sample - loss: 2.2342\n",
            "Epoch 55/200\n",
            "162/162 [==============================] - 0s 56us/sample - loss: 1.9095\n",
            "Epoch 56/200\n",
            "162/162 [==============================] - 0s 76us/sample - loss: 0.9426\n",
            "Epoch 57/200\n",
            "162/162 [==============================] - 0s 83us/sample - loss: 1.1138\n",
            "Epoch 58/200\n",
            "162/162 [==============================] - 0s 78us/sample - loss: 0.9700\n",
            "Epoch 59/200\n",
            "162/162 [==============================] - 0s 69us/sample - loss: 0.9285\n",
            "Epoch 60/200\n",
            "162/162 [==============================] - 0s 65us/sample - loss: 0.9356\n",
            "Epoch 61/200\n",
            "162/162 [==============================] - 0s 62us/sample - loss: 0.8840\n",
            "Epoch 62/200\n",
            "162/162 [==============================] - 0s 61us/sample - loss: 0.9659\n",
            "Epoch 63/200\n",
            "162/162 [==============================] - 0s 67us/sample - loss: 0.9352\n",
            "Epoch 64/200\n",
            "162/162 [==============================] - 0s 65us/sample - loss: 0.8843\n",
            "Epoch 65/200\n",
            "162/162 [==============================] - 0s 84us/sample - loss: 0.8889\n",
            "Epoch 66/200\n",
            "162/162 [==============================] - 0s 81us/sample - loss: 0.8737\n",
            "Epoch 67/200\n",
            "162/162 [==============================] - 0s 74us/sample - loss: 0.8716\n",
            "Epoch 68/200\n",
            "162/162 [==============================] - 0s 70us/sample - loss: 0.8741\n",
            "Epoch 69/200\n",
            "162/162 [==============================] - 0s 82us/sample - loss: 0.8745\n",
            "Epoch 70/200\n",
            "162/162 [==============================] - 0s 80us/sample - loss: 0.8759\n",
            "Epoch 71/200\n",
            "162/162 [==============================] - 0s 74us/sample - loss: 0.8950\n",
            "Epoch 72/200\n",
            "162/162 [==============================] - 0s 71us/sample - loss: 0.8768\n",
            "Epoch 73/200\n",
            "162/162 [==============================] - 0s 61us/sample - loss: 0.8752\n",
            "Epoch 74/200\n",
            "162/162 [==============================] - 0s 62us/sample - loss: 0.8727\n",
            "Epoch 75/200\n",
            "162/162 [==============================] - 0s 67us/sample - loss: 0.8698\n",
            "Epoch 76/200\n",
            "162/162 [==============================] - 0s 74us/sample - loss: 0.8823\n",
            "Epoch 77/200\n",
            "162/162 [==============================] - 0s 68us/sample - loss: 0.8710\n",
            "Epoch 78/200\n",
            "162/162 [==============================] - 0s 69us/sample - loss: 0.8722\n",
            "Epoch 79/200\n",
            "162/162 [==============================] - 0s 73us/sample - loss: 0.8990\n",
            "Epoch 80/200\n",
            "162/162 [==============================] - 0s 75us/sample - loss: 0.8767\n",
            "Epoch 81/200\n",
            "162/162 [==============================] - 0s 66us/sample - loss: 0.8843\n",
            "Epoch 82/200\n",
            "162/162 [==============================] - 0s 64us/sample - loss: 0.8756\n",
            "Epoch 83/200\n",
            "162/162 [==============================] - 0s 71us/sample - loss: 0.8747\n",
            "Epoch 84/200\n",
            "162/162 [==============================] - 0s 80us/sample - loss: 0.8763\n",
            "Epoch 85/200\n",
            "162/162 [==============================] - 0s 86us/sample - loss: 0.8716\n",
            "Epoch 86/200\n",
            "162/162 [==============================] - 0s 78us/sample - loss: 0.8741\n",
            "Epoch 87/200\n",
            "162/162 [==============================] - 0s 80us/sample - loss: 0.8706\n",
            "Epoch 88/200\n",
            "162/162 [==============================] - 0s 72us/sample - loss: 0.8705\n",
            "Epoch 89/200\n",
            "162/162 [==============================] - 0s 67us/sample - loss: 0.8711\n",
            "Epoch 90/200\n",
            "162/162 [==============================] - 0s 67us/sample - loss: 0.8812\n",
            "Epoch 91/200\n",
            "162/162 [==============================] - 0s 67us/sample - loss: 0.8916\n",
            "Epoch 92/200\n",
            "162/162 [==============================] - 0s 68us/sample - loss: 0.8814\n",
            "Epoch 93/200\n",
            "162/162 [==============================] - 0s 67us/sample - loss: 0.9018\n",
            "Epoch 94/200\n",
            "162/162 [==============================] - 0s 67us/sample - loss: 0.8965\n",
            "Epoch 95/200\n",
            "162/162 [==============================] - 0s 65us/sample - loss: 0.8863\n",
            "Epoch 96/200\n",
            "162/162 [==============================] - 0s 76us/sample - loss: 0.9018\n",
            "Epoch 97/200\n",
            "162/162 [==============================] - 0s 68us/sample - loss: 0.8809\n",
            "Epoch 98/200\n",
            "162/162 [==============================] - 0s 68us/sample - loss: 0.8799\n",
            "Epoch 99/200\n",
            "162/162 [==============================] - 0s 73us/sample - loss: 0.8756\n",
            "Epoch 100/200\n",
            "162/162 [==============================] - 0s 68us/sample - loss: 0.8707\n",
            "Epoch 101/200\n",
            "162/162 [==============================] - 0s 78us/sample - loss: 0.8725\n",
            "Epoch 102/200\n",
            "162/162 [==============================] - 0s 76us/sample - loss: 0.8734\n",
            "Epoch 103/200\n",
            "162/162 [==============================] - 0s 70us/sample - loss: 0.8757\n",
            "Epoch 104/200\n",
            "162/162 [==============================] - 0s 76us/sample - loss: 0.8923\n",
            "Epoch 105/200\n",
            "162/162 [==============================] - 0s 59us/sample - loss: 0.8822\n",
            "Epoch 106/200\n",
            "162/162 [==============================] - 0s 86us/sample - loss: 0.8720\n",
            "Epoch 107/200\n",
            "162/162 [==============================] - 0s 63us/sample - loss: 0.8710\n",
            "Epoch 108/200\n",
            "162/162 [==============================] - 0s 69us/sample - loss: 0.8725\n",
            "Epoch 109/200\n",
            "162/162 [==============================] - 0s 61us/sample - loss: 0.8749\n",
            "Epoch 110/200\n",
            "162/162 [==============================] - 0s 61us/sample - loss: 0.8712\n",
            "Epoch 111/200\n",
            "162/162 [==============================] - 0s 60us/sample - loss: 0.8733\n",
            "Epoch 112/200\n",
            "162/162 [==============================] - 0s 73us/sample - loss: 0.8796\n",
            "Epoch 113/200\n",
            "162/162 [==============================] - 0s 60us/sample - loss: 0.8774\n",
            "Epoch 114/200\n",
            "162/162 [==============================] - 0s 58us/sample - loss: 0.8733\n",
            "Epoch 115/200\n",
            "162/162 [==============================] - 0s 76us/sample - loss: 0.8710\n",
            "Epoch 116/200\n",
            "162/162 [==============================] - 0s 75us/sample - loss: 0.8734\n",
            "Epoch 117/200\n",
            "162/162 [==============================] - 0s 64us/sample - loss: 0.8884\n",
            "Epoch 118/200\n",
            "162/162 [==============================] - 0s 95us/sample - loss: 0.8775\n",
            "Epoch 119/200\n",
            "162/162 [==============================] - 0s 72us/sample - loss: 0.8720\n",
            "Epoch 120/200\n",
            "162/162 [==============================] - 0s 81us/sample - loss: 0.8731\n",
            "Epoch 121/200\n",
            "162/162 [==============================] - 0s 67us/sample - loss: 0.8707\n",
            "Epoch 122/200\n",
            "162/162 [==============================] - 0s 65us/sample - loss: 0.8757\n",
            "Epoch 123/200\n",
            "162/162 [==============================] - 0s 66us/sample - loss: 0.8721\n",
            "Epoch 124/200\n",
            "162/162 [==============================] - 0s 68us/sample - loss: 0.8727\n",
            "Epoch 125/200\n",
            "162/162 [==============================] - 0s 66us/sample - loss: 0.8730\n",
            "Epoch 126/200\n",
            "162/162 [==============================] - 0s 69us/sample - loss: 0.8731\n",
            "Epoch 127/200\n",
            "162/162 [==============================] - 0s 62us/sample - loss: 0.8698\n",
            "Epoch 128/200\n",
            "162/162 [==============================] - 0s 68us/sample - loss: 0.8747\n",
            "Epoch 129/200\n",
            "162/162 [==============================] - 0s 80us/sample - loss: 0.8782\n",
            "Epoch 130/200\n",
            "162/162 [==============================] - 0s 65us/sample - loss: 0.8703\n",
            "Epoch 131/200\n",
            "162/162 [==============================] - 0s 65us/sample - loss: 0.8705\n",
            "Epoch 132/200\n",
            "162/162 [==============================] - 0s 66us/sample - loss: 0.8707\n",
            "Epoch 133/200\n",
            "162/162 [==============================] - 0s 66us/sample - loss: 0.8782\n",
            "Epoch 134/200\n",
            "162/162 [==============================] - 0s 74us/sample - loss: 0.8779\n",
            "Epoch 135/200\n",
            "162/162 [==============================] - 0s 75us/sample - loss: 0.8722\n",
            "Epoch 136/200\n",
            "162/162 [==============================] - 0s 82us/sample - loss: 0.8744\n",
            "Epoch 137/200\n",
            "162/162 [==============================] - 0s 74us/sample - loss: 0.8815\n",
            "Epoch 138/200\n",
            "162/162 [==============================] - 0s 71us/sample - loss: 0.8801\n",
            "Epoch 139/200\n",
            "162/162 [==============================] - 0s 72us/sample - loss: 0.8924\n",
            "Epoch 140/200\n",
            "162/162 [==============================] - 0s 72us/sample - loss: 0.8979\n",
            "Epoch 141/200\n",
            "162/162 [==============================] - 0s 71us/sample - loss: 0.8759\n",
            "Epoch 142/200\n",
            "162/162 [==============================] - 0s 80us/sample - loss: 0.8761\n",
            "Epoch 143/200\n",
            "162/162 [==============================] - 0s 70us/sample - loss: 0.8892\n",
            "Epoch 144/200\n",
            "162/162 [==============================] - 0s 65us/sample - loss: 0.8656\n",
            "Epoch 145/200\n",
            "162/162 [==============================] - 0s 75us/sample - loss: 0.8947\n",
            "Epoch 146/200\n",
            "162/162 [==============================] - 0s 71us/sample - loss: 0.9016\n",
            "Epoch 147/200\n",
            "162/162 [==============================] - 0s 78us/sample - loss: 0.8698\n",
            "Epoch 148/200\n",
            "162/162 [==============================] - 0s 81us/sample - loss: 0.8999\n",
            "Epoch 149/200\n",
            "162/162 [==============================] - 0s 84us/sample - loss: 0.9382\n",
            "Epoch 150/200\n",
            "162/162 [==============================] - 0s 71us/sample - loss: 0.8670\n",
            "Epoch 151/200\n",
            "162/162 [==============================] - 0s 80us/sample - loss: 0.9672\n",
            "Epoch 152/200\n",
            "162/162 [==============================] - 0s 81us/sample - loss: 0.9163\n",
            "Epoch 153/200\n",
            "162/162 [==============================] - 0s 65us/sample - loss: 0.8737\n",
            "Epoch 154/200\n",
            "162/162 [==============================] - 0s 71us/sample - loss: 0.8887\n",
            "Epoch 155/200\n",
            "162/162 [==============================] - 0s 75us/sample - loss: 0.8714\n",
            "Epoch 156/200\n",
            "162/162 [==============================] - 0s 59us/sample - loss: 0.8697\n",
            "Epoch 157/200\n",
            "162/162 [==============================] - 0s 74us/sample - loss: 0.8721\n",
            "Epoch 158/200\n",
            "162/162 [==============================] - 0s 87us/sample - loss: 0.8741\n",
            "Epoch 159/200\n",
            "162/162 [==============================] - 0s 65us/sample - loss: 0.8910\n",
            "Epoch 160/200\n",
            "162/162 [==============================] - 0s 69us/sample - loss: 0.9150\n",
            "Epoch 161/200\n",
            "162/162 [==============================] - 0s 69us/sample - loss: 0.8881\n",
            "Epoch 162/200\n",
            "162/162 [==============================] - 0s 71us/sample - loss: 0.8704\n",
            "Epoch 163/200\n",
            "162/162 [==============================] - 0s 84us/sample - loss: 0.8741\n",
            "Epoch 164/200\n",
            "162/162 [==============================] - 0s 80us/sample - loss: 0.8749\n",
            "Epoch 165/200\n",
            "162/162 [==============================] - 0s 79us/sample - loss: 0.8707\n",
            "Epoch 166/200\n",
            "162/162 [==============================] - 0s 79us/sample - loss: 0.8725\n",
            "Epoch 167/200\n",
            "162/162 [==============================] - 0s 71us/sample - loss: 0.8794\n",
            "Epoch 168/200\n",
            "162/162 [==============================] - 0s 70us/sample - loss: 0.8779\n",
            "Epoch 169/200\n",
            "162/162 [==============================] - 0s 72us/sample - loss: 0.8684\n",
            "Epoch 170/200\n",
            "162/162 [==============================] - 0s 71us/sample - loss: 0.8983\n",
            "Epoch 171/200\n",
            "162/162 [==============================] - 0s 72us/sample - loss: 0.8921\n",
            "Epoch 172/200\n",
            "162/162 [==============================] - 0s 65us/sample - loss: 0.8761\n",
            "Epoch 173/200\n",
            "162/162 [==============================] - 0s 83us/sample - loss: 0.8785\n",
            "Epoch 174/200\n",
            "162/162 [==============================] - 0s 91us/sample - loss: 0.8739\n",
            "Epoch 175/200\n",
            "162/162 [==============================] - 0s 117us/sample - loss: 0.8826\n",
            "Epoch 176/200\n",
            "162/162 [==============================] - 0s 78us/sample - loss: 0.8742\n",
            "Epoch 177/200\n",
            "162/162 [==============================] - 0s 78us/sample - loss: 0.8737\n",
            "Epoch 178/200\n",
            "162/162 [==============================] - 0s 79us/sample - loss: 0.8769\n",
            "Epoch 179/200\n",
            "162/162 [==============================] - 0s 81us/sample - loss: 0.8754\n",
            "Epoch 180/200\n",
            "162/162 [==============================] - 0s 82us/sample - loss: 0.8792\n",
            "Epoch 181/200\n",
            "162/162 [==============================] - 0s 60us/sample - loss: 0.8933\n",
            "Epoch 182/200\n",
            "162/162 [==============================] - 0s 69us/sample - loss: 0.8719\n",
            "Epoch 183/200\n",
            "162/162 [==============================] - 0s 79us/sample - loss: 0.8722\n",
            "Epoch 184/200\n",
            "162/162 [==============================] - 0s 69us/sample - loss: 0.8708\n",
            "Epoch 185/200\n",
            "162/162 [==============================] - 0s 73us/sample - loss: 0.8713\n",
            "Epoch 186/200\n",
            "162/162 [==============================] - 0s 70us/sample - loss: 0.8705\n",
            "Epoch 187/200\n",
            "162/162 [==============================] - 0s 84us/sample - loss: 0.8752\n",
            "Epoch 188/200\n",
            "162/162 [==============================] - 0s 72us/sample - loss: 0.8719\n",
            "Epoch 189/200\n",
            "162/162 [==============================] - 0s 65us/sample - loss: 0.8895\n",
            "Epoch 190/200\n",
            "162/162 [==============================] - 0s 80us/sample - loss: 0.8824\n",
            "Epoch 191/200\n",
            "162/162 [==============================] - 0s 83us/sample - loss: 0.8717\n",
            "Epoch 192/200\n",
            "162/162 [==============================] - 0s 80us/sample - loss: 0.8785\n",
            "Epoch 193/200\n",
            "162/162 [==============================] - 0s 78us/sample - loss: 0.8851\n",
            "Epoch 194/200\n",
            "162/162 [==============================] - 0s 76us/sample - loss: 0.8718\n",
            "Epoch 195/200\n",
            "162/162 [==============================] - 0s 65us/sample - loss: 0.8739\n",
            "Epoch 196/200\n",
            "162/162 [==============================] - 0s 66us/sample - loss: 0.8729\n",
            "Epoch 197/200\n",
            "162/162 [==============================] - 0s 67us/sample - loss: 0.8785\n",
            "Epoch 198/200\n",
            "162/162 [==============================] - 0s 74us/sample - loss: 0.8686\n",
            "Epoch 199/200\n",
            "162/162 [==============================] - 0s 88us/sample - loss: 0.8745\n",
            "Epoch 200/200\n",
            "162/162 [==============================] - 0s 66us/sample - loss: 0.8717\n"
          ],
          "name": "stdout"
        }
      ]
    },
    {
      "cell_type": "code",
      "metadata": {
        "id": "uIgHp7lCEKcb",
        "outputId": "594ae714-f308-4a96-bf9f-4ef85230dadf",
        "colab": {
          "base_uri": "https://localhost:8080/",
          "height": 281
        }
      },
      "source": [
        "# Plot the loss\n",
        "plt.plot(r.history['loss'], label='loss')"
      ],
      "execution_count": null,
      "outputs": [
        {
          "output_type": "execute_result",
          "data": {
            "text/plain": [
              "[<matplotlib.lines.Line2D at 0x7f5b26d38fd0>]"
            ]
          },
          "metadata": {
            "tags": []
          },
          "execution_count": 12
        },
        {
          "output_type": "display_data",
          "data": {
            "image/png": "[encoded data removed]",
            "text/plain": [
              "<Figure size 432x288 with 1 Axes>"
            ]
          },
          "metadata": {
            "tags": []
          }
        }
      ]
    },
    {
      "cell_type": "code",
      "metadata": {
        "id": "gsxUvJvAF7nV",
        "outputId": "a47dbfe7-631f-46e5-ce37-b85c4a2a42ba",
        "colab": {
          "base_uri": "https://localhost:8080/",
          "height": 50
        }
      },
      "source": [
        "# Get the slope of the line\n",
        "# The slope of the line is related to the doubling rate of transistor count\n",
        "print(model.layers) # Note: there is only 1 layer, the \"Input\" layer doesn't count\n",
        "print(model.layers[0].get_weights())"
      ],
      "execution_count": null,
      "outputs": [
        {
          "output_type": "stream",
          "text": [
            "[<tensorflow.python.keras.layers.core.Dense object at 0x7f5b24866d30>]\n",
            "[array([[0.3413767]], dtype=float32), array([17.770758], dtype=float32)]\n"
          ],
          "name": "stdout"
        }
      ]
    },
    {
      "cell_type": "code",
      "metadata": {
        "id": "hEF-LTNhLCfu"
      },
      "source": [
        "# The slope of the line is:\n",
        "a = model.layers[0].get_weights()[0][0,0]"
      ],
      "execution_count": null,
      "outputs": []
    },
    {
      "cell_type": "markdown",
      "metadata": {
        "id": "5LptW8OvGT7q"
      },
      "source": [
        "Our original model for exponential growth is:\n",
        "\n",
        "$$ C = A_0 r^t $$\n",
        "\n",
        "Where $ C $ is transistor the count and $ t $ is the year.\n",
        "\n",
        "$ r $ is the rate of growth. For example, when $ t $ goes from 1 to 2, $ C $ increases by a factor of $ r $. When $ t $ goes from 2 to 3, $ C $ increases by a factor of $ r $ again.\n",
        "\n",
        "When we take the log of both sides, we get:\n",
        "\n",
        "$$ \\log C = \\log r * t + \\log A_0 $$\n",
        "\n",
        "This is our linear equation:\n",
        "\n",
        "$$ \\hat{y} = ax + b $$\n",
        "\n",
        "Where:\n",
        "\n",
        "$$ \\hat{y} = \\log C $$\n",
        "$$ a = \\log r $$\n",
        "$$ x = t $$\n",
        "$$ b = \\log A_0 $$\n",
        "\n",
        "We are interested in $ r $, because that's the rate of growth. Given our regression weights, we know that:\n",
        "\n",
        "$$ a = 0.34188038 $$\n",
        "\n",
        "so that:\n",
        "\n",
        "$$ r = e^{0.34188038} = 1.4076 $$\n",
        "\n",
        "To find the time it takes for transistor count to double, we simply need to find the amount of time it takes for $ C $ to increase to $ 2C $.\n",
        "\n",
        "Let's call the original starting time $ t $, to correspond with the initial transistor count $ C $.\n",
        "\n",
        "Let's call the end time $ t' $, to correspond with the final transistor count $ 2C $.\n",
        "\n",
        "Then we also have:\n",
        "\n",
        "$$ 2C = A_0 r ^ {t'} $$\n",
        "\n",
        "Combine this with our original equation:\n",
        "\n",
        "$$ C = A_0 r^t $$\n",
        "\n",
        "We get (by dividing the 2 equations):\n",
        "\n",
        "$$ 2C/C = (A_0 r ^ {t'}) / A_0 r^t $$\n",
        "\n",
        "Which simplifies to:\n",
        "\n",
        "$$ 2 = r^{(t' - t)} $$\n",
        "\n",
        "Solve for $ t' - t $:\n",
        "\n",
        "$$ t' - t = \\frac{\\log 2}{\\log r} = \\frac{\\log2}{a}$$\n",
        "\n",
        "\n",
        "Important note! We haven't specified what the starting time $ t $ actually is, and we don't have to since we just proved that this holds for any $ t $."
      ]
    },
    {
      "cell_type": "code",
      "metadata": {
        "id": "9hmqGOfuK36y",
        "outputId": "8096d715-f8de-4b48-fcd1-5fda31a7a7e5",
        "colab": {
          "base_uri": "https://localhost:8080/",
          "height": 33
        }
      },
      "source": [
        "print(\"Time to double:\", np.log(2) / a)"
      ],
      "execution_count": null,
      "outputs": [
        {
          "output_type": "stream",
          "text": [
            "Time to double: 2.030446707957755\n"
          ],
          "name": "stdout"
        }
      ]
    },
    {
      "cell_type": "code",
      "metadata": {
        "id": "_8j_jNQQLjzM",
        "outputId": "078d0e94-884d-4ff3-a619-aed039af1f51",
        "colab": {
          "base_uri": "https://localhost:8080/",
          "height": 50
        }
      },
      "source": [
        "# If you know the analytical solution\n",
        "X = np.array(X).flatten()\n",
        "Y = np.array(Y)\n",
        "denominator = X.dot(X) - X.mean() * X.sum()\n",
        "a = ( X.dot(Y) - Y.mean()*X.sum() ) / denominator\n",
        "b = ( Y.mean() * X.dot(X) - X.mean() * X.dot(Y) ) / denominator\n",
        "print(a, b)\n",
        "print(\"Time to double:\", np.log(2) / a)"
      ],
      "execution_count": null,
      "outputs": [
        {
          "output_type": "stream",
          "text": [
            "0.341682487387313 17.764939393631764\n",
            "Time to double: 2.0286295205239204\n"
          ],
          "name": "stdout"
        }
      ]
    },
    {
      "cell_type": "markdown",
      "metadata": {
        "id": "KUl6gdjYUUOX"
      },
      "source": [
        "# Part 2: Making Predictions\n",
        "\n",
        "This goes with the lecture \"Making Predictions\""
      ]
    },
    {
      "cell_type": "code",
      "metadata": {
        "id": "vgDaWaNsURIX",
        "outputId": "8e079ca1-b66c-4bf2-9b33-8ff8d3f2e27b",
        "colab": {
          "base_uri": "https://localhost:8080/",
          "height": 281
        }
      },
      "source": [
        "# Make sure the line fits our data\n",
        "Yhat = model.predict(X).flatten()\n",
        "plt.scatter(X, Y)\n",
        "plt.plot(X, Yhat)"
      ],
      "execution_count": null,
      "outputs": [
        {
          "output_type": "execute_result",
          "data": {
            "text/plain": [
              "[<matplotlib.lines.Line2D at 0x7f5b17526668>]"
            ]
          },
          "metadata": {
            "tags": []
          },
          "execution_count": 20
        },
        {
          "output_type": "display_data",
          "data": {
            "image/png": "[encoded data removed]",
            "text/plain": [
              "<Figure size 432x288 with 1 Axes>"
            ]
          },
          "metadata": {
            "tags": []
          }
        }
      ]
    },
    {
      "cell_type": "code",
      "metadata": {
        "id": "PRdHtM6yaPo2",
        "outputId": "4b892fe1-9552-4788-f386-f00edf228045",
        "colab": {
          "base_uri": "https://localhost:8080/",
          "height": 33
        }
      },
      "source": [
        "# Manual calculation\n",
        "\n",
        "# Get the weights\n",
        "w, b = model.layers[0].get_weights()\n",
        "\n",
        "# Reshape X because we flattened it again earlier\n",
        "X = X.reshape(-1, 1)\n",
        "\n",
        "# (N x 1) x (1 x 1) + (1) --> (N x 1)\n",
        "Yhat2 = (X.dot(w) + b).flatten()\n",
        "\n",
        "# Don't use == for floating points\n",
        "np.allclose(Yhat, Yhat2)"
      ],
      "execution_count": null,
      "outputs": [
        {
          "output_type": "execute_result",
          "data": {
            "text/plain": [
              "True"
            ]
          },
          "metadata": {
            "tags": []
          },
          "execution_count": 21
        }
      ]
    }
  ]
}