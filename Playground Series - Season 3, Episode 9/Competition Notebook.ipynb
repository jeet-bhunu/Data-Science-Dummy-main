{
 "cells": [
  {
   "cell_type": "markdown",
   "id": "7d7a4ccc",
   "metadata": {},
   "source": [
    "<h1 style=\"color:blue;text-align:center\"> Playground Series - Season 3, Episode 9</h1>"
   ]
  },
  {
   "cell_type": "markdown",
   "id": "5288ec74",
   "metadata": {
    "code_folding": [
     28
    ],
    "heading_collapsed": true
   },
   "source": [
    "# <p style=\"color:green;\">Importing Libraries</p>"
   ]
  },
  {
   "cell_type": "code",
   "execution_count": null,
   "id": "3ef3d1ac",
   "metadata": {
    "code_folding": [],
    "hidden": true
   },
   "outputs": [],
   "source": [
    "## Data Manipulation\n",
    "import pandas as pd\n",
    "import numpy as np\n",
    "from pandas_profiling import ProfileReport\n",
    "\n"
   ]
  },
  {
   "cell_type": "code",
   "execution_count": null,
   "id": "6c4e65ac",
   "metadata": {
    "code_folding": [
     0
    ],
    "hidden": true
   },
   "outputs": [],
   "source": [
    "## Notebook Setup\n",
    "import warnings\n",
    "warnings.filterwarnings('ignore')\n",
    "\n",
    "import IPython\n",
    "IPython.InteractiveShell.ast_node_interactivity=('all')"
   ]
  },
  {
   "cell_type": "code",
   "execution_count": null,
   "id": "7705f224",
   "metadata": {
    "code_folding": [
     0
    ],
    "hidden": true
   },
   "outputs": [],
   "source": [
    "# \n",
    "import warnings\n",
    "warnings.filterwarnings('ignore')"
   ]
  },
  {
   "cell_type": "code",
   "execution_count": null,
   "id": "72194d09",
   "metadata": {
    "code_folding": [
     0
    ],
    "hidden": true
   },
   "outputs": [],
   "source": [
    "## Visualization \n",
    "import matplotlib.pyplot as plt\n",
    "%matplotlib inline\n",
    "\n",
    "import seaborn as sns\n",
    "\n",
    "import plotly.express as px\n",
    "import plotly.graph_objs as go\n"
   ]
  },
  {
   "cell_type": "code",
   "execution_count": null,
   "id": "02c66efe",
   "metadata": {
    "code_folding": [
     0
    ],
    "hidden": true
   },
   "outputs": [],
   "source": [
    "# \n",
    "from sklearn.decomposition import PCA\n",
    "from sklearn.manifold import TSNE\n",
    "\n",
    "from sklearn.metrics import mean_squared_error\n",
    "from sklearn.model_selection import train_test_split\n",
    "\n",
    "from sklearn.model_selection import GridSearchCV,RandomizedSearchCV\n",
    "from sklearn.preprocessing import StandardScaler\n",
    "\n",
    "from xgboost import XGBRegressor\n",
    "from sklearn.linear_model import LinearRegression,SGDRegressor,HuberRegressor\n",
    "from sklearn.ensemble import VotingRegressor\n",
    "from sklearn.linear_model import Ridge,RidgeCV\n",
    "from sklearn.ensemble import HistGradientBoostingRegressor,AdaBoostRegressor\n",
    "\n",
    "def rmse(y_true,y_test):\n",
    "    return np.sqrt(mean_squared_error(y_true,y_test))"
   ]
  },
  {
   "cell_type": "code",
   "execution_count": null,
   "id": "77e65b94",
   "metadata": {
    "code_folding": [
     0
    ],
    "hidden": true
   },
   "outputs": [],
   "source": [
    "## Models\n",
    "\n",
    "from xgboost import XGBRegressor\n",
    "from sklearn.linear_model import LinearRegression,SGDRegressor,HuberRegressor\n",
    "from sklearn.ensemble import VotingRegressor\n",
    "from sklearn.linear_model import Ridge,RidgeCV\n",
    "from sklearn.ensemble import HistGradientBoostingRegressor,AdaBoostRegressor\n",
    "from sklearn.ensemble import GradientBoostingRegressor"
   ]
  },
  {
   "cell_type": "code",
   "execution_count": null,
   "id": "5dddb035",
   "metadata": {
    "code_folding": [
     0
    ],
    "hidden": true
   },
   "outputs": [],
   "source": [
    "## Dimension Reduction\n",
    "\n",
    "\n",
    "from sklearn.decomposition import PCA\n",
    "from sklearn.manifold import TSNE\n"
   ]
  },
  {
   "cell_type": "code",
   "execution_count": null,
   "id": "f5ada2cb",
   "metadata": {
    "code_folding": [
     0
    ],
    "hidden": true
   },
   "outputs": [],
   "source": [
    "## Model Validation\n",
    "\n",
    "\n",
    "from sklearn.metrics import mean_squared_error\n",
    "from sklearn.model_selection import train_test_split\n",
    "\n",
    "\n",
    "def rmse(y_true,y_test):\n",
    "    return np.sqrt(mean_squared_error(y_true,y_test))"
   ]
  },
  {
   "cell_type": "code",
   "execution_count": null,
   "id": "84e38426",
   "metadata": {
    "code_folding": [
     0
    ],
    "hidden": true
   },
   "outputs": [],
   "source": [
    "## Preprocessing\n",
    "\n",
    "from sklearn.model_selection import GridSearchCV,RandomizedSearchCV\n",
    "from sklearn.preprocessing import StandardScaler\n"
   ]
  },
  {
   "cell_type": "markdown",
   "id": "32a43baf",
   "metadata": {
    "heading_collapsed": true
   },
   "source": [
    "# <p style=\"color:#915c83\">Train</p>"
   ]
  },
  {
   "cell_type": "code",
   "execution_count": null,
   "id": "ba215537",
   "metadata": {
    "hidden": true
   },
   "outputs": [],
   "source": [
    "# Data\n",
    "train=pd.read_csv('train.csv',index_col=0)\n",
    "train.head()"
   ]
  },
  {
   "cell_type": "code",
   "execution_count": null,
   "id": "ea53f4c3",
   "metadata": {
    "hidden": true
   },
   "outputs": [],
   "source": [
    "# Shape and info\n",
    "print('Shape: ',train.shape)\n",
    "train.info()"
   ]
  },
  {
   "cell_type": "code",
   "execution_count": null,
   "id": "e5e6b46b",
   "metadata": {
    "hidden": true
   },
   "outputs": [],
   "source": [
    "# Stats\n",
    "train.describe()"
   ]
  },
  {
   "cell_type": "code",
   "execution_count": null,
   "id": "c3469c4a",
   "metadata": {
    "hidden": true
   },
   "outputs": [],
   "source": [
    "# FInding extereme Values\n",
    "fliers={}\n",
    "c=1\n",
    "plt.figure(figsize=(5,40))\n",
    "\n",
    "for i in train.columns:\n",
    "    plt.subplot(9,1,c)\n",
    "    c+=1\n",
    "    box=plt.boxplot(train[i])\n",
    "    plt.title(i)\n",
    "    fliers[i]=[i.get_ydata() for i in box['fliers']]\n",
    "    \n",
    "\n",
    "plt.tight_layout()\n",
    "plt.show()"
   ]
  },
  {
   "cell_type": "code",
   "execution_count": null,
   "id": "144d9302",
   "metadata": {
    "hidden": true
   },
   "outputs": [],
   "source": [
    "count={}\n",
    "for i in fliers.keys():\n",
    "    count[i]=(len(fliers[i][0])/len(train[i]))*100\n",
    "print(count)"
   ]
  },
  {
   "cell_type": "code",
   "execution_count": null,
   "id": "e745823b",
   "metadata": {
    "hidden": true
   },
   "outputs": [],
   "source": [
    "train.hist()\n",
    "plt.tight_layout()\n",
    "plt.show()"
   ]
  },
  {
   "cell_type": "code",
   "execution_count": null,
   "id": "8babc419",
   "metadata": {
    "hidden": true
   },
   "outputs": [],
   "source": [
    "train.corr()"
   ]
  },
  {
   "cell_type": "code",
   "execution_count": null,
   "id": "cdf9ac3d",
   "metadata": {
    "hidden": true
   },
   "outputs": [],
   "source": [
    "train.corr()"
   ]
  },
  {
   "cell_type": "code",
   "execution_count": null,
   "id": "fdac8bb5",
   "metadata": {
    "hidden": true
   },
   "outputs": [],
   "source": [
    "train.skew()"
   ]
  },
  {
   "cell_type": "code",
   "execution_count": null,
   "id": "14f18c03",
   "metadata": {
    "hidden": true
   },
   "outputs": [],
   "source": [
    "train.kurtosis()"
   ]
  },
  {
   "cell_type": "code",
   "execution_count": null,
   "id": "ce6e95c9",
   "metadata": {
    "hidden": true,
    "scrolled": true
   },
   "outputs": [],
   "source": [
    "profile=ProfileReport(train)\n",
    "profile.to_notebook_iframe()"
   ]
  },
  {
   "cell_type": "code",
   "execution_count": null,
   "id": "5690252f",
   "metadata": {
    "hidden": true
   },
   "outputs": [],
   "source": [
    "pd.plotting.scatter_matrix(train,figsize=(15,15))\n",
    "plt.tight_layout()\n",
    "plt.show()"
   ]
  },
  {
   "cell_type": "markdown",
   "id": "9dcfa348",
   "metadata": {
    "heading_collapsed": true
   },
   "source": [
    "# <p style=\"color:#915c83\"> Test"
   ]
  },
  {
   "cell_type": "code",
   "execution_count": null,
   "id": "555d91b5",
   "metadata": {
    "hidden": true
   },
   "outputs": [],
   "source": [
    "test=pd.read_csv('test.csv',index_col=0)"
   ]
  },
  {
   "cell_type": "code",
   "execution_count": null,
   "id": "154a09a5",
   "metadata": {
    "hidden": true
   },
   "outputs": [],
   "source": [
    "test.drop('AgeInDays',inplace=True,axis=1)"
   ]
  },
  {
   "cell_type": "code",
   "execution_count": null,
   "id": "6abf41f6",
   "metadata": {
    "hidden": true,
    "scrolled": false
   },
   "outputs": [],
   "source": [
    "pd.plotting.scatter_matrix(test)\n",
    "plt.show()"
   ]
  },
  {
   "cell_type": "code",
   "execution_count": null,
   "id": "38fe14f1",
   "metadata": {
    "hidden": true
   },
   "outputs": [],
   "source": [
    "test.info()"
   ]
  },
  {
   "cell_type": "code",
   "execution_count": null,
   "id": "4f4348e9",
   "metadata": {
    "hidden": true
   },
   "outputs": [],
   "source": [
    "c=1\n",
    "fliers={}\n",
    "for i in test.columns:\n",
    "    plt.subplot(2,4,c)\n",
    "    c+=1\n",
    "    box=plt.boxplot(test[i])\n",
    "    fliers[i]=[i.get_ydata() for i in box['fliers']]\n",
    "\n",
    "plt.tight_layout()\n",
    "plt.show()"
   ]
  },
  {
   "cell_type": "code",
   "execution_count": null,
   "id": "101aa963",
   "metadata": {
    "hidden": true
   },
   "outputs": [],
   "source": [
    "count={}\n",
    "for i in fliers.keys():\n",
    "    count[i]=len(fliers[i][0]) \n",
    "print(count)"
   ]
  },
  {
   "cell_type": "code",
   "execution_count": null,
   "id": "03dda68d",
   "metadata": {
    "hidden": true
   },
   "outputs": [],
   "source": [
    "count={}\n",
    "for i in fliers.keys():\n",
    "    count[i]=len(fliers[i][0])/len(train[i])*100\n",
    "print(count)"
   ]
  },
  {
   "cell_type": "code",
   "execution_count": null,
   "id": "01cf36a3",
   "metadata": {
    "hidden": true
   },
   "outputs": [],
   "source": [
    "test.hist(figsize=(10,10))\n",
    "plt.tight_layout()\n",
    "plt.show()"
   ]
  },
  {
   "cell_type": "code",
   "execution_count": null,
   "id": "f78477a3",
   "metadata": {
    "hidden": true
   },
   "outputs": [],
   "source": [
    "train.skew()"
   ]
  },
  {
   "cell_type": "code",
   "execution_count": null,
   "id": "6add38b4",
   "metadata": {
    "hidden": true
   },
   "outputs": [],
   "source": [
    "train_log=pd.DataFrame(np.log(train),columns=train.columns)"
   ]
  },
  {
   "cell_type": "code",
   "execution_count": null,
   "id": "c493d31a",
   "metadata": {
    "hidden": true
   },
   "outputs": [],
   "source": [
    "X.values.shape"
   ]
  },
  {
   "cell_type": "code",
   "execution_count": null,
   "id": "c2c44336",
   "metadata": {
    "hidden": true
   },
   "outputs": [],
   "source": [
    "test.skew()"
   ]
  },
  {
   "cell_type": "markdown",
   "id": "3b51ec64",
   "metadata": {
    "hidden": true
   },
   "source": [
    "<li><b>Same distribution as training Data"
   ]
  },
  {
   "cell_type": "markdown",
   "id": "0afbe53e",
   "metadata": {
    "heading_collapsed": true
   },
   "source": [
    "# <p style=\"color:#915c83\"> EDA"
   ]
  },
  {
   "cell_type": "markdown",
   "id": "37bee2b6",
   "metadata": {
    "heading_collapsed": true,
    "hidden": true
   },
   "source": [
    "## Transformation"
   ]
  },
  {
   "cell_type": "code",
   "execution_count": null,
   "id": "95641bf7",
   "metadata": {
    "hidden": true
   },
   "outputs": [],
   "source": [
    "train.head()"
   ]
  },
  {
   "cell_type": "code",
   "execution_count": null,
   "id": "bcf7572a",
   "metadata": {
    "hidden": true
   },
   "outputs": [],
   "source": [
    "train.columns"
   ]
  },
  {
   "cell_type": "code",
   "execution_count": null,
   "id": "f7c80ee7",
   "metadata": {
    "hidden": true
   },
   "outputs": [],
   "source": [
    "# Testing Scaling the values\n",
    "std=StandardScaler()\n",
    "x_transformed=pd.DataFrame(std.fit_transform(train[['CementComponent', 'WaterComponent','CoarseAggregateComponent', \n",
    "                                        'FineAggregateComponent']]),columns=['CementComponent', 'WaterComponent','CoarseAggregateComponent', \n",
    "                                        'FineAggregateComponent'])\n",
    "# removing skew\n",
    "# data_2=train.copy()\n",
    "x_transformed['AgeInDays']=np.log(train.AgeInDays)\n",
    "x_transformed['BlastFurnaceSlag']=np.sqrt(train.BlastFurnaceSlag)\n",
    "x_transformed['SuperplasticizerComponent']=np.sqrt(train.SuperplasticizerComponent)\n",
    "x_transformed['FlyAshComponent']=np.cbrt(train.FlyAshComponent)\n",
    "x_transformed.skew()"
   ]
  },
  {
   "cell_type": "code",
   "execution_count": null,
   "id": "b15bdf76",
   "metadata": {
    "hidden": true
   },
   "outputs": [],
   "source": [
    "np.log(test.AgeInDays).values"
   ]
  },
  {
   "cell_type": "code",
   "execution_count": null,
   "id": "5fc8d6f3",
   "metadata": {
    "hidden": true
   },
   "outputs": [],
   "source": [
    "# Testing Scaling the values\n",
    "std=StandardScaler()\n",
    "X_transformed=pd.DataFrame(std.fit_transform(test[['CementComponent', 'WaterComponent','CoarseAggregateComponent', \n",
    "                                        'FineAggregateComponent']]),columns=['CementComponent', 'WaterComponent','CoarseAggregateComponent', \n",
    "                                        'FineAggregateComponent'])\n",
    "# removing skew\n",
    "# data_2=train.copy()\n",
    "X_transformed['AgeInDays']=np.log(test.AgeInDays).values\n",
    "X_transformed['BlastFurnaceSlag']=np.sqrt(test.BlastFurnaceSlag).values\n",
    "X_transformed['SuperplasticizerComponent']=np.sqrt(test.SuperplasticizerComponent).values\n",
    "X_transformed['FlyAshComponent']=np.cbrt(test.FlyAshComponent).values\n",
    "X_transformed.skew()"
   ]
  },
  {
   "cell_type": "code",
   "execution_count": null,
   "id": "4eeb97c3",
   "metadata": {
    "hidden": true
   },
   "outputs": [],
   "source": [
    "\n",
    "CementComponent              0.341278\n",
    "WaterComponent              -0.215282\n",
    "CoarseAggregateComponent    -0.081453\n",
    "FineAggregateComponent      -0.447378\n",
    "AgeInDays                   -0.083678\n",
    "BlastFurnaceSlag             0.670392\n",
    "SuperplasticizerComponent    0.589521\n",
    "FlyAshComponent              1.062115\n",
    "dtype: float64"
   ]
  },
  {
   "cell_type": "markdown",
   "id": "3efa2bca",
   "metadata": {
    "heading_collapsed": true,
    "hidden": true
   },
   "source": [
    "## TSNE"
   ]
  },
  {
   "cell_type": "code",
   "execution_count": null,
   "id": "c1a32629",
   "metadata": {
    "hidden": true,
    "scrolled": true
   },
   "outputs": [],
   "source": [
    "# Visualizing Data Distribution\n",
    "tsne=TSNE()\n",
    "comp=pd.DataFrame(tsne.fit_transform(X),columns=['a','b'])\n",
    "plt.scatter(comp.a,comp.b)\n",
    "plt.title('Feature distribution')\n",
    "plt.show()"
   ]
  },
  {
   "cell_type": "markdown",
   "id": "422bfb94",
   "metadata": {
    "heading_collapsed": true,
    "hidden": true
   },
   "source": [
    "## Feature engineering"
   ]
  },
  {
   "cell_type": "markdown",
   "id": "400c01fb",
   "metadata": {
    "heading_collapsed": true,
    "hidden": true
   },
   "source": [
    "### Correlation"
   ]
  },
  {
   "cell_type": "code",
   "execution_count": null,
   "id": "99964d48",
   "metadata": {
    "code_folding": [
     0
    ],
    "hidden": true
   },
   "outputs": [],
   "source": [
    "# Train columns\n",
    "train.columns"
   ]
  },
  {
   "cell_type": "code",
   "execution_count": null,
   "id": "1c4ae18c",
   "metadata": {
    "hidden": true
   },
   "outputs": [],
   "source": [
    "# corr Matrix sns\n",
    "corr=train.corr()\n",
    "sns.heatmap(corr, annot=True, cmap='coolwarm')\n",
    "plt.show()"
   ]
  },
  {
   "cell_type": "code",
   "execution_count": null,
   "id": "6d0f27d8",
   "metadata": {
    "code_folding": [
     0
    ],
    "hidden": true
   },
   "outputs": [],
   "source": [
    "# # corr Matrix plotly\n",
    "heatmap = go.Heatmap(\n",
    "    z=corr.values, # correlation matrix values\n",
    "    x=corr.index.values, # column names as x-axis labels\n",
    "    y=corr.columns.values, # row names as y-axis labels\n",
    "    colorscale='RdBu', # color scale\n",
    "    colorbar=dict(title='Correlation<br>Coefficient', titleside='right'), # colorbar title\n",
    ")\n",
    "\n",
    "# Define the layout\n",
    "layout = go.Layout(\n",
    "    title='Correlation Heatmap',\n",
    "    width=800,\n",
    "    height=800,\n",
    "    xaxis=dict(title='Features'),\n",
    "    yaxis=dict(title='Features'),\n",
    ")\n",
    "\n",
    "# Create a Figure object\n",
    "fig = go.Figure(data=[heatmap], layout=layout)\n",
    "\n",
    "# Show the plot\n",
    "fig.show()"
   ]
  },
  {
   "cell_type": "markdown",
   "id": "27b9f548",
   "metadata": {
    "heading_collapsed": true,
    "hidden": true
   },
   "source": [
    "### PCA"
   ]
  },
  {
   "cell_type": "code",
   "execution_count": null,
   "id": "51efd86e",
   "metadata": {
    "hidden": true
   },
   "outputs": [],
   "source": [
    "# testing DR\n",
    "pca=PCA()\n",
    "pca.fit(X)"
   ]
  },
  {
   "cell_type": "code",
   "execution_count": null,
   "id": "81740ed9",
   "metadata": {
    "hidden": true
   },
   "outputs": [],
   "source": [
    "plt.plot(pca.explained_variance_ratio_)\n",
    "plt.show()"
   ]
  },
  {
   "cell_type": "code",
   "execution_count": null,
   "id": "c9b0ec40",
   "metadata": {
    "hidden": true
   },
   "outputs": [],
   "source": [
    "pcs=pd.DataFrame(PCA(5).fit_transform(X),columns=[f'V{i}' for i in range(1,6)])\n",
    "pcs"
   ]
  },
  {
   "cell_type": "markdown",
   "id": "65f801c1",
   "metadata": {
    "heading_collapsed": true,
    "hidden": true
   },
   "source": [
    "### Feature Importance"
   ]
  },
  {
   "cell_type": "code",
   "execution_count": null,
   "id": "57f30acf",
   "metadata": {
    "hidden": true
   },
   "outputs": [],
   "source": [
    "from sklearn.ensemble import RandomForestRegressor\n",
    "\n",
    "rff=RandomForestRegressor()\n",
    "rff.fit(X,Y)\n",
    "rff.feature_importances_"
   ]
  },
  {
   "cell_type": "code",
   "execution_count": null,
   "id": "36594f8a",
   "metadata": {
    "hidden": true
   },
   "outputs": [],
   "source": [
    "X.columns"
   ]
  },
  {
   "cell_type": "code",
   "execution_count": null,
   "id": "9269d854",
   "metadata": {
    "hidden": true
   },
   "outputs": [],
   "source": [
    "from sklearn.tree import DecisionTreeRegressor\n",
    "\n",
    "DecisionTreeRegressor().fit(X,Y).feature_importances_"
   ]
  },
  {
   "cell_type": "markdown",
   "id": "b4a15e58",
   "metadata": {
    "heading_collapsed": true,
    "hidden": true
   },
   "source": [
    "### RFE"
   ]
  },
  {
   "cell_type": "code",
   "execution_count": null,
   "id": "b40527fd",
   "metadata": {
    "hidden": true
   },
   "outputs": [],
   "source": [
    "from sklearn.feature_selection import RFE\n",
    "\n",
    "rfe=RFE(DecisionTreeRegressor())\n",
    "rfe.fit(X,Y)\n",
    "rfe.support_\n",
    "\n",
    "selected_cols = pd.DataFrame(data=train.columns.values, columns=['feature'])\n",
    "selected_cols['selected'] = rfe.support_\n",
    "selected_cols = selected_cols[selected_cols['selected']].reset_index(drop=True)\n",
    "\n",
    "print(selected_cols)"
   ]
  },
  {
   "cell_type": "code",
   "execution_count": null,
   "id": "74b0cd74",
   "metadata": {
    "hidden": true
   },
   "outputs": [],
   "source": [
    "cols=list(selected_cols.feature.values)\n",
    "cols"
   ]
  },
  {
   "cell_type": "code",
   "execution_count": null,
   "id": "d9428238",
   "metadata": {
    "hidden": true
   },
   "outputs": [],
   "source": [
    "X,Y=train[cols],train.Strength"
   ]
  },
  {
   "cell_type": "markdown",
   "id": "43cf4eed",
   "metadata": {
    "heading_collapsed": true,
    "hidden": true
   },
   "source": [
    "### working on 28 days"
   ]
  },
  {
   "cell_type": "code",
   "execution_count": null,
   "id": "bc720508",
   "metadata": {
    "code_folding": [
     0
    ],
    "hidden": true,
    "scrolled": true
   },
   "outputs": [],
   "source": [
    "%%html\n",
    "<div class='tableauPlaceholder' id='viz1678214733174' style='position: relative'><noscript><a href='#'><img alt='Dashboard 1 ' src='https:&#47;&#47;public.tableau.com&#47;static&#47;images&#47;Ce&#47;CementDataset&#47;Dashboard1&#47;1_rss.png' style='border: none' /></a></noscript><object class='tableauViz'  style='display:none;'><param name='host_url' value='https%3A%2F%2Fpublic.tableau.com%2F' /> <param name='embed_code_version' value='3' /> <param name='site_root' value='' /><param name='name' value='CementDataset&#47;Dashboard1' /><param name='tabs' value='no' /><param name='toolbar' value='yes' /><param name='static_image' value='https:&#47;&#47;public.tableau.com&#47;static&#47;images&#47;Ce&#47;CementDataset&#47;Dashboard1&#47;1.png' /> <param name='animate_transition' value='yes' /><param name='display_static_image' value='yes' /><param name='display_spinner' value='yes' /><param name='display_overlay' value='yes' /><param name='display_count' value='yes' /><param name='language' value='en-US' /><param name='filter' value='publish=yes' /></object></div>                <script type='text/javascript'>                    var divElement = document.getElementById('viz1678214733174');                    var vizElement = divElement.getElementsByTagName('object')[0];                    if ( divElement.offsetWidth > 800 ) { vizElement.style.minWidth='420px';vizElement.style.maxWidth='650px';vizElement.style.width='100%';vizElement.style.minHeight='587px';vizElement.style.maxHeight='887px';vizElement.style.height=(divElement.offsetWidth*0.75)+'px';} else if ( divElement.offsetWidth > 500 ) { vizElement.style.minWidth='420px';vizElement.style.maxWidth='650px';vizElement.style.width='100%';vizElement.style.minHeight='587px';vizElement.style.maxHeight='887px';vizElement.style.height=(divElement.offsetWidth*0.75)+'px';} else { vizElement.style.width='100%';vizElement.style.height='1227px';}                     var scriptElement = document.createElement('script');                    scriptElement.src = 'https://public.tableau.com/javascripts/api/viz_v1.js';                    vizElement.parentNode.insertBefore(scriptElement, vizElement);                </script>"
   ]
  },
  {
   "cell_type": "markdown",
   "id": "591f7306",
   "metadata": {
    "hidden": true
   },
   "source": [
    "<i>It is important to carefully consider the data that is included in a machine learning model, as including unnecessary data can lead to increased computational complexity, longer training times, and potentially poorer performance. </i>"
   ]
  },
  {
   "cell_type": "code",
   "execution_count": null,
   "id": "91851081",
   "metadata": {
    "code_folding": [
     0
    ],
    "hidden": true
   },
   "outputs": [],
   "source": [
    "# Dropping the extreme values\n",
    "'train shape',train.shape\n",
    "\n",
    "lenght=len(df[train.AgeInDays == 28])\n",
    "lenght\n",
    "\n",
    "import random\n",
    "\n",
    "remove=list(train[df.AgeInDays == 28].index)\n",
    "\n",
    "new_df=df.copy()\n",
    "\n",
    "for i in range(int(lenght*.50)):\n",
    "    val=random.choice(remove)\n",
    "    remove.remove(val)\n",
    "    new_df.drop(val,inplace=True)\n",
    "    \n",
    "new_df.shape\n",
    "\n",
    "new_train=df[train.AgeInDays != 28]\n",
    "new_train.shape\n",
    "\n",
    "# X: Input\n",
    "# Y: Target\n",
    "X,Y=new_train.drop('Strength',axis=1),new_train.Strength"
   ]
  },
  {
   "cell_type": "code",
   "execution_count": null,
   "id": "5b2ad6cb",
   "metadata": {
    "code_folding": [
     0
    ],
    "hidden": true
   },
   "outputs": [],
   "source": [
    "# \n",
    "plt.subplot(1,2,1)\n",
    "train.AgeInDays.value_counts().plot(kind='bar')\n",
    "# plt.show()\n",
    "plt.subplot(1,2,2)\n",
    "plt.hist(pd.cut(train.AgeInDays,bins=12,labels=[i for i in range(12,0,-1)]))"
   ]
  },
  {
   "cell_type": "code",
   "execution_count": null,
   "id": "3086784e",
   "metadata": {
    "code_folding": [
     0
    ],
    "hidden": true
   },
   "outputs": [],
   "source": [
    "for i in range(10):\n",
    "    print(i*4)"
   ]
  },
  {
   "cell_type": "code",
   "execution_count": null,
   "id": "be7b3d4d",
   "metadata": {
    "code_folding": [
     0
    ],
    "hidden": true
   },
   "outputs": [],
   "source": [
    "# Createing new feature\n",
    "threshold_age = 28 # define the threshold age\n",
    "df=train.copy()\n",
    "df['EarlyStrengthDevelopment'] = (df['AgeInDays'] <= threshold_age).astype(int)\n",
    "df.head()"
   ]
  },
  {
   "cell_type": "code",
   "execution_count": null,
   "id": "4a883803",
   "metadata": {
    "code_folding": [
     0
    ],
    "hidden": true
   },
   "outputs": [],
   "source": [
    "# Teasting mean\n",
    "\n",
    "# df2=df.copy()\n",
    "# df[\"AgeInDays\"]=df.AgeInDays - np.mean(df.AgeInDays)"
   ]
  },
  {
   "cell_type": "code",
   "execution_count": null,
   "id": "bdeb37ea",
   "metadata": {
    "hidden": true
   },
   "outputs": [],
   "source": [
    "X,Y=train.drop('Strength',axis=1),train.Strength"
   ]
  },
  {
   "cell_type": "code",
   "execution_count": null,
   "id": "f30bbb82",
   "metadata": {
    "hidden": true
   },
   "outputs": [],
   "source": [
    "from sklearn.feature_selection import r_regression"
   ]
  },
  {
   "cell_type": "code",
   "execution_count": null,
   "id": "a4d41fdc",
   "metadata": {
    "hidden": true
   },
   "outputs": [],
   "source": [
    "r_regression(X,Y)"
   ]
  },
  {
   "cell_type": "code",
   "execution_count": null,
   "id": "4d44deff",
   "metadata": {
    "hidden": true
   },
   "outputs": [],
   "source": [
    "X,Y=train.AgeInDays,train.Strength"
   ]
  },
  {
   "cell_type": "markdown",
   "id": "c188e12b",
   "metadata": {
    "heading_collapsed": true,
    "hidden": true
   },
   "source": [
    "## Learning Enviroment"
   ]
  },
  {
   "cell_type": "code",
   "execution_count": null,
   "id": "da146e50",
   "metadata": {
    "hidden": true
   },
   "outputs": [],
   "source": [
    "x_train,x_test,y_train,y_test=train_test_split(X,Y,test_size=.20)"
   ]
  },
  {
   "cell_type": "markdown",
   "id": "572ce2e6",
   "metadata": {},
   "source": [
    "# <p style=\"color:#915c83\"> Models"
   ]
  },
  {
   "cell_type": "markdown",
   "id": "8d714219",
   "metadata": {
    "heading_collapsed": true
   },
   "source": [
    "## Linear Regression"
   ]
  },
  {
   "cell_type": "code",
   "execution_count": 1,
   "id": "e61fe1cc",
   "metadata": {
    "hidden": true
   },
   "outputs": [
    {
     "ename": "NameError",
     "evalue": "name 'corr_df' is not defined",
     "output_type": "error",
     "traceback": [
      "\u001b[1;31m---------------------------------------------------------------------------\u001b[0m",
      "\u001b[1;31mNameError\u001b[0m                                 Traceback (most recent call last)",
      "\u001b[1;32m~\\AppData\\Local\\Temp\\ipykernel_14616\\1027293070.py\u001b[0m in \u001b[0;36m<module>\u001b[1;34m\u001b[0m\n\u001b[0;32m      1\u001b[0m \u001b[0mcols\u001b[0m\u001b[1;33m=\u001b[0m\u001b[1;34m''\u001b[0m\u001b[1;33m\u001b[0m\u001b[1;33m\u001b[0m\u001b[0m\n\u001b[1;32m----> 2\u001b[1;33m \u001b[1;32mfor\u001b[0m \u001b[0mi\u001b[0m \u001b[1;32min\u001b[0m \u001b[0mcorr_df\u001b[0m\u001b[1;33m.\u001b[0m\u001b[0mcolumns\u001b[0m\u001b[1;33m[\u001b[0m\u001b[1;33m:\u001b[0m\u001b[1;33m]\u001b[0m\u001b[1;33m:\u001b[0m\u001b[1;33m\u001b[0m\u001b[1;33m\u001b[0m\u001b[0m\n\u001b[0m\u001b[0;32m      3\u001b[0m     \u001b[0mcols\u001b[0m\u001b[1;33m=\u001b[0m\u001b[1;34m\"+\"\u001b[0m\u001b[1;33m.\u001b[0m\u001b[0mjoin\u001b[0m\u001b[1;33m(\u001b[0m\u001b[1;33m[\u001b[0m\u001b[0mcols\u001b[0m\u001b[1;33m,\u001b[0m\u001b[0mi\u001b[0m\u001b[1;33m]\u001b[0m\u001b[1;33m)\u001b[0m\u001b[1;33m\u001b[0m\u001b[1;33m\u001b[0m\u001b[0m\n\u001b[0;32m      4\u001b[0m \u001b[0mcols\u001b[0m\u001b[1;33m\u001b[0m\u001b[1;33m\u001b[0m\u001b[0m\n",
      "\u001b[1;31mNameError\u001b[0m: name 'corr_df' is not defined"
     ]
    }
   ],
   "source": [
    "cols=''\n",
    "for i in corr_df.columns[:]:\n",
    "    cols=\"+\".join([cols,i])\n",
    "cols"
   ]
  },
  {
   "cell_type": "code",
   "execution_count": null,
   "id": "7ff03840",
   "metadata": {
    "hidden": true
   },
   "outputs": [],
   "source": [
    "from statsmodels.formula.api import ols\n",
    "\n",
    "model=ols('Strength~CementComponent+WaterComponent+CoarseAggregateComponent+\\\n",
    "          FineAggregateComponent+AgeInDays+BlastFurnaceSlag+\\\n",
    "          SuperplasticizerComponent+FlyAshComponent',data=corr_df).fit()"
   ]
  },
  {
   "cell_type": "code",
   "execution_count": null,
   "id": "1e7f83b5",
   "metadata": {
    "hidden": true
   },
   "outputs": [],
   "source": [
    "model.summary()"
   ]
  },
  {
   "cell_type": "code",
   "execution_count": null,
   "id": "df4ff3d7",
   "metadata": {
    "hidden": true
   },
   "outputs": [],
   "source": [
    "lr=LinearRegression()\n",
    "lr.fit(x_train,y_train)"
   ]
  },
  {
   "cell_type": "code",
   "execution_count": null,
   "id": "3c915913",
   "metadata": {
    "hidden": true
   },
   "outputs": [],
   "source": [
    "pred=lr.predict(x_test)"
   ]
  },
  {
   "cell_type": "code",
   "execution_count": null,
   "id": "6537fa35",
   "metadata": {
    "hidden": true
   },
   "outputs": [],
   "source": [
    "np.sqrt(mean_squared_error(y_test,pred))"
   ]
  },
  {
   "cell_type": "code",
   "execution_count": null,
   "id": "bce2bd6a",
   "metadata": {
    "hidden": true
   },
   "outputs": [],
   "source": []
  },
  {
   "cell_type": "markdown",
   "id": "19716c4e",
   "metadata": {
    "heading_collapsed": true
   },
   "source": [
    "## XGB"
   ]
  },
  {
   "cell_type": "code",
   "execution_count": null,
   "id": "91839eea",
   "metadata": {
    "code_folding": [
     0
    ],
    "hidden": true
   },
   "outputs": [],
   "source": [
    "# define hyperparameters to tune\n",
    "parameters = {'nthread':[4], # number of threads to use for parallel processing\n",
    "              'objective':['reg:linear'], # objective function for regression\n",
    "              'learning_rate': [0.05, 0.1, 0.15], # learning rate for gradient descent\n",
    "              'max_depth': [5, 6, 7], # maximum depth of the decision trees\n",
    "              'min_child_weight': [1, 2, 3], # minimum sum of instance weight needed in a child\n",
    "              'silent': [1], # whether to print messages during training\n",
    "              'subsample': [0.7, 0.8, 0.9], # subsample ratio of the training instances\n",
    "              'colsample_bytree': [0.7, 0.8, 0.9], # subsample ratio of columns when constructing each tree\n",
    "              'n_estimators': [100, 200, 300] # number of trees to build\n",
    "              }\n",
    "\n",
    "# create grid search object\n",
    "grid_search = RandomizedSearchCV(estimator=xgb, param_distributions=parameters, cv=10, n_jobs=-1,verbose=100)\n",
    "\n",
    "# fit grid search object to the data\n",
    "grid_search.fit(x_scl, Y)\n",
    "\n",
    "# print best hyperparameters\n",
    "print(grid_search.best_params_)\n"
   ]
  },
  {
   "cell_type": "code",
   "execution_count": null,
   "id": "822a1d60",
   "metadata": {
    "hidden": true
   },
   "outputs": [],
   "source": [
    "print(grid_search.best_score_)"
   ]
  },
  {
   "cell_type": "code",
   "execution_count": null,
   "id": "fccc01d7",
   "metadata": {
    "hidden": true
   },
   "outputs": [],
   "source": [
    "x_train"
   ]
  },
  {
   "cell_type": "code",
   "execution_count": null,
   "id": "1b754c09",
   "metadata": {
    "hidden": true
   },
   "outputs": [],
   "source": [
    "x_train,x_test,y_train,y_test=train_test_split(X,Y,test_size=.20,random_state=97)\n",
    "xgb=XGBRegressor(subsample= 0.9, silent= 1,  nthread = 4, n_estimators = 100, min_child_weight= 3,\n",
    "                  max_depth= 5, learning_rate=0.05, colsample_bytree= 0.8)\n",
    "# xgb=XGBRegressor()\n",
    "pred=xgb.fit(x_train,y_train).predict(x_test)\n",
    "pred\n",
    "\n",
    "np.sqrt(mean_squared_error(y_test,pred))"
   ]
  },
  {
   "cell_type": "code",
   "execution_count": null,
   "id": "41838e3f",
   "metadata": {
    "code_folding": [
     0
    ],
    "hidden": true
   },
   "outputs": [],
   "source": [
    "# VC\n",
    "models=[]\n",
    "\n",
    "xgb=XGBRegressor()\n",
    "models.append(('xgb1',xgb))\n",
    "xgb1=XGBRegressor()\n",
    "models.append(('xgb2',xgb1))\n",
    "xgb2=XGBRegressor()\n",
    "models.append(('xgb3',xgb2))\n",
    "xgb3=XGBRegressor()\n",
    "models.append(('xgb4',xgb3))\n",
    "xgb4=XGBRegressor()\n",
    "models.append(('xgb5',xgb4))\n",
    "xgb5=XGBRegressor()\n",
    "models.append(('xgb6',xgb5))\n",
    "xgb6=XGBRegressor()\n",
    "models.append(('xgb7',xgb6))\n",
    "xgb7=XGBRegressor()\n",
    "models.append(('xgb8',xgb7))\n",
    "xgb8=XGBRegressor()\n",
    "models.append(('xgb9',xgb8))\n",
    "xgb9=XGBRegressor()\n",
    "models.append(('xgb10',xgb9))\n",
    "xgb10=XGBRegressor()\n",
    "models.append(('xgb11',xgb10))\n",
    "xgb11=XGBRegressor()\n",
    "models.append(('xgb12',xgb11))\n",
    "xgb12=XGBRegressor()\n",
    "models.append(('xgb13',xgb12))\n",
    "\n",
    "\n",
    "vr=VotingRegressor(models)\n",
    "vr\n",
    "\n",
    "vr.fit(x_train,y_train)\n",
    "\n",
    "pred=vr.predict(x_test)\n",
    "pred\n",
    "\n",
    "print(f'RMSE: {np.sqrt(mean_squared_error(y_test,pred))}')"
   ]
  },
  {
   "cell_type": "code",
   "execution_count": null,
   "id": "cfebddce",
   "metadata": {
    "code_folding": [
     0
    ],
    "hidden": true
   },
   "outputs": [],
   "source": [
    "# Best Model \n",
    "X,Y=data.drop('Strength',axis=1),data.Strength\n",
    "\n",
    "x_train,x_test,y_train,y_test=train_test_split(X,Y,test_size=.20,random_state=97)\n",
    "\n",
    "\n",
    "xgb=XGBRegressor(subsample= 1,  nthread = 4, n_estimators = 80, min_child_weight= 10,\n",
    "                  max_depth= 2, learning_rate=0.089, colsample_bytree= 0.8,reg_alpha=.01,reg_lambda=27.6)\n",
    "\n",
    "xgb.fit(x_train,y_train)\n",
    "pred=xgb.predict(x_test)\n",
    "\n",
    "print(f'RMSE: {np.sqrt(mean_squared_error(y_test,pred))}')"
   ]
  },
  {
   "cell_type": "code",
   "execution_count": null,
   "id": "18da2dc6",
   "metadata": {
    "code_folding": [
     0
    ],
    "hidden": true
   },
   "outputs": [],
   "source": [
    "# Test Pineline\n",
    "threshold_age = 28 # define the threshold age\n",
    "\n",
    "test['EarlyStrengthDevelopment'] = (test['AgeInDays'] <= threshold_age).astype(int)\n",
    "\n",
    "\n",
    "final_pred=xgb.predict(test.values)\n",
    "final_pred"
   ]
  },
  {
   "cell_type": "markdown",
   "id": "7c937bce",
   "metadata": {
    "heading_collapsed": true
   },
   "source": [
    "## Ridge"
   ]
  },
  {
   "cell_type": "code",
   "execution_count": null,
   "id": "638d0db0",
   "metadata": {
    "hidden": true
   },
   "outputs": [],
   "source": [
    "ridge=Ridge()\n",
    "ridge.fit(x_train,y_train)\n",
    "pred=ridge.predict(x_test)\n",
    "rmse(y_test,pred)"
   ]
  },
  {
   "cell_type": "code",
   "execution_count": null,
   "id": "96568926",
   "metadata": {
    "code_folding": [],
    "hidden": true
   },
   "outputs": [],
   "source": [
    "parameter={'alpha':[.1,.2,.3,.4,.5,.6,.7,.8,.9,1.0], \n",
    "           'max_iter':[None], \n",
    "#            'tol':0.0001, \n",
    "           'solver':['auto', 'svd', 'cholesky', 'lsqr', 'sparse_cg','sag', 'saga', 'lbfgs']}\n",
    "#            'positive':False, \n",
    "#            'random_state':None}\n",
    "\n",
    "rsv=GridSearchCV(Ridge(),parameter)\n",
    "rsv.fit(x_train,y_train)\n",
    "pred=rsv.predict(x_test)\n",
    "print(f'RMSE {rmse(y_test,pred)}')\n",
    "print(rsv.best_estimator_)\n",
    "print(f'Best Param {rsv.best_params_}')\n",
    "print(f'Best Score {rsv.best_score_}')"
   ]
  },
  {
   "cell_type": "code",
   "execution_count": null,
   "id": "80222a6e",
   "metadata": {
    "hidden": true
   },
   "outputs": [],
   "source": [
    "ridge_cv=RidgeCV()\n",
    "\n",
    "ridge_cv.fit(x_train,y_train)\n",
    "pred=ridge_cv.predict(x_test)\n",
    "rmse(y_test,pred)"
   ]
  },
  {
   "cell_type": "markdown",
   "id": "27a516bd",
   "metadata": {
    "heading_collapsed": true
   },
   "source": [
    "## SGDRegressor"
   ]
  },
  {
   "cell_type": "code",
   "execution_count": null,
   "id": "10519fb1",
   "metadata": {
    "hidden": true
   },
   "outputs": [],
   "source": [
    "sgd=SGDRegressor()\n",
    "sgd.fit(x_train,y_train)\n",
    "pred=sgd.predict(x_test)\n",
    "rmse(y_test,pred)"
   ]
  },
  {
   "cell_type": "code",
   "execution_count": null,
   "id": "13e44dcd",
   "metadata": {
    "hidden": true
   },
   "outputs": [],
   "source": [
    "params={'penalty' : ['l2', 'l1', 'elasticnet', None],\n",
    "        'alpha':[0.0001,0.0002,0.0005,0.0008,0.0010],\n",
    "        'l1_ratio':[0,0.2,0.4,0.6,0.8,1],\n",
    "        'max_iter' : [1000,10000,5000,2500]}\n",
    "\n",
    "sgd_gs=GridSearchCV(SGDRegressor(),params)\n",
    "\n",
    "sgd_gs.fit(x_train,y_train)\n",
    "\n",
    "pred=sgd_gs.predict(x_test)\n",
    "print(f'RMSE {rmse(y_test,pred)}')\n",
    "print(sgd_gs.best_estimator_)\n",
    "print(f'Best Param {sgd_gs.best_params_}')\n",
    "print(f'Best Score {sgd_gs.best_score_}')"
   ]
  },
  {
   "cell_type": "markdown",
   "id": "2f649094",
   "metadata": {
    "heading_collapsed": true
   },
   "source": [
    "## HuberRegressor"
   ]
  },
  {
   "cell_type": "markdown",
   "id": "944774f7",
   "metadata": {
    "heading_collapsed": true
   },
   "source": [
    "## LazyRegressor"
   ]
  },
  {
   "cell_type": "code",
   "execution_count": null,
   "id": "4774a20d",
   "metadata": {
    "hidden": true
   },
   "outputs": [],
   "source": [
    "# pip install lazypredict\n",
    "reg1=['SVR', 'BaggingRegressor', 'NuSVR', \n",
    "      'RandomForestRegressor', 'XGBRegressor', \n",
    "      'GradientBoostingRegressor', 'ExtraTreesRegressor', \n",
    "      'AdaBoostRegressor', 'HistGradientBoostingRegressor', \n",
    "      'PoissonRegressor',  \n",
    "      'KNeighborsRegressor', 'DecisionTreeRegressor', 'MLPRegressor', \n",
    "      'HuberRegressor', 'GammaRegressor', 'LinearSVR', 'RidgeCV', 'BayesianRidge', \n",
    "      'Ridge', 'TransformedTargetRegressor', 'LinearRegression', 'ElasticNetCV', 'LassoCV', \n",
    "      'LassoLarsIC', 'LassoLarsCV', 'Lars', 'LarsCV', 'SGDRegressor', 'TweedieRegressor', \n",
    "      'GeneralizedLinearRegressor', 'ElasticNet', 'Lasso', 'RANSACRegressor', \n",
    "      'OrthogonalMatchingPursuitCV', 'PassiveAggressiveRegressor', 'GaussianProcessRegressor', \n",
    "      'OrthogonalMatchingPursuit', 'ExtraTreeRegressor', 'DummyRegressor']\n"
   ]
  },
  {
   "cell_type": "code",
   "execution_count": null,
   "id": "05be17f0",
   "metadata": {
    "hidden": true
   },
   "outputs": [],
   "source": [
    "from lazypredict.Supervised import LazyRegressor\n",
    "reg = LazyRegressor(verbose=10000,ignore_warnings=False, custom_metric=None,regressors ='all')\n",
    "models,predictions = reg.fit(x_train, x_test, y_train, y_test)"
   ]
  },
  {
   "cell_type": "markdown",
   "id": "dcadd93f",
   "metadata": {
    "hidden": true
   },
   "source": [
    "<div class=\"output_subarea output_html rendered_html output_result\" dir=\"auto\"><div>\n",
    " <div style = \"width: 512px; height: 250px; line-height: em; overflow:scroll;  padding: 5px;\">\n",
    "\n",
    "<table border=\"1\" class=\"dataframe\">\n",
    "  <thead>\n",
    "    <tr style=\"text-align:right\">\n",
    "      <th></th>\n",
    "      <th>Adjusted R-Squared</th>\n",
    "      <th>R-Squared</th>\n",
    "      <th>RMSE</th>\n",
    "      <th>Time Taken</th>\n",
    "    </tr>\n",
    "    <tr>\n",
    "      <th>Model</th>\n",
    "      <th></th>\n",
    "      <th></th>\n",
    "      <th></th>\n",
    "      <th></th>\n",
    "    </tr>\n",
    "  </thead>\n",
    "  <tbody>\n",
    "    <tr>\n",
    "      <th>GradientBoostingRegressor</th>\n",
    "      <td>0.42</td>\n",
    "      <td>0.43</td>\n",
    "      <td>12.00</td>\n",
    "      <td>0.67</td>\n",
    "    </tr>\n",
    "    <tr>\n",
    "      <th>MLPRegressor</th>\n",
    "      <td>0.41</td>\n",
    "      <td>0.41</td>\n",
    "      <td>12.16</td>\n",
    "      <td>4.51</td>\n",
    "    </tr>\n",
    "    <tr>\n",
    "      <th>LGBMRegressor</th>\n",
    "      <td>0.40</td>\n",
    "      <td>0.41</td>\n",
    "      <td>12.22</td>\n",
    "      <td>0.28</td>\n",
    "    </tr>\n",
    "    <tr>\n",
    "      <th>HistGradientBoostingRegressor</th>\n",
    "      <td>0.40</td>\n",
    "      <td>0.41</td>\n",
    "      <td>12.23</td>\n",
    "      <td>1.04</td>\n",
    "    </tr>\n",
    "    <tr>\n",
    "      <th>AdaBoostRegressor</th>\n",
    "      <td>0.37</td>\n",
    "      <td>0.37</td>\n",
    "      <td>12.59</td>\n",
    "      <td>0.14</td>\n",
    "    </tr>\n",
    "    <tr>\n",
    "      <th>RandomForestRegressor</th>\n",
    "      <td>0.35</td>\n",
    "      <td>0.36</td>\n",
    "      <td>12.73</td>\n",
    "      <td>3.27</td>\n",
    "    </tr>\n",
    "    <tr>\n",
    "      <th>XGBRegressor</th>\n",
    "      <td>0.34</td>\n",
    "      <td>0.34</td>\n",
    "      <td>12.87</td>\n",
    "      <td>0.45</td>\n",
    "    </tr>\n",
    "    <tr>\n",
    "      <th>BaggingRegressor</th>\n",
    "      <td>0.32</td>\n",
    "      <td>0.32</td>\n",
    "      <td>13.07</td>\n",
    "      <td>0.39</td>\n",
    "    </tr>\n",
    "    <tr>\n",
    "      <th>SVR</th>\n",
    "      <td>0.30</td>\n",
    "      <td>0.31</td>\n",
    "      <td>13.20</td>\n",
    "      <td>2.98</td>\n",
    "    </tr>\n",
    "    <tr>\n",
    "      <th>NuSVR</th>\n",
    "      <td>0.30</td>\n",
    "      <td>0.30</td>\n",
    "      <td>13.25</td>\n",
    "      <td>1.82</td>\n",
    "    </tr>\n",
    "    <tr>\n",
    "      <th>ExtraTreesRegressor</th>\n",
    "      <td>0.29</td>\n",
    "      <td>0.30</td>\n",
    "      <td>13.29</td>\n",
    "      <td>1.80</td>\n",
    "    </tr>\n",
    "    <tr>\n",
    "      <th>KNeighborsRegressor</th>\n",
    "      <td>0.25</td>\n",
    "      <td>0.25</td>\n",
    "      <td>13.72</td>\n",
    "      <td>0.08</td>\n",
    "    </tr>\n",
    "    <tr>\n",
    "      <th>OrthogonalMatchingPursuitCV</th>\n",
    "      <td>0.17</td>\n",
    "      <td>0.17</td>\n",
    "      <td>14.41</td>\n",
    "      <td>0.03</td>\n",
    "    </tr>\n",
    "    <tr>\n",
    "      <th>ElasticNetCV</th>\n",
    "      <td>0.17</td>\n",
    "      <td>0.17</td>\n",
    "      <td>14.42</td>\n",
    "      <td>0.18</td>\n",
    "    </tr>\n",
    "    <tr>\n",
    "      <th>BayesianRidge</th>\n",
    "      <td>0.17</td>\n",
    "      <td>0.17</td>\n",
    "      <td>14.42</td>\n",
    "      <td>0.03</td>\n",
    "    </tr>\n",
    "    <tr>\n",
    "      <th>LassoCV</th>\n",
    "      <td>0.17</td>\n",
    "      <td>0.17</td>\n",
    "      <td>14.42</td>\n",
    "      <td>0.16</td>\n",
    "    </tr>\n",
    "    <tr>\n",
    "      <th>RidgeCV</th>\n",
    "      <td>0.17</td>\n",
    "      <td>0.17</td>\n",
    "      <td>14.42</td>\n",
    "      <td>0.04</td>\n",
    "    </tr>\n",
    "    <tr>\n",
    "      <th>LassoLarsCV</th>\n",
    "      <td>0.17</td>\n",
    "      <td>0.17</td>\n",
    "      <td>14.42</td>\n",
    "      <td>0.04</td>\n",
    "    </tr>\n",
    "    <tr>\n",
    "      <th>LarsCV</th>\n",
    "      <td>0.17</td>\n",
    "      <td>0.17</td>\n",
    "      <td>14.42</td>\n",
    "      <td>0.03</td>\n",
    "    </tr>\n",
    "    <tr>\n",
    "      <th>Ridge</th>\n",
    "      <td>0.17</td>\n",
    "      <td>0.17</td>\n",
    "      <td>14.42</td>\n",
    "      <td>0.02</td>\n",
    "    </tr>\n",
    "    <tr>\n",
    "      <th>TransformedTargetRegressor</th>\n",
    "      <td>0.17</td>\n",
    "      <td>0.17</td>\n",
    "      <td>14.42</td>\n",
    "      <td>0.03</td>\n",
    "    </tr>\n",
    "    <tr>\n",
    "      <th>LinearRegression</th>\n",
    "      <td>0.17</td>\n",
    "      <td>0.17</td>\n",
    "      <td>14.42</td>\n",
    "      <td>0.02</td>\n",
    "    </tr>\n",
    "    <tr>\n",
    "      <th>LassoLarsIC</th>\n",
    "      <td>0.17</td>\n",
    "      <td>0.17</td>\n",
    "      <td>14.42</td>\n",
    "      <td>0.03</td>\n",
    "    </tr>\n",
    "    <tr>\n",
    "      <th>Lars</th>\n",
    "      <td>0.17</td>\n",
    "      <td>0.17</td>\n",
    "      <td>14.42</td>\n",
    "      <td>0.03</td>\n",
    "    </tr>\n",
    "    <tr>\n",
    "      <th>SGDRegressor</th>\n",
    "      <td>0.17</td>\n",
    "      <td>0.17</td>\n",
    "      <td>14.43</td>\n",
    "      <td>0.03</td>\n",
    "    </tr>\n",
    "    <tr>\n",
    "      <th>HuberRegressor</th>\n",
    "      <td>0.16</td>\n",
    "      <td>0.17</td>\n",
    "      <td>14.49</td>\n",
    "      <td>0.06</td>\n",
    "    </tr>\n",
    "    <tr>\n",
    "      <th>Lasso</th>\n",
    "      <td>0.16</td>\n",
    "      <td>0.16</td>\n",
    "      <td>14.49</td>\n",
    "      <td>0.02</td>\n",
    "    </tr>\n",
    "    <tr>\n",
    "      <th>LassoLars</th>\n",
    "      <td>0.16</td>\n",
    "      <td>0.16</td>\n",
    "      <td>14.49</td>\n",
    "      <td>0.02</td>\n",
    "    </tr>\n",
    "    <tr>\n",
    "      <th>LinearSVR</th>\n",
    "      <td>0.15</td>\n",
    "      <td>0.16</td>\n",
    "      <td>14.52</td>\n",
    "      <td>0.02</td>\n",
    "    </tr>\n",
    "    <tr>\n",
    "      <th>ElasticNet</th>\n",
    "      <td>0.15</td>\n",
    "      <td>0.15</td>\n",
    "      <td>14.59</td>\n",
    "      <td>0.03</td>\n",
    "    </tr>\n",
    "    <tr>\n",
    "      <th>PoissonRegressor</th>\n",
    "      <td>0.14</td>\n",
    "      <td>0.14</td>\n",
    "      <td>14.67</td>\n",
    "      <td>0.03</td>\n",
    "    </tr>\n",
    "    <tr>\n",
    "      <th>TweedieRegressor</th>\n",
    "      <td>0.13</td>\n",
    "      <td>0.14</td>\n",
    "      <td>14.70</td>\n",
    "      <td>0.03</td>\n",
    "    </tr>\n",
    "    <tr>\n",
    "      <th>GammaRegressor</th>\n",
    "      <td>0.13</td>\n",
    "      <td>0.14</td>\n",
    "      <td>14.73</td>\n",
    "      <td>0.05</td>\n",
    "    </tr>\n",
    "    <tr>\n",
    "      <th>DecisionTreeRegressor</th>\n",
    "      <td>0.11</td>\n",
    "      <td>0.11</td>\n",
    "      <td>14.93</td>\n",
    "      <td>0.05</td>\n",
    "    </tr>\n",
    "    <tr>\n",
    "      <th>ExtraTreeRegressor</th>\n",
    "      <td>0.09</td>\n",
    "      <td>0.09</td>\n",
    "      <td>15.10</td>\n",
    "      <td>0.05</td>\n",
    "    </tr>\n",
    "    <tr>\n",
    "      <th>OrthogonalMatchingPursuit</th>\n",
    "      <td>0.08</td>\n",
    "      <td>0.09</td>\n",
    "      <td>15.12</td>\n",
    "      <td>0.00</td>\n",
    "    </tr>\n",
    "    <tr>\n",
    "      <th>PassiveAggressiveRegressor</th>\n",
    "      <td>0.05</td>\n",
    "      <td>0.06</td>\n",
    "      <td>15.38</td>\n",
    "      <td>0.02</td>\n",
    "    </tr>\n",
    "    <tr>\n",
    "      <th>DummyRegressor</th>\n",
    "      <td>-0.01</td>\n",
    "      <td>-0.00</td>\n",
    "      <td>15.86</td>\n",
    "      <td>0.03</td>\n",
    "    </tr>\n",
    "    <tr>\n",
    "      <th>QuantileRegressor</th>\n",
    "      <td>-0.01</td>\n",
    "      <td>-0.01</td>\n",
    "      <td>15.90</td>\n",
    "      <td>1641.33</td>\n",
    "    </tr>\n",
    "    <tr>\n",
    "      <th>RANSACRegressor</th>\n",
    "      <td>-0.58</td>\n",
    "      <td>-0.57</td>\n",
    "      <td>19.84</td>\n",
    "      <td>0.27</td>\n",
    "    </tr>\n",
    "    <tr>\n",
    "      <th>KernelRidge</th>\n",
    "      <td>-4.78</td>\n",
    "      <td>-4.73</td>\n",
    "      <td>37.96</td>\n",
    "      <td>1.55</td>\n",
    "    </tr>\n",
    "    <tr>\n",
    "      <th>GaussianProcessRegressor</th>\n",
    "      <td>-73409.92</td>\n",
    "      <td>-72866.63</td>\n",
    "      <td>4280.01</td>\n",
    "      <td>4.41</td>\n",
    "    </tr>\n",
    "  </tbody>\n",
    "</table>\n",
    "</div></div>"
   ]
  },
  {
   "cell_type": "code",
   "execution_count": null,
   "id": "fe62d90f",
   "metadata": {
    "hidden": true
   },
   "outputs": [],
   "source": [
    "models"
   ]
  },
  {
   "cell_type": "code",
   "execution_count": null,
   "id": "54c7d2ff",
   "metadata": {
    "hidden": true
   },
   "outputs": [],
   "source": [
    "models.describe()"
   ]
  },
  {
   "cell_type": "code",
   "execution_count": null,
   "id": "567d410a",
   "metadata": {
    "hidden": true
   },
   "outputs": [],
   "source": [
    "pd.DataFrame(reg.provide_models(x_train,x_test,y_train,y_test),index=range(len(reg.provide_models(x_train,x_test,y_train,y_test))))"
   ]
  },
  {
   "cell_type": "code",
   "execution_count": null,
   "id": "8c5c80b1",
   "metadata": {
    "hidden": true
   },
   "outputs": [],
   "source": [
    "model_dictionary = reg.provide_models(x_train,x_test,y_train,y_test)\n",
    "# print(model_dictionary)"
   ]
  },
  {
   "cell_type": "code",
   "execution_count": null,
   "id": "ccfcdeac",
   "metadata": {
    "hidden": true
   },
   "outputs": [],
   "source": [
    "model_dictionary.keys()"
   ]
  },
  {
   "cell_type": "code",
   "execution_count": null,
   "id": "18fd35e0",
   "metadata": {
    "hidden": true
   },
   "outputs": [],
   "source": [
    "x={}\n",
    "for index,val in enumerate(models.RMSE):\n",
    "    if val<=12.87:\n",
    "        col=list(model_dictionary.keys())[index]\n",
    "        x[col]=model_dictionary[col]\n",
    "#     print(i)"
   ]
  },
  {
   "cell_type": "code",
   "execution_count": null,
   "id": "8114cac0",
   "metadata": {
    "hidden": true
   },
   "outputs": [],
   "source": [
    "model_dictionary['AdaBoostRegressor']"
   ]
  },
  {
   "cell_type": "markdown",
   "id": "d514bcb2",
   "metadata": {
    "heading_collapsed": true
   },
   "source": [
    "## Gradient Boosted Regressor"
   ]
  },
  {
   "cell_type": "code",
   "execution_count": null,
   "id": "05d0451b",
   "metadata": {
    "hidden": true
   },
   "outputs": [],
   "source": [
    "gbr=model_dictionary['GradientBoostingRegressor']"
   ]
  },
  {
   "cell_type": "code",
   "execution_count": null,
   "id": "5fb7853d",
   "metadata": {
    "hidden": true
   },
   "outputs": [],
   "source": [
    "pred=gbr.predict(x_test)\n",
    "print('RMSE: ',rmse(y_test,pred))"
   ]
  },
  {
   "cell_type": "code",
   "execution_count": null,
   "id": "5f4e6a6d",
   "metadata": {
    "hidden": true
   },
   "outputs": [],
   "source": [
    "final_pred=gbr.predict(test)"
   ]
  },
  {
   "cell_type": "code",
   "execution_count": null,
   "id": "e2b9aad5",
   "metadata": {
    "hidden": true
   },
   "outputs": [],
   "source": [
    "params={'learning_rate':[0.009,0.005,.001,0.0009], 'n_estimators':[1000,1100,1500,2000], \n",
    "        'max_depth':[1,2,3]}\n",
    "\n",
    "cv=GridSearchCV(GradientBoostingRegressor(),params)"
   ]
  },
  {
   "cell_type": "code",
   "execution_count": null,
   "id": "bd3633f5",
   "metadata": {
    "hidden": true
   },
   "outputs": [],
   "source": [
    "cv.fit(x_train,y_train)\n",
    "# print(cv)"
   ]
  },
  {
   "cell_type": "code",
   "execution_count": null,
   "id": "bd177f5a",
   "metadata": {
    "hidden": true
   },
   "outputs": [],
   "source": [
    "print(f'RMSE {rmse(y_test,pred)}')\n",
    "print(cv.best_estimator_)\n",
    "print(f'Best Param {cv.best_params_}')\n",
    "print(f'Best Score {cv.best_score_}')"
   ]
  },
  {
   "cell_type": "code",
   "execution_count": null,
   "id": "816af3c0",
   "metadata": {
    "hidden": true
   },
   "outputs": [],
   "source": [
    "# losses = ['absolute_error', 'squared_error', 'huber', 'quantile']\n",
    "random=[i/100 for i in range(1,100)]\n",
    "# print(losses)\n",
    "# n_estimators=[]\n",
    "# criterions = ['friedman_mse', 'squared_error']\n",
    "d={}\n",
    "for i in random:\n",
    "        gbr=GradientBoostingRegressor(loss='squared_error',learning_rate=0.07,n_estimators=110,subsample=0.35,\n",
    "                                      criterion='friedman_mse',min_samples_split=i)\n",
    "        gbr.fit(x_train,y_train)\n",
    "        pred=gbr.predict(x_test)\n",
    "        rmse=np.sqrt(mean_squared_error(y_test,pred))\n",
    "        d[i]=rmse\n",
    "        print(f'Hyper Parameter {i}, RMSE: {rmse}')\n",
    "\n",
    "#         print(f'Loss: {i}; RMSE: {rmse}')"
   ]
  },
  {
   "cell_type": "markdown",
   "id": "6f22b899",
   "metadata": {
    "heading_collapsed": true
   },
   "source": [
    "## MLP Regressor"
   ]
  },
  {
   "cell_type": "code",
   "execution_count": null,
   "id": "8d4c7061",
   "metadata": {
    "hidden": true
   },
   "outputs": [],
   "source": [
    "from sklearn.neural_network import MLPRegressor\n",
    "model=MLPRegressor()\n",
    "model.fit(x_train,y_train)"
   ]
  },
  {
   "cell_type": "code",
   "execution_count": null,
   "id": "02a73545",
   "metadata": {
    "code_folding": [],
    "hidden": true,
    "scrolled": true
   },
   "outputs": [],
   "source": [
    "pred=model.predict(x_test)\n",
    "print(f'RMSE {rmse(y_test,pred)}')\n",
    "# print(sgd_gs.best_estimator_)\n",
    "# print(f'Best Param {sgd_gs.best_params_}')\n",
    "# print(f'Best Score {sgd_gs.best_score_}')"
   ]
  },
  {
   "cell_type": "code",
   "execution_count": null,
   "id": "7734372b",
   "metadata": {
    "hidden": true
   },
   "outputs": [],
   "source": [
    "mlp=MLPRegressor()"
   ]
  },
  {
   "cell_type": "code",
   "execution_count": null,
   "id": "7860673e",
   "metadata": {
    "hidden": true
   },
   "outputs": [],
   "source": [
    "params={'hidden_layer_sizes':[100,200,500,1000],\n",
    "    'activation':['identity', 'relu'],\n",
    "    'solver':['lbfgs', 'sgd', 'adam'],\n",
    "#     alpha:0.0001,\n",
    "#     batch_size:'auto',\n",
    "    'learning_rate':['constant', 'invscaling', 'adaptive'],\n",
    "    'learning_rate_init':[0.001,0.001,0.0009,0.005,0.005],\n",
    "    'power_t':[0.01,0.5,0.09],\n",
    "    'max_iter':[200,500,1000],\n",
    "    'n_iter_no_change':[10,20,50],\n",
    "    'max_fun':[10000,15000,20000],\n",
    "       }\n",
    "\n",
    "ml_cv=GridSearchCV(mlp,params)\n",
    "ml_cv.fit(x_train,y_train)\n",
    "pred=ml_cv.predict(x_test)\n",
    "print(f'RMSE {rmse(y_test,pred)}')\n",
    "print(ml_cv.best_estimator_)\n",
    "print(f'Best Param {ml_cv.best_params_}')\n",
    "print(f'Best Score {ml_cv.best_score_}')"
   ]
  },
  {
   "cell_type": "markdown",
   "id": "ce0f9895",
   "metadata": {
    "heading_collapsed": true
   },
   "source": [
    "## HistGradientBoostingRegressor"
   ]
  },
  {
   "cell_type": "markdown",
   "id": "184d6873",
   "metadata": {
    "heading_collapsed": true
   },
   "source": [
    "## Ensemble"
   ]
  },
  {
   "cell_type": "code",
   "execution_count": null,
   "id": "d89011c3",
   "metadata": {
    "hidden": true
   },
   "outputs": [],
   "source": [
    "models.RMSE[:8]"
   ]
  },
  {
   "cell_type": "code",
   "execution_count": null,
   "id": "ee068145",
   "metadata": {
    "hidden": true
   },
   "outputs": [],
   "source": [
    "gbr=GradientBoostingRegressor(learning_rate= 0.005, max_depth= 2, n_estimators= 2000)"
   ]
  },
  {
   "cell_type": "code",
   "execution_count": null,
   "id": "b7b92bcf",
   "metadata": {
    "hidden": true
   },
   "outputs": [],
   "source": [
    "mlp=MLPRegressor()"
   ]
  },
  {
   "cell_type": "code",
   "execution_count": null,
   "id": "14e3a0bb",
   "metadata": {
    "hidden": true
   },
   "outputs": [],
   "source": [
    "from lgbm import L\n",
    "lgbm="
   ]
  },
  {
   "cell_type": "code",
   "execution_count": null,
   "id": "1b5ef2be",
   "metadata": {
    "hidden": true
   },
   "outputs": [],
   "source": [
    "\n"
   ]
  },
  {
   "cell_type": "markdown",
   "id": "a7ddc025",
   "metadata": {
    "heading_collapsed": true
   },
   "source": [
    "## ANN"
   ]
  },
  {
   "cell_type": "code",
   "execution_count": null,
   "id": "61234754",
   "metadata": {
    "hidden": true
   },
   "outputs": [],
   "source": [
    "from keras.models import Sequential\n",
    "from keras.layers import Dense\n",
    "from tensorflow.keras import backend as K\n",
    "\n",
    "\n",
    "nn=Sequential(name='Sequential')\n",
    "\n",
    "nn.add(Dense(50,activation='relu',input_shape=(8,1),name='Input'))\n",
    "nn.add(Dense(10,activation='relu',name='Hidden1'))\n",
    "nn.add(Dense(10,activation='relu',name='Hidden2'))\n",
    "nn.add(Dense(1,name='Output'))\n",
    "\n",
    "def rmse(y_true, y_pred):\n",
    "    return K.sqrt(mean_squared_error(y_true, y_pred))\n",
    "\n",
    "nn.compile(optimizer='adam',loss='rmse')"
   ]
  },
  {
   "cell_type": "code",
   "execution_count": null,
   "id": "2397b759",
   "metadata": {
    "hidden": true
   },
   "outputs": [],
   "source": [
    "nn.summary()"
   ]
  },
  {
   "cell_type": "code",
   "execution_count": null,
   "id": "75d7947e",
   "metadata": {
    "hidden": true
   },
   "outputs": [],
   "source": [
    "nn.fit(x_scl,Y,epochs=10,batch_size=10,validation_split=.10)"
   ]
  },
  {
   "cell_type": "markdown",
   "id": "ec3d6291",
   "metadata": {
    "heading_collapsed": true
   },
   "source": [
    "# <p style=\"color:#915c83\"> Submission"
   ]
  },
  {
   "cell_type": "code",
   "execution_count": null,
   "id": "4def299a",
   "metadata": {
    "hidden": true
   },
   "outputs": [],
   "source": [
    "final_df=pd.DataFrame()\n",
    "\n",
    "final_df['id']=test.index\n",
    "final_df['Strength']=final_pred\n",
    "final_df.to_csv('submission.csv',index=False)\n",
    "final_df.head()"
   ]
  }
 ],
 "metadata": {
  "kernelspec": {
   "display_name": "Python 3 (ipykernel)",
   "language": "python",
   "name": "python3"
  },
  "language_info": {
   "codemirror_mode": {
    "name": "ipython",
    "version": 3
   },
   "file_extension": ".py",
   "mimetype": "text/x-python",
   "name": "python",
   "nbconvert_exporter": "python",
   "pygments_lexer": "ipython3",
   "version": "3.9.13"
  },
  "vp": {
   "vp_config_version": "1.0.0",
   "vp_menu_width": 273,
   "vp_note_display": false,
   "vp_note_width": 0,
   "vp_position": {
    "width": 278
   },
   "vp_section_display": true,
   "vp_signature": "VisualPython"
  }
 },
 "nbformat": 4,
 "nbformat_minor": 5
}
