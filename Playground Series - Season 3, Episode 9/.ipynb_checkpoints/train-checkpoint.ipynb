{
 "cells": [
  {
   "cell_type": "code",
   "execution_count": null,
   "id": "d388051c",
   "metadata": {
    "code_folding": [
     0
    ]
   },
   "outputs": [],
   "source": [
    "# # import pandas as pd\n",
    "# # import numpy as np\n",
    "# # from xgboost import XGBRegressor\n",
    "# # from sklearn.metrics import mean_squared_error\n",
    "# # from sklearn.model_selection import train_test_split,cross_val_score\n",
    "\n",
    "# # data=pd.read_csv('train.csv',index_col=0)\n",
    "\n",
    "# # # X,Y=data.drop('Strength',axis=1),data.Strength\n",
    "\n",
    "# # # x_train,x_test,y_train,y_test=train_test_split(X,Y,test_size=.20)\n",
    "\n",
    "\n",
    "\n",
    "# # # xgb=XGBRegressor()\n",
    "\n",
    "\n",
    "\n",
    "# pred=xgb.fit(x_train,y_train).predict(x_test)\n",
    "\n",
    "# np.sqrt(mean_squared_error(y_test,pred))"
   ]
  },
  {
   "cell_type": "code",
   "execution_count": 51,
   "id": "264b766f",
   "metadata": {
    "code_folding": []
   },
   "outputs": [],
   "source": [
    "# Lib\n",
    "import pandas as pd\n",
    "import numpy as np\n",
    "data=pd.read_csv('train.csv',index_col=0)\n",
    "# data.head()"
   ]
  },
  {
   "cell_type": "code",
   "execution_count": 131,
   "id": "eb4826ce",
   "metadata": {
    "code_folding": []
   },
   "outputs": [],
   "source": [
    "# removing skew\n",
    "data_2=data.copy()\n",
    "data_2['AgeInDays']=np.log(data.AgeInDays)\n",
    "data_2['BlastFurnaceSlag']=np.sqrt(data.BlastFurnaceSlag)\n",
    "data_2['SuperplasticizerComponent']=np.sqrt(data.SuperplasticizerComponent)\n",
    "data_2['FlyAshComponent']=np.cbrt(data.FlyAshComponent)\n",
    "# data_2.skew()"
   ]
  },
  {
   "cell_type": "code",
   "execution_count": 39,
   "id": "ef0dd99b",
   "metadata": {},
   "outputs": [
    {
     "data": {
      "text/plain": [
       "10"
      ]
     },
     "execution_count": 39,
     "metadata": {},
     "output_type": "execute_result"
    }
   ],
   "source": [
    "len(random)"
   ]
  },
  {
   "cell_type": "code",
   "execution_count": 62,
   "id": "10e41964",
   "metadata": {
    "collapsed": true
   },
   "outputs": [
    {
     "data": {
      "text/html": [
       "<style>#sk-container-id-1 {color: black;background-color: white;}#sk-container-id-1 pre{padding: 0;}#sk-container-id-1 div.sk-toggleable {background-color: white;}#sk-container-id-1 label.sk-toggleable__label {cursor: pointer;display: block;width: 100%;margin-bottom: 0;padding: 0.3em;box-sizing: border-box;text-align: center;}#sk-container-id-1 label.sk-toggleable__label-arrow:before {content: \"▸\";float: left;margin-right: 0.25em;color: #696969;}#sk-container-id-1 label.sk-toggleable__label-arrow:hover:before {color: black;}#sk-container-id-1 div.sk-estimator:hover label.sk-toggleable__label-arrow:before {color: black;}#sk-container-id-1 div.sk-toggleable__content {max-height: 0;max-width: 0;overflow: hidden;text-align: left;background-color: #f0f8ff;}#sk-container-id-1 div.sk-toggleable__content pre {margin: 0.2em;color: black;border-radius: 0.25em;background-color: #f0f8ff;}#sk-container-id-1 input.sk-toggleable__control:checked~div.sk-toggleable__content {max-height: 200px;max-width: 100%;overflow: auto;}#sk-container-id-1 input.sk-toggleable__control:checked~label.sk-toggleable__label-arrow:before {content: \"▾\";}#sk-container-id-1 div.sk-estimator input.sk-toggleable__control:checked~label.sk-toggleable__label {background-color: #d4ebff;}#sk-container-id-1 div.sk-label input.sk-toggleable__control:checked~label.sk-toggleable__label {background-color: #d4ebff;}#sk-container-id-1 input.sk-hidden--visually {border: 0;clip: rect(1px 1px 1px 1px);clip: rect(1px, 1px, 1px, 1px);height: 1px;margin: -1px;overflow: hidden;padding: 0;position: absolute;width: 1px;}#sk-container-id-1 div.sk-estimator {font-family: monospace;background-color: #f0f8ff;border: 1px dotted black;border-radius: 0.25em;box-sizing: border-box;margin-bottom: 0.5em;}#sk-container-id-1 div.sk-estimator:hover {background-color: #d4ebff;}#sk-container-id-1 div.sk-parallel-item::after {content: \"\";width: 100%;border-bottom: 1px solid gray;flex-grow: 1;}#sk-container-id-1 div.sk-label:hover label.sk-toggleable__label {background-color: #d4ebff;}#sk-container-id-1 div.sk-serial::before {content: \"\";position: absolute;border-left: 1px solid gray;box-sizing: border-box;top: 0;bottom: 0;left: 50%;z-index: 0;}#sk-container-id-1 div.sk-serial {display: flex;flex-direction: column;align-items: center;background-color: white;padding-right: 0.2em;padding-left: 0.2em;position: relative;}#sk-container-id-1 div.sk-item {position: relative;z-index: 1;}#sk-container-id-1 div.sk-parallel {display: flex;align-items: stretch;justify-content: center;background-color: white;position: relative;}#sk-container-id-1 div.sk-item::before, #sk-container-id-1 div.sk-parallel-item::before {content: \"\";position: absolute;border-left: 1px solid gray;box-sizing: border-box;top: 0;bottom: 0;left: 50%;z-index: -1;}#sk-container-id-1 div.sk-parallel-item {display: flex;flex-direction: column;z-index: 1;position: relative;background-color: white;}#sk-container-id-1 div.sk-parallel-item:first-child::after {align-self: flex-end;width: 50%;}#sk-container-id-1 div.sk-parallel-item:last-child::after {align-self: flex-start;width: 50%;}#sk-container-id-1 div.sk-parallel-item:only-child::after {width: 0;}#sk-container-id-1 div.sk-dashed-wrapped {border: 1px dashed gray;margin: 0 0.4em 0.5em 0.4em;box-sizing: border-box;padding-bottom: 0.4em;background-color: white;}#sk-container-id-1 div.sk-label label {font-family: monospace;font-weight: bold;display: inline-block;line-height: 1.2em;}#sk-container-id-1 div.sk-label-container {text-align: center;}#sk-container-id-1 div.sk-container {/* jupyter's `normalize.less` sets `[hidden] { display: none; }` but bootstrap.min.css set `[hidden] { display: none !important; }` so we also need the `!important` here to be able to override the default hidden behavior on the sphinx rendered scikit-learn.org. See: https://github.com/scikit-learn/scikit-learn/issues/21755 */display: inline-block !important;position: relative;}#sk-container-id-1 div.sk-text-repr-fallback {display: none;}</style><div id=\"sk-container-id-1\" class=\"sk-top-container\"><div class=\"sk-text-repr-fallback\"><pre>XGBRegressor(base_score=None, booster=None, callbacks=None,\n",
       "             colsample_bylevel=None, colsample_bynode=None,\n",
       "             colsample_bytree=None, early_stopping_rounds=None,\n",
       "             enable_categorical=False, eval_metric=None, feature_types=None,\n",
       "             gamma=None, gpu_id=None, grow_policy=None, importance_type=None,\n",
       "             interaction_constraints=None, learning_rate=None, max_bin=None,\n",
       "             max_cat_threshold=None, max_cat_to_onehot=None,\n",
       "             max_delta_step=None, max_depth=None, max_leaves=None,\n",
       "             min_child_weight=None, missing=nan, monotone_constraints=None,\n",
       "             n_estimators=100, n_jobs=None, num_parallel_tree=None,\n",
       "             predictor=None, random_state=None, ...)</pre><b>In a Jupyter environment, please rerun this cell to show the HTML representation or trust the notebook. <br />On GitHub, the HTML representation is unable to render, please try loading this page with nbviewer.org.</b></div><div class=\"sk-container\" hidden><div class=\"sk-item\"><div class=\"sk-estimator sk-toggleable\"><input class=\"sk-toggleable__control sk-hidden--visually\" id=\"sk-estimator-id-1\" type=\"checkbox\" checked><label for=\"sk-estimator-id-1\" class=\"sk-toggleable__label sk-toggleable__label-arrow\">XGBRegressor</label><div class=\"sk-toggleable__content\"><pre>XGBRegressor(base_score=None, booster=None, callbacks=None,\n",
       "             colsample_bylevel=None, colsample_bynode=None,\n",
       "             colsample_bytree=None, early_stopping_rounds=None,\n",
       "             enable_categorical=False, eval_metric=None, feature_types=None,\n",
       "             gamma=None, gpu_id=None, grow_policy=None, importance_type=None,\n",
       "             interaction_constraints=None, learning_rate=None, max_bin=None,\n",
       "             max_cat_threshold=None, max_cat_to_onehot=None,\n",
       "             max_delta_step=None, max_depth=None, max_leaves=None,\n",
       "             min_child_weight=None, missing=nan, monotone_constraints=None,\n",
       "             n_estimators=100, n_jobs=None, num_parallel_tree=None,\n",
       "             predictor=None, random_state=None, ...)</pre></div></div></div></div></div>"
      ],
      "text/plain": [
       "XGBRegressor(base_score=None, booster=None, callbacks=None,\n",
       "             colsample_bylevel=None, colsample_bynode=None,\n",
       "             colsample_bytree=None, early_stopping_rounds=None,\n",
       "             enable_categorical=False, eval_metric=None, feature_types=None,\n",
       "             gamma=None, gpu_id=None, grow_policy=None, importance_type=None,\n",
       "             interaction_constraints=None, learning_rate=None, max_bin=None,\n",
       "             max_cat_threshold=None, max_cat_to_onehot=None,\n",
       "             max_delta_step=None, max_depth=None, max_leaves=None,\n",
       "             min_child_weight=None, missing=nan, monotone_constraints=None,\n",
       "             n_estimators=100, n_jobs=None, num_parallel_tree=None,\n",
       "             predictor=None, random_state=None, ...)"
      ]
     },
     "execution_count": 62,
     "metadata": {},
     "output_type": "execute_result"
    }
   ],
   "source": [
    "XGBRegressor()"
   ]
  },
  {
   "cell_type": "code",
   "execution_count": 127,
   "id": "dd297221",
   "metadata": {},
   "outputs": [
    {
     "name": "stdout",
     "output_type": "stream",
     "text": [
      "RMSE: 11.379994367535284\n"
     ]
    }
   ],
   "source": [
    "from sklearn.model_selection import train_test_split,cross_val_score\n",
    "\n",
    "X,Y=data.drop('Strength',axis=1),data.Strength\n",
    "\n",
    "x_train,x_test,y_train,y_test=train_test_split(X,Y,test_size=.20,random_state=97)\n",
    "\n",
    "\n",
    "# Model\n",
    "from xgboost import XGBRegressor\n",
    "from sklearn.metrics import mean_squared_error\n",
    "\n",
    "xgb=XGBRegressor(subsample= 1,  nthread = 4, n_estimators = 80, min_child_weight= 10,\n",
    "                  max_depth= 2, learning_rate=0.089, colsample_bytree= 0.8,reg_alpha=.01,reg_lambda=27.6)\n",
    "\n",
    "xgb.fit(x_train,y_train)\n",
    "pred=xgb.predict(x_test)\n",
    "\n",
    "print(f'RMSE: {np.sqrt(mean_squared_error(y_test,pred))}')"
   ]
  },
  {
   "cell_type": "code",
   "execution_count": 129,
   "id": "57887d54",
   "metadata": {},
   "outputs": [
    {
     "data": {
      "text/plain": [
       "0.017889496997774756"
      ]
     },
     "execution_count": 129,
     "metadata": {},
     "output_type": "execute_result"
    }
   ],
   "source": [
    "11.397883864533059-11.379994367535284"
   ]
  },
  {
   "cell_type": "code",
   "execution_count": 57,
   "id": "02bf6cdf",
   "metadata": {},
   "outputs": [
    {
     "data": {
      "text/plain": [
       "0.2"
      ]
     },
     "execution_count": 57,
     "metadata": {},
     "output_type": "execute_result"
    }
   ],
   "source": [
    "2/10"
   ]
  },
  {
   "cell_type": "code",
   "execution_count": 141,
   "id": "2380ad96",
   "metadata": {
    "code_folding": [
     0
    ]
   },
   "outputs": [
    {
     "name": "stdout",
     "output_type": "stream",
     "text": [
      "HyperParameter: reg:squarederror\n",
      "RMSE: 11.379994367535284\n",
      "[05:45:27] WARNING: C:/buildkite-agent/builds/buildkite-windows-cpu-autoscaling-group-i-030221e36e1a46bfb-1/xgboost/xgboost-ci-windows/src/objective/regression_obj.cu:213: reg:linear is now deprecated in favor of reg:squarederror.\n",
      "HyperParameter: reg:linear\n",
      "RMSE: 11.379994367535284\n",
      "HyperParameter: reg:squaredlogerror\n",
      "RMSE: 20.863894158890997\n",
      "HyperParameter: reg:gamma\n",
      "RMSE: 11.913482332314992\n",
      "HyperParameter: reg:tweedie\n",
      "RMSE: 11.459926623604698\n",
      "HyperParameter: rank:pairwise\n",
      "RMSE: 37.732803730053504\n",
      "HyperParameter: rank:ndcg\n",
      "RMSE: 37.92610689114649\n",
      "HyperParameter: rank:map\n",
      "RMSE: 37.92610689114649\n",
      "HyperParameter: survival:cox\n",
      "RMSE: 37.72751712381035\n"
     ]
    }
   ],
   "source": [
    "# Data\n",
    "from sklearn.model_selection import train_test_split,cross_val_score\n",
    "\n",
    "X,Y=data.drop('Strength',axis=1),data_2.Strength\n",
    "random=[i/10 for i in range(0,300)]\n",
    "x=['reg:squarederror', 'reg:linear', 'reg:squaredlogerror', 'reg:gamma', 'reg:tweedie', 'rank:pairwise', 'rank:ndcg', 'rank:map', 'survival:cox']\n",
    "#random_state min and max value\n",
    "loss={}\n",
    "for i in x:\n",
    "    x_train,x_test,y_train,y_test=train_test_split(X,Y,test_size=.20,random_state=97)\n",
    "    \n",
    "\n",
    "    # Model\n",
    "    from xgboost import XGBRegressor\n",
    "    from sklearn.metrics import mean_squared_error\n",
    "\n",
    "    xgb=XGBRegressor(subsample= 1,  nthread = 4, n_estimators = 80, min_child_weight= 10,\n",
    "                      max_depth= 2, learning_rate=0.089, colsample_bytree= 0.8,reg_alpha =0.01,reg_lambda=27.6,objective=i)\n",
    "\n",
    "    xgb.fit(x_train,y_train)\n",
    "    pred=xgb.predict(x_test)\n",
    "    rmse=np.sqrt(mean_squared_error(y_test,pred))\n",
    "    loss[i]=rmse\n",
    "    print(f'HyperParameter: {i}\\nRMSE: {rmse}')"
   ]
  },
  {
   "cell_type": "code",
   "execution_count": 143,
   "id": "4783d14c",
   "metadata": {},
   "outputs": [
    {
     "data": {
      "text/plain": [
       "{'reg:squarederror': 11.379994367535284, 'reg:linear': 11.379994367535284}"
      ]
     },
     "execution_count": 143,
     "metadata": {},
     "output_type": "execute_result"
    }
   ],
   "source": [
    "result = {k:v for k,v in loss.items() if v == 11.379994367535284}\n",
    "result"
   ]
  },
  {
   "cell_type": "code",
   "execution_count": 142,
   "id": "d2e7469f",
   "metadata": {},
   "outputs": [
    {
     "data": {
      "text/plain": [
       "11.379994367535284"
      ]
     },
     "execution_count": 142,
     "metadata": {},
     "output_type": "execute_result"
    }
   ],
   "source": [
    "min(loss.values())"
   ]
  },
  {
   "cell_type": "code",
   "execution_count": null,
   "id": "b70a20d6",
   "metadata": {
    "code_folding": [
     0
    ]
   },
   "outputs": [],
   "source": [
    "# Skew\n",
    "import numpy as np\n",
    "\n",
    "\n",
    "import plotly.express as exp\n",
    "from plotly.subplots import make_subplots\n",
    "import plotly.graph_objs as go\n",
    "\n",
    "fig=make_subplots(1,2)\n",
    "\n",
    "fig.add_trace(go.Histogram(x=data.AgeInDays))\n",
    "\n",
    "# Add a chart to the second subplot\n",
    "fig.add_trace(go.Histogram({'x':np.log(data.AgeInDays)}), row=1, col=2)\n",
    "\n",
    "# Update the layout of the figure\n",
    "fig.update_layout(title='My Subplots', height=300, width=800)\n",
    "\n",
    "# Show the figure\n",
    "fig.show()\n",
    "\n"
   ]
  },
  {
   "cell_type": "code",
   "execution_count": 130,
   "id": "d7ef46a4",
   "metadata": {
    "code_folding": []
   },
   "outputs": [
    {
     "data": {
      "text/html": [
       "<div>\n",
       "<style scoped>\n",
       "    .dataframe tbody tr th:only-of-type {\n",
       "        vertical-align: middle;\n",
       "    }\n",
       "\n",
       "    .dataframe tbody tr th {\n",
       "        vertical-align: top;\n",
       "    }\n",
       "\n",
       "    .dataframe thead th {\n",
       "        text-align: right;\n",
       "    }\n",
       "</style>\n",
       "<table border=\"1\" class=\"dataframe\">\n",
       "  <thead>\n",
       "    <tr style=\"text-align: right;\">\n",
       "      <th></th>\n",
       "      <th>id</th>\n",
       "      <th>Strength</th>\n",
       "    </tr>\n",
       "  </thead>\n",
       "  <tbody>\n",
       "    <tr>\n",
       "      <th>0</th>\n",
       "      <td>5407</td>\n",
       "      <td>48.344727</td>\n",
       "    </tr>\n",
       "    <tr>\n",
       "      <th>1</th>\n",
       "      <td>5408</td>\n",
       "      <td>20.759464</td>\n",
       "    </tr>\n",
       "    <tr>\n",
       "      <th>2</th>\n",
       "      <td>5409</td>\n",
       "      <td>34.150814</td>\n",
       "    </tr>\n",
       "    <tr>\n",
       "      <th>3</th>\n",
       "      <td>5410</td>\n",
       "      <td>46.520535</td>\n",
       "    </tr>\n",
       "    <tr>\n",
       "      <th>4</th>\n",
       "      <td>5411</td>\n",
       "      <td>33.258804</td>\n",
       "    </tr>\n",
       "  </tbody>\n",
       "</table>\n",
       "</div>"
      ],
      "text/plain": [
       "     id   Strength\n",
       "0  5407  48.344727\n",
       "1  5408  20.759464\n",
       "2  5409  34.150814\n",
       "3  5410  46.520535\n",
       "4  5411  33.258804"
      ]
     },
     "execution_count": 130,
     "metadata": {},
     "output_type": "execute_result"
    }
   ],
   "source": [
    "# Prediction and submission\n",
    "test=pd.read_csv('test.csv',index_col=0)\n",
    "\n",
    "# test.AgeInDays=np.log(test.AgeInDays)\n",
    "# test['BlastFurnaceSlag']=np.sqrt(test.BlastFurnaceSlag)\n",
    "# test['SuperplasticizerComponent']=np.sqrt(test.SuperplasticizerComponent)\n",
    "# test['FlyAshComponent']=np.cbrt(test.FlyAshComponent)\n",
    "\n",
    "final_pred=xgb.predict(test)\n",
    "final_df=pd.DataFrame()\n",
    "\n",
    "final_df['id']=test.index\n",
    "final_df['Strength']=final_pred\n",
    "final_df.to_csv('submission.csv',index=False)\n",
    "final_df.head()"
   ]
  },
  {
   "cell_type": "code",
   "execution_count": null,
   "id": "0e8cd730",
   "metadata": {
    "code_folding": [
     0
    ]
   },
   "outputs": [],
   "source": [
    "# Cross validation\n",
    "cross_val_score()\n",
    "\n",
    "result=cross_val_score(xgb,x_train,y_train,scoring='neg_root_mean_squared_error')"
   ]
  }
 ],
 "metadata": {
  "kernelspec": {
   "display_name": "Python 3 (ipykernel)",
   "language": "python",
   "name": "python3"
  },
  "language_info": {
   "codemirror_mode": {
    "name": "ipython",
    "version": 3
   },
   "file_extension": ".py",
   "mimetype": "text/x-python",
   "name": "python",
   "nbconvert_exporter": "python",
   "pygments_lexer": "ipython3",
   "version": "3.9.13"
  }
 },
 "nbformat": 4,
 "nbformat_minor": 5
}
