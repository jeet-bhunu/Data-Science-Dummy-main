{
 "cells": [
  {
   "cell_type": "markdown",
   "id": "620c77f2",
   "metadata": {
    "papermill": {
     "duration": 0.015368,
     "end_time": "2023-07-08T16:44:31.635289",
     "exception": false,
     "start_time": "2023-07-08T16:44:31.619921",
     "status": "completed"
    },
    "tags": []
   },
   "source": [
    "# Enzyme Substrate Classification  "
   ]
  },
  {
   "cell_type": "code",
   "execution_count": 1,
   "id": "516074ec",
   "metadata": {
    "_cell_guid": "b1076dfc-b9ad-4769-8c92-a6c4dae69d19",
    "_kg_hide-input": true,
    "_kg_hide-output": true,
    "_uuid": "8f2839f25d086af736a60e9eeb907d3b93b6e0e5",
    "execution": {
     "iopub.execute_input": "2023-07-08T16:44:31.662638Z",
     "iopub.status.busy": "2023-07-08T16:44:31.662217Z",
     "iopub.status.idle": "2023-07-08T16:44:31.684283Z",
     "shell.execute_reply": "2023-07-08T16:44:31.683237Z"
    },
    "papermill": {
     "duration": 0.039084,
     "end_time": "2023-07-08T16:44:31.687096",
     "exception": false,
     "start_time": "2023-07-08T16:44:31.648012",
     "status": "completed"
    },
    "tags": []
   },
   "outputs": [
    {
     "name": "stdout",
     "output_type": "stream",
     "text": [
      "/kaggle/input/playground-series-s3e18/sample_submission.csv\n",
      "/kaggle/input/playground-series-s3e18/train.csv\n",
      "/kaggle/input/playground-series-s3e18/test.csv\n",
      "/kaggle/input/ec-mixed-class/mixed_fcfp.csv\n",
      "/kaggle/input/ec-mixed-class/mixed_desc.csv\n",
      "/kaggle/input/ec-mixed-class/mixed_ecfp.csv\n"
     ]
    }
   ],
   "source": [
    "# This Python 3 environment comes with many helpful analytics libraries installed\n",
    "# It is defined by the kaggle/python Docker image: https://github.com/kaggle/docker-python\n",
    "# For example, here's several helpful packages to load\n",
    "\n",
    "import numpy as np # linear algebra\n",
    "import pandas as pd # data processing, CSV file I/O (e.g. pd.read_csv)\n",
    "\n",
    "# Input data files are available in the read-only \"../input/\" directory\n",
    "# For example, running this (by clicking run or pressing Shift+Enter) will list all files under the input directory\n",
    "\n",
    "import os\n",
    "for dirname, _, filenames in os.walk('/kaggle/input'):\n",
    "    for filename in filenames:\n",
    "        print(os.path.join(dirname, filename))\n",
    "\n",
    "# You can write up to 20GB to the current directory (/kaggle/working/) that gets preserved as output when you create a version using \"Save & Run All\" \n",
    "# You can also write temporary files to /kaggle/temp/, but they won't be saved outside of the current session"
   ]
  },
  {
   "cell_type": "markdown",
   "id": "f497b235",
   "metadata": {
    "papermill": {
     "duration": 0.01211,
     "end_time": "2023-07-08T16:44:31.711966",
     "exception": false,
     "start_time": "2023-07-08T16:44:31.699856",
     "status": "completed"
    },
    "tags": []
   },
   "source": [
    "# Loading Libraries"
   ]
  },
  {
   "cell_type": "code",
   "execution_count": 2,
   "id": "8e71b7f1",
   "metadata": {
    "execution": {
     "iopub.execute_input": "2023-07-08T16:44:31.739376Z",
     "iopub.status.busy": "2023-07-08T16:44:31.738709Z",
     "iopub.status.idle": "2023-07-08T16:44:35.535391Z",
     "shell.execute_reply": "2023-07-08T16:44:35.534208Z"
    },
    "papermill": {
     "duration": 3.813728,
     "end_time": "2023-07-08T16:44:35.538384",
     "exception": false,
     "start_time": "2023-07-08T16:44:31.724656",
     "status": "completed"
    },
    "tags": []
   },
   "outputs": [],
   "source": [
    "import seaborn as sns\n",
    "import matplotlib.pyplot as plt\n",
    "\n",
    "from sklearn.multioutput import MultiOutputClassifier\n",
    "\n",
    "import os\n",
    "import warnings\n",
    "warnings.filterwarnings('ignore')\n",
    "import math \n",
    "import xgboost as xgb\n",
    "import lightgbm as lgb\n",
    "from catboost import CatBoostClassifier, Pool\n",
    "from sklearn.preprocessing import MinMaxScaler, StandardScaler, LabelEncoder, RobustScaler\n",
    "from sklearn.preprocessing import PowerTransformer\n",
    "from sklearn.preprocessing import FunctionTransformer\n",
    "\n",
    "from sklearn.compose import ColumnTransformer\n",
    "from sklearn.metrics import roc_auc_score\n",
    "from sklearn.pipeline import Pipeline\n",
    "from sklearn.model_selection import KFold, StratifiedKFold, train_test_split, GridSearchCV, RandomizedSearchCV,RepeatedKFold, RepeatedStratifiedKFold\n",
    "from sklearn.neighbors import KNeighborsClassifier\n",
    "from sklearn.tree import DecisionTreeClassifier\n",
    "from sklearn.ensemble import RandomForestClassifier, AdaBoostClassifier\n",
    "from sklearn.naive_bayes import GaussianNB\n",
    "from sklearn.discriminant_analysis import QuadraticDiscriminantAnalysis\n",
    "from sklearn.neural_network import MLPClassifier\n",
    "from sklearn.ensemble import BaggingClassifier\n",
    "\n",
    "from sklearn.linear_model import LogisticRegression\n",
    "from sklearn.svm import SVC\n",
    "from sklearn.naive_bayes import MultinomialNB, GaussianNB\n",
    "from sklearn.ensemble import GradientBoostingClassifier\n",
    "from sklearn.ensemble import HistGradientBoostingClassifier\n",
    "from imblearn.ensemble import BalancedRandomForestClassifier\n",
    "from sklearn.ensemble import VotingClassifier\n",
    "from sklearn.ensemble import ExtraTreesClassifier\n",
    "from sklearn.feature_selection import RFECV\n",
    "from sklearn.model_selection import cross_val_predict\n",
    "from sklearn.decomposition import PCA\n",
    "from sklearn.discriminant_analysis import LinearDiscriminantAnalysis as LDA\n",
    "from imblearn.over_sampling import RandomOverSampler\n",
    "from sklearn.utils.parallel import Parallel\n",
    "\n",
    "# Helper Function to visualize feature importance\n",
    "plt.rcParams['figure.figsize'] = (8, 4)\n"
   ]
  },
  {
   "cell_type": "markdown",
   "id": "2dd65cdd",
   "metadata": {
    "papermill": {
     "duration": 0.012864,
     "end_time": "2023-07-08T16:44:35.564379",
     "exception": false,
     "start_time": "2023-07-08T16:44:35.551515",
     "status": "completed"
    },
    "tags": []
   },
   "source": [
    "# Reading Data"
   ]
  },
  {
   "cell_type": "code",
   "execution_count": 3,
   "id": "305d377d",
   "metadata": {
    "execution": {
     "iopub.execute_input": "2023-07-08T16:44:35.592335Z",
     "iopub.status.busy": "2023-07-08T16:44:35.591657Z",
     "iopub.status.idle": "2023-07-08T16:44:36.165252Z",
     "shell.execute_reply": "2023-07-08T16:44:36.164152Z"
    },
    "papermill": {
     "duration": 0.590754,
     "end_time": "2023-07-08T16:44:36.167983",
     "exception": false,
     "start_time": "2023-07-08T16:44:35.577229",
     "status": "completed"
    },
    "tags": []
   },
   "outputs": [],
   "source": [
    "train_df = pd.read_csv('/kaggle/input/playground-series-s3e18/train.csv',index_col=\"id\")\n",
    "test_df = pd.read_csv('/kaggle/input/playground-series-s3e18/test.csv', index_col=\"id\")\n",
    "submission_df = pd.read_csv('/kaggle/input/playground-series-s3e18/sample_submission.csv')\n",
    "\n",
    "fcfp_df = pd.read_csv('/kaggle/input/ec-mixed-class/mixed_fcfp.csv')\n",
    "desc_df = pd.read_csv('/kaggle/input/ec-mixed-class/mixed_desc.csv')\n",
    "ecfp_df = pd.read_csv('/kaggle/input/ec-mixed-class/mixed_ecfp.csv')"
   ]
  },
  {
   "cell_type": "code",
   "execution_count": 4,
   "id": "5d82a418",
   "metadata": {
    "execution": {
     "iopub.execute_input": "2023-07-08T16:44:36.196157Z",
     "iopub.status.busy": "2023-07-08T16:44:36.195762Z",
     "iopub.status.idle": "2023-07-08T16:44:36.208330Z",
     "shell.execute_reply": "2023-07-08T16:44:36.207118Z"
    },
    "papermill": {
     "duration": 0.029333,
     "end_time": "2023-07-08T16:44:36.210887",
     "exception": false,
     "start_time": "2023-07-08T16:44:36.181554",
     "status": "completed"
    },
    "tags": []
   },
   "outputs": [
    {
     "name": "stdout",
     "output_type": "stream",
     "text": [
      "Nulls in train:  0\n",
      "Nulls in test:  0\n"
     ]
    }
   ],
   "source": [
    "#Check NANs\n",
    "print(\"Nulls in train: \",train_df.isna().sum().max())\n",
    "print(\"Nulls in test: \",test_df.isna().sum().max())"
   ]
  },
  {
   "cell_type": "code",
   "execution_count": 5,
   "id": "acd22cdb",
   "metadata": {
    "execution": {
     "iopub.execute_input": "2023-07-08T16:44:36.238850Z",
     "iopub.status.busy": "2023-07-08T16:44:36.237952Z",
     "iopub.status.idle": "2023-07-08T16:44:36.244424Z",
     "shell.execute_reply": "2023-07-08T16:44:36.243238Z"
    },
    "papermill": {
     "duration": 0.023209,
     "end_time": "2023-07-08T16:44:36.247091",
     "exception": false,
     "start_time": "2023-07-08T16:44:36.223882",
     "status": "completed"
    },
    "tags": []
   },
   "outputs": [
    {
     "name": "stdout",
     "output_type": "stream",
     "text": [
      "(14838, 37)\n",
      "(9893, 31)\n",
      "(1039, 198)\n"
     ]
    }
   ],
   "source": [
    "print(train_df.shape)\n",
    "print(test_df.shape)\n",
    "print(desc_df.shape)"
   ]
  },
  {
   "cell_type": "code",
   "execution_count": 6,
   "id": "6d7d1290",
   "metadata": {
    "execution": {
     "iopub.execute_input": "2023-07-08T16:44:36.275246Z",
     "iopub.status.busy": "2023-07-08T16:44:36.274280Z",
     "iopub.status.idle": "2023-07-08T16:44:36.279585Z",
     "shell.execute_reply": "2023-07-08T16:44:36.278252Z"
    },
    "papermill": {
     "duration": 0.021618,
     "end_time": "2023-07-08T16:44:36.281802",
     "exception": false,
     "start_time": "2023-07-08T16:44:36.260184",
     "status": "completed"
    },
    "tags": []
   },
   "outputs": [],
   "source": [
    "target = ['EC1','EC2']"
   ]
  },
  {
   "cell_type": "code",
   "execution_count": 7,
   "id": "8294e24e",
   "metadata": {
    "execution": {
     "iopub.execute_input": "2023-07-08T16:44:36.310108Z",
     "iopub.status.busy": "2023-07-08T16:44:36.309721Z",
     "iopub.status.idle": "2023-07-08T16:44:36.322580Z",
     "shell.execute_reply": "2023-07-08T16:44:36.321435Z"
    },
    "papermill": {
     "duration": 0.030541,
     "end_time": "2023-07-08T16:44:36.325404",
     "exception": false,
     "start_time": "2023-07-08T16:44:36.294863",
     "status": "completed"
    },
    "tags": []
   },
   "outputs": [],
   "source": [
    "#Extract target columns in desc_df\n",
    "\n",
    "split_values = desc_df['EC1_EC2_EC3_EC4_EC5_EC6'].str.split('_', expand=True)\n",
    "\n",
    "desc_df['EC1'] = split_values[0].astype(int)\n",
    "desc_df['EC2'] = split_values[1].astype(int)"
   ]
  },
  {
   "cell_type": "code",
   "execution_count": 8,
   "id": "fbbf1888",
   "metadata": {
    "execution": {
     "iopub.execute_input": "2023-07-08T16:44:36.353639Z",
     "iopub.status.busy": "2023-07-08T16:44:36.353230Z",
     "iopub.status.idle": "2023-07-08T16:44:36.361263Z",
     "shell.execute_reply": "2023-07-08T16:44:36.360098Z"
    },
    "papermill": {
     "duration": 0.02487,
     "end_time": "2023-07-08T16:44:36.363536",
     "exception": false,
     "start_time": "2023-07-08T16:44:36.338666",
     "status": "completed"
    },
    "tags": []
   },
   "outputs": [],
   "source": [
    "# Drop Unnecessary Columns from Train\n",
    "\n",
    "train_df.drop(['EC3','EC4','EC5','EC6'], axis=1,inplace=True)"
   ]
  },
  {
   "cell_type": "code",
   "execution_count": 9,
   "id": "73c57c61",
   "metadata": {
    "execution": {
     "iopub.execute_input": "2023-07-08T16:44:36.392249Z",
     "iopub.status.busy": "2023-07-08T16:44:36.391873Z",
     "iopub.status.idle": "2023-07-08T16:44:36.414114Z",
     "shell.execute_reply": "2023-07-08T16:44:36.412959Z"
    },
    "papermill": {
     "duration": 0.039804,
     "end_time": "2023-07-08T16:44:36.416820",
     "exception": false,
     "start_time": "2023-07-08T16:44:36.377016",
     "status": "completed"
    },
    "tags": []
   },
   "outputs": [],
   "source": [
    "#Combine train and desc_df\n",
    "\n",
    "final_cols = train_df.columns\n",
    "temp_df = desc_df[final_cols]\n",
    "train_df=pd.concat([train_df.reset_index(drop=True),temp_df],keys=('train','original'),axis=0)"
   ]
  },
  {
   "cell_type": "code",
   "execution_count": 10,
   "id": "bab0817c",
   "metadata": {
    "execution": {
     "iopub.execute_input": "2023-07-08T16:44:36.444463Z",
     "iopub.status.busy": "2023-07-08T16:44:36.444004Z",
     "iopub.status.idle": "2023-07-08T16:44:36.454524Z",
     "shell.execute_reply": "2023-07-08T16:44:36.453481Z"
    },
    "papermill": {
     "duration": 0.026801,
     "end_time": "2023-07-08T16:44:36.456661",
     "exception": false,
     "start_time": "2023-07-08T16:44:36.429860",
     "status": "completed"
    },
    "tags": []
   },
   "outputs": [
    {
     "data": {
      "text/plain": [
       "0"
      ]
     },
     "execution_count": 10,
     "metadata": {},
     "output_type": "execute_result"
    }
   ],
   "source": [
    "#Check NULLS\n",
    "train_df.isna().sum().max()"
   ]
  },
  {
   "cell_type": "code",
   "execution_count": 11,
   "id": "9d33f037",
   "metadata": {
    "execution": {
     "iopub.execute_input": "2023-07-08T16:44:36.485390Z",
     "iopub.status.busy": "2023-07-08T16:44:36.484995Z",
     "iopub.status.idle": "2023-07-08T16:44:36.769912Z",
     "shell.execute_reply": "2023-07-08T16:44:36.768885Z"
    },
    "papermill": {
     "duration": 0.302458,
     "end_time": "2023-07-08T16:44:36.772223",
     "exception": false,
     "start_time": "2023-07-08T16:44:36.469765",
     "status": "completed"
    },
    "tags": []
   },
   "outputs": [
    {
     "name": "stdout",
     "output_type": "stream",
     "text": [
      "There are 108 rows that are duplicated within train\n",
      "There are 0 rows that are duplicated within test\n",
      "There are 10 rows that appear in the train and test datasets.\n",
      "\n"
     ]
    }
   ],
   "source": [
    "to_consider = train_df.drop(columns = ['EC1','EC2'], axis = 1).columns.tolist()\n",
    "\n",
    "train_dup = train_df.drop(columns = [ 'EC1','EC2'], axis = 1).drop_duplicates()\n",
    "print('There are', train_df.shape[0]- train_dup.shape[0], 'rows that are duplicated within train')\n",
    "\n",
    "test_dup = test_df.drop_duplicates()\n",
    "print('There are', test_df.shape[0]- test_dup.shape[0], 'rows that are duplicated within test')\n",
    "\n",
    "duplicates = pd.merge(train_dup, test_dup, on = to_consider)\n",
    "\n",
    "print('There are', duplicates.shape[0], 'rows that appear in the train and test datasets.\\n')\n",
    "\n",
    "train_df=train_df.drop_duplicates()"
   ]
  },
  {
   "cell_type": "markdown",
   "id": "70398940",
   "metadata": {
    "papermill": {
     "duration": 0.01407,
     "end_time": "2023-07-08T16:44:36.800766",
     "exception": false,
     "start_time": "2023-07-08T16:44:36.786696",
     "status": "completed"
    },
    "tags": []
   },
   "source": [
    "## Outlier Removal"
   ]
  },
  {
   "cell_type": "code",
   "execution_count": 12,
   "id": "4b46b547",
   "metadata": {
    "execution": {
     "iopub.execute_input": "2023-07-08T16:44:36.828896Z",
     "iopub.status.busy": "2023-07-08T16:44:36.828517Z",
     "iopub.status.idle": "2023-07-08T16:44:36.847937Z",
     "shell.execute_reply": "2023-07-08T16:44:36.846831Z"
    },
    "papermill": {
     "duration": 0.036248,
     "end_time": "2023-07-08T16:44:36.850414",
     "exception": false,
     "start_time": "2023-07-08T16:44:36.814166",
     "status": "completed"
    },
    "tags": []
   },
   "outputs": [],
   "source": [
    "train_df.drop(train_df[train_df.FpDensityMorgan1<-100].index, axis=0,inplace=True)\n",
    "train_df.drop(train_df[train_df.FpDensityMorgan1<-2.5].index, axis=0,inplace=True)"
   ]
  },
  {
   "cell_type": "markdown",
   "id": "9150a1ce",
   "metadata": {
    "papermill": {
     "duration": 0.013651,
     "end_time": "2023-07-08T16:44:36.877165",
     "exception": false,
     "start_time": "2023-07-08T16:44:36.863514",
     "status": "completed"
    },
    "tags": []
   },
   "source": [
    "# Feature Engineering"
   ]
  },
  {
   "cell_type": "code",
   "execution_count": 13,
   "id": "633cecb4",
   "metadata": {
    "execution": {
     "iopub.execute_input": "2023-07-08T16:44:36.906313Z",
     "iopub.status.busy": "2023-07-08T16:44:36.905914Z",
     "iopub.status.idle": "2023-07-08T16:44:36.911721Z",
     "shell.execute_reply": "2023-07-08T16:44:36.910650Z"
    },
    "papermill": {
     "duration": 0.022831,
     "end_time": "2023-07-08T16:44:36.913906",
     "exception": false,
     "start_time": "2023-07-08T16:44:36.891075",
     "status": "completed"
    },
    "tags": []
   },
   "outputs": [],
   "source": [
    "feat = [c for c in train_df.columns if c not in target]\n",
    "\n",
    "cat_cols = ['NumHeteroatoms','fr_COO','fr_COO2']\n",
    "\n",
    "num_cols = [c for c in feat if c not in cat_cols]"
   ]
  },
  {
   "cell_type": "code",
   "execution_count": 14,
   "id": "683154ca",
   "metadata": {
    "execution": {
     "iopub.execute_input": "2023-07-08T16:44:36.942302Z",
     "iopub.status.busy": "2023-07-08T16:44:36.941528Z",
     "iopub.status.idle": "2023-07-08T16:44:37.003709Z",
     "shell.execute_reply": "2023-07-08T16:44:37.002455Z"
    },
    "papermill": {
     "duration": 0.079493,
     "end_time": "2023-07-08T16:44:37.006533",
     "exception": false,
     "start_time": "2023-07-08T16:44:36.927040",
     "status": "completed"
    },
    "tags": []
   },
   "outputs": [],
   "source": [
    "def divide_with_check(a,b):\n",
    "    result = np.where(b != 0, np.divide(a, b), 0)\n",
    "    return result\n",
    "\n",
    "def fe(df):\n",
    "    \n",
    "    df['Enzyme_Complexity'] = df['Chi1'] + df['Chi2v'] + df['Chi3v'] + df['Chi4n']\n",
    "    df['Molecular_Weight_Ratio'] = divide_with_check(df['ExactMolWt'] , df['HeavyAtomMolWt'])\n",
    "    df['EState_VSA_Ratio'] = divide_with_check(df['EState_VSA1'] , df['EState_VSA2'])\n",
    "    df['Heteroatom_Proportion'] = divide_with_check(df['NumHeteroatoms'] , (df['NumHeteroatoms'] + df['HeavyAtomMolWt']))\n",
    "    df['frCOO_Average']= (df['fr_COO']+df['fr_COO2'])/2\n",
    "    \n",
    "    df['Molecular_Complexity'] = df['BertzCT'] * df['ExactMolWt']\n",
    "    df['Structural_Flexibility'] = df['Chi1'] * df['Chi2n']\n",
    "    df['Functional_Specificity'] = df['Chi1n'] * df['Chi3v']\n",
    "    df['Size_Related_Descriptors'] = df['ExactMolWt'] * df['FpDensityMorgan1']\n",
    "    df['Topological_Patterns'] = df['FpDensityMorgan2'] * df['FpDensityMorgan3']\n",
    "    df['Electronic_Structure'] = df['HallKierAlpha'] * df['MaxAbsEStateIndex']\n",
    "    df['Atom_Weight_and_Charge'] = df['HeavyAtomMolWt'] * df['MinEStateIndex']\n",
    "    df['Geometrical_Shape'] = df['Kappa3'] * df['NumHeteroatoms']\n",
    "    df['Molecular_Surface_Properties'] = df['PEOE_VSA10'] * df['PEOE_VSA14']\n",
    "    \n",
    "    df['Chemical_Diversity'] = divide_with_check(df['EState_VSA1'], df['NumHeteroatoms'])\n",
    "    df['Functional_Group_Diversity'] = df['PEOE_VSA6'] * df['PEOE_VSA7']\n",
    "    df['Molecular_Size'] = df['ExactMolWt'] + df['HeavyAtomMolWt']\n",
    "    df['Electronegativity_Difference'] = df['MaxAbsEStateIndex'] - df['MinEStateIndex']\n",
    "    df['Ring_Density'] = divide_with_check(df['NumHeteroatoms'], df['SlogP_VSA3'])\n",
    "    df['Steric_Effects'] = divide_with_check(df['SMR_VSA5'], df['SMR_VSA10'])\n",
    "    df['Hydrophilic_Surface'] = df['VSA_EState9'] * df['EState_VSA2']\n",
    "    df['Molecular_Polarity'] = divide_with_check(df['PEOE_VSA8'], df['EState_VSA1'])\n",
    "    \n",
    "    df['Ring_System_Diversity'] = divide_with_check(df['fr_COO'], df['fr_COO2'])\n",
    "    df['Molecular_Flexibility'] = df['Chi2n'] * df['Chi3v']\n",
    "    df['Electrostatic_Potential'] = df['EState_VSA1'] - df['EState_VSA2']\n",
    "    df['Hydrophobicity_Index'] = divide_with_check(df['SMR_VSA10'] , df['SMR_VSA5'])\n",
    "    df['Molecular_Conformation'] = df['Chi1'] + df['Chi4n'] - df['Chi2n']\n",
    "    df['Functional_Group_Connectivity'] = df['PEOE_VSA14'] * df['PEOE_VSA10']\n",
    "    df['Steric_Bulkiness'] = df['PEOE_VSA7'] - df['PEOE_VSA6']\n",
    "    df['Aromaticity'] = df['FpDensityMorgan1'] + df['FpDensityMorgan2'] + df['FpDensityMorgan3']\n",
    "    df['Hydrogen_Bonding_Potential'] = df['EState_VSA1'] * df['NumHeteroatoms']\n",
    "    df['Molecular_Polarizability'] = divide_with_check(df['HallKierAlpha'] , df['Chi2v'])\n",
    "\n",
    "fe(train_df)\n",
    "fe(test_df)"
   ]
  },
  {
   "cell_type": "code",
   "execution_count": 15,
   "id": "94b82631",
   "metadata": {
    "execution": {
     "iopub.execute_input": "2023-07-08T16:44:37.035452Z",
     "iopub.status.busy": "2023-07-08T16:44:37.034991Z",
     "iopub.status.idle": "2023-07-08T16:44:37.042804Z",
     "shell.execute_reply": "2023-07-08T16:44:37.041724Z"
    },
    "papermill": {
     "duration": 0.024425,
     "end_time": "2023-07-08T16:44:37.044908",
     "exception": false,
     "start_time": "2023-07-08T16:44:37.020483",
     "status": "completed"
    },
    "tags": []
   },
   "outputs": [
    {
     "data": {
      "text/plain": [
       "Index(['BertzCT', 'Chi1', 'Chi1n', 'Chi1v', 'Chi2n', 'Chi2v', 'Chi3v', 'Chi4n',\n",
       "       'EState_VSA1', 'EState_VSA2', 'ExactMolWt', 'FpDensityMorgan1',\n",
       "       'FpDensityMorgan2', 'FpDensityMorgan3', 'HallKierAlpha',\n",
       "       'HeavyAtomMolWt', 'Kappa3', 'MaxAbsEStateIndex', 'MinEStateIndex',\n",
       "       'NumHeteroatoms', 'PEOE_VSA10', 'PEOE_VSA14', 'PEOE_VSA6', 'PEOE_VSA7',\n",
       "       'PEOE_VSA8', 'SMR_VSA10', 'SMR_VSA5', 'SlogP_VSA3', 'VSA_EState9',\n",
       "       'fr_COO', 'fr_COO2', 'EC1', 'EC2', 'Enzyme_Complexity',\n",
       "       'Molecular_Weight_Ratio', 'EState_VSA_Ratio', 'Heteroatom_Proportion',\n",
       "       'frCOO_Average', 'Molecular_Complexity', 'Structural_Flexibility',\n",
       "       'Functional_Specificity', 'Size_Related_Descriptors',\n",
       "       'Topological_Patterns', 'Electronic_Structure',\n",
       "       'Atom_Weight_and_Charge', 'Geometrical_Shape',\n",
       "       'Molecular_Surface_Properties', 'Chemical_Diversity',\n",
       "       'Functional_Group_Diversity', 'Molecular_Size',\n",
       "       'Electronegativity_Difference', 'Ring_Density', 'Steric_Effects',\n",
       "       'Hydrophilic_Surface', 'Molecular_Polarity', 'Ring_System_Diversity',\n",
       "       'Molecular_Flexibility', 'Electrostatic_Potential',\n",
       "       'Hydrophobicity_Index', 'Molecular_Conformation',\n",
       "       'Functional_Group_Connectivity', 'Steric_Bulkiness', 'Aromaticity',\n",
       "       'Hydrogen_Bonding_Potential', 'Molecular_Polarizability'],\n",
       "      dtype='object')"
      ]
     },
     "execution_count": 15,
     "metadata": {},
     "output_type": "execute_result"
    }
   ],
   "source": [
    "train_df.columns"
   ]
  },
  {
   "cell_type": "code",
   "execution_count": 16,
   "id": "3de563fe",
   "metadata": {
    "execution": {
     "iopub.execute_input": "2023-07-08T16:44:37.073632Z",
     "iopub.status.busy": "2023-07-08T16:44:37.073183Z",
     "iopub.status.idle": "2023-07-08T16:44:37.290009Z",
     "shell.execute_reply": "2023-07-08T16:44:37.288428Z"
    },
    "papermill": {
     "duration": 0.235915,
     "end_time": "2023-07-08T16:44:37.294320",
     "exception": false,
     "start_time": "2023-07-08T16:44:37.058405",
     "status": "completed"
    },
    "tags": []
   },
   "outputs": [],
   "source": [
    "pca = PCA(n_components=3)\n",
    "train_pca_features = pca.fit_transform(train_df[num_cols+cat_cols])\n",
    "test_pca_features = pca.transform(test_df[num_cols+cat_cols])\n",
    "\n",
    "# Create new column names for the PCA features\n",
    "pca_columns = ['PCA_{}'.format(i+1) for i in range(3)]\n",
    "\n",
    "# Create a new DataFrame with the original features and PCA features\n",
    "train_df = pd.concat([train_df.reset_index(drop=True), pd.DataFrame(train_pca_features, columns=pca_columns)], axis=1)\n",
    "test_df = pd.concat([test_df.reset_index(drop=True), pd.DataFrame(test_pca_features, columns=pca_columns)], axis=1)"
   ]
  },
  {
   "cell_type": "code",
   "execution_count": 17,
   "id": "393a77ca",
   "metadata": {
    "execution": {
     "iopub.execute_input": "2023-07-08T16:44:37.367700Z",
     "iopub.status.busy": "2023-07-08T16:44:37.366828Z",
     "iopub.status.idle": "2023-07-08T16:44:37.983806Z",
     "shell.execute_reply": "2023-07-08T16:44:37.982781Z"
    },
    "papermill": {
     "duration": 0.650227,
     "end_time": "2023-07-08T16:44:37.986614",
     "exception": false,
     "start_time": "2023-07-08T16:44:37.336387",
     "status": "completed"
    },
    "tags": []
   },
   "outputs": [],
   "source": [
    "def add_poly_feat(df):\n",
    "    \n",
    "    for feat in num_cols:\n",
    "        df[f'{feat}Squared'] = df[feat] ** 2\n",
    "        df[feat] = df[feat].apply(lambda x: math.log(x) if x > 0 else 0)\n",
    "add_poly_feat(train_df)\n",
    "add_poly_feat(test_df)"
   ]
  },
  {
   "cell_type": "code",
   "execution_count": 18,
   "id": "ac7f47b2",
   "metadata": {
    "execution": {
     "iopub.execute_input": "2023-07-08T16:44:38.015366Z",
     "iopub.status.busy": "2023-07-08T16:44:38.014967Z",
     "iopub.status.idle": "2023-07-08T16:44:38.021565Z",
     "shell.execute_reply": "2023-07-08T16:44:38.020566Z"
    },
    "papermill": {
     "duration": 0.024314,
     "end_time": "2023-07-08T16:44:38.024269",
     "exception": false,
     "start_time": "2023-07-08T16:44:37.999955",
     "status": "completed"
    },
    "tags": []
   },
   "outputs": [],
   "source": [
    "def generate_features(df):\n",
    "\n",
    "    for c in cat_cols + num_cols:\n",
    "        \n",
    "        df[f'count_{c}'] = df.groupby(c)[c].transform('count')\n",
    "        \n",
    "    for c in cat_cols:\n",
    "        for n in num_cols:\n",
    "            df[f'mean_{n}_per_{c}'] = df.groupby(c)[n].transform('mean')\n",
    "            df[f'sum_{n}_per_{c}'] = df.groupby(c)[n].transform('sum')\n",
    "            \n",
    "    return df"
   ]
  },
  {
   "cell_type": "code",
   "execution_count": 19,
   "id": "7d5f6c62",
   "metadata": {
    "execution": {
     "iopub.execute_input": "2023-07-08T16:44:38.051933Z",
     "iopub.status.busy": "2023-07-08T16:44:38.051563Z",
     "iopub.status.idle": "2023-07-08T16:44:38.056828Z",
     "shell.execute_reply": "2023-07-08T16:44:38.055816Z"
    },
    "papermill": {
     "duration": 0.022168,
     "end_time": "2023-07-08T16:44:38.059509",
     "exception": false,
     "start_time": "2023-07-08T16:44:38.037341",
     "status": "completed"
    },
    "tags": []
   },
   "outputs": [
    {
     "name": "stdout",
     "output_type": "stream",
     "text": [
      "(15802, 96)\n",
      "(9893, 94)\n"
     ]
    }
   ],
   "source": [
    "print(train_df.shape)\n",
    "print(test_df.shape)"
   ]
  },
  {
   "cell_type": "code",
   "execution_count": 20,
   "id": "822ae723",
   "metadata": {
    "execution": {
     "iopub.execute_input": "2023-07-08T16:44:38.088201Z",
     "iopub.status.busy": "2023-07-08T16:44:38.087156Z",
     "iopub.status.idle": "2023-07-08T16:44:38.095134Z",
     "shell.execute_reply": "2023-07-08T16:44:38.094136Z"
    },
    "papermill": {
     "duration": 0.024602,
     "end_time": "2023-07-08T16:44:38.097262",
     "exception": false,
     "start_time": "2023-07-08T16:44:38.072660",
     "status": "completed"
    },
    "tags": []
   },
   "outputs": [
    {
     "data": {
      "text/plain": [
       "Index(['BertzCT', 'Chi1', 'Chi1n', 'Chi1v', 'Chi2n', 'Chi2v', 'Chi3v', 'Chi4n',\n",
       "       'EState_VSA1', 'EState_VSA2', 'ExactMolWt', 'FpDensityMorgan1',\n",
       "       'FpDensityMorgan2', 'FpDensityMorgan3', 'HallKierAlpha',\n",
       "       'HeavyAtomMolWt', 'Kappa3', 'MaxAbsEStateIndex', 'MinEStateIndex',\n",
       "       'NumHeteroatoms', 'PEOE_VSA10', 'PEOE_VSA14', 'PEOE_VSA6', 'PEOE_VSA7',\n",
       "       'PEOE_VSA8', 'SMR_VSA10', 'SMR_VSA5', 'SlogP_VSA3', 'VSA_EState9',\n",
       "       'fr_COO', 'fr_COO2', 'EC1', 'EC2', 'Enzyme_Complexity',\n",
       "       'Molecular_Weight_Ratio', 'EState_VSA_Ratio', 'Heteroatom_Proportion',\n",
       "       'frCOO_Average', 'Molecular_Complexity', 'Structural_Flexibility',\n",
       "       'Functional_Specificity', 'Size_Related_Descriptors',\n",
       "       'Topological_Patterns', 'Electronic_Structure',\n",
       "       'Atom_Weight_and_Charge', 'Geometrical_Shape',\n",
       "       'Molecular_Surface_Properties', 'Chemical_Diversity',\n",
       "       'Functional_Group_Diversity', 'Molecular_Size',\n",
       "       'Electronegativity_Difference', 'Ring_Density', 'Steric_Effects',\n",
       "       'Hydrophilic_Surface', 'Molecular_Polarity', 'Ring_System_Diversity',\n",
       "       'Molecular_Flexibility', 'Electrostatic_Potential',\n",
       "       'Hydrophobicity_Index', 'Molecular_Conformation',\n",
       "       'Functional_Group_Connectivity', 'Steric_Bulkiness', 'Aromaticity',\n",
       "       'Hydrogen_Bonding_Potential', 'Molecular_Polarizability', 'PCA_1',\n",
       "       'PCA_2', 'PCA_3', 'BertzCTSquared', 'Chi1Squared', 'Chi1nSquared',\n",
       "       'Chi1vSquared', 'Chi2nSquared', 'Chi2vSquared', 'Chi3vSquared',\n",
       "       'Chi4nSquared', 'EState_VSA1Squared', 'EState_VSA2Squared',\n",
       "       'ExactMolWtSquared', 'FpDensityMorgan1Squared',\n",
       "       'FpDensityMorgan2Squared', 'FpDensityMorgan3Squared',\n",
       "       'HallKierAlphaSquared', 'HeavyAtomMolWtSquared', 'Kappa3Squared',\n",
       "       'MaxAbsEStateIndexSquared', 'MinEStateIndexSquared',\n",
       "       'PEOE_VSA10Squared', 'PEOE_VSA14Squared', 'PEOE_VSA6Squared',\n",
       "       'PEOE_VSA7Squared', 'PEOE_VSA8Squared', 'SMR_VSA10Squared',\n",
       "       'SMR_VSA5Squared', 'SlogP_VSA3Squared', 'VSA_EState9Squared'],\n",
       "      dtype='object')"
      ]
     },
     "execution_count": 20,
     "metadata": {},
     "output_type": "execute_result"
    }
   ],
   "source": [
    "train_df.columns"
   ]
  },
  {
   "cell_type": "code",
   "execution_count": 21,
   "id": "8ea22284",
   "metadata": {
    "execution": {
     "iopub.execute_input": "2023-07-08T16:44:38.126190Z",
     "iopub.status.busy": "2023-07-08T16:44:38.125605Z",
     "iopub.status.idle": "2023-07-08T16:44:38.132919Z",
     "shell.execute_reply": "2023-07-08T16:44:38.132002Z"
    },
    "papermill": {
     "duration": 0.024066,
     "end_time": "2023-07-08T16:44:38.134958",
     "exception": false,
     "start_time": "2023-07-08T16:44:38.110892",
     "status": "completed"
    },
    "tags": []
   },
   "outputs": [
    {
     "data": {
      "text/plain": [
       "Index(['BertzCT', 'Chi1', 'Chi1n', 'Chi1v', 'Chi2n', 'Chi2v', 'Chi3v', 'Chi4n',\n",
       "       'EState_VSA1', 'EState_VSA2', 'ExactMolWt', 'FpDensityMorgan1',\n",
       "       'FpDensityMorgan2', 'FpDensityMorgan3', 'HallKierAlpha',\n",
       "       'HeavyAtomMolWt', 'Kappa3', 'MaxAbsEStateIndex', 'MinEStateIndex',\n",
       "       'NumHeteroatoms', 'PEOE_VSA10', 'PEOE_VSA14', 'PEOE_VSA6', 'PEOE_VSA7',\n",
       "       'PEOE_VSA8', 'SMR_VSA10', 'SMR_VSA5', 'SlogP_VSA3', 'VSA_EState9',\n",
       "       'fr_COO', 'fr_COO2', 'Enzyme_Complexity', 'Molecular_Weight_Ratio',\n",
       "       'EState_VSA_Ratio', 'Heteroatom_Proportion', 'frCOO_Average',\n",
       "       'Molecular_Complexity', 'Structural_Flexibility',\n",
       "       'Functional_Specificity', 'Size_Related_Descriptors',\n",
       "       'Topological_Patterns', 'Electronic_Structure',\n",
       "       'Atom_Weight_and_Charge', 'Geometrical_Shape',\n",
       "       'Molecular_Surface_Properties', 'Chemical_Diversity',\n",
       "       'Functional_Group_Diversity', 'Molecular_Size',\n",
       "       'Electronegativity_Difference', 'Ring_Density', 'Steric_Effects',\n",
       "       'Hydrophilic_Surface', 'Molecular_Polarity', 'Ring_System_Diversity',\n",
       "       'Molecular_Flexibility', 'Electrostatic_Potential',\n",
       "       'Hydrophobicity_Index', 'Molecular_Conformation',\n",
       "       'Functional_Group_Connectivity', 'Steric_Bulkiness', 'Aromaticity',\n",
       "       'Hydrogen_Bonding_Potential', 'Molecular_Polarizability', 'PCA_1',\n",
       "       'PCA_2', 'PCA_3', 'BertzCTSquared', 'Chi1Squared', 'Chi1nSquared',\n",
       "       'Chi1vSquared', 'Chi2nSquared', 'Chi2vSquared', 'Chi3vSquared',\n",
       "       'Chi4nSquared', 'EState_VSA1Squared', 'EState_VSA2Squared',\n",
       "       'ExactMolWtSquared', 'FpDensityMorgan1Squared',\n",
       "       'FpDensityMorgan2Squared', 'FpDensityMorgan3Squared',\n",
       "       'HallKierAlphaSquared', 'HeavyAtomMolWtSquared', 'Kappa3Squared',\n",
       "       'MaxAbsEStateIndexSquared', 'MinEStateIndexSquared',\n",
       "       'PEOE_VSA10Squared', 'PEOE_VSA14Squared', 'PEOE_VSA6Squared',\n",
       "       'PEOE_VSA7Squared', 'PEOE_VSA8Squared', 'SMR_VSA10Squared',\n",
       "       'SMR_VSA5Squared', 'SlogP_VSA3Squared', 'VSA_EState9Squared'],\n",
       "      dtype='object')"
      ]
     },
     "execution_count": 21,
     "metadata": {},
     "output_type": "execute_result"
    }
   ],
   "source": [
    "test_df.columns"
   ]
  },
  {
   "cell_type": "markdown",
   "id": "005173d9",
   "metadata": {
    "papermill": {
     "duration": 0.013332,
     "end_time": "2023-07-08T16:44:38.161716",
     "exception": false,
     "start_time": "2023-07-08T16:44:38.148384",
     "status": "completed"
    },
    "tags": []
   },
   "source": [
    "# Data Preprocessing"
   ]
  },
  {
   "cell_type": "code",
   "execution_count": 22,
   "id": "e209cd15",
   "metadata": {
    "execution": {
     "iopub.execute_input": "2023-07-08T16:44:38.191353Z",
     "iopub.status.busy": "2023-07-08T16:44:38.190897Z",
     "iopub.status.idle": "2023-07-08T16:44:38.207553Z",
     "shell.execute_reply": "2023-07-08T16:44:38.206360Z"
    },
    "papermill": {
     "duration": 0.034613,
     "end_time": "2023-07-08T16:44:38.209970",
     "exception": false,
     "start_time": "2023-07-08T16:44:38.175357",
     "status": "completed"
    },
    "tags": []
   },
   "outputs": [],
   "source": [
    "X_train = train_df.drop(['EC1','EC2'],axis=1)\n",
    "y_train_ec1 = train_df['EC1']\n",
    "y_train_ec2 = train_df['EC2']\n",
    "X_test = test_df"
   ]
  },
  {
   "cell_type": "code",
   "execution_count": 23,
   "id": "db2a619d",
   "metadata": {
    "execution": {
     "iopub.execute_input": "2023-07-08T16:44:38.239602Z",
     "iopub.status.busy": "2023-07-08T16:44:38.239144Z",
     "iopub.status.idle": "2023-07-08T16:44:38.256153Z",
     "shell.execute_reply": "2023-07-08T16:44:38.254830Z"
    },
    "papermill": {
     "duration": 0.034496,
     "end_time": "2023-07-08T16:44:38.258382",
     "exception": false,
     "start_time": "2023-07-08T16:44:38.223886",
     "status": "completed"
    },
    "tags": []
   },
   "outputs": [
    {
     "data": {
      "text/plain": [
       "0"
      ]
     },
     "execution_count": 23,
     "metadata": {},
     "output_type": "execute_result"
    }
   ],
   "source": [
    "X_train.isna().sum().max()"
   ]
  },
  {
   "cell_type": "code",
   "execution_count": 24,
   "id": "8e59d0de",
   "metadata": {
    "execution": {
     "iopub.execute_input": "2023-07-08T16:44:38.287368Z",
     "iopub.status.busy": "2023-07-08T16:44:38.286967Z",
     "iopub.status.idle": "2023-07-08T16:44:38.302219Z",
     "shell.execute_reply": "2023-07-08T16:44:38.301160Z"
    },
    "papermill": {
     "duration": 0.032445,
     "end_time": "2023-07-08T16:44:38.304513",
     "exception": false,
     "start_time": "2023-07-08T16:44:38.272068",
     "status": "completed"
    },
    "tags": []
   },
   "outputs": [
    {
     "data": {
      "text/plain": [
       "0"
      ]
     },
     "execution_count": 24,
     "metadata": {},
     "output_type": "execute_result"
    }
   ],
   "source": [
    "X_test.isna().sum().max()"
   ]
  },
  {
   "cell_type": "markdown",
   "id": "6a4639e3",
   "metadata": {
    "papermill": {
     "duration": 0.013615,
     "end_time": "2023-07-08T16:44:38.332060",
     "exception": false,
     "start_time": "2023-07-08T16:44:38.318445",
     "status": "completed"
    },
    "tags": []
   },
   "source": [
    "# Baseline"
   ]
  },
  {
   "cell_type": "code",
   "execution_count": 25,
   "id": "964174f7",
   "metadata": {
    "execution": {
     "iopub.execute_input": "2023-07-08T16:44:38.361796Z",
     "iopub.status.busy": "2023-07-08T16:44:38.361441Z",
     "iopub.status.idle": "2023-07-08T16:44:38.387098Z",
     "shell.execute_reply": "2023-07-08T16:44:38.386039Z"
    },
    "papermill": {
     "duration": 0.043125,
     "end_time": "2023-07-08T16:44:38.389309",
     "exception": false,
     "start_time": "2023-07-08T16:44:38.346184",
     "status": "completed"
    },
    "tags": []
   },
   "outputs": [],
   "source": [
    "class Ensemble():\n",
    "    def __init__(self):\n",
    "        \n",
    "        self.brf_params_ec1= {'n_estimators': 891, \n",
    "                              'max_depth': 15, \n",
    "                              'min_samples_split': 3, \n",
    "                              'min_samples_leaf': 8, \n",
    "                              'max_features': 'auto'}\n",
    "\n",
    "        self.brf_params_ec2= {'n_estimators': 841,\n",
    "                              'max_depth': 8,\n",
    "                              'min_samples_split': 4,\n",
    "                              'min_samples_leaf': 2,\n",
    "                              'max_features': 'auto'}\n",
    "            \n",
    "        self.gb_params_ec1={'n_estimators': 505, \n",
    "                            'learning_rate': 0.010175876138186907,\n",
    "                            'max_depth': 4, \n",
    "                            'min_samples_split': 3,\n",
    "                            'min_samples_leaf': 3,\n",
    "                            'max_features': 'sqrt'}\n",
    "\n",
    "        self.gb_params_ec2 = {'subsample': 0.5,\n",
    "                             'n_estimators': 600,\n",
    "                             'max_leaf_nodes': 50,\n",
    "                             'max_features': 'log2',\n",
    "                             'learning_rate': 0.01}\n",
    "        \n",
    "        self.ada_params_ec1= {'n_estimators': 400, \n",
    "                             'learning_rate': 0.1}\n",
    "\n",
    "        self.ada_params_ec2 = {'n_estimators': 400,\n",
    "                              'learning_rate': 0.1}\n",
    "            \n",
    "        self.etc_params_ec1 =  {'n_estimators': 504,\n",
    "                                'max_depth': 7,\n",
    "                                'min_samples_split': 5,\n",
    "                                'min_samples_leaf': 9, \n",
    "                                'max_features': 'auto'}\n",
    "\n",
    "        self.etc_params_ec2 = {'n_estimators': 542, \n",
    "                               'max_depth': 3,\n",
    "                               'min_samples_split': 10,\n",
    "                               'min_samples_leaf': 2,\n",
    "                               'max_features': 'sqrt'}    \n",
    "        \n",
    "        self.xgb_params_ec1 = {'n_estimators': 243, \n",
    "                               'max_depth': 5,\n",
    "                               'min_samples_split': 9,\n",
    "                               'min_samples_leaf': 7,\n",
    "                               'subsample': 0.6134380629818089,\n",
    "                               'max_features': 'log2',\n",
    "                               'learning_rate': 0.012865193665403818,\n",
    "                               'gamma': 0.09709595444007102, \n",
    "                               'colsample_bytree': 0.6385771736797623,\n",
    "                               'reg_alpha': 0.754461833024866,\n",
    "                               'reg_lambda': 0.9215567020261451\n",
    "                                 }\n",
    "\n",
    "        self.xgb_params_ec2 = {'n_estimators': 596, \n",
    "                               'max_depth': 3, \n",
    "                               'min_samples_split': 6,\n",
    "                               'min_samples_leaf': 5, \n",
    "                               'subsample': 0.5770767952635681,\n",
    "                               'max_features': None,\n",
    "                               'learning_rate': 0.010211972762251683, \n",
    "                               'gamma': 0.6089697084387038, \n",
    "                               'colsample_bytree': 0.536169354835996, \n",
    "                               'reg_alpha': 0.8054294448608303, \n",
    "                               'reg_lambda': 0.835494772934265}\n",
    "\n",
    "        self.lgbm_params_ec1 = { 'boosting_type': 'goss',\n",
    "                                'num_leaves': 29, \n",
    "                                'learning_rate': 0.02901454142546342, \n",
    "                                'subsample': 0.9518618304221032, \n",
    "                                'colsample_bytree': 0.5874366889191849, \n",
    "                                'reg_alpha': 0.9402007367524896, \n",
    "                                'reg_lambda': 0.4597320144003674,\n",
    "                                'min_child_samples': 8,\n",
    "                                'cat_smooth': 1.7988340131970062,\n",
    "                                'max_depth': 3\n",
    "                 }\n",
    "\n",
    "        self.lgbm_params_ec2 ={'boosting_type': 'gbdt', \n",
    "                               'num_leaves': 59, \n",
    "                               'learning_rate': 0.019864360680261133, \n",
    "                               'subsample': 0.7367262805335248,\n",
    "                               'colsample_bytree': 0.7910442599840853, \n",
    "                               'reg_alpha': 0.3219393587141358, \n",
    "                               'reg_lambda': 0.732886517682904,\n",
    "                               'min_child_samples': 7,\n",
    "                               'cat_smooth': 0.9310654882173364,\n",
    "                               'max_depth': 4\n",
    "        }\n",
    "\n",
    "        self.model_ec1 =[\n",
    "                    ('xgb',xgb.XGBClassifier(**self.xgb_params_ec1, random_state=42, eval_metric=\"auc\")),\n",
    "                    ('brf', BalancedRandomForestClassifier(**self.brf_params_ec1,random_state=42)),\n",
    "                    ('gb',GradientBoostingClassifier(**self.gb_params_ec1,random_state=42)),\n",
    "                    #('lgbm',lgb.LGBMClassifier(**self.lgbm_params_ec1,random_state=42,metric='auc')),\n",
    "                    #('etc',ExtraTreesClassifier(**self.etc_params_ec1,random_state=42)),\n",
    "                        ]\n",
    "        \n",
    "        self.model_ec2=[\n",
    "                    ('xgb',xgb.XGBClassifier(**self.xgb_params_ec2, random_state=42, eval_metric=\"auc\")),\n",
    "                    ('brf', BalancedRandomForestClassifier(**self.brf_params_ec2,random_state=42)),\n",
    "                    ('gb',GradientBoostingClassifier(**self.gb_params_ec2,random_state=42)),\n",
    "                    #('etc',ExtraTreesClassifier(**self.etc_params_ec2,random_state=42)),\n",
    "                    ('lgbm',lgb.LGBMClassifier(**self.lgbm_params_ec2,random_state=42,metric='auc')),\n",
    "                        ]\n",
    "        \n",
    "        self.model_table = pd.DataFrame(columns = ['Model Name', 'ROC AUC'])\n",
    "        \n",
    "        self.scaler = StandardScaler()\n",
    "        \n",
    "    def fit(self,X,y,target):\n",
    "        feat = [c for c in X.columns if c not in target]\n",
    "        self.cat_cols = cat_cols\n",
    "        self.num_cols = [c for c in feat if c not in cat_cols]\n",
    "        \n",
    "        #X[self.num_cols] = self.scaler.fit_transform(X[self.num_cols])\n",
    "        if(target == 'EC1'):\n",
    "            for name,classifier in self.model_ec1:\n",
    "                classifier.fit(X, y)\n",
    "        else:\n",
    "            for name,classifier in self.model_ec2:\n",
    "                classifier.fit(X, y)\n",
    "\n",
    "    def predict_proba(self,train,val,target):\n",
    "        #train[self.num_cols] = self.scaler.transform(train[self.num_cols])\n",
    "        #val[self.num_cols] = self.scaler.transform(val[self.num_cols])\n",
    "        \n",
    "        train_preds={}\n",
    "        test_preds={}\n",
    "        \n",
    "        if(target == 'EC1'):\n",
    "            for name,classifier in self.model_ec1:\n",
    "                train_preds[name]=classifier.predict_proba(train)[:,1]\n",
    "                test_preds[name]=classifier.predict_proba(val)[:,1]\n",
    "        else:  \n",
    "            for name,classifier in self.model_ec2:\n",
    "                train_preds[name]=classifier.predict_proba(train)[:,1]\n",
    "                test_preds[name]=classifier.predict_proba(val)[:,1]\n",
    "            \n",
    "        return train_preds,test_preds"
   ]
  },
  {
   "cell_type": "code",
   "execution_count": 26,
   "id": "3968ee89",
   "metadata": {
    "execution": {
     "iopub.execute_input": "2023-07-08T16:44:38.419546Z",
     "iopub.status.busy": "2023-07-08T16:44:38.419147Z",
     "iopub.status.idle": "2023-07-08T16:44:38.426622Z",
     "shell.execute_reply": "2023-07-08T16:44:38.425453Z"
    },
    "papermill": {
     "duration": 0.025465,
     "end_time": "2023-07-08T16:44:38.428944",
     "exception": false,
     "start_time": "2023-07-08T16:44:38.403479",
     "status": "completed"
    },
    "scrolled": true,
    "tags": []
   },
   "outputs": [],
   "source": [
    "def rfecv(X,y):\n",
    "\n",
    "    print(\"Starting RFECV\")\n",
    "    # Create the classifier or model\n",
    "    model = BalancedRandomForestClassifier(random_state=42)\n",
    "    \n",
    "    # Create the RFECV object with the desired model and scoring metric\n",
    "    rfecv = RFECV(estimator=model, step=1, cv=StratifiedKFold(4), scoring='roc_auc', \n",
    "                  min_features_to_select=50, verbose=3)\n",
    "\n",
    "    # Fit the RFECV object to your data\n",
    "    rfecv.fit(X, y)\n",
    "\n",
    "    # Print the selected features\n",
    "    selected_features = X.columns[rfecv.support_]\n",
    "    print(\"Selected Features:\")\n",
    "    print(selected_features)\n",
    "\n",
    "    unnecessary_features = [item for item in X.columns if item not in selected_features]\n",
    "    print(unnecessary_features)\n",
    "    return selected_features,unnecessary_features"
   ]
  },
  {
   "cell_type": "code",
   "execution_count": 27,
   "id": "9c290ede",
   "metadata": {
    "execution": {
     "iopub.execute_input": "2023-07-08T16:44:38.459041Z",
     "iopub.status.busy": "2023-07-08T16:44:38.458662Z",
     "iopub.status.idle": "2023-07-08T16:44:38.478770Z",
     "shell.execute_reply": "2023-07-08T16:44:38.477784Z"
    },
    "papermill": {
     "duration": 0.037853,
     "end_time": "2023-07-08T16:44:38.480809",
     "exception": false,
     "start_time": "2023-07-08T16:44:38.442956",
     "status": "completed"
    },
    "tags": []
   },
   "outputs": [],
   "source": [
    "def model_training(X,y,test,target):\n",
    "    n_folds=10\n",
    "    ensemble = Ensemble()\n",
    "    model_list =[]\n",
    "    # Get keys from ensemble\n",
    "    if(target == 'EC1'):\n",
    "        model_list = ensemble.model_ec1\n",
    "    else:\n",
    "        model_list = ensemble.model_ec2\n",
    "    \n",
    "    models = [name for name, models in model_list]\n",
    "    \n",
    "    # Set rows = models and columns = folds\n",
    "    scores = {key: 0 for key in models}\n",
    "    train_scores = {key: 0 for key in models}\n",
    "    oof_preds = {key: np.zeros(len(X)) for key in models} \n",
    "    \n",
    "    skf = StratifiedKFold(n_splits=n_folds, shuffle=True, random_state=42)\n",
    "    \n",
    "    for fold,(train_idx, valid_idx) in enumerate(skf.split(X,y)):\n",
    "        print(f\"FOLD {fold}\")\n",
    "        \n",
    "        X_train, X_val = X.iloc[train_idx], X.iloc[valid_idx]\n",
    "        y_train, y_val = y.iloc[train_idx], y.iloc[valid_idx]\n",
    "\n",
    "        X_train = generate_features(X_train)\n",
    "        X_val = generate_features(X_val)\n",
    "        \n",
    "        ensemble.fit(X_train, y_train,target)\n",
    "        \n",
    "        train_preds,val_preds = ensemble.predict_proba(X_train,X_val,target)\n",
    "        keys = train_preds.keys()\n",
    "        \n",
    "        for model in keys:\n",
    "            train_pred = train_preds[model]\n",
    "            train_auc = roc_auc_score(y_train, train_pred)\n",
    "            print(f\"ROC SCORE FOR TRAIN : {model} is {train_auc}\")\n",
    "\n",
    "            val_pred = val_preds[model]\n",
    "            val_auc = roc_auc_score(y_val, val_pred)\n",
    "            print(f\"ROC SCORE FOR VAL : {model} is {val_auc}\")\n",
    "            \n",
    "            train_scores[model]+=train_auc/n_folds\n",
    "            scores[model]+=val_auc/n_folds\n",
    "            oof_preds[model][valid_idx] += val_pred\n",
    "        \n",
    "    for model in models:\n",
    "        oof_preds[model] /= n_folds\n",
    "        \n",
    "    #Voting Ensemble\n",
    "    \n",
    "    # Convert oof_preds to numpy arrays\n",
    "    oof_preds_arr = np.array(list(oof_preds.values())).T\n",
    "    \n",
    "    #Calculate weights for voting classifier\n",
    "    weights = LogisticRegression(random_state = 42).fit(oof_preds_arr, y).coef_[0]\n",
    "    weights_df = pd.DataFrame(weights, index=models, columns=['weight per model'])\n",
    "    voting_clf = VotingClassifier(model_list, weights=weights, voting='soft')\n",
    "    pipe = Pipeline([\n",
    "            #('scaler',StandardScaler()),\n",
    "            ('classifier',voting_clf) \n",
    "        ])\n",
    "    \n",
    "    print('='*30)\n",
    "    #Scoring\n",
    "    scores['Voting'] = 0 \n",
    "    train_scores['Voting'] = 0 \n",
    "    for fold,(train_idx, valid_idx) in enumerate(skf.split(X,y)):\n",
    "        X_train, X_val = X.iloc[train_idx], X.iloc[valid_idx]\n",
    "        y_train, y_val = y.iloc[train_idx], y.iloc[valid_idx]\n",
    "        \n",
    "        X_train = generate_features(X_train)\n",
    "        X_val = generate_features(X_val)\n",
    "        \n",
    "        pipe.fit(X_train,y_train)\n",
    "        train_preds = pipe.predict_proba(X_train)[:,1]\n",
    "        val_preds = pipe.predict_proba(X_val)[:,1]\n",
    "\n",
    "        train_auc = roc_auc_score(y_train, train_preds)\n",
    "        val_auc = roc_auc_score(y_val, val_preds)\n",
    "        \n",
    "        print(f\"ROC SCORE FOR TRAIN : Voting is {train_auc}\")\n",
    "        print(f\"ROC SCORE FOR VAL : Voting is {val_auc}\")\n",
    "        \n",
    "        train_scores['Voting']+=train_auc/n_folds\n",
    "        scores['Voting']+=val_auc/n_folds\n",
    "        \n",
    "    print('='*30)\n",
    "    #Final Test Prediction\n",
    "    X = generate_features(X)\n",
    "    test = generate_features(test)\n",
    "    \n",
    "    test_preds = pipe.fit(X,y).predict_proba(test)[:,1]\n",
    "    \n",
    "    return train_scores,scores, test_preds"
   ]
  },
  {
   "cell_type": "code",
   "execution_count": 28,
   "id": "90826f7e",
   "metadata": {
    "execution": {
     "iopub.execute_input": "2023-07-08T16:44:38.511223Z",
     "iopub.status.busy": "2023-07-08T16:44:38.510553Z",
     "iopub.status.idle": "2023-07-08T17:20:28.125140Z",
     "shell.execute_reply": "2023-07-08T17:20:28.124102Z"
    },
    "papermill": {
     "duration": 2149.633124,
     "end_time": "2023-07-08T17:20:28.127994",
     "exception": false,
     "start_time": "2023-07-08T16:44:38.494870",
     "status": "completed"
    },
    "scrolled": true,
    "tags": []
   },
   "outputs": [
    {
     "name": "stdout",
     "output_type": "stream",
     "text": [
      "FOLD 0\n",
      "[16:44:39] WARNING: ../src/learner.cc:767: \n",
      "Parameters: { \"max_features\", \"min_samples_leaf\", \"min_samples_split\" } are not used.\n",
      "\n",
      "ROC SCORE FOR TRAIN : xgb is 0.7870389092300125\n",
      "ROC SCORE FOR VAL : xgb is 0.7261890215414692\n",
      "ROC SCORE FOR TRAIN : brf is 0.8947179018623348\n",
      "ROC SCORE FOR VAL : brf is 0.7211899918779245\n",
      "ROC SCORE FOR TRAIN : gb is 0.7643541097141121\n",
      "ROC SCORE FOR VAL : gb is 0.7185646926908507\n",
      "FOLD 1\n",
      "[16:46:27] WARNING: ../src/learner.cc:767: \n",
      "Parameters: { \"max_features\", \"min_samples_leaf\", \"min_samples_split\" } are not used.\n",
      "\n",
      "ROC SCORE FOR TRAIN : xgb is 0.7878292363037298\n",
      "ROC SCORE FOR VAL : xgb is 0.7157300523981686\n",
      "ROC SCORE FOR TRAIN : brf is 0.8956862230243157\n",
      "ROC SCORE FOR VAL : brf is 0.7188288398369834\n",
      "ROC SCORE FOR TRAIN : gb is 0.7650383956295981\n",
      "ROC SCORE FOR VAL : gb is 0.7183266008754591\n",
      "FOLD 2\n",
      "[16:48:09] WARNING: ../src/learner.cc:767: \n",
      "Parameters: { \"max_features\", \"min_samples_leaf\", \"min_samples_split\" } are not used.\n",
      "\n",
      "ROC SCORE FOR TRAIN : xgb is 0.7872181691040345\n",
      "ROC SCORE FOR VAL : xgb is 0.7081172946191957\n",
      "ROC SCORE FOR TRAIN : brf is 0.893426841374032\n",
      "ROC SCORE FOR VAL : brf is 0.7152861792833276\n",
      "ROC SCORE FOR TRAIN : gb is 0.765238327014067\n",
      "ROC SCORE FOR VAL : gb is 0.7178660415946538\n",
      "FOLD 3\n",
      "[16:49:51] WARNING: ../src/learner.cc:767: \n",
      "Parameters: { \"max_features\", \"min_samples_leaf\", \"min_samples_split\" } are not used.\n",
      "\n",
      "ROC SCORE FOR TRAIN : xgb is 0.7920489625709093\n",
      "ROC SCORE FOR VAL : xgb is 0.6806830784076507\n",
      "ROC SCORE FOR TRAIN : brf is 0.8955199893925609\n",
      "ROC SCORE FOR VAL : brf is 0.6897215981103814\n",
      "ROC SCORE FOR TRAIN : gb is 0.7689282655271221\n",
      "ROC SCORE FOR VAL : gb is 0.6867618677266967\n",
      "FOLD 4\n",
      "[16:51:35] WARNING: ../src/learner.cc:767: \n",
      "Parameters: { \"max_features\", \"min_samples_leaf\", \"min_samples_split\" } are not used.\n",
      "\n",
      "ROC SCORE FOR TRAIN : xgb is 0.7891772582812595\n",
      "ROC SCORE FOR VAL : xgb is 0.711495600011522\n",
      "ROC SCORE FOR TRAIN : brf is 0.8937843760372708\n",
      "ROC SCORE FOR VAL : brf is 0.7153338878326996\n",
      "ROC SCORE FOR TRAIN : gb is 0.7662083768785811\n",
      "ROC SCORE FOR VAL : gb is 0.7126478064869225\n",
      "FOLD 5\n",
      "[16:53:20] WARNING: ../src/learner.cc:767: \n",
      "Parameters: { \"max_features\", \"min_samples_leaf\", \"min_samples_split\" } are not used.\n",
      "\n",
      "ROC SCORE FOR TRAIN : xgb is 0.7894953926157253\n",
      "ROC SCORE FOR VAL : xgb is 0.6986674011982947\n",
      "ROC SCORE FOR TRAIN : brf is 0.8938152699816468\n",
      "ROC SCORE FOR VAL : brf is 0.7089688472174214\n",
      "ROC SCORE FOR TRAIN : gb is 0.7663516195056501\n",
      "ROC SCORE FOR VAL : gb is 0.707506985251757\n",
      "FOLD 6\n",
      "[16:55:03] WARNING: ../src/learner.cc:767: \n",
      "Parameters: { \"max_features\", \"min_samples_leaf\", \"min_samples_split\" } are not used.\n",
      "\n",
      "ROC SCORE FOR TRAIN : xgb is 0.7881365365756205\n",
      "ROC SCORE FOR VAL : xgb is 0.7114802972692706\n",
      "ROC SCORE FOR TRAIN : brf is 0.8940974909386462\n",
      "ROC SCORE FOR VAL : brf is 0.7156444434842724\n",
      "ROC SCORE FOR TRAIN : gb is 0.7655585712872214\n",
      "ROC SCORE FOR VAL : gb is 0.7100346382071667\n",
      "FOLD 7\n",
      "[16:56:47] WARNING: ../src/learner.cc:767: \n",
      "Parameters: { \"max_features\", \"min_samples_leaf\", \"min_samples_split\" } are not used.\n",
      "\n",
      "ROC SCORE FOR TRAIN : xgb is 0.7877984742703603\n",
      "ROC SCORE FOR VAL : xgb is 0.7078504763669132\n",
      "ROC SCORE FOR TRAIN : brf is 0.8935052648254467\n",
      "ROC SCORE FOR VAL : brf is 0.7150431940774742\n",
      "ROC SCORE FOR TRAIN : gb is 0.7663705609576623\n",
      "ROC SCORE FOR VAL : gb is 0.7101635133701094\n",
      "FOLD 8\n",
      "[16:58:28] WARNING: ../src/learner.cc:767: \n",
      "Parameters: { \"max_features\", \"min_samples_leaf\", \"min_samples_split\" } are not used.\n",
      "\n",
      "ROC SCORE FOR TRAIN : xgb is 0.7881506931895783\n",
      "ROC SCORE FOR VAL : xgb is 0.7046525138539406\n",
      "ROC SCORE FOR TRAIN : brf is 0.8920169694130843\n",
      "ROC SCORE FOR VAL : brf is 0.7068000769813249\n",
      "ROC SCORE FOR TRAIN : gb is 0.7660177756272415\n",
      "ROC SCORE FOR VAL : gb is 0.7084566143685284\n",
      "FOLD 9\n",
      "[17:00:08] WARNING: ../src/learner.cc:767: \n",
      "Parameters: { \"max_features\", \"min_samples_leaf\", \"min_samples_split\" } are not used.\n",
      "\n",
      "ROC SCORE FOR TRAIN : xgb is 0.788974754852789\n",
      "ROC SCORE FOR VAL : xgb is 0.6878425264263578\n",
      "ROC SCORE FOR TRAIN : brf is 0.8942784827536452\n",
      "ROC SCORE FOR VAL : brf is 0.6913678394327845\n",
      "ROC SCORE FOR TRAIN : gb is 0.7673776845003417\n",
      "ROC SCORE FOR VAL : gb is 0.6940657830601515\n",
      "==============================\n",
      "[17:01:50] WARNING: ../src/learner.cc:767: \n",
      "Parameters: { \"max_features\", \"min_samples_leaf\", \"min_samples_split\" } are not used.\n",
      "\n",
      "ROC SCORE FOR TRAIN : Voting is 0.8294844291549096\n",
      "ROC SCORE FOR VAL : Voting is 0.7237308358550102\n",
      "[17:03:29] WARNING: ../src/learner.cc:767: \n",
      "Parameters: { \"max_features\", \"min_samples_leaf\", \"min_samples_split\" } are not used.\n",
      "\n",
      "ROC SCORE FOR TRAIN : Voting is 0.8300638179615307\n",
      "ROC SCORE FOR VAL : Voting is 0.7192511158869235\n",
      "[17:05:07] WARNING: ../src/learner.cc:767: \n",
      "Parameters: { \"max_features\", \"min_samples_leaf\", \"min_samples_split\" } are not used.\n",
      "\n",
      "ROC SCORE FOR TRAIN : Voting is 0.8293298801410461\n",
      "ROC SCORE FOR VAL : Voting is 0.7159576996197718\n",
      "[17:06:46] WARNING: ../src/learner.cc:767: \n",
      "Parameters: { \"max_features\", \"min_samples_leaf\", \"min_samples_split\" } are not used.\n",
      "\n",
      "ROC SCORE FOR TRAIN : Voting is 0.8323748992365465\n",
      "ROC SCORE FOR VAL : Voting is 0.6866880544993663\n",
      "[17:08:26] WARNING: ../src/learner.cc:767: \n",
      "Parameters: { \"max_features\", \"min_samples_leaf\", \"min_samples_split\" } are not used.\n",
      "\n",
      "ROC SCORE FOR TRAIN : Voting is 0.8306763541725315\n",
      "ROC SCORE FOR VAL : Voting is 0.7146227603986635\n",
      "[17:10:06] WARNING: ../src/learner.cc:767: \n",
      "Parameters: { \"max_features\", \"min_samples_leaf\", \"min_samples_split\" } are not used.\n",
      "\n",
      "ROC SCORE FOR TRAIN : Voting is 0.8301215513468572\n",
      "ROC SCORE FOR VAL : Voting is 0.7066752362023274\n",
      "[17:11:49] WARNING: ../src/learner.cc:767: \n",
      "Parameters: { \"max_features\", \"min_samples_leaf\", \"min_samples_split\" } are not used.\n",
      "\n",
      "ROC SCORE FOR TRAIN : Voting is 0.8293308351659261\n",
      "ROC SCORE FOR VAL : Voting is 0.7139665428044705\n",
      "[17:13:31] WARNING: ../src/learner.cc:767: \n",
      "Parameters: { \"max_features\", \"min_samples_leaf\", \"min_samples_split\" } are not used.\n",
      "\n",
      "ROC SCORE FOR TRAIN : Voting is 0.8299421554225233\n",
      "ROC SCORE FOR VAL : Voting is 0.7131942033781853\n",
      "[17:15:13] WARNING: ../src/learner.cc:767: \n",
      "Parameters: { \"max_features\", \"min_samples_leaf\", \"min_samples_split\" } are not used.\n",
      "\n",
      "ROC SCORE FOR TRAIN : Voting is 0.8288005147722708\n",
      "ROC SCORE FOR VAL : Voting is 0.7081958131512162\n",
      "[17:16:55] WARNING: ../src/learner.cc:767: \n",
      "Parameters: { \"max_features\", \"min_samples_leaf\", \"min_samples_split\" } are not used.\n",
      "\n",
      "ROC SCORE FOR TRAIN : Voting is 0.8304648863259362\n",
      "ROC SCORE FOR VAL : Voting is 0.6933715122333757\n",
      "==============================\n",
      "[17:18:37] WARNING: ../src/learner.cc:767: \n",
      "Parameters: { \"max_features\", \"min_samples_leaf\", \"min_samples_split\" } are not used.\n",
      "\n"
     ]
    }
   ],
   "source": [
    "scores_ec1 ={}\n",
    "train_scores_ec1 ={}\n",
    "test_preds_ec1 =[]\n",
    "train_scores_ec1,scores_ec1, test_preds_ec1 = model_training(X_train,y_train_ec1,X_test,'EC1')"
   ]
  },
  {
   "cell_type": "code",
   "execution_count": 29,
   "id": "9b2fbab0",
   "metadata": {
    "execution": {
     "iopub.execute_input": "2023-07-08T17:20:28.165778Z",
     "iopub.status.busy": "2023-07-08T17:20:28.165411Z",
     "iopub.status.idle": "2023-07-08T17:20:28.315430Z",
     "shell.execute_reply": "2023-07-08T17:20:28.314082Z"
    },
    "papermill": {
     "duration": 0.171477,
     "end_time": "2023-07-08T17:20:28.317796",
     "exception": false,
     "start_time": "2023-07-08T17:20:28.146319",
     "status": "completed"
    },
    "tags": []
   },
   "outputs": [
    {
     "data": {
      "text/html": [
       "<style type=\"text/css\">\n",
       "#T_3a5f8_row0_col1 {\n",
       "  background-color: #008066;\n",
       "  color: #f1f1f1;\n",
       "}\n",
       "#T_3a5f8_row1_col1 {\n",
       "  background-color: #0e8666;\n",
       "  color: #f1f1f1;\n",
       "}\n",
       "#T_3a5f8_row2_col1 {\n",
       "  background-color: #4da666;\n",
       "  color: #f1f1f1;\n",
       "}\n",
       "#T_3a5f8_row3_col1 {\n",
       "  background-color: #ffff66;\n",
       "  color: #000000;\n",
       "}\n",
       "</style>\n",
       "<table id=\"T_3a5f8\">\n",
       "  <thead>\n",
       "    <tr>\n",
       "      <th class=\"blank level0\" >&nbsp;</th>\n",
       "      <th id=\"T_3a5f8_level0_col0\" class=\"col_heading level0 col0\" >Model Name</th>\n",
       "      <th id=\"T_3a5f8_level0_col1\" class=\"col_heading level0 col1\" >Average Score</th>\n",
       "    </tr>\n",
       "  </thead>\n",
       "  <tbody>\n",
       "    <tr>\n",
       "      <th id=\"T_3a5f8_level0_row0\" class=\"row_heading level0 row0\" >1</th>\n",
       "      <td id=\"T_3a5f8_row0_col0\" class=\"data row0 col0\" >brf</td>\n",
       "      <td id=\"T_3a5f8_row0_col1\" class=\"data row0 col1\" >0.709818</td>\n",
       "    </tr>\n",
       "    <tr>\n",
       "      <th id=\"T_3a5f8_level0_row1\" class=\"row_heading level0 row1\" >3</th>\n",
       "      <td id=\"T_3a5f8_row1_col0\" class=\"data row1 col0\" >Voting</td>\n",
       "      <td id=\"T_3a5f8_row1_col1\" class=\"data row1 col1\" >0.709565</td>\n",
       "    </tr>\n",
       "    <tr>\n",
       "      <th id=\"T_3a5f8_level0_row2\" class=\"row_heading level0 row2\" >2</th>\n",
       "      <td id=\"T_3a5f8_row2_col0\" class=\"data row2 col0\" >gb</td>\n",
       "      <td id=\"T_3a5f8_row2_col1\" class=\"data row2 col1\" >0.708439</td>\n",
       "    </tr>\n",
       "    <tr>\n",
       "      <th id=\"T_3a5f8_level0_row3\" class=\"row_heading level0 row3\" >0</th>\n",
       "      <td id=\"T_3a5f8_row3_col0\" class=\"data row3 col0\" >xgb</td>\n",
       "      <td id=\"T_3a5f8_row3_col1\" class=\"data row3 col1\" >0.705271</td>\n",
       "    </tr>\n",
       "  </tbody>\n",
       "</table>\n"
      ],
      "text/plain": [
       "<pandas.io.formats.style.Styler at 0x7841a86ee680>"
      ]
     },
     "metadata": {},
     "output_type": "display_data"
    }
   ],
   "source": [
    "scores_ec1_df = pd.DataFrame(scores_ec1.items(), columns=['Model Name', 'Average Score'])\n",
    "\n",
    "display(scores_ec1_df.sort_values(by='Average Score', ascending=False).style.background_gradient(cmap='summer_r'))"
   ]
  },
  {
   "cell_type": "markdown",
   "id": "f43ee0e1",
   "metadata": {
    "papermill": {
     "duration": 0.019703,
     "end_time": "2023-07-08T17:20:28.355342",
     "exception": false,
     "start_time": "2023-07-08T17:20:28.335639",
     "status": "completed"
    },
    "tags": []
   },
   "source": [
    "## EC2"
   ]
  },
  {
   "cell_type": "code",
   "execution_count": 30,
   "id": "19f7c56e",
   "metadata": {
    "execution": {
     "iopub.execute_input": "2023-07-08T17:20:28.393412Z",
     "iopub.status.busy": "2023-07-08T17:20:28.392719Z",
     "iopub.status.idle": "2023-07-08T17:57:47.630443Z",
     "shell.execute_reply": "2023-07-08T17:57:47.629467Z"
    },
    "papermill": {
     "duration": 2239.260158,
     "end_time": "2023-07-08T17:57:47.633535",
     "exception": false,
     "start_time": "2023-07-08T17:20:28.373377",
     "status": "completed"
    },
    "scrolled": true,
    "tags": []
   },
   "outputs": [
    {
     "name": "stdout",
     "output_type": "stream",
     "text": [
      "FOLD 0\n",
      "[17:20:29] WARNING: ../src/learner.cc:767: \n",
      "Parameters: { \"min_samples_leaf\", \"min_samples_split\" } are not used.\n",
      "\n",
      "ROC SCORE FOR TRAIN : xgb is 0.6964392472459346\n",
      "ROC SCORE FOR VAL : xgb is 0.5932262621390285\n",
      "ROC SCORE FOR TRAIN : brf is 0.7781431076970895\n",
      "ROC SCORE FOR VAL : brf is 0.5936717084959664\n",
      "ROC SCORE FOR TRAIN : gb is 0.665700978577852\n",
      "ROC SCORE FOR VAL : gb is 0.6033041783360487\n",
      "ROC SCORE FOR TRAIN : lgbm is 0.6842981698766384\n",
      "ROC SCORE FOR VAL : lgbm is 0.6018497098446106\n",
      "FOLD 1\n",
      "[17:21:38] WARNING: ../src/learner.cc:767: \n",
      "Parameters: { \"min_samples_leaf\", \"min_samples_split\" } are not used.\n",
      "\n",
      "ROC SCORE FOR TRAIN : xgb is 0.6948133427449388\n",
      "ROC SCORE FOR VAL : xgb is 0.5899813946162517\n",
      "ROC SCORE FOR TRAIN : brf is 0.7759748295312333\n",
      "ROC SCORE FOR VAL : brf is 0.5892184754413856\n",
      "ROC SCORE FOR TRAIN : gb is 0.6675507635169924\n",
      "ROC SCORE FOR VAL : gb is 0.5748952831906756\n",
      "ROC SCORE FOR TRAIN : lgbm is 0.6819528918941686\n",
      "ROC SCORE FOR VAL : lgbm is 0.5776885517825237\n",
      "FOLD 2\n",
      "[17:23:26] WARNING: ../src/learner.cc:767: \n",
      "Parameters: { \"min_samples_leaf\", \"min_samples_split\" } are not used.\n",
      "\n",
      "ROC SCORE FOR TRAIN : xgb is 0.6964080789342195\n",
      "ROC SCORE FOR VAL : xgb is 0.5912483089593065\n",
      "ROC SCORE FOR TRAIN : brf is 0.7766031708246555\n",
      "ROC SCORE FOR VAL : brf is 0.5979655669553368\n",
      "ROC SCORE FOR TRAIN : gb is 0.6674311370864756\n",
      "ROC SCORE FOR VAL : gb is 0.5824228046095054\n",
      "ROC SCORE FOR TRAIN : lgbm is 0.6892424779293768\n",
      "ROC SCORE FOR VAL : lgbm is 0.5773965873070732\n",
      "FOLD 3\n",
      "[17:25:14] WARNING: ../src/learner.cc:767: \n",
      "Parameters: { \"min_samples_leaf\", \"min_samples_split\" } are not used.\n",
      "\n",
      "ROC SCORE FOR TRAIN : xgb is 0.6968327222209653\n",
      "ROC SCORE FOR VAL : xgb is 0.596220299450015\n",
      "ROC SCORE FOR TRAIN : brf is 0.7742189615371422\n",
      "ROC SCORE FOR VAL : brf is 0.5878855498988943\n",
      "ROC SCORE FOR TRAIN : gb is 0.6654839592734477\n",
      "ROC SCORE FOR VAL : gb is 0.5829915938238126\n",
      "ROC SCORE FOR TRAIN : lgbm is 0.6845200213500087\n",
      "ROC SCORE FOR VAL : lgbm is 0.5979739465186904\n",
      "FOLD 4\n",
      "[17:27:04] WARNING: ../src/learner.cc:767: \n",
      "Parameters: { \"min_samples_leaf\", \"min_samples_split\" } are not used.\n",
      "\n",
      "ROC SCORE FOR TRAIN : xgb is 0.6954428034585263\n",
      "ROC SCORE FOR VAL : xgb is 0.609902194768122\n",
      "ROC SCORE FOR TRAIN : brf is 0.7820674190501143\n",
      "ROC SCORE FOR VAL : brf is 0.6004221560499593\n",
      "ROC SCORE FOR TRAIN : gb is 0.6657061473963135\n",
      "ROC SCORE FOR VAL : gb is 0.6049786828435684\n",
      "ROC SCORE FOR TRAIN : lgbm is 0.6831128147003664\n",
      "ROC SCORE FOR VAL : lgbm is 0.5978692695518102\n",
      "FOLD 5\n",
      "[17:28:51] WARNING: ../src/learner.cc:767: \n",
      "Parameters: { \"min_samples_leaf\", \"min_samples_split\" } are not used.\n",
      "\n",
      "ROC SCORE FOR TRAIN : xgb is 0.6957888652991081\n",
      "ROC SCORE FOR VAL : xgb is 0.5953360869533092\n",
      "ROC SCORE FOR TRAIN : brf is 0.772469433434123\n",
      "ROC SCORE FOR VAL : brf is 0.5988409181032041\n",
      "ROC SCORE FOR TRAIN : gb is 0.6665143295146109\n",
      "ROC SCORE FOR VAL : gb is 0.58167389553485\n",
      "ROC SCORE FOR TRAIN : lgbm is 0.6811621875681937\n",
      "ROC SCORE FOR VAL : lgbm is 0.5964308848775034\n",
      "FOLD 6\n",
      "[17:30:39] WARNING: ../src/learner.cc:767: \n",
      "Parameters: { \"min_samples_leaf\", \"min_samples_split\" } are not used.\n",
      "\n",
      "ROC SCORE FOR TRAIN : xgb is 0.6971861431973487\n",
      "ROC SCORE FOR VAL : xgb is 0.6091189647571125\n",
      "ROC SCORE FOR TRAIN : brf is 0.776826026623772\n",
      "ROC SCORE FOR VAL : brf is 0.6066609032760196\n",
      "ROC SCORE FOR TRAIN : gb is 0.6663781702974575\n",
      "ROC SCORE FOR VAL : gb is 0.5914026959860694\n",
      "ROC SCORE FOR TRAIN : lgbm is 0.6852280036647279\n",
      "ROC SCORE FOR VAL : lgbm is 0.600287923233607\n",
      "FOLD 7\n",
      "[17:32:28] WARNING: ../src/learner.cc:767: \n",
      "Parameters: { \"min_samples_leaf\", \"min_samples_split\" } are not used.\n",
      "\n",
      "ROC SCORE FOR TRAIN : xgb is 0.6959188817665429\n",
      "ROC SCORE FOR VAL : xgb is 0.5951378164631007\n",
      "ROC SCORE FOR TRAIN : brf is 0.7785593767918887\n",
      "ROC SCORE FOR VAL : brf is 0.5974973584459534\n",
      "ROC SCORE FOR TRAIN : gb is 0.6667095138664365\n",
      "ROC SCORE FOR VAL : gb is 0.5810051944405448\n",
      "ROC SCORE FOR TRAIN : lgbm is 0.6824350291701546\n",
      "ROC SCORE FOR VAL : lgbm is 0.5875111758055817\n",
      "FOLD 8\n",
      "[17:34:18] WARNING: ../src/learner.cc:767: \n",
      "Parameters: { \"min_samples_leaf\", \"min_samples_split\" } are not used.\n",
      "\n",
      "ROC SCORE FOR TRAIN : xgb is 0.696736171575636\n",
      "ROC SCORE FOR VAL : xgb is 0.6021684141562667\n",
      "ROC SCORE FOR TRAIN : brf is 0.7807524144655551\n",
      "ROC SCORE FOR VAL : brf is 0.5943361140461711\n",
      "ROC SCORE FOR TRAIN : gb is 0.669186410437371\n",
      "ROC SCORE FOR VAL : gb is 0.6036388176675016\n",
      "ROC SCORE FOR TRAIN : lgbm is 0.6879762759707552\n",
      "ROC SCORE FOR VAL : lgbm is 0.5895874742309937\n",
      "FOLD 9\n",
      "[17:36:08] WARNING: ../src/learner.cc:767: \n",
      "Parameters: { \"min_samples_leaf\", \"min_samples_split\" } are not used.\n",
      "\n",
      "ROC SCORE FOR TRAIN : xgb is 0.6964058467300016\n",
      "ROC SCORE FOR VAL : xgb is 0.5605562410870641\n",
      "ROC SCORE FOR TRAIN : brf is 0.7782207501112386\n",
      "ROC SCORE FOR VAL : brf is 0.5551376686838533\n",
      "ROC SCORE FOR TRAIN : gb is 0.6689100171096867\n",
      "ROC SCORE FOR VAL : gb is 0.5547460536783486\n",
      "ROC SCORE FOR TRAIN : lgbm is 0.6791201490218918\n",
      "ROC SCORE FOR VAL : lgbm is 0.5596806490464544\n",
      "==============================\n",
      "[17:37:58] WARNING: ../src/learner.cc:767: \n",
      "Parameters: { \"min_samples_leaf\", \"min_samples_split\" } are not used.\n",
      "\n",
      "ROC SCORE FOR TRAIN : Voting is 0.7281543754689203\n",
      "ROC SCORE FOR VAL : Voting is 0.6016848208616556\n",
      "[17:39:46] WARNING: ../src/learner.cc:767: \n",
      "Parameters: { \"min_samples_leaf\", \"min_samples_split\" } are not used.\n",
      "\n",
      "ROC SCORE FOR TRAIN : Voting is 0.7260650781490685\n",
      "ROC SCORE FOR VAL : Voting is 0.5877664679795439\n",
      "[17:41:36] WARNING: ../src/learner.cc:767: \n",
      "Parameters: { \"min_samples_leaf\", \"min_samples_split\" } are not used.\n",
      "\n",
      "ROC SCORE FOR TRAIN : Voting is 0.7282159980457673\n",
      "ROC SCORE FOR VAL : Voting is 0.5944674579585065\n",
      "[17:43:23] WARNING: ../src/learner.cc:767: \n",
      "Parameters: { \"min_samples_leaf\", \"min_samples_split\" } are not used.\n",
      "\n",
      "ROC SCORE FOR TRAIN : Voting is 0.7262485564538161\n",
      "ROC SCORE FOR VAL : Voting is 0.5955232739999654\n",
      "[17:45:05] WARNING: ../src/learner.cc:767: \n",
      "Parameters: { \"min_samples_leaf\", \"min_samples_split\" } are not used.\n",
      "\n",
      "ROC SCORE FOR TRAIN : Voting is 0.7291358616891175\n",
      "ROC SCORE FOR VAL : Voting is 0.6087372017014318\n",
      "[17:46:53] WARNING: ../src/learner.cc:767: \n",
      "Parameters: { \"min_samples_leaf\", \"min_samples_split\" } are not used.\n",
      "\n",
      "ROC SCORE FOR TRAIN : Voting is 0.7249494257076388\n",
      "ROC SCORE FOR VAL : Voting is 0.59976207541175\n",
      "[17:48:39] WARNING: ../src/learner.cc:767: \n",
      "Parameters: { \"min_samples_leaf\", \"min_samples_split\" } are not used.\n",
      "\n",
      "ROC SCORE FOR TRAIN : Voting is 0.7280800233643439\n",
      "ROC SCORE FOR VAL : Voting is 0.6056535414065136\n",
      "[17:50:25] WARNING: ../src/learner.cc:767: \n",
      "Parameters: { \"min_samples_leaf\", \"min_samples_split\" } are not used.\n",
      "\n",
      "ROC SCORE FOR TRAIN : Voting is 0.7272436667034016\n",
      "ROC SCORE FOR VAL : Voting is 0.595768341251838\n",
      "[17:52:12] WARNING: ../src/learner.cc:767: \n",
      "Parameters: { \"min_samples_leaf\", \"min_samples_split\" } are not used.\n",
      "\n",
      "ROC SCORE FOR TRAIN : Voting is 0.7302960507349769\n",
      "ROC SCORE FOR VAL : Voting is 0.6019984680218023\n",
      "[17:53:59] WARNING: ../src/learner.cc:767: \n",
      "Parameters: { \"min_samples_leaf\", \"min_samples_split\" } are not used.\n",
      "\n",
      "ROC SCORE FOR TRAIN : Voting is 0.7280686957689468\n",
      "ROC SCORE FOR VAL : Voting is 0.5622926472435477\n",
      "==============================\n",
      "[17:55:47] WARNING: ../src/learner.cc:767: \n",
      "Parameters: { \"min_samples_leaf\", \"min_samples_split\" } are not used.\n",
      "\n"
     ]
    }
   ],
   "source": [
    "scores_ec2 ={}\n",
    "train_scores_ec2 = {}\n",
    "test_preds_ec2 =[]\n",
    "train_scores_ec2,scores_ec2, test_preds_ec2 = model_training(X_train,y_train_ec2,X_test,'EC2')"
   ]
  },
  {
   "cell_type": "code",
   "execution_count": 31,
   "id": "d7c1c538",
   "metadata": {
    "execution": {
     "iopub.execute_input": "2023-07-08T17:57:47.679748Z",
     "iopub.status.busy": "2023-07-08T17:57:47.679368Z",
     "iopub.status.idle": "2023-07-08T17:57:47.695349Z",
     "shell.execute_reply": "2023-07-08T17:57:47.694515Z"
    },
    "papermill": {
     "duration": 0.041473,
     "end_time": "2023-07-08T17:57:47.697590",
     "exception": false,
     "start_time": "2023-07-08T17:57:47.656117",
     "status": "completed"
    },
    "tags": []
   },
   "outputs": [
    {
     "data": {
      "text/html": [
       "<style type=\"text/css\">\n",
       "#T_f40fb_row0_col1 {\n",
       "  background-color: #008066;\n",
       "  color: #f1f1f1;\n",
       "}\n",
       "#T_f40fb_row1_col1 {\n",
       "  background-color: #1d8e66;\n",
       "  color: #f1f1f1;\n",
       "}\n",
       "#T_f40fb_row2_col1 {\n",
       "  background-color: #58ac66;\n",
       "  color: #f1f1f1;\n",
       "}\n",
       "#T_f40fb_row3_col1 {\n",
       "  background-color: #badc66;\n",
       "  color: #000000;\n",
       "}\n",
       "#T_f40fb_row4_col1 {\n",
       "  background-color: #ffff66;\n",
       "  color: #000000;\n",
       "}\n",
       "</style>\n",
       "<table id=\"T_f40fb\">\n",
       "  <thead>\n",
       "    <tr>\n",
       "      <th class=\"blank level0\" >&nbsp;</th>\n",
       "      <th id=\"T_f40fb_level0_col0\" class=\"col_heading level0 col0\" >Model Name</th>\n",
       "      <th id=\"T_f40fb_level0_col1\" class=\"col_heading level0 col1\" >Average Score</th>\n",
       "    </tr>\n",
       "  </thead>\n",
       "  <tbody>\n",
       "    <tr>\n",
       "      <th id=\"T_f40fb_level0_row0\" class=\"row_heading level0 row0\" >4</th>\n",
       "      <td id=\"T_f40fb_row0_col0\" class=\"data row0 col0\" >Voting</td>\n",
       "      <td id=\"T_f40fb_row0_col1\" class=\"data row0 col1\" >0.595365</td>\n",
       "    </tr>\n",
       "    <tr>\n",
       "      <th id=\"T_f40fb_level0_row1\" class=\"row_heading level0 row1\" >0</th>\n",
       "      <td id=\"T_f40fb_row1_col0\" class=\"data row1 col0\" >xgb</td>\n",
       "      <td id=\"T_f40fb_row1_col1\" class=\"data row1 col1\" >0.594290</td>\n",
       "    </tr>\n",
       "    <tr>\n",
       "      <th id=\"T_f40fb_level0_row2\" class=\"row_heading level0 row2\" >1</th>\n",
       "      <td id=\"T_f40fb_row2_col0\" class=\"data row2 col0\" >brf</td>\n",
       "      <td id=\"T_f40fb_row2_col1\" class=\"data row2 col1\" >0.592164</td>\n",
       "    </tr>\n",
       "    <tr>\n",
       "      <th id=\"T_f40fb_level0_row3\" class=\"row_heading level0 row3\" >3</th>\n",
       "      <td id=\"T_f40fb_row3_col0\" class=\"data row3 col0\" >lgbm</td>\n",
       "      <td id=\"T_f40fb_row3_col1\" class=\"data row3 col1\" >0.588628</td>\n",
       "    </tr>\n",
       "    <tr>\n",
       "      <th id=\"T_f40fb_level0_row4\" class=\"row_heading level0 row4\" >2</th>\n",
       "      <td id=\"T_f40fb_row4_col0\" class=\"data row4 col0\" >gb</td>\n",
       "      <td id=\"T_f40fb_row4_col1\" class=\"data row4 col1\" >0.586106</td>\n",
       "    </tr>\n",
       "  </tbody>\n",
       "</table>\n"
      ],
      "text/plain": [
       "<pandas.io.formats.style.Styler at 0x7841a863fdf0>"
      ]
     },
     "metadata": {},
     "output_type": "display_data"
    }
   ],
   "source": [
    "scores_ec2_df = pd.DataFrame(scores_ec2.items(), columns=['Model Name', 'Average Score'])\n",
    "\n",
    "display(scores_ec2_df.sort_values(by='Average Score', ascending=False).style.background_gradient(cmap='summer_r'))"
   ]
  },
  {
   "cell_type": "markdown",
   "id": "5ed5f530",
   "metadata": {
    "papermill": {
     "duration": 0.020809,
     "end_time": "2023-07-08T17:57:47.739880",
     "exception": false,
     "start_time": "2023-07-08T17:57:47.719071",
     "status": "completed"
    },
    "tags": []
   },
   "source": [
    "# Submission"
   ]
  },
  {
   "cell_type": "code",
   "execution_count": 32,
   "id": "71dc7756",
   "metadata": {
    "execution": {
     "iopub.execute_input": "2023-07-08T17:57:47.783819Z",
     "iopub.status.busy": "2023-07-08T17:57:47.783441Z",
     "iopub.status.idle": "2023-07-08T17:57:47.788694Z",
     "shell.execute_reply": "2023-07-08T17:57:47.787751Z"
    },
    "papermill": {
     "duration": 0.030269,
     "end_time": "2023-07-08T17:57:47.791093",
     "exception": false,
     "start_time": "2023-07-08T17:57:47.760824",
     "status": "completed"
    },
    "tags": []
   },
   "outputs": [
    {
     "name": "stdout",
     "output_type": "stream",
     "text": [
      "Average CV Score: 0.6524654034932933\n"
     ]
    }
   ],
   "source": [
    "#Average Score\n",
    "\n",
    "print(\"Average CV Score:\",(scores_ec1['Voting'] + scores_ec2['Voting'])/2)"
   ]
  },
  {
   "cell_type": "code",
   "execution_count": 33,
   "id": "bd427c1d",
   "metadata": {
    "execution": {
     "iopub.execute_input": "2023-07-08T17:57:47.836324Z",
     "iopub.status.busy": "2023-07-08T17:57:47.835958Z",
     "iopub.status.idle": "2023-07-08T17:57:47.841271Z",
     "shell.execute_reply": "2023-07-08T17:57:47.840317Z"
    },
    "papermill": {
     "duration": 0.03065,
     "end_time": "2023-07-08T17:57:47.843577",
     "exception": false,
     "start_time": "2023-07-08T17:57:47.812927",
     "status": "completed"
    },
    "tags": []
   },
   "outputs": [
    {
     "name": "stdout",
     "output_type": "stream",
     "text": [
      "Average Train CV Score: 0.7788523527893036\n"
     ]
    }
   ],
   "source": [
    "print(\"Average Train CV Score:\",(train_scores_ec1['Voting'] + train_scores_ec2['Voting'])/2)"
   ]
  },
  {
   "cell_type": "code",
   "execution_count": 34,
   "id": "f59cda36",
   "metadata": {
    "execution": {
     "iopub.execute_input": "2023-07-08T17:57:47.889544Z",
     "iopub.status.busy": "2023-07-08T17:57:47.889155Z",
     "iopub.status.idle": "2023-07-08T17:57:47.979390Z",
     "shell.execute_reply": "2023-07-08T17:57:47.978500Z"
    },
    "papermill": {
     "duration": 0.116444,
     "end_time": "2023-07-08T17:57:47.981785",
     "exception": false,
     "start_time": "2023-07-08T17:57:47.865341",
     "status": "completed"
    },
    "tags": []
   },
   "outputs": [
    {
     "data": {
      "text/html": [
       "<div>\n",
       "<style scoped>\n",
       "    .dataframe tbody tr th:only-of-type {\n",
       "        vertical-align: middle;\n",
       "    }\n",
       "\n",
       "    .dataframe tbody tr th {\n",
       "        vertical-align: top;\n",
       "    }\n",
       "\n",
       "    .dataframe thead th {\n",
       "        text-align: right;\n",
       "    }\n",
       "</style>\n",
       "<table border=\"1\" class=\"dataframe\">\n",
       "  <thead>\n",
       "    <tr style=\"text-align: right;\">\n",
       "      <th></th>\n",
       "      <th>id</th>\n",
       "      <th>EC1</th>\n",
       "      <th>EC2</th>\n",
       "    </tr>\n",
       "  </thead>\n",
       "  <tbody>\n",
       "    <tr>\n",
       "      <th>0</th>\n",
       "      <td>14838</td>\n",
       "      <td>0.395151</td>\n",
       "      <td>0.678146</td>\n",
       "    </tr>\n",
       "    <tr>\n",
       "      <th>1</th>\n",
       "      <td>14839</td>\n",
       "      <td>0.762014</td>\n",
       "      <td>0.733241</td>\n",
       "    </tr>\n",
       "    <tr>\n",
       "      <th>2</th>\n",
       "      <td>14840</td>\n",
       "      <td>0.721508</td>\n",
       "      <td>0.663310</td>\n",
       "    </tr>\n",
       "    <tr>\n",
       "      <th>3</th>\n",
       "      <td>14841</td>\n",
       "      <td>0.639022</td>\n",
       "      <td>0.736650</td>\n",
       "    </tr>\n",
       "    <tr>\n",
       "      <th>4</th>\n",
       "      <td>14842</td>\n",
       "      <td>0.618447</td>\n",
       "      <td>0.669624</td>\n",
       "    </tr>\n",
       "    <tr>\n",
       "      <th>...</th>\n",
       "      <td>...</td>\n",
       "      <td>...</td>\n",
       "      <td>...</td>\n",
       "    </tr>\n",
       "    <tr>\n",
       "      <th>9888</th>\n",
       "      <td>24726</td>\n",
       "      <td>0.541766</td>\n",
       "      <td>0.677754</td>\n",
       "    </tr>\n",
       "    <tr>\n",
       "      <th>9889</th>\n",
       "      <td>24727</td>\n",
       "      <td>0.721040</td>\n",
       "      <td>0.747912</td>\n",
       "    </tr>\n",
       "    <tr>\n",
       "      <th>9890</th>\n",
       "      <td>24728</td>\n",
       "      <td>0.297667</td>\n",
       "      <td>0.760970</td>\n",
       "    </tr>\n",
       "    <tr>\n",
       "      <th>9891</th>\n",
       "      <td>24729</td>\n",
       "      <td>0.404276</td>\n",
       "      <td>0.757510</td>\n",
       "    </tr>\n",
       "    <tr>\n",
       "      <th>9892</th>\n",
       "      <td>24730</td>\n",
       "      <td>0.281416</td>\n",
       "      <td>0.767296</td>\n",
       "    </tr>\n",
       "  </tbody>\n",
       "</table>\n",
       "<p>9893 rows × 3 columns</p>\n",
       "</div>"
      ],
      "text/plain": [
       "         id       EC1       EC2\n",
       "0     14838  0.395151  0.678146\n",
       "1     14839  0.762014  0.733241\n",
       "2     14840  0.721508  0.663310\n",
       "3     14841  0.639022  0.736650\n",
       "4     14842  0.618447  0.669624\n",
       "...     ...       ...       ...\n",
       "9888  24726  0.541766  0.677754\n",
       "9889  24727  0.721040  0.747912\n",
       "9890  24728  0.297667  0.760970\n",
       "9891  24729  0.404276  0.757510\n",
       "9892  24730  0.281416  0.767296\n",
       "\n",
       "[9893 rows x 3 columns]"
      ]
     },
     "execution_count": 34,
     "metadata": {},
     "output_type": "execute_result"
    }
   ],
   "source": [
    "submission_df['EC1'] = test_preds_ec1\n",
    "submission_df['EC2'] = test_preds_ec2\n",
    "submission_df.to_csv('submission.csv',index=False)\n",
    "submission_df"
   ]
  },
  {
   "cell_type": "code",
   "execution_count": null,
   "id": "99eb899b",
   "metadata": {
    "papermill": {
     "duration": 0.022282,
     "end_time": "2023-07-08T17:57:48.026296",
     "exception": false,
     "start_time": "2023-07-08T17:57:48.004014",
     "status": "completed"
    },
    "tags": []
   },
   "outputs": [],
   "source": []
  }
 ],
 "metadata": {
  "kernelspec": {
   "display_name": "Python 3",
   "language": "python",
   "name": "python3"
  },
  "language_info": {
   "codemirror_mode": {
    "name": "ipython",
    "version": 3
   },
   "file_extension": ".py",
   "mimetype": "text/x-python",
   "name": "python",
   "nbconvert_exporter": "python",
   "pygments_lexer": "ipython3",
   "version": "3.10.10"
  },
  "papermill": {
   "default_parameters": {},
   "duration": 4410.766817,
   "end_time": "2023-07-08T17:57:49.180962",
   "environment_variables": {},
   "exception": null,
   "input_path": "__notebook__.ipynb",
   "output_path": "__notebook__.ipynb",
   "parameters": {},
   "start_time": "2023-07-08T16:44:18.414145",
   "version": "2.4.0"
  }
 },
 "nbformat": 4,
 "nbformat_minor": 5
}
