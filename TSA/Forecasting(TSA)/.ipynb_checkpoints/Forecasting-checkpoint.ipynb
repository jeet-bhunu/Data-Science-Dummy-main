{
 "cells": [
  {
   "cell_type": "markdown",
   "id": "d564544a",
   "metadata": {},
   "source": [
    "<h1 style=\"color:blue;text-decoration:underline;text-align:center\">░F░o░r░e░c░a░s░t░i░n░g░.</h1>"
   ]
  },
  {
   "cell_type": "code",
   "execution_count": 1,
   "id": "0838cd7b",
   "metadata": {},
   "outputs": [],
   "source": [
    "import pandas as pd"
   ]
  },
  {
   "cell_type": "code",
   "execution_count": null,
   "id": "ce6d47b4",
   "metadata": {},
   "outputs": [],
   "source": [
    "data=pd.read_csv('https://raw.githubusercontent.com/slmsshk/DataSet/main/EURUSD_M1.csv',sep='\\t',parse_dates=True,index_col=0)"
   ]
  },
  {
   "cell_type": "code",
   "execution_count": null,
   "id": "9b2203a0",
   "metadata": {
    "scrolled": true
   },
   "outputs": [],
   "source": [
    "data.head()"
   ]
  },
  {
   "cell_type": "code",
   "execution_count": null,
   "id": "defc472d",
   "metadata": {},
   "outputs": [],
   "source": [
    "print(f'Shape:{data.shape} \\nSize: {data.size}')"
   ]
  },
  {
   "cell_type": "code",
   "execution_count": null,
   "id": "bae8ff8b",
   "metadata": {},
   "outputs": [],
   "source": [
    "data.info()"
   ]
  },
  {
   "cell_type": "code",
   "execution_count": null,
   "id": "f09d6fad",
   "metadata": {},
   "outputs": [],
   "source": [
    "data.describe()"
   ]
  },
  {
   "cell_type": "markdown",
   "id": "5242f537",
   "metadata": {},
   "source": [
    "<p style=\"color:#8db600;font-size:25px; text-align:left;padding: 10px 10px 10px 10px;\">\n",
    "    ıllıllı⭐🌟 V͙i͙s͙u͙a͙l͙i͙z͙a͙t͙i͙o͙n͙ 🌟⭐ıllıllı\n",
    "</p>"
   ]
  },
  {
   "cell_type": "code",
   "execution_count": null,
   "id": "38d44c98",
   "metadata": {},
   "outputs": [],
   "source": [
    "import matplotlib.pyplot as plt"
   ]
  },
  {
   "cell_type": "code",
   "execution_count": null,
   "id": "25061b3e",
   "metadata": {},
   "outputs": [],
   "source": [
    "data.plot(colormap ='plasma',subplots=True,figsize=(15,15),title = \"Line Charts\",style=['-'],logx = True)\n",
    "plt.show()"
   ]
  },
  {
   "cell_type": "code",
   "execution_count": null,
   "id": "7c99c916",
   "metadata": {},
   "outputs": [],
   "source": [
    "data['Close'].plot(kind='kde')\n",
    "plt.show()"
   ]
  },
  {
   "cell_type": "code",
   "execution_count": null,
   "id": "ad229d2c",
   "metadata": {},
   "outputs": [],
   "source": [
    "data.hist(figsize=(15,15))\n",
    "plt.show()"
   ]
  },
  {
   "cell_type": "code",
   "execution_count": null,
   "id": "ef034606",
   "metadata": {},
   "outputs": [],
   "source": [
    "data.plot(kind='box')\n",
    "plt.show()"
   ]
  },
  {
   "cell_type": "code",
   "execution_count": null,
   "id": "2312f64f",
   "metadata": {},
   "outputs": [],
   "source": [
    "help(data.plot)"
   ]
  },
  {
   "cell_type": "code",
   "execution_count": null,
   "id": "0b8b6781",
   "metadata": {},
   "outputs": [],
   "source": [
    "pd.plotting.lag_plot(data['Close'])"
   ]
  }
 ],
 "metadata": {
  "kernelspec": {
   "display_name": "Python 3 (ipykernel)",
   "language": "python",
   "name": "python3"
  },
  "language_info": {
   "codemirror_mode": {
    "name": "ipython",
    "version": 3
   },
   "file_extension": ".py",
   "mimetype": "text/x-python",
   "name": "python",
   "nbconvert_exporter": "python",
   "pygments_lexer": "ipython3",
   "version": "3.10.4"
  }
 },
 "nbformat": 4,
 "nbformat_minor": 5
}
