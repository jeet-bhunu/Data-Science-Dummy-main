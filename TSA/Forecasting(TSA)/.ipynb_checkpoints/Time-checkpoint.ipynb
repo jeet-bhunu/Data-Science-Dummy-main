{
 "cells": [
  {
   "cell_type": "code",
   "execution_count": 1,
   "id": "3d1a4bb1",
   "metadata": {},
   "outputs": [],
   "source": [
    "import pandas as pd\n",
    "import matplotlib.pyplot as plt"
   ]
  },
  {
   "cell_type": "code",
   "execution_count": 2,
   "id": "08b47654",
   "metadata": {},
   "outputs": [],
   "source": [
    "data=pd.read_csv('https://raw.githubusercontent.com/slmsshk/DataSet/main/EURUSD_M1.csv',sep='\\t',parse_dates=True,index_col=0)"
   ]
  },
  {
   "cell_type": "code",
   "execution_count": 3,
   "id": "3aa20081",
   "metadata": {},
   "outputs": [
    {
     "data": {
      "text/html": [
       "<div>\n",
       "<style scoped>\n",
       "    .dataframe tbody tr th:only-of-type {\n",
       "        vertical-align: middle;\n",
       "    }\n",
       "\n",
       "    .dataframe tbody tr th {\n",
       "        vertical-align: top;\n",
       "    }\n",
       "\n",
       "    .dataframe thead th {\n",
       "        text-align: right;\n",
       "    }\n",
       "</style>\n",
       "<table border=\"1\" class=\"dataframe\">\n",
       "  <thead>\n",
       "    <tr style=\"text-align: right;\">\n",
       "      <th></th>\n",
       "      <th>Open</th>\n",
       "      <th>High</th>\n",
       "      <th>Low</th>\n",
       "      <th>Close</th>\n",
       "      <th>Volume</th>\n",
       "    </tr>\n",
       "    <tr>\n",
       "      <th>Time</th>\n",
       "      <th></th>\n",
       "      <th></th>\n",
       "      <th></th>\n",
       "      <th></th>\n",
       "      <th></th>\n",
       "    </tr>\n",
       "  </thead>\n",
       "  <tbody>\n",
       "    <tr>\n",
       "      <th>2022-06-03 13:46:00</th>\n",
       "      <td>1.07177</td>\n",
       "      <td>1.07183</td>\n",
       "      <td>1.07175</td>\n",
       "      <td>1.07176</td>\n",
       "      <td>18</td>\n",
       "    </tr>\n",
       "    <tr>\n",
       "      <th>2022-06-03 13:47:00</th>\n",
       "      <td>1.07178</td>\n",
       "      <td>1.07178</td>\n",
       "      <td>1.07175</td>\n",
       "      <td>1.07177</td>\n",
       "      <td>13</td>\n",
       "    </tr>\n",
       "    <tr>\n",
       "      <th>2022-06-03 13:48:00</th>\n",
       "      <td>1.07178</td>\n",
       "      <td>1.07188</td>\n",
       "      <td>1.07178</td>\n",
       "      <td>1.07188</td>\n",
       "      <td>10</td>\n",
       "    </tr>\n",
       "    <tr>\n",
       "      <th>2022-06-03 13:49:00</th>\n",
       "      <td>1.07185</td>\n",
       "      <td>1.07189</td>\n",
       "      <td>1.07177</td>\n",
       "      <td>1.07187</td>\n",
       "      <td>27</td>\n",
       "    </tr>\n",
       "    <tr>\n",
       "      <th>2022-06-03 13:50:00</th>\n",
       "      <td>1.07187</td>\n",
       "      <td>1.07188</td>\n",
       "      <td>1.07181</td>\n",
       "      <td>1.07188</td>\n",
       "      <td>23</td>\n",
       "    </tr>\n",
       "    <tr>\n",
       "      <th>...</th>\n",
       "      <td>...</td>\n",
       "      <td>...</td>\n",
       "      <td>...</td>\n",
       "      <td>...</td>\n",
       "      <td>...</td>\n",
       "    </tr>\n",
       "    <tr>\n",
       "      <th>2022-09-09 00:25:00</th>\n",
       "      <td>1.00620</td>\n",
       "      <td>1.00655</td>\n",
       "      <td>1.00614</td>\n",
       "      <td>1.00655</td>\n",
       "      <td>68</td>\n",
       "    </tr>\n",
       "    <tr>\n",
       "      <th>2022-09-09 00:26:00</th>\n",
       "      <td>1.00656</td>\n",
       "      <td>1.00661</td>\n",
       "      <td>1.00648</td>\n",
       "      <td>1.00656</td>\n",
       "      <td>92</td>\n",
       "    </tr>\n",
       "    <tr>\n",
       "      <th>2022-09-09 00:27:00</th>\n",
       "      <td>1.00655</td>\n",
       "      <td>1.00660</td>\n",
       "      <td>1.00642</td>\n",
       "      <td>1.00655</td>\n",
       "      <td>121</td>\n",
       "    </tr>\n",
       "    <tr>\n",
       "      <th>2022-09-09 00:28:00</th>\n",
       "      <td>1.00656</td>\n",
       "      <td>1.00661</td>\n",
       "      <td>1.00649</td>\n",
       "      <td>1.00658</td>\n",
       "      <td>95</td>\n",
       "    </tr>\n",
       "    <tr>\n",
       "      <th>2022-09-09 00:29:00</th>\n",
       "      <td>1.00657</td>\n",
       "      <td>1.00674</td>\n",
       "      <td>1.00653</td>\n",
       "      <td>1.00670</td>\n",
       "      <td>140</td>\n",
       "    </tr>\n",
       "  </tbody>\n",
       "</table>\n",
       "<p>100000 rows × 5 columns</p>\n",
       "</div>"
      ],
      "text/plain": [
       "                        Open     High      Low    Close  Volume\n",
       "Time                                                           \n",
       "2022-06-03 13:46:00  1.07177  1.07183  1.07175  1.07176      18\n",
       "2022-06-03 13:47:00  1.07178  1.07178  1.07175  1.07177      13\n",
       "2022-06-03 13:48:00  1.07178  1.07188  1.07178  1.07188      10\n",
       "2022-06-03 13:49:00  1.07185  1.07189  1.07177  1.07187      27\n",
       "2022-06-03 13:50:00  1.07187  1.07188  1.07181  1.07188      23\n",
       "...                      ...      ...      ...      ...     ...\n",
       "2022-09-09 00:25:00  1.00620  1.00655  1.00614  1.00655      68\n",
       "2022-09-09 00:26:00  1.00656  1.00661  1.00648  1.00656      92\n",
       "2022-09-09 00:27:00  1.00655  1.00660  1.00642  1.00655     121\n",
       "2022-09-09 00:28:00  1.00656  1.00661  1.00649  1.00658      95\n",
       "2022-09-09 00:29:00  1.00657  1.00674  1.00653  1.00670     140\n",
       "\n",
       "[100000 rows x 5 columns]"
      ]
     },
     "execution_count": 3,
     "metadata": {},
     "output_type": "execute_result"
    }
   ],
   "source": [
    "data"
   ]
  },
  {
   "cell_type": "code",
   "execution_count": 4,
   "id": "c8f11320",
   "metadata": {},
   "outputs": [],
   "source": [
    "X,Y=data.iloc[:,:-2],data['Close']"
   ]
  },
  {
   "cell_type": "code",
   "execution_count": 5,
   "id": "7881b2b8",
   "metadata": {},
   "outputs": [
    {
     "data": {
      "text/html": [
       "<div>\n",
       "<style scoped>\n",
       "    .dataframe tbody tr th:only-of-type {\n",
       "        vertical-align: middle;\n",
       "    }\n",
       "\n",
       "    .dataframe tbody tr th {\n",
       "        vertical-align: top;\n",
       "    }\n",
       "\n",
       "    .dataframe thead th {\n",
       "        text-align: right;\n",
       "    }\n",
       "</style>\n",
       "<table border=\"1\" class=\"dataframe\">\n",
       "  <thead>\n",
       "    <tr style=\"text-align: right;\">\n",
       "      <th></th>\n",
       "      <th>Open</th>\n",
       "      <th>High</th>\n",
       "      <th>Low</th>\n",
       "    </tr>\n",
       "    <tr>\n",
       "      <th>Time</th>\n",
       "      <th></th>\n",
       "      <th></th>\n",
       "      <th></th>\n",
       "    </tr>\n",
       "  </thead>\n",
       "  <tbody>\n",
       "    <tr>\n",
       "      <th>2022-06-03 13:46:00</th>\n",
       "      <td>1.07177</td>\n",
       "      <td>1.07183</td>\n",
       "      <td>1.07175</td>\n",
       "    </tr>\n",
       "    <tr>\n",
       "      <th>2022-06-03 13:47:00</th>\n",
       "      <td>1.07178</td>\n",
       "      <td>1.07178</td>\n",
       "      <td>1.07175</td>\n",
       "    </tr>\n",
       "    <tr>\n",
       "      <th>2022-06-03 13:48:00</th>\n",
       "      <td>1.07178</td>\n",
       "      <td>1.07188</td>\n",
       "      <td>1.07178</td>\n",
       "    </tr>\n",
       "    <tr>\n",
       "      <th>2022-06-03 13:49:00</th>\n",
       "      <td>1.07185</td>\n",
       "      <td>1.07189</td>\n",
       "      <td>1.07177</td>\n",
       "    </tr>\n",
       "    <tr>\n",
       "      <th>2022-06-03 13:50:00</th>\n",
       "      <td>1.07187</td>\n",
       "      <td>1.07188</td>\n",
       "      <td>1.07181</td>\n",
       "    </tr>\n",
       "  </tbody>\n",
       "</table>\n",
       "</div>"
      ],
      "text/plain": [
       "                        Open     High      Low\n",
       "Time                                          \n",
       "2022-06-03 13:46:00  1.07177  1.07183  1.07175\n",
       "2022-06-03 13:47:00  1.07178  1.07178  1.07175\n",
       "2022-06-03 13:48:00  1.07178  1.07188  1.07178\n",
       "2022-06-03 13:49:00  1.07185  1.07189  1.07177\n",
       "2022-06-03 13:50:00  1.07187  1.07188  1.07181"
      ]
     },
     "execution_count": 5,
     "metadata": {},
     "output_type": "execute_result"
    }
   ],
   "source": [
    "X.head()"
   ]
  },
  {
   "cell_type": "code",
   "execution_count": 6,
   "id": "9216399a",
   "metadata": {},
   "outputs": [
    {
     "data": {
      "text/plain": [
       "(Time\n",
       " 2022-06-03 13:46:00    1.07176\n",
       " 2022-06-03 13:47:00    1.07177\n",
       " 2022-06-03 13:48:00    1.07188\n",
       " 2022-06-03 13:49:00    1.07187\n",
       " 2022-06-03 13:50:00    1.07188\n",
       " Name: Close, dtype: float64,\n",
       " 100000)"
      ]
     },
     "execution_count": 6,
     "metadata": {},
     "output_type": "execute_result"
    }
   ],
   "source": [
    "Y.head(),Y.size"
   ]
  },
  {
   "cell_type": "code",
   "execution_count": 7,
   "id": "c95456ff",
   "metadata": {},
   "outputs": [
    {
     "data": {
      "image/png": "[encoded data removed]",
      "text/plain": [
       "<Figure size 640x480 with 1 Axes>"
      ]
     },
     "metadata": {},
     "output_type": "display_data"
    }
   ],
   "source": [
    "plt.style.use('dark_background')\n",
    "plt.figure()\n",
    "plt.plot(Y,label=\"Close\",color='blue')\n",
    "plt.legend()\n",
    "plt.show()"
   ]
  },
  {
   "cell_type": "code",
   "execution_count": null,
   "id": "05ad75e1",
   "metadata": {},
   "outputs": [],
   "source": [
    "size=70\n",
    "s=0\n",
    "i=0\n",
    "plt.figure(figsize=(50,5000))\n",
    "plt.subplots_adjust(hspace=.5, top=0.94)\n",
    "\n",
    "# for i in range(1,11):\n",
    "#     plt.subplot(5,2,i)\n",
    "#     plt.plot(y[s:size])\n",
    "#     s=size+s\n",
    "\n",
    "while True:\n",
    "    i+=1\n",
    "\n",
    "    if s>Y.size:\n",
    "        y=s-Y.size\n",
    "        plt.plot(Y[s:s+size],label=f'Q{i}')\n",
    "\n",
    "#         print(y)\n",
    "        break\n",
    "        \n",
    "    plt.subplot(1500,3,i)\n",
    "    plt.plot(Y[s:s+size],label=f'Q{i}')\n",
    "    plt.legend()\n",
    "    \n",
    "    s+=size"
   ]
  },
  {
   "cell_type": "code",
   "execution_count": 13,
   "id": "980c1f52",
   "metadata": {},
   "outputs": [
    {
     "data": {
      "text/plain": [
       "Timedelta('-98 days +13:17:00')"
      ]
     },
     "execution_count": 13,
     "metadata": {},
     "output_type": "execute_result"
    }
   ],
   "source": [
    "X.index[0]-X.index[-1]"
   ]
  }
 ],
 "metadata": {
  "kernelspec": {
   "display_name": "Python 3 (ipykernel)",
   "language": "python",
   "name": "python3"
  },
  "language_info": {
   "codemirror_mode": {
    "name": "ipython",
    "version": 3
   },
   "file_extension": ".py",
   "mimetype": "text/x-python",
   "name": "python",
   "nbconvert_exporter": "python",
   "pygments_lexer": "ipython3",
   "version": "3.9.12"
  }
 },
 "nbformat": 4,
 "nbformat_minor": 5
}
