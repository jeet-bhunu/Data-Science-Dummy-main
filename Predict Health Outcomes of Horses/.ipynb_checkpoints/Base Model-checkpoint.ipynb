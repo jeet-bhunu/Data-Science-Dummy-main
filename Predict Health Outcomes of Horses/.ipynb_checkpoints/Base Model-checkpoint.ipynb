{
 "cells": [
  {
   "cell_type": "markdown",
   "id": "cce9e16e-7927-46e5-b246-3faa657bcba2",
   "metadata": {},
   "source": [
    "# Libraries"
   ]
  },
  {
   "cell_type": "code",
   "execution_count": 77,
   "id": "672c2a2d-b4f7-4668-ba94-5230846c7478",
   "metadata": {},
   "outputs": [],
   "source": [
    "import pandas as pd\n",
    "import numpy as np\n",
    "\n",
    "import matplotlib.pyplot as plt\n",
    "import seaborn as sns\n",
    "\n",
    "from scipy.stats import yeojohnson\n",
    "import scipy.stats as stats\n",
    "import statsmodels.api as sm\n",
    "from statsmodels.formula.api import ols\n",
    "\n",
    "import warnings\n",
    "warnings.filterwarnings('ignore')"
   ]
  },
  {
   "cell_type": "markdown",
   "id": "33c8d6ed-86ca-465e-afd6-6350665369bb",
   "metadata": {
    "jp-MarkdownHeadingCollapsed": true
   },
   "source": [
    "# Data"
   ]
  },
  {
   "cell_type": "code",
   "execution_count": 2,
   "id": "abf01a79-f1f0-43a3-8364-2524fc275148",
   "metadata": {
    "scrolled": true
   },
   "outputs": [
    {
     "data": {
      "text/html": [
       "<div>\n",
       "<style scoped>\n",
       "    .dataframe tbody tr th:only-of-type {\n",
       "        vertical-align: middle;\n",
       "    }\n",
       "\n",
       "    .dataframe tbody tr th {\n",
       "        vertical-align: top;\n",
       "    }\n",
       "\n",
       "    .dataframe thead th {\n",
       "        text-align: right;\n",
       "    }\n",
       "</style>\n",
       "<table border=\"1\" class=\"dataframe\">\n",
       "  <thead>\n",
       "    <tr style=\"text-align: right;\">\n",
       "      <th></th>\n",
       "      <th>surgery</th>\n",
       "      <th>age</th>\n",
       "      <th>hospital_number</th>\n",
       "      <th>rectal_temp</th>\n",
       "      <th>pulse</th>\n",
       "      <th>respiratory_rate</th>\n",
       "      <th>temp_of_extremities</th>\n",
       "      <th>peripheral_pulse</th>\n",
       "      <th>mucous_membrane</th>\n",
       "      <th>capillary_refill_time</th>\n",
       "      <th>...</th>\n",
       "      <th>packed_cell_volume</th>\n",
       "      <th>total_protein</th>\n",
       "      <th>abdomo_appearance</th>\n",
       "      <th>abdomo_protein</th>\n",
       "      <th>surgical_lesion</th>\n",
       "      <th>lesion_1</th>\n",
       "      <th>lesion_2</th>\n",
       "      <th>lesion_3</th>\n",
       "      <th>cp_data</th>\n",
       "      <th>outcome</th>\n",
       "    </tr>\n",
       "    <tr>\n",
       "      <th>id</th>\n",
       "      <th></th>\n",
       "      <th></th>\n",
       "      <th></th>\n",
       "      <th></th>\n",
       "      <th></th>\n",
       "      <th></th>\n",
       "      <th></th>\n",
       "      <th></th>\n",
       "      <th></th>\n",
       "      <th></th>\n",
       "      <th></th>\n",
       "      <th></th>\n",
       "      <th></th>\n",
       "      <th></th>\n",
       "      <th></th>\n",
       "      <th></th>\n",
       "      <th></th>\n",
       "      <th></th>\n",
       "      <th></th>\n",
       "      <th></th>\n",
       "      <th></th>\n",
       "    </tr>\n",
       "  </thead>\n",
       "  <tbody>\n",
       "    <tr>\n",
       "      <th>0</th>\n",
       "      <td>yes</td>\n",
       "      <td>adult</td>\n",
       "      <td>530001</td>\n",
       "      <td>38.1</td>\n",
       "      <td>132.0</td>\n",
       "      <td>24.0</td>\n",
       "      <td>cool</td>\n",
       "      <td>reduced</td>\n",
       "      <td>dark_cyanotic</td>\n",
       "      <td>more_3_sec</td>\n",
       "      <td>...</td>\n",
       "      <td>57.0</td>\n",
       "      <td>8.5</td>\n",
       "      <td>serosanguious</td>\n",
       "      <td>3.4</td>\n",
       "      <td>yes</td>\n",
       "      <td>2209</td>\n",
       "      <td>0</td>\n",
       "      <td>0</td>\n",
       "      <td>no</td>\n",
       "      <td>died</td>\n",
       "    </tr>\n",
       "    <tr>\n",
       "      <th>1</th>\n",
       "      <td>yes</td>\n",
       "      <td>adult</td>\n",
       "      <td>533836</td>\n",
       "      <td>37.5</td>\n",
       "      <td>88.0</td>\n",
       "      <td>12.0</td>\n",
       "      <td>cool</td>\n",
       "      <td>normal</td>\n",
       "      <td>pale_cyanotic</td>\n",
       "      <td>more_3_sec</td>\n",
       "      <td>...</td>\n",
       "      <td>33.0</td>\n",
       "      <td>64.0</td>\n",
       "      <td>serosanguious</td>\n",
       "      <td>2.0</td>\n",
       "      <td>yes</td>\n",
       "      <td>2208</td>\n",
       "      <td>0</td>\n",
       "      <td>0</td>\n",
       "      <td>no</td>\n",
       "      <td>euthanized</td>\n",
       "    </tr>\n",
       "    <tr>\n",
       "      <th>2</th>\n",
       "      <td>yes</td>\n",
       "      <td>adult</td>\n",
       "      <td>529812</td>\n",
       "      <td>38.3</td>\n",
       "      <td>120.0</td>\n",
       "      <td>28.0</td>\n",
       "      <td>cool</td>\n",
       "      <td>reduced</td>\n",
       "      <td>pale_pink</td>\n",
       "      <td>less_3_sec</td>\n",
       "      <td>...</td>\n",
       "      <td>37.0</td>\n",
       "      <td>6.4</td>\n",
       "      <td>serosanguious</td>\n",
       "      <td>3.4</td>\n",
       "      <td>yes</td>\n",
       "      <td>5124</td>\n",
       "      <td>0</td>\n",
       "      <td>0</td>\n",
       "      <td>no</td>\n",
       "      <td>lived</td>\n",
       "    </tr>\n",
       "    <tr>\n",
       "      <th>3</th>\n",
       "      <td>yes</td>\n",
       "      <td>adult</td>\n",
       "      <td>5262541</td>\n",
       "      <td>37.1</td>\n",
       "      <td>72.0</td>\n",
       "      <td>30.0</td>\n",
       "      <td>cold</td>\n",
       "      <td>reduced</td>\n",
       "      <td>pale_pink</td>\n",
       "      <td>more_3_sec</td>\n",
       "      <td>...</td>\n",
       "      <td>53.0</td>\n",
       "      <td>7.0</td>\n",
       "      <td>cloudy</td>\n",
       "      <td>3.9</td>\n",
       "      <td>yes</td>\n",
       "      <td>2208</td>\n",
       "      <td>0</td>\n",
       "      <td>0</td>\n",
       "      <td>yes</td>\n",
       "      <td>lived</td>\n",
       "    </tr>\n",
       "    <tr>\n",
       "      <th>4</th>\n",
       "      <td>no</td>\n",
       "      <td>adult</td>\n",
       "      <td>5299629</td>\n",
       "      <td>38.0</td>\n",
       "      <td>52.0</td>\n",
       "      <td>48.0</td>\n",
       "      <td>normal</td>\n",
       "      <td>normal</td>\n",
       "      <td>normal_pink</td>\n",
       "      <td>less_3_sec</td>\n",
       "      <td>...</td>\n",
       "      <td>47.0</td>\n",
       "      <td>7.3</td>\n",
       "      <td>cloudy</td>\n",
       "      <td>2.6</td>\n",
       "      <td>no</td>\n",
       "      <td>0</td>\n",
       "      <td>0</td>\n",
       "      <td>0</td>\n",
       "      <td>yes</td>\n",
       "      <td>lived</td>\n",
       "    </tr>\n",
       "  </tbody>\n",
       "</table>\n",
       "<p>5 rows × 28 columns</p>\n",
       "</div>"
      ],
      "text/plain": [
       "   surgery    age  hospital_number  rectal_temp  pulse  respiratory_rate  \\\n",
       "id                                                                         \n",
       "0      yes  adult           530001         38.1  132.0              24.0   \n",
       "1      yes  adult           533836         37.5   88.0              12.0   \n",
       "2      yes  adult           529812         38.3  120.0              28.0   \n",
       "3      yes  adult          5262541         37.1   72.0              30.0   \n",
       "4       no  adult          5299629         38.0   52.0              48.0   \n",
       "\n",
       "   temp_of_extremities peripheral_pulse mucous_membrane capillary_refill_time  \\\n",
       "id                                                                              \n",
       "0                 cool          reduced   dark_cyanotic            more_3_sec   \n",
       "1                 cool           normal   pale_cyanotic            more_3_sec   \n",
       "2                 cool          reduced       pale_pink            less_3_sec   \n",
       "3                 cold          reduced       pale_pink            more_3_sec   \n",
       "4               normal           normal     normal_pink            less_3_sec   \n",
       "\n",
       "    ... packed_cell_volume total_protein abdomo_appearance abdomo_protein  \\\n",
       "id  ...                                                                     \n",
       "0   ...               57.0           8.5     serosanguious            3.4   \n",
       "1   ...               33.0          64.0     serosanguious            2.0   \n",
       "2   ...               37.0           6.4     serosanguious            3.4   \n",
       "3   ...               53.0           7.0            cloudy            3.9   \n",
       "4   ...               47.0           7.3            cloudy            2.6   \n",
       "\n",
       "   surgical_lesion  lesion_1 lesion_2 lesion_3  cp_data     outcome  \n",
       "id                                                                   \n",
       "0              yes      2209        0        0       no        died  \n",
       "1              yes      2208        0        0       no  euthanized  \n",
       "2              yes      5124        0        0       no       lived  \n",
       "3              yes      2208        0        0      yes       lived  \n",
       "4               no         0        0        0      yes       lived  \n",
       "\n",
       "[5 rows x 28 columns]"
      ]
     },
     "execution_count": 2,
     "metadata": {},
     "output_type": "execute_result"
    }
   ],
   "source": [
    "train = pd.read_csv('train.csv',index_col = 0)\n",
    "train.head()"
   ]
  },
  {
   "cell_type": "markdown",
   "id": "dab6c4e5-3b79-4f34-8920-6b096dbc7f2b",
   "metadata": {
    "jp-MarkdownHeadingCollapsed": true
   },
   "source": [
    "# Correlation"
   ]
  },
  {
   "cell_type": "markdown",
   "id": "a7fe0200-4676-4dba-85b0-940b21915ff7",
   "metadata": {
    "jp-MarkdownHeadingCollapsed": true
   },
   "source": [
    "## Crosstab"
   ]
  },
  {
   "cell_type": "code",
   "execution_count": 3,
   "id": "6931540c-62cb-42f5-94b5-81d27f9bace2",
   "metadata": {
    "scrolled": true
   },
   "outputs": [
    {
     "data": {
      "image/png": "[encoded data removed]",
      "text/plain": [
       "<Figure size 640x480 with 1 Axes>"
      ]
     },
     "metadata": {},
     "output_type": "display_data"
    }
   ],
   "source": [
    "ct = pd.crosstab(train['hospital_number'],train.outcome).sort_values('died',ascending=False)\n",
    "ct.head(10).plot(kind='bar',table=True)\n",
    "plt.xticks([],rotation=45)\n",
    "plt.xlabel('')\n",
    "plt.show()"
   ]
  },
  {
   "cell_type": "markdown",
   "id": "e6530d94-7352-4574-b5af-c1a3a1f96c02",
   "metadata": {},
   "source": [
    "Survival rate column can be consructed here. to capture a unbiased relationship between the hosptial number and outcome."
   ]
  },
  {
   "cell_type": "code",
   "execution_count": 4,
   "id": "52adb211-dfbf-4d46-890c-17cbda33b059",
   "metadata": {
    "scrolled": true
   },
   "outputs": [
    {
     "data": {
      "text/html": [
       "<div>\n",
       "<style scoped>\n",
       "    .dataframe tbody tr th:only-of-type {\n",
       "        vertical-align: middle;\n",
       "    }\n",
       "\n",
       "    .dataframe tbody tr th {\n",
       "        vertical-align: top;\n",
       "    }\n",
       "\n",
       "    .dataframe thead th {\n",
       "        text-align: right;\n",
       "    }\n",
       "</style>\n",
       "<table border=\"1\" class=\"dataframe\">\n",
       "  <thead>\n",
       "    <tr style=\"text-align: right;\">\n",
       "      <th>outcome</th>\n",
       "      <th>died</th>\n",
       "      <th>euthanized</th>\n",
       "      <th>lived</th>\n",
       "      <th>Total</th>\n",
       "      <th>Survival_Rate</th>\n",
       "    </tr>\n",
       "    <tr>\n",
       "      <th>hospital_number</th>\n",
       "      <th></th>\n",
       "      <th></th>\n",
       "      <th></th>\n",
       "      <th></th>\n",
       "      <th></th>\n",
       "    </tr>\n",
       "  </thead>\n",
       "  <tbody>\n",
       "    <tr>\n",
       "      <th>529461</th>\n",
       "      <td>31</td>\n",
       "      <td>12</td>\n",
       "      <td>3</td>\n",
       "      <td>46</td>\n",
       "      <td>0.065217</td>\n",
       "    </tr>\n",
       "    <tr>\n",
       "      <th>5290409</th>\n",
       "      <td>19</td>\n",
       "      <td>0</td>\n",
       "      <td>1</td>\n",
       "      <td>20</td>\n",
       "      <td>0.050000</td>\n",
       "    </tr>\n",
       "    <tr>\n",
       "      <th>528469</th>\n",
       "      <td>12</td>\n",
       "      <td>0</td>\n",
       "      <td>7</td>\n",
       "      <td>19</td>\n",
       "      <td>0.368421</td>\n",
       "    </tr>\n",
       "    <tr>\n",
       "      <th>5287179</th>\n",
       "      <td>11</td>\n",
       "      <td>0</td>\n",
       "      <td>5</td>\n",
       "      <td>16</td>\n",
       "      <td>0.312500</td>\n",
       "    </tr>\n",
       "    <tr>\n",
       "      <th>527563</th>\n",
       "      <td>11</td>\n",
       "      <td>0</td>\n",
       "      <td>5</td>\n",
       "      <td>16</td>\n",
       "      <td>0.312500</td>\n",
       "    </tr>\n",
       "  </tbody>\n",
       "</table>\n",
       "</div>"
      ],
      "text/plain": [
       "outcome          died  euthanized  lived  Total  Survival_Rate\n",
       "hospital_number                                               \n",
       "529461             31          12      3     46       0.065217\n",
       "5290409            19           0      1     20       0.050000\n",
       "528469             12           0      7     19       0.368421\n",
       "5287179            11           0      5     16       0.312500\n",
       "527563             11           0      5     16       0.312500"
      ]
     },
     "execution_count": 4,
     "metadata": {},
     "output_type": "execute_result"
    }
   ],
   "source": [
    "ct['Total'] = ct['died']+ct['euthanized']+ct['lived']\n",
    "ct['Survival_Rate'] = ct['lived'] / ct['Total']\n",
    "train['Survival_Rate'] = train['hospital_number'].map(ct['Survival_Rate'])\n",
    "\n",
    "ct.head()"
   ]
  },
  {
   "cell_type": "markdown",
   "id": "59836a17-3626-4ed9-be68-f89980eb52f2",
   "metadata": {
    "jp-MarkdownHeadingCollapsed": true
   },
   "source": [
    "### Anova"
   ]
  },
  {
   "cell_type": "code",
   "execution_count": 5,
   "id": "2e665cac-3bdd-4b80-84ad-e1812a54d23f",
   "metadata": {},
   "outputs": [
    {
     "data": {
      "image/png": "[encoded data removed]",
      "text/plain": [
       "<Figure size 700x200 with 2 Axes>"
      ]
     },
     "metadata": {},
     "output_type": "display_data"
    }
   ],
   "source": [
    "# Not Normal\n",
    "plt.figure(figsize=(7,2))\n",
    "plt.subplot(1,2,1)\n",
    "\n",
    "sns.histplot(train.Survival_Rate)\n",
    "plt.title('Survival Rate Dist')\n",
    "skew = np.round(train.Survival_Rate.skew(),2)\n",
    "plt.xlabel(f\"Skewness: {skew}\")\n",
    "\n",
    "bin_edges = np.histogram_bin_edges(train.Survival_Rate, bins='auto')\n",
    "\n",
    "plt.subplot(1,2,2)\n",
    "hist = np.histogram(train.Survival_Rate)\n",
    "sns.histplot(hist)\n",
    "plt.tight_layout()\n",
    "plt.savefig('Anova_dist.png')\n",
    "plt.show()"
   ]
  },
  {
   "cell_type": "code",
   "execution_count": 7,
   "id": "0c6f04cc-3404-4ea8-80b6-e630a2b1066e",
   "metadata": {
    "scrolled": true
   },
   "outputs": [
    {
     "data": {
      "image/png": "[encoded data removed]",
      "text/plain": [
       "<Figure size 700x200 with 2 Axes>"
      ]
     },
     "metadata": {},
     "output_type": "display_data"
    }
   ],
   "source": [
    "# log square changes the data to positive skewed make postive skew\n",
    "plt.figure(figsize=(7,2))\n",
    "plt.subplot(1,2,1)\n",
    "log = np.log(train.Survival_Rate)\n",
    "sns.histplot(log)\n",
    "skew = np.round(log.skew(),3)\n",
    "plt.xlabel(skew)\n",
    "\n",
    "# sqrt\n",
    "plt.subplot(1,2,2)\n",
    "sqrt = np.sqrt(train.Survival_Rate)\n",
    "sns.histplot(sqrt)\n",
    "skew = sqrt.skew()\n",
    "plt.xlabel(np.round(skew,2))\n",
    "\n",
    "\n",
    "plt.savefig('log_sqrt_trans_hist.png')\n",
    "plt.tight_layout()\n",
    "plt.show()"
   ]
  },
  {
   "cell_type": "code",
   "execution_count": 8,
   "id": "94166614-7659-4358-852f-d9e6475f2aa2",
   "metadata": {
    "scrolled": true
   },
   "outputs": [
    {
     "data": {
      "image/png": "[encoded data removed]",
      "text/plain": [
       "<Figure size 640x480 with 1 Axes>"
      ]
     },
     "metadata": {},
     "output_type": "display_data"
    }
   ],
   "source": [
    "transformed_data, lambda_val = yeojohnson(train['Survival_Rate'])\n",
    "sns.histplot(transformed_data)\n",
    "plt.show()"
   ]
  },
  {
   "cell_type": "code",
   "execution_count": 9,
   "id": "4c982e25-0596-4902-8588-734d420afe11",
   "metadata": {
    "scrolled": true
   },
   "outputs": [
    {
     "data": {
      "image/png": "[encoded data removed]",
      "text/plain": [
       "<Figure size 640x480 with 1 Axes>"
      ]
     },
     "metadata": {},
     "output_type": "display_data"
    }
   ],
   "source": [
    "box = sns.boxplot(train.Survival_Rate)"
   ]
  },
  {
   "cell_type": "markdown",
   "id": "d3ddb1b2-4c06-4cd0-a4bd-c0fa1ec74e73",
   "metadata": {},
   "source": [
    "No outliers."
   ]
  },
  {
   "cell_type": "code",
   "execution_count": 10,
   "id": "fa8dcf12-64c6-4dd9-9e51-7c83b5eb90a8",
   "metadata": {},
   "outputs": [
    {
     "name": "stdout",
     "output_type": "stream",
     "text": [
      "p-value: 9.614826430306032e-110\n",
      "Reject the null hypothesis.\n"
     ]
    }
   ],
   "source": [
    "# One way Anova\n",
    "\n",
    "from scipy.stats import f_oneway\n",
    "groups = [train['Survival_Rate'][train['outcome'] == category] for category in train['outcome'].unique()]\n",
    "result = f_oneway(*groups)\n",
    "p = result[1]\n",
    "\n",
    "print(f\"p-value: {p}\")\n",
    "\n",
    "if p > 0.05:\n",
    "    print('Fail to reject the null hypothesis.')\n",
    "else:\n",
    "    print('Reject the null hypothesis.')"
   ]
  },
  {
   "cell_type": "markdown",
   "id": "87174d39-1773-4198-bda1-eab4a028d625",
   "metadata": {
    "jp-MarkdownHeadingCollapsed": true
   },
   "source": [
    "### Quantile Comparision"
   ]
  },
  {
   "cell_type": "code",
   "execution_count": 11,
   "id": "f4aceda8-2d0d-4af8-8004-8719c088c74b",
   "metadata": {
    "scrolled": true
   },
   "outputs": [
    {
     "data": {
      "image/png": "[encoded data removed]",
      "text/plain": [
       "<Figure size 640x480 with 1 Axes>"
      ]
     },
     "metadata": {},
     "output_type": "display_data"
    }
   ],
   "source": [
    "cmaps = sns.palettes.crayons\n",
    "n = np.random.randint(1,len(cmaps.values()))\n",
    "\n",
    "color = list(cmaps.values())[n]\n",
    "\n",
    "sns.set_palette([color])\n",
    "# sns.set_palette(list(cmaps.keys())[8])\n",
    "sns.boxplot(x='outcome', y='Survival_Rate', data=train)\n",
    "plt.show()"
   ]
  },
  {
   "cell_type": "markdown",
   "id": "6d25fbc1-f776-4e72-8d6c-66e706171990",
   "metadata": {},
   "source": [
    "evident lived is different than deaths."
   ]
  },
  {
   "cell_type": "markdown",
   "id": "17d23d47-970e-4559-af68-2492e0a1a6bd",
   "metadata": {},
   "source": [
    "### GMM\n",
    "Based on the observation above the below ANOVA test is invalidated and Gaussian Mixture is used to identify the ranges for the both the population."
   ]
  },
  {
   "cell_type": "code",
   "execution_count": 21,
   "id": "440b54dd-5ab8-4c04-bfc0-43e579c3ea21",
   "metadata": {},
   "outputs": [
    {
     "name": "stdout",
     "output_type": "stream",
     "text": [
      "[(-0.29564730139041473, 0.8494411744193221), (0.2116652040574991, 1.2418213460844718)]\n"
     ]
    }
   ],
   "source": [
    "# Something new. Gausian Mixture to identify the ranges for multimodal dataset\n",
    "from sklearn.mixture import GaussianMixture\n",
    "\n",
    "data = train['Survival_Rate'].values.reshape(-1, 1)\n",
    "\n",
    "gmm = GaussianMixture(n_components=2).fit(data)\n",
    "\n",
    "means = gmm.means_.flatten()\n",
    "std_devs = np.sqrt(gmm.covariances_.flatten())\n",
    "\n",
    "ranges = [(mean - 3*std_dev, mean + 3*std_dev) for mean, std_dev in zip(means, std_devs)]\n",
    "\n",
    "print(ranges)"
   ]
  },
  {
   "cell_type": "markdown",
   "id": "312a00bd-e01d-44bb-9ebd-258ea61a31fa",
   "metadata": {
    "jp-MarkdownHeadingCollapsed": true
   },
   "source": [
    "## Pivot"
   ]
  },
  {
   "cell_type": "code",
   "execution_count": 13,
   "id": "f673197c-43ee-42d1-9f04-dc12ea71982d",
   "metadata": {
    "scrolled": true
   },
   "outputs": [
    {
     "data": {
      "text/html": [
       "<div>\n",
       "<style scoped>\n",
       "    .dataframe tbody tr th:only-of-type {\n",
       "        vertical-align: middle;\n",
       "    }\n",
       "\n",
       "    .dataframe tbody tr th {\n",
       "        vertical-align: top;\n",
       "    }\n",
       "\n",
       "    .dataframe thead th {\n",
       "        text-align: right;\n",
       "    }\n",
       "</style>\n",
       "<table border=\"1\" class=\"dataframe\">\n",
       "  <thead>\n",
       "    <tr style=\"text-align: right;\">\n",
       "      <th>outcome</th>\n",
       "      <th>died</th>\n",
       "      <th>euthanized</th>\n",
       "      <th>lived</th>\n",
       "    </tr>\n",
       "  </thead>\n",
       "  <tbody>\n",
       "    <tr>\n",
       "      <th>Survival_Rate</th>\n",
       "      <td>3.242177e-01</td>\n",
       "      <td>0.287271</td>\n",
       "      <td>0.642798</td>\n",
       "    </tr>\n",
       "    <tr>\n",
       "      <th>abdomo_protein</th>\n",
       "      <td>3.698293e+00</td>\n",
       "      <td>2.565339</td>\n",
       "      <td>3.317247</td>\n",
       "    </tr>\n",
       "    <tr>\n",
       "      <th>hospital_number</th>\n",
       "      <td>1.226071e+06</td>\n",
       "      <td>684220.796813</td>\n",
       "      <td>878709.517422</td>\n",
       "    </tr>\n",
       "    <tr>\n",
       "      <th>lesion_1</th>\n",
       "      <td>3.918622e+03</td>\n",
       "      <td>3487.721116</td>\n",
       "      <td>3921.742160</td>\n",
       "    </tr>\n",
       "    <tr>\n",
       "      <th>lesion_2</th>\n",
       "      <td>0.000000e+00</td>\n",
       "      <td>34.705179</td>\n",
       "      <td>16.263066</td>\n",
       "    </tr>\n",
       "    <tr>\n",
       "      <th>lesion_3</th>\n",
       "      <td>0.000000e+00</td>\n",
       "      <td>8.800797</td>\n",
       "      <td>3.848432</td>\n",
       "    </tr>\n",
       "    <tr>\n",
       "      <th>nasogastric_reflux_ph</th>\n",
       "      <td>5.004634e+00</td>\n",
       "      <td>3.061753</td>\n",
       "      <td>4.515854</td>\n",
       "    </tr>\n",
       "    <tr>\n",
       "      <th>packed_cell_volume</th>\n",
       "      <td>5.148537e+01</td>\n",
       "      <td>54.229084</td>\n",
       "      <td>46.234321</td>\n",
       "    </tr>\n",
       "    <tr>\n",
       "      <th>pulse</th>\n",
       "      <td>9.020732e+01</td>\n",
       "      <td>86.573705</td>\n",
       "      <td>68.918118</td>\n",
       "    </tr>\n",
       "    <tr>\n",
       "      <th>rectal_temp</th>\n",
       "      <td>3.821122e+01</td>\n",
       "      <td>38.153785</td>\n",
       "      <td>38.216899</td>\n",
       "    </tr>\n",
       "    <tr>\n",
       "      <th>respiratory_rate</th>\n",
       "      <td>3.404878e+01</td>\n",
       "      <td>30.235060</td>\n",
       "      <td>27.121951</td>\n",
       "    </tr>\n",
       "    <tr>\n",
       "      <th>total_protein</th>\n",
       "      <td>8.875366e+00</td>\n",
       "      <td>44.206375</td>\n",
       "      <td>20.347561</td>\n",
       "    </tr>\n",
       "  </tbody>\n",
       "</table>\n",
       "</div>"
      ],
      "text/plain": [
       "outcome                        died     euthanized          lived\n",
       "Survival_Rate          3.242177e-01       0.287271       0.642798\n",
       "abdomo_protein         3.698293e+00       2.565339       3.317247\n",
       "hospital_number        1.226071e+06  684220.796813  878709.517422\n",
       "lesion_1               3.918622e+03    3487.721116    3921.742160\n",
       "lesion_2               0.000000e+00      34.705179      16.263066\n",
       "lesion_3               0.000000e+00       8.800797       3.848432\n",
       "nasogastric_reflux_ph  5.004634e+00       3.061753       4.515854\n",
       "packed_cell_volume     5.148537e+01      54.229084      46.234321\n",
       "pulse                  9.020732e+01      86.573705      68.918118\n",
       "rectal_temp            3.821122e+01      38.153785      38.216899\n",
       "respiratory_rate       3.404878e+01      30.235060      27.121951\n",
       "total_protein          8.875366e+00      44.206375      20.347561"
      ]
     },
     "execution_count": 13,
     "metadata": {},
     "output_type": "execute_result"
    }
   ],
   "source": [
    "from sklearn.preprocessing import StandardScaler\n",
    "\n",
    "numeric_cols = train.select_dtypes(float).columns.tolist() + train.select_dtypes(int).columns.tolist() \n",
    "\n",
    "scaled = pd.DataFrame(StandardScaler().fit_transform(train[numeric_cols]),columns=train[numeric_cols].columns)\n",
    "\n",
    "scaled['outcome'] = train['outcome']\n",
    "\n",
    "pd.pivot_table(data=train,columns=['outcome'],values=numeric_cols)#.plot(kind='bar',table=True,subplots=True,figsize=(15,15))"
   ]
  },
  {
   "cell_type": "markdown",
   "id": "247f5b0c-996d-46a5-b9e2-1984bd36b36a",
   "metadata": {
    "jp-MarkdownHeadingCollapsed": true
   },
   "source": [
    "# Dividing the data as per Survival Rate"
   ]
  },
  {
   "cell_type": "code",
   "execution_count": 37,
   "id": "da405e84-e13e-4a29-8c8a-023b0c7bff64",
   "metadata": {},
   "outputs": [
    {
     "name": "stdout",
     "output_type": "stream",
     "text": [
      "Frequencies [0.  0.1 0.2 0.3 0.4 0.5 0.6 0.7 0.8 0.9 1. ]\n"
     ]
    },
    {
     "data": {
      "image/png": "[encoded data removed]",
      "text/plain": [
       "<Figure size 100x100 with 1 Axes>"
      ]
     },
     "metadata": {},
     "output_type": "display_data"
    }
   ],
   "source": [
    "## Uncertain ranges.\n",
    "plt.figure(figsize=(1,1))\n",
    "bins  = plt.hist(train.Survival_Rate)[1]\n",
    "plt.xticks(fontsize=5)\n",
    "plt.yticks(fontsize=5)\n",
    "print(f'Frequencies {bins}')"
   ]
  },
  {
   "cell_type": "code",
   "execution_count": 46,
   "id": "16246311-41e7-4a28-ad83-215fa2a577fe",
   "metadata": {},
   "outputs": [
    {
     "name": "stdout",
     "output_type": "stream",
     "text": [
      "First Dataset: (1048, 29)\n",
      "Second Dataset: (187, 29)\n"
     ]
    }
   ],
   "source": [
    "clean = lambda x: x > .1\n",
    "train1 = train[train['Survival_Rate'].apply(clean)]\n",
    "x = train1.index.tolist()\n",
    "train2 = train.drop(x)\n",
    "print(f'First Dataset: {train1.shape}')\n",
    "print(f'Second Dataset: {train2.shape}')"
   ]
  },
  {
   "cell_type": "code",
   "execution_count": 60,
   "id": "ec865d40-239f-4fe1-9df9-25a06c1b8139",
   "metadata": {},
   "outputs": [
    {
     "data": {
      "image/png": "[encoded data removed]",
      "text/plain": [
       "<Figure size 800x300 with 2 Axes>"
      ]
     },
     "metadata": {},
     "output_type": "display_data"
    }
   ],
   "source": [
    "plt.subplot(1,2,2)\n",
    "train2.outcome.value_counts().plot(kind='bar',table=True,figsize=(8,3))\n",
    "plt.xlabel('')\n",
    "plt.xticks([])\n",
    "plt.title('Set 2')\n",
    "# plt.show()\n",
    "plt.subplot(1,2,1)\n",
    "train1.outcome.value_counts().plot(kind='bar',table=True,figsize=(8,3))\n",
    "plt.xlabel('')\n",
    "plt.xticks([])\n",
    "plt.title('Set 1')\n",
    "plt.savefig('Survival Comparision.jpg')\n",
    "plt.tight_layout()\n",
    "plt.show()"
   ]
  },
  {
   "cell_type": "code",
   "execution_count": null,
   "id": "c26984d5-5402-4f85-a85d-cc9b829fa41e",
   "metadata": {},
   "outputs": [],
   "source": [
    "train2"
   ]
  },
  {
   "cell_type": "markdown",
   "id": "f9bcc07d-b64a-4d01-9ce3-9f4f33463f4f",
   "metadata": {
    "jp-MarkdownHeadingCollapsed": true
   },
   "source": [
    "# Base XGBM \n",
    "All Features\n",
    "72%"
   ]
  },
  {
   "cell_type": "code",
   "execution_count": 63,
   "id": "390c0e8f-2750-421a-829a-5f053bf5ef7e",
   "metadata": {},
   "outputs": [
    {
     "data": {
      "text/html": [
       "<div>\n",
       "<style scoped>\n",
       "    .dataframe tbody tr th:only-of-type {\n",
       "        vertical-align: middle;\n",
       "    }\n",
       "\n",
       "    .dataframe tbody tr th {\n",
       "        vertical-align: top;\n",
       "    }\n",
       "\n",
       "    .dataframe thead th {\n",
       "        text-align: right;\n",
       "    }\n",
       "</style>\n",
       "<table border=\"1\" class=\"dataframe\">\n",
       "  <thead>\n",
       "    <tr style=\"text-align: right;\">\n",
       "      <th></th>\n",
       "      <th>surgery</th>\n",
       "      <th>age</th>\n",
       "      <th>hospital_number</th>\n",
       "      <th>rectal_temp</th>\n",
       "      <th>pulse</th>\n",
       "      <th>respiratory_rate</th>\n",
       "      <th>temp_of_extremities</th>\n",
       "      <th>peripheral_pulse</th>\n",
       "      <th>mucous_membrane</th>\n",
       "      <th>capillary_refill_time</th>\n",
       "      <th>...</th>\n",
       "      <th>total_protein</th>\n",
       "      <th>abdomo_appearance</th>\n",
       "      <th>abdomo_protein</th>\n",
       "      <th>surgical_lesion</th>\n",
       "      <th>lesion_1</th>\n",
       "      <th>lesion_2</th>\n",
       "      <th>lesion_3</th>\n",
       "      <th>cp_data</th>\n",
       "      <th>outcome</th>\n",
       "      <th>Survival_Rate</th>\n",
       "    </tr>\n",
       "    <tr>\n",
       "      <th>id</th>\n",
       "      <th></th>\n",
       "      <th></th>\n",
       "      <th></th>\n",
       "      <th></th>\n",
       "      <th></th>\n",
       "      <th></th>\n",
       "      <th></th>\n",
       "      <th></th>\n",
       "      <th></th>\n",
       "      <th></th>\n",
       "      <th></th>\n",
       "      <th></th>\n",
       "      <th></th>\n",
       "      <th></th>\n",
       "      <th></th>\n",
       "      <th></th>\n",
       "      <th></th>\n",
       "      <th></th>\n",
       "      <th></th>\n",
       "      <th></th>\n",
       "      <th></th>\n",
       "    </tr>\n",
       "  </thead>\n",
       "  <tbody>\n",
       "    <tr>\n",
       "      <th>0</th>\n",
       "      <td>yes</td>\n",
       "      <td>adult</td>\n",
       "      <td>530001</td>\n",
       "      <td>38.1</td>\n",
       "      <td>132.0</td>\n",
       "      <td>24.0</td>\n",
       "      <td>cool</td>\n",
       "      <td>reduced</td>\n",
       "      <td>dark_cyanotic</td>\n",
       "      <td>more_3_sec</td>\n",
       "      <td>...</td>\n",
       "      <td>8.5</td>\n",
       "      <td>serosanguious</td>\n",
       "      <td>3.4</td>\n",
       "      <td>yes</td>\n",
       "      <td>2209</td>\n",
       "      <td>0</td>\n",
       "      <td>0</td>\n",
       "      <td>no</td>\n",
       "      <td>died</td>\n",
       "      <td>0.066667</td>\n",
       "    </tr>\n",
       "    <tr>\n",
       "      <th>1</th>\n",
       "      <td>yes</td>\n",
       "      <td>adult</td>\n",
       "      <td>533836</td>\n",
       "      <td>37.5</td>\n",
       "      <td>88.0</td>\n",
       "      <td>12.0</td>\n",
       "      <td>cool</td>\n",
       "      <td>normal</td>\n",
       "      <td>pale_cyanotic</td>\n",
       "      <td>more_3_sec</td>\n",
       "      <td>...</td>\n",
       "      <td>64.0</td>\n",
       "      <td>serosanguious</td>\n",
       "      <td>2.0</td>\n",
       "      <td>yes</td>\n",
       "      <td>2208</td>\n",
       "      <td>0</td>\n",
       "      <td>0</td>\n",
       "      <td>no</td>\n",
       "      <td>euthanized</td>\n",
       "      <td>0.666667</td>\n",
       "    </tr>\n",
       "    <tr>\n",
       "      <th>2</th>\n",
       "      <td>yes</td>\n",
       "      <td>adult</td>\n",
       "      <td>529812</td>\n",
       "      <td>38.3</td>\n",
       "      <td>120.0</td>\n",
       "      <td>28.0</td>\n",
       "      <td>cool</td>\n",
       "      <td>reduced</td>\n",
       "      <td>pale_pink</td>\n",
       "      <td>less_3_sec</td>\n",
       "      <td>...</td>\n",
       "      <td>6.4</td>\n",
       "      <td>serosanguious</td>\n",
       "      <td>3.4</td>\n",
       "      <td>yes</td>\n",
       "      <td>5124</td>\n",
       "      <td>0</td>\n",
       "      <td>0</td>\n",
       "      <td>no</td>\n",
       "      <td>lived</td>\n",
       "      <td>1.000000</td>\n",
       "    </tr>\n",
       "    <tr>\n",
       "      <th>3</th>\n",
       "      <td>yes</td>\n",
       "      <td>adult</td>\n",
       "      <td>5262541</td>\n",
       "      <td>37.1</td>\n",
       "      <td>72.0</td>\n",
       "      <td>30.0</td>\n",
       "      <td>cold</td>\n",
       "      <td>reduced</td>\n",
       "      <td>pale_pink</td>\n",
       "      <td>more_3_sec</td>\n",
       "      <td>...</td>\n",
       "      <td>7.0</td>\n",
       "      <td>cloudy</td>\n",
       "      <td>3.9</td>\n",
       "      <td>yes</td>\n",
       "      <td>2208</td>\n",
       "      <td>0</td>\n",
       "      <td>0</td>\n",
       "      <td>yes</td>\n",
       "      <td>lived</td>\n",
       "      <td>1.000000</td>\n",
       "    </tr>\n",
       "    <tr>\n",
       "      <th>4</th>\n",
       "      <td>no</td>\n",
       "      <td>adult</td>\n",
       "      <td>5299629</td>\n",
       "      <td>38.0</td>\n",
       "      <td>52.0</td>\n",
       "      <td>48.0</td>\n",
       "      <td>normal</td>\n",
       "      <td>normal</td>\n",
       "      <td>normal_pink</td>\n",
       "      <td>less_3_sec</td>\n",
       "      <td>...</td>\n",
       "      <td>7.3</td>\n",
       "      <td>cloudy</td>\n",
       "      <td>2.6</td>\n",
       "      <td>no</td>\n",
       "      <td>0</td>\n",
       "      <td>0</td>\n",
       "      <td>0</td>\n",
       "      <td>yes</td>\n",
       "      <td>lived</td>\n",
       "      <td>0.833333</td>\n",
       "    </tr>\n",
       "  </tbody>\n",
       "</table>\n",
       "<p>5 rows × 29 columns</p>\n",
       "</div>"
      ],
      "text/plain": [
       "   surgery    age  hospital_number  rectal_temp  pulse  respiratory_rate  \\\n",
       "id                                                                         \n",
       "0      yes  adult           530001         38.1  132.0              24.0   \n",
       "1      yes  adult           533836         37.5   88.0              12.0   \n",
       "2      yes  adult           529812         38.3  120.0              28.0   \n",
       "3      yes  adult          5262541         37.1   72.0              30.0   \n",
       "4       no  adult          5299629         38.0   52.0              48.0   \n",
       "\n",
       "   temp_of_extremities peripheral_pulse mucous_membrane capillary_refill_time  \\\n",
       "id                                                                              \n",
       "0                 cool          reduced   dark_cyanotic            more_3_sec   \n",
       "1                 cool           normal   pale_cyanotic            more_3_sec   \n",
       "2                 cool          reduced       pale_pink            less_3_sec   \n",
       "3                 cold          reduced       pale_pink            more_3_sec   \n",
       "4               normal           normal     normal_pink            less_3_sec   \n",
       "\n",
       "    ... total_protein abdomo_appearance abdomo_protein surgical_lesion  \\\n",
       "id  ...                                                                  \n",
       "0   ...           8.5     serosanguious            3.4             yes   \n",
       "1   ...          64.0     serosanguious            2.0             yes   \n",
       "2   ...           6.4     serosanguious            3.4             yes   \n",
       "3   ...           7.0            cloudy            3.9             yes   \n",
       "4   ...           7.3            cloudy            2.6              no   \n",
       "\n",
       "   lesion_1  lesion_2 lesion_3 cp_data     outcome  Survival_Rate  \n",
       "id                                                                 \n",
       "0      2209         0        0      no        died       0.066667  \n",
       "1      2208         0        0      no  euthanized       0.666667  \n",
       "2      5124         0        0      no       lived       1.000000  \n",
       "3      2208         0        0     yes       lived       1.000000  \n",
       "4         0         0        0     yes       lived       0.833333  \n",
       "\n",
       "[5 rows x 29 columns]"
      ]
     },
     "execution_count": 63,
     "metadata": {},
     "output_type": "execute_result"
    }
   ],
   "source": [
    "train.head()"
   ]
  },
  {
   "cell_type": "code",
   "execution_count": 69,
   "id": "f8cbd0ef-2875-4c61-b718-e112191dba61",
   "metadata": {},
   "outputs": [],
   "source": [
    "from sklearn.preprocessing import LabelEncoder\n",
    "from sklearn.model_selection import train_test_split\n",
    "\n",
    "X,Y = train.drop('outcome',axis=1),train.outcome\n",
    "\n",
    "x_enc = pd.get_dummies(X,drop_first=True)\n",
    "y_enc = pd.Series(LabelEncoder().fit_transform(Y),name='outcome')\n",
    "\n",
    "x_train,x_test,y_train,y_test = train_test_split(x_enc,y_enc)"
   ]
  },
  {
   "cell_type": "code",
   "execution_count": 72,
   "id": "fed84a22-a8be-4a48-9aee-d4b3fb03e168",
   "metadata": {},
   "outputs": [
    {
     "data": {
      "text/plain": [
       "0.7216828478964401"
      ]
     },
     "execution_count": 72,
     "metadata": {},
     "output_type": "execute_result"
    }
   ],
   "source": [
    "from xgboost import XGBClassifier\n",
    "\n",
    "xgb =XGBClassifier()\n",
    "\n",
    "xgb.fit(x_train,y_train)\n",
    "xgb.score(x_test,y_test)"
   ]
  },
  {
   "cell_type": "markdown",
   "id": "448fdae5-07be-412d-9455-e1f944ac0168",
   "metadata": {},
   "source": [
    "# Survival Rate Model"
   ]
  },
  {
   "cell_type": "markdown",
   "id": "b0cab7a1-9c1c-4901-be61-5846be2cf887",
   "metadata": {},
   "source": [
    "## Anova to confirm the validity of the columns"
   ]
  },
  {
   "cell_type": "code",
   "execution_count": 78,
   "id": "57760266-c34b-46ce-b054-bd493f4776df",
   "metadata": {},
   "outputs": [
    {
     "name": "stdout",
     "output_type": "stream",
     "text": [
      "Group 0 does not follow a normal distribution\n",
      "Group 1 does not follow a normal distribution\n",
      "Group 2 does not follow a normal distribution\n"
     ]
    }
   ],
   "source": [
    "# Normality Check\n",
    "groups = [train1['Survival_Rate'][train1['outcome'] == category] for category in train1['outcome'].unique()]\n",
    "\n",
    "for index, group in enumerate(groups):\n",
    "    _, p_value = stats.shapiro(group)\n",
    "    if p_value > 0.05:\n",
    "        print(f\"Group {index} follows a normal distribution\")\n",
    "    else:\n",
    "        print(f\"Group {index} does not follow a normal distribution\")"
   ]
  },
  {
   "cell_type": "code",
   "execution_count": 84,
   "id": "da09021b-9e49-41fd-8720-514ac10bf0ad",
   "metadata": {},
   "outputs": [
    {
     "data": {
      "image/png": "[encoded data removed]",
      "text/plain": [
       "<Figure size 700x300 with 3 Axes>"
      ]
     },
     "metadata": {},
     "output_type": "display_data"
    }
   ],
   "source": [
    "plt.figure(figsize=(7,3))\n",
    "for i in range(len(groups)):\n",
    "    plt.subplot(1,3,i+1)\n",
    "    plt.hist(groups[i])\n",
    "    plt.title(i)\n",
    "\n",
    "plt.tight_layout()\n",
    "plt.show()"
   ]
  },
  {
   "cell_type": "code",
   "execution_count": 97,
   "id": "d7195788-d8d5-43a9-88c3-4393ef7feceb",
   "metadata": {},
   "outputs": [
    {
     "data": {
      "image/png": "[encoded data removed]",
      "text/plain": [
       "<Figure size 700x300 with 3 Axes>"
      ]
     },
     "metadata": {},
     "output_type": "display_data"
    }
   ],
   "source": [
    "# Taking Log tranformation\n",
    "outcomes = train1['outcome'].unique()\n",
    "\n",
    "plt.figure(figsize=(7,3))\n",
    "for i in range(len(groups)):\n",
    "    s = np.log(groups[i])\n",
    "    s.name=outcomes[i]\n",
    "    skew = np.round(s.skew(),2)\n",
    "\n",
    "    plt.subplot(1,3,i+1)\n",
    "    plt.hist(s)\n",
    "    plt.title(f\"{s.name}\\nSkew: {skew}\")\n",
    "    \n",
    "plt.tight_layout()\n",
    "plt.show()"
   ]
  },
  {
   "cell_type": "code",
   "execution_count": 96,
   "id": "ad487301-1cfd-45e8-bb23-ca37072b5552",
   "metadata": {},
   "outputs": [
    {
     "data": {
      "image/png": "[encoded data removed]",
      "text/plain": [
       "<Figure size 700x300 with 3 Axes>"
      ]
     },
     "metadata": {},
     "output_type": "display_data"
    }
   ],
   "source": [
    "# Taking sqrt tranformation\n",
    "plt.figure(figsize=(7,3))\n",
    "for i in range(len(groups)):\n",
    "    s = np.sqrt(groups[i])\n",
    "    s.name = outcomes[i]\n",
    "\n",
    "    plt.subplot(1,3,i+1)\n",
    "    plt.hist(s)\n",
    "    skew = np.round(s.skew(),2)\n",
    "    plt.title(f\"{s.name}\\nSkew: {skew}\")\n",
    "\n",
    "plt.tight_layout()\n",
    "plt.show()"
   ]
  },
  {
   "cell_type": "code",
   "execution_count": 98,
   "id": "5485c9ce-9e8d-4362-b5cc-19a0e3977dd8",
   "metadata": {},
   "outputs": [
    {
     "data": {
      "text/html": [
       "<div>\n",
       "<style scoped>\n",
       "    .dataframe tbody tr th:only-of-type {\n",
       "        vertical-align: middle;\n",
       "    }\n",
       "\n",
       "    .dataframe tbody tr th {\n",
       "        vertical-align: top;\n",
       "    }\n",
       "\n",
       "    .dataframe thead th {\n",
       "        text-align: right;\n",
       "    }\n",
       "</style>\n",
       "<table border=\"1\" class=\"dataframe\">\n",
       "  <thead>\n",
       "    <tr style=\"text-align: right;\">\n",
       "      <th></th>\n",
       "      <th>surgery</th>\n",
       "      <th>age</th>\n",
       "      <th>hospital_number</th>\n",
       "      <th>rectal_temp</th>\n",
       "      <th>pulse</th>\n",
       "      <th>respiratory_rate</th>\n",
       "      <th>temp_of_extremities</th>\n",
       "      <th>peripheral_pulse</th>\n",
       "      <th>mucous_membrane</th>\n",
       "      <th>capillary_refill_time</th>\n",
       "      <th>...</th>\n",
       "      <th>total_protein</th>\n",
       "      <th>abdomo_appearance</th>\n",
       "      <th>abdomo_protein</th>\n",
       "      <th>surgical_lesion</th>\n",
       "      <th>lesion_1</th>\n",
       "      <th>lesion_2</th>\n",
       "      <th>lesion_3</th>\n",
       "      <th>cp_data</th>\n",
       "      <th>outcome</th>\n",
       "      <th>Survival_Rate</th>\n",
       "    </tr>\n",
       "    <tr>\n",
       "      <th>id</th>\n",
       "      <th></th>\n",
       "      <th></th>\n",
       "      <th></th>\n",
       "      <th></th>\n",
       "      <th></th>\n",
       "      <th></th>\n",
       "      <th></th>\n",
       "      <th></th>\n",
       "      <th></th>\n",
       "      <th></th>\n",
       "      <th></th>\n",
       "      <th></th>\n",
       "      <th></th>\n",
       "      <th></th>\n",
       "      <th></th>\n",
       "      <th></th>\n",
       "      <th></th>\n",
       "      <th></th>\n",
       "      <th></th>\n",
       "      <th></th>\n",
       "      <th></th>\n",
       "    </tr>\n",
       "  </thead>\n",
       "  <tbody>\n",
       "    <tr>\n",
       "      <th>1</th>\n",
       "      <td>yes</td>\n",
       "      <td>adult</td>\n",
       "      <td>533836</td>\n",
       "      <td>37.5</td>\n",
       "      <td>88.0</td>\n",
       "      <td>12.0</td>\n",
       "      <td>cool</td>\n",
       "      <td>normal</td>\n",
       "      <td>pale_cyanotic</td>\n",
       "      <td>more_3_sec</td>\n",
       "      <td>...</td>\n",
       "      <td>64.0</td>\n",
       "      <td>serosanguious</td>\n",
       "      <td>2.0</td>\n",
       "      <td>yes</td>\n",
       "      <td>2208</td>\n",
       "      <td>0</td>\n",
       "      <td>0</td>\n",
       "      <td>no</td>\n",
       "      <td>euthanized</td>\n",
       "      <td>0.666667</td>\n",
       "    </tr>\n",
       "    <tr>\n",
       "      <th>2</th>\n",
       "      <td>yes</td>\n",
       "      <td>adult</td>\n",
       "      <td>529812</td>\n",
       "      <td>38.3</td>\n",
       "      <td>120.0</td>\n",
       "      <td>28.0</td>\n",
       "      <td>cool</td>\n",
       "      <td>reduced</td>\n",
       "      <td>pale_pink</td>\n",
       "      <td>less_3_sec</td>\n",
       "      <td>...</td>\n",
       "      <td>6.4</td>\n",
       "      <td>serosanguious</td>\n",
       "      <td>3.4</td>\n",
       "      <td>yes</td>\n",
       "      <td>5124</td>\n",
       "      <td>0</td>\n",
       "      <td>0</td>\n",
       "      <td>no</td>\n",
       "      <td>lived</td>\n",
       "      <td>1.000000</td>\n",
       "    </tr>\n",
       "    <tr>\n",
       "      <th>3</th>\n",
       "      <td>yes</td>\n",
       "      <td>adult</td>\n",
       "      <td>5262541</td>\n",
       "      <td>37.1</td>\n",
       "      <td>72.0</td>\n",
       "      <td>30.0</td>\n",
       "      <td>cold</td>\n",
       "      <td>reduced</td>\n",
       "      <td>pale_pink</td>\n",
       "      <td>more_3_sec</td>\n",
       "      <td>...</td>\n",
       "      <td>7.0</td>\n",
       "      <td>cloudy</td>\n",
       "      <td>3.9</td>\n",
       "      <td>yes</td>\n",
       "      <td>2208</td>\n",
       "      <td>0</td>\n",
       "      <td>0</td>\n",
       "      <td>yes</td>\n",
       "      <td>lived</td>\n",
       "      <td>1.000000</td>\n",
       "    </tr>\n",
       "    <tr>\n",
       "      <th>4</th>\n",
       "      <td>no</td>\n",
       "      <td>adult</td>\n",
       "      <td>5299629</td>\n",
       "      <td>38.0</td>\n",
       "      <td>52.0</td>\n",
       "      <td>48.0</td>\n",
       "      <td>normal</td>\n",
       "      <td>normal</td>\n",
       "      <td>normal_pink</td>\n",
       "      <td>less_3_sec</td>\n",
       "      <td>...</td>\n",
       "      <td>7.3</td>\n",
       "      <td>cloudy</td>\n",
       "      <td>2.6</td>\n",
       "      <td>no</td>\n",
       "      <td>0</td>\n",
       "      <td>0</td>\n",
       "      <td>0</td>\n",
       "      <td>yes</td>\n",
       "      <td>lived</td>\n",
       "      <td>0.833333</td>\n",
       "    </tr>\n",
       "    <tr>\n",
       "      <th>5</th>\n",
       "      <td>no</td>\n",
       "      <td>adult</td>\n",
       "      <td>529642</td>\n",
       "      <td>38.1</td>\n",
       "      <td>56.0</td>\n",
       "      <td>32.0</td>\n",
       "      <td>normal</td>\n",
       "      <td>normal</td>\n",
       "      <td>bright_pink</td>\n",
       "      <td>less_3_sec</td>\n",
       "      <td>...</td>\n",
       "      <td>8.0</td>\n",
       "      <td>cloudy</td>\n",
       "      <td>2.8</td>\n",
       "      <td>no</td>\n",
       "      <td>0</td>\n",
       "      <td>0</td>\n",
       "      <td>0</td>\n",
       "      <td>yes</td>\n",
       "      <td>lived</td>\n",
       "      <td>0.526316</td>\n",
       "    </tr>\n",
       "  </tbody>\n",
       "</table>\n",
       "<p>5 rows × 29 columns</p>\n",
       "</div>"
      ],
      "text/plain": [
       "   surgery    age  hospital_number  rectal_temp  pulse  respiratory_rate  \\\n",
       "id                                                                         \n",
       "1      yes  adult           533836         37.5   88.0              12.0   \n",
       "2      yes  adult           529812         38.3  120.0              28.0   \n",
       "3      yes  adult          5262541         37.1   72.0              30.0   \n",
       "4       no  adult          5299629         38.0   52.0              48.0   \n",
       "5       no  adult           529642         38.1   56.0              32.0   \n",
       "\n",
       "   temp_of_extremities peripheral_pulse mucous_membrane capillary_refill_time  \\\n",
       "id                                                                              \n",
       "1                 cool           normal   pale_cyanotic            more_3_sec   \n",
       "2                 cool          reduced       pale_pink            less_3_sec   \n",
       "3                 cold          reduced       pale_pink            more_3_sec   \n",
       "4               normal           normal     normal_pink            less_3_sec   \n",
       "5               normal           normal     bright_pink            less_3_sec   \n",
       "\n",
       "    ... total_protein abdomo_appearance abdomo_protein surgical_lesion  \\\n",
       "id  ...                                                                  \n",
       "1   ...          64.0     serosanguious            2.0             yes   \n",
       "2   ...           6.4     serosanguious            3.4             yes   \n",
       "3   ...           7.0            cloudy            3.9             yes   \n",
       "4   ...           7.3            cloudy            2.6              no   \n",
       "5   ...           8.0            cloudy            2.8              no   \n",
       "\n",
       "   lesion_1  lesion_2 lesion_3 cp_data     outcome  Survival_Rate  \n",
       "id                                                                 \n",
       "1      2208         0        0      no  euthanized       0.666667  \n",
       "2      5124         0        0      no       lived       1.000000  \n",
       "3      2208         0        0     yes       lived       1.000000  \n",
       "4         0         0        0     yes       lived       0.833333  \n",
       "5         0         0        0     yes       lived       0.526316  \n",
       "\n",
       "[5 rows x 29 columns]"
      ]
     },
     "execution_count": 98,
     "metadata": {},
     "output_type": "execute_result"
    }
   ],
   "source": [
    "train1.head()"
   ]
  },
  {
   "cell_type": "code",
   "execution_count": 103,
   "id": "cbd37e8b-d547-45d9-9acc-ff67a648c68f",
   "metadata": {},
   "outputs": [
    {
     "name": "stdout",
     "output_type": "stream",
     "text": [
      "Score: 0.5761904761904761\n"
     ]
    }
   ],
   "source": [
    "# naive\n",
    "x,y = train1.Survival_Rate,train1.outcome\n",
    "y_enc = LabelEncoder().fit_transform(y)\n",
    "x_train,x_test,y_train,y_test = train_test_split(x,y_enc,test_size=.20)\n",
    "\n",
    "xgb1 = XGBClassifier()\n",
    "xgb1.fit(x_train,y_train)\n",
    "score = xgb1.score(x_test,y_test)\n",
    "\n",
    "print(f'Score: {score}')"
   ]
  },
  {
   "cell_type": "code",
   "execution_count": 105,
   "id": "2002041f-974d-45c4-8422-d574108a4f43",
   "metadata": {},
   "outputs": [
    {
     "name": "stdout",
     "output_type": "stream",
     "text": [
      "Score: 0.6052631578947368\n"
     ]
    }
   ],
   "source": [
    "# naive\n",
    "x,y = train2.Survival_Rate,train2.outcome\n",
    "y_enc = LabelEncoder().fit_transform(y)\n",
    "x_train,x_test,y_train,y_test = train_test_split(x,y_enc,test_size=.20)\n",
    "\n",
    "xgb1 = XGBClassifier()\n",
    "xgb1.fit(x_train,y_train)\n",
    "score = xgb1.score(x_test,y_test)\n",
    "\n",
    "print(f'Score: {score}')"
   ]
  },
  {
   "cell_type": "markdown",
   "id": "3a30cc43-74f0-4aa1-b0f8-9bd69dc6cf01",
   "metadata": {},
   "source": [
    "### Train3"
   ]
  },
  {
   "cell_type": "code",
   "execution_count": 113,
   "id": "c80d6f66-29a6-41d6-8b58-0a6ce0e8f7b8",
   "metadata": {},
   "outputs": [
    {
     "name": "stdout",
     "output_type": "stream",
     "text": [
      "Score: 0.7047619047619048\n"
     ]
    }
   ],
   "source": [
    "x=train1.drop(['Survival_Rate','outcome','hospital_number'],axis=1)\n",
    "y = LabelEncoder().fit_transform(train1.outcome)\n",
    "\n",
    "x_enc = pd.get_dummies(x,drop_first=True)\n",
    "x_train,x_test,y_train,y_test = train_test_split(x_enc,y,test_size=.20)\n",
    "\n",
    "xgb1 = XGBClassifier()\n",
    "xgb1.fit(x_train,y_train)\n",
    "score = xgb1.score(x_test,y_test)\n",
    "\n",
    "print(f'Score: {score}')"
   ]
  },
  {
   "cell_type": "code",
   "execution_count": 114,
   "id": "982354cc-f1b3-4811-9cea-b03c41f9a35a",
   "metadata": {},
   "outputs": [
    {
     "name": "stdout",
     "output_type": "stream",
     "text": [
      "Score: 0.6842105263157895\n"
     ]
    }
   ],
   "source": [
    "x=train2.drop(['Survival_Rate','outcome','hospital_number'],axis=1)\n",
    "y = LabelEncoder().fit_transform(train2.outcome)\n",
    "\n",
    "x_enc = pd.get_dummies(x,drop_first=True)\n",
    "x_train,x_test,y_train,y_test = train_test_split(x_enc,y,test_size=.20)\n",
    "\n",
    "xgb1 = XGBClassifier()\n",
    "xgb1.fit(x_train,y_train)\n",
    "score = xgb1.score(x_test,y_test)\n",
    "\n",
    "print(f'Score: {score}')"
   ]
  },
  {
   "cell_type": "markdown",
   "id": "427eab4d-2799-45b9-ae9e-3c0f70e1ff15",
   "metadata": {},
   "source": [
    "# Final Findings\n",
    "Base Model performance: 71%\n",
    "Relationship between hospital number and the outcome"
   ]
  },
  {
   "cell_type": "code",
   "execution_count": 116,
   "id": "3c0271a8-9751-4ffb-9b1f-e86317fe542e",
   "metadata": {},
   "outputs": [
    {
     "name": "stdout",
     "output_type": "stream",
     "text": [
      "Chi2 value: 952.9806183701496\n",
      "P-value: 1.6727403062022118e-29\n",
      "There is a significant association between hospital_number and outcome\n"
     ]
    }
   ],
   "source": [
    "# Chisquare test to identify if hospital number is imp or not\n",
    "# Create a contingency table\n",
    "contingency_table = pd.crosstab(train['hospital_number'], train['outcome'])\n",
    "\n",
    "# Chi-square test\n",
    "chi2, p, _, _ = stats.chi2_contingency(contingency_table)\n",
    "\n",
    "print(f\"Chi2 value: {chi2}\")\n",
    "print(f\"P-value: {p}\")\n",
    "\n",
    "if p < 0.05:\n",
    "    print(\"There is a significant association between hospital_number and outcome\")\n",
    "else:\n",
    "    print(\"There is no significant association between hospital_number and outcome\")"
   ]
  }
 ],
 "metadata": {
  "kernelspec": {
   "display_name": "Python 3 (ipykernel)",
   "language": "python",
   "name": "python3"
  },
  "language_info": {
   "codemirror_mode": {
    "name": "ipython",
    "version": 3
   },
   "file_extension": ".py",
   "mimetype": "text/x-python",
   "name": "python",
   "nbconvert_exporter": "python",
   "pygments_lexer": "ipython3",
   "version": "3.11.5"
  }
 },
 "nbformat": 4,
 "nbformat_minor": 5
}
